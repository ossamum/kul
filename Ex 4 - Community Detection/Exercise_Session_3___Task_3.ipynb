{
 "cells": [
  {
   "cell_type": "code",
   "execution_count": null,
   "metadata": {
    "id": "NxvgzFWUnT5s"
   },
   "outputs": [],
   "source": [
    "!pip install python-igraph\n",
    "!pip install matplotlib\n",
    "!pip install numpy\n",
    "!pip install scipy\n",
    "!pip install easygui\n",
    "!pip install cairocffi"
   ]
  },
  {
   "cell_type": "code",
   "execution_count": null,
   "metadata": {
    "colab": {
     "base_uri": "https://localhost:8080/"
    },
    "id": "MQ1bZiG_oL6N",
    "outputId": "bc15ddb3-7745-441c-b72b-25d2b3555ef1"
   },
   "outputs": [
    {
     "name": "stdout",
     "output_type": "stream",
     "text": [
      "0.9.1\n"
     ]
    }
   ],
   "source": [
    "# Import of required libraries and packages\n",
    "import igraph as ig\n",
    "import easygui\n",
    "from matplotlib import pyplot as plt\n",
    "import numpy as np\n",
    "import scipy\n",
    "import statistics\n",
    "import pandas as pd\n",
    "print(ig.__version__)\n",
    "\n",
    "#Creating and empty Graph object\n",
    "graph = ig.Graph()"
   ]
  },
  {
   "cell_type": "code",
   "execution_count": null,
   "metadata": {
    "colab": {
     "base_uri": "https://localhost:8080/",
     "height": 36
    },
    "id": "KSHkqIkDczor",
    "outputId": "24be90a3-bdcc-418c-8788-a0b7390a9694"
   },
   "outputs": [
    {
     "data": {
      "application/vnd.google.colaboratory.intrinsic+json": {
       "type": "string"
      },
      "text/plain": [
       "'IGRAPH UNW- 5144 472520 -- \\n+ attr: id (v), name (v), weight (e)'"
      ]
     },
     "execution_count": 3,
     "metadata": {
      "tags": []
     },
     "output_type": "execute_result"
    }
   ],
   "source": [
    "# Load the data and create a network\n",
    "# Data is in Pajek-format\n",
    "scim = ig.read('hb_scim.net',format='pajek')\n",
    "scim.summary()"
   ]
  },
  {
   "cell_type": "code",
   "execution_count": null,
   "metadata": {
    "colab": {
     "base_uri": "https://localhost:8080/"
    },
    "id": "7cN7jyfzRwuc",
    "outputId": "8e8e837e-605f-450e-c7a7-7002160d07bf"
   },
   "outputs": [
    {
     "data": {
      "text/plain": [
       "['weight']"
      ]
     },
     "execution_count": 109,
     "metadata": {
      "tags": []
     },
     "output_type": "execute_result"
    }
   ],
   "source": []
  },
  {
   "cell_type": "code",
   "execution_count": null,
   "metadata": {
    "colab": {
     "base_uri": "https://localhost:8080/",
     "height": 282
    },
    "id": "WHUvZNH3qs7y",
    "outputId": "d40bbba5-268e-4947-c64b-71e897f09d5e"
   },
   "outputs": [
    {
     "data": {
      "text/plain": [
       "[<matplotlib.lines.Line2D at 0x7fdad6e81ad0>]"
      ]
     },
     "execution_count": 4,
     "metadata": {
      "tags": []
     },
     "output_type": "execute_result"
    },
    {
     "data": {
      "image/png": "[encoded data removed]",
      "text/plain": [
       "<Figure size 432x288 with 1 Axes>"
      ]
     },
     "metadata": {
      "needs_background": "light",
      "tags": []
     },
     "output_type": "display_data"
    }
   ],
   "source": [
    "# More advanced plot of the degree distribtion by using the probability density\n",
    "from scipy.stats.kde import gaussian_kde\n",
    "from numpy import linspace\n",
    "\n",
    "degree = scim.degree() \n",
    "\n",
    "# Estimation of the probability denstity function using a kernel-density estimation using Gaussian kernel \n",
    "kde = gaussian_kde(degree)\n",
    "# these are the values over wich your kernel will be evaluated\n",
    "dist_space = linspace( min(degree), max(degree), 100 )\n",
    "# plot the results\n",
    "plt.plot( dist_space, kde(dist_space) )"
   ]
  },
  {
   "cell_type": "code",
   "execution_count": null,
   "metadata": {
    "colab": {
     "base_uri": "https://localhost:8080/"
    },
    "id": "y_S9cqtsrGPP",
    "outputId": "0b995654-bfec-4148-dcb2-6a93b9a13cb1"
   },
   "outputs": [
    {
     "name": "stdout",
     "output_type": "stream",
     "text": [
      "number of connected components 542\n",
      "largest component is 4599 nodes big\n",
      "second largest component is 2 nodes big\n"
     ]
    }
   ],
   "source": [
    "cc= scim.clusters(mode='WEAK')\n",
    "print(\"number of connected components \" + str(len(cc)))\n",
    "cc = np.array(sorted(cc, key=len, reverse=True), dtype=\"object\")\n",
    "print(\"largest component is \" + str(len(cc[0])) + \" nodes big\")\n",
    "print(\"second largest component is \" + str(len(cc[1])) + \" nodes big\")\n",
    "scim_comp = scim.subgraph(cc[0])"
   ]
  },
  {
   "cell_type": "code",
   "execution_count": null,
   "metadata": {
    "colab": {
     "base_uri": "https://localhost:8080/",
     "height": 282
    },
    "id": "61rURAL7srBM",
    "outputId": "584da911-6d32-49a1-ea28-73c7deefdb92"
   },
   "outputs": [
    {
     "data": {
      "text/plain": [
       "[<matplotlib.lines.Line2D at 0x7fdad49204d0>]"
      ]
     },
     "execution_count": 6,
     "metadata": {
      "tags": []
     },
     "output_type": "execute_result"
    },
    {
     "data": {
      "image/png": "[encoded data removed]",
      "text/plain": [
       "<Figure size 432x288 with 1 Axes>"
      ]
     },
     "metadata": {
      "needs_background": "light",
      "tags": []
     },
     "output_type": "display_data"
    }
   ],
   "source": [
    "# More advanced plot of the degree distribtion by using the probability density\n",
    "from scipy.stats.kde import gaussian_kde\n",
    "from numpy import linspace\n",
    "\n",
    "degree = scim_comp.degree() \n",
    "\n",
    "# Estimation of the probability denstity function using a kernel-density estimation using Gaussian kernel \n",
    "kde = gaussian_kde(degree)\n",
    "# these are the values over wich your kernel will be evaluated\n",
    "dist_space = linspace( min(degree), max(degree), 100 )\n",
    "# plot the results\n",
    "plt.plot( dist_space, kde(dist_space) )"
   ]
  },
  {
   "cell_type": "code",
   "execution_count": null,
   "metadata": {
    "id": "w4sXxp_Ls90c"
   },
   "outputs": [],
   "source": [
    "\n",
    "colnames=['UT', 'Title', 'Journal', 'PubYear','Volume','Issue','page','DocType','TimesCited'] \n",
    "pubs = pd.read_csv(\"Publications_Wos.txt\",delimiter='\\t', index_col=False, names=colnames, header=None).set_index('UT')"
   ]
  },
  {
   "cell_type": "code",
   "execution_count": null,
   "metadata": {
    "colab": {
     "base_uri": "https://localhost:8080/",
     "height": 455
    },
    "id": "CMZU8I52t-8w",
    "outputId": "98d2e9db-4611-498b-89a1-cb8a1a932f17"
   },
   "outputs": [
    {
     "data": {
      "text/html": [
       "<div>\n",
       "<style scoped>\n",
       "    .dataframe tbody tr th:only-of-type {\n",
       "        vertical-align: middle;\n",
       "    }\n",
       "\n",
       "    .dataframe tbody tr th {\n",
       "        vertical-align: top;\n",
       "    }\n",
       "\n",
       "    .dataframe thead th {\n",
       "        text-align: right;\n",
       "    }\n",
       "</style>\n",
       "<table border=\"1\" class=\"dataframe\">\n",
       "  <thead>\n",
       "    <tr style=\"text-align: right;\">\n",
       "      <th></th>\n",
       "      <th>Title</th>\n",
       "      <th>Journal</th>\n",
       "      <th>PubYear</th>\n",
       "      <th>Volume</th>\n",
       "      <th>Issue</th>\n",
       "      <th>page</th>\n",
       "      <th>DocType</th>\n",
       "      <th>TimesCited</th>\n",
       "    </tr>\n",
       "    <tr>\n",
       "      <th>UT</th>\n",
       "      <th></th>\n",
       "      <th></th>\n",
       "      <th></th>\n",
       "      <th></th>\n",
       "      <th></th>\n",
       "      <th></th>\n",
       "      <th></th>\n",
       "      <th></th>\n",
       "    </tr>\n",
       "  </thead>\n",
       "  <tbody>\n",
       "    <tr>\n",
       "      <th>000071723600001</th>\n",
       "      <td>Comments on Belver C. Griffith, recipient of t...</td>\n",
       "      <td>SCIENTOMETRICS</td>\n",
       "      <td>1997</td>\n",
       "      <td>40</td>\n",
       "      <td>3</td>\n",
       "      <td>359</td>\n",
       "      <td>Biographical-Item</td>\n",
       "      <td>1</td>\n",
       "    </tr>\n",
       "    <tr>\n",
       "      <th>000071723600002</th>\n",
       "      <td>Comments on John Irvine and Ben R. Martin, rec...</td>\n",
       "      <td>SCIENTOMETRICS</td>\n",
       "      <td>1997</td>\n",
       "      <td>40</td>\n",
       "      <td>3</td>\n",
       "      <td>363</td>\n",
       "      <td>Editorial Material</td>\n",
       "      <td>0</td>\n",
       "    </tr>\n",
       "    <tr>\n",
       "      <th>000071723600003</th>\n",
       "      <td>From the opening address of the conference</td>\n",
       "      <td>SCIENTOMETRICS</td>\n",
       "      <td>1997</td>\n",
       "      <td>40</td>\n",
       "      <td>3</td>\n",
       "      <td>367</td>\n",
       "      <td>Editorial Material</td>\n",
       "      <td>0</td>\n",
       "    </tr>\n",
       "    <tr>\n",
       "      <th>000071723600004</th>\n",
       "      <td>Ambiguity in measurement</td>\n",
       "      <td>SCIENTOMETRICS</td>\n",
       "      <td>1997</td>\n",
       "      <td>40</td>\n",
       "      <td>3</td>\n",
       "      <td>369</td>\n",
       "      <td>Article; Proceedings Paper</td>\n",
       "      <td>3</td>\n",
       "    </tr>\n",
       "    <tr>\n",
       "      <th>000071723600005</th>\n",
       "      <td>Cross-national comparison of Frontier areas of...</td>\n",
       "      <td>SCIENTOMETRICS</td>\n",
       "      <td>1997</td>\n",
       "      <td>40</td>\n",
       "      <td>3</td>\n",
       "      <td>385</td>\n",
       "      <td>Article; Proceedings Paper</td>\n",
       "      <td>12</td>\n",
       "    </tr>\n",
       "    <tr>\n",
       "      <th>...</th>\n",
       "      <td>...</td>\n",
       "      <td>...</td>\n",
       "      <td>...</td>\n",
       "      <td>...</td>\n",
       "      <td>...</td>\n",
       "      <td>...</td>\n",
       "      <td>...</td>\n",
       "      <td>...</td>\n",
       "    </tr>\n",
       "    <tr>\n",
       "      <th>A1997YH07800003</th>\n",
       "      <td>View from afar: 'visible' productivity of scie...</td>\n",
       "      <td>SCIENTOMETRICS</td>\n",
       "      <td>1997</td>\n",
       "      <td>40</td>\n",
       "      <td>2</td>\n",
       "      <td>215</td>\n",
       "      <td>Article</td>\n",
       "      <td>24</td>\n",
       "    </tr>\n",
       "    <tr>\n",
       "      <th>A1997YH07800004</th>\n",
       "      <td>Mapping the social and behavioral sciences wor...</td>\n",
       "      <td>SCIENTOMETRICS</td>\n",
       "      <td>1997</td>\n",
       "      <td>40</td>\n",
       "      <td>2</td>\n",
       "      <td>237</td>\n",
       "      <td>Article</td>\n",
       "      <td>16</td>\n",
       "    </tr>\n",
       "    <tr>\n",
       "      <th>A1997YH07800005</th>\n",
       "      <td>International publication patterns in social s...</td>\n",
       "      <td>SCIENTOMETRICS</td>\n",
       "      <td>1997</td>\n",
       "      <td>40</td>\n",
       "      <td>2</td>\n",
       "      <td>277</td>\n",
       "      <td>Article</td>\n",
       "      <td>11</td>\n",
       "    </tr>\n",
       "    <tr>\n",
       "      <th>A1997YH07800006</th>\n",
       "      <td>Cognitive determinants of risk perceptions ass...</td>\n",
       "      <td>SCIENTOMETRICS</td>\n",
       "      <td>1997</td>\n",
       "      <td>40</td>\n",
       "      <td>2</td>\n",
       "      <td>299</td>\n",
       "      <td>Article</td>\n",
       "      <td>13</td>\n",
       "    </tr>\n",
       "    <tr>\n",
       "      <th>A1997YH07800007</th>\n",
       "      <td>A scientometric approach to autism based on tr...</td>\n",
       "      <td>SCIENTOMETRICS</td>\n",
       "      <td>1997</td>\n",
       "      <td>40</td>\n",
       "      <td>2</td>\n",
       "      <td>333</td>\n",
       "      <td>Article</td>\n",
       "      <td>8</td>\n",
       "    </tr>\n",
       "  </tbody>\n",
       "</table>\n",
       "<p>5144 rows × 8 columns</p>\n",
       "</div>"
      ],
      "text/plain": [
       "                                                             Title  ... TimesCited\n",
       "UT                                                                  ...           \n",
       "000071723600001  Comments on Belver C. Griffith, recipient of t...  ...          1\n",
       "000071723600002  Comments on John Irvine and Ben R. Martin, rec...  ...          0\n",
       "000071723600003         From the opening address of the conference  ...          0\n",
       "000071723600004                           Ambiguity in measurement  ...          3\n",
       "000071723600005  Cross-national comparison of Frontier areas of...  ...         12\n",
       "...                                                            ...  ...        ...\n",
       "A1997YH07800003  View from afar: 'visible' productivity of scie...  ...         24\n",
       "A1997YH07800004  Mapping the social and behavioral sciences wor...  ...         16\n",
       "A1997YH07800005  International publication patterns in social s...  ...         11\n",
       "A1997YH07800006  Cognitive determinants of risk perceptions ass...  ...         13\n",
       "A1997YH07800007  A scientometric approach to autism based on tr...  ...          8\n",
       "\n",
       "[5144 rows x 8 columns]"
      ]
     },
     "execution_count": 207,
     "metadata": {
      "tags": []
     },
     "output_type": "execute_result"
    }
   ],
   "source": [
    "pubs"
   ]
  },
  {
   "cell_type": "markdown",
   "metadata": {
    "id": "G-c57Rv-y4wk"
   },
   "source": [
    "## Creating the layout of the reduced network"
   ]
  },
  {
   "cell_type": "code",
   "execution_count": null,
   "metadata": {
    "colab": {
     "base_uri": "https://localhost:8080/"
    },
    "id": "kpc1YC8iy4RI",
    "outputId": "736a9ba4-f387-4a12-9452-0900242ade47"
   },
   "outputs": [
    {
     "data": {
      "text/plain": [
       "[-92.90520477294922, -13.418682098388672]"
      ]
     },
     "execution_count": 27,
     "metadata": {
      "tags": []
     },
     "output_type": "execute_result"
    }
   ],
   "source": [
    "layout_fr = scim_comp.layout(\"fr\")\n",
    "layout_fr[2]"
   ]
  },
  {
   "cell_type": "markdown",
   "metadata": {
    "id": "jSobA5plw9Fo"
   },
   "source": [
    "## Leading Eigenvector"
   ]
  },
  {
   "cell_type": "code",
   "execution_count": null,
   "metadata": {
    "colab": {
     "base_uri": "https://localhost:8080/"
    },
    "id": "NxwmwjZPwI3n",
    "outputId": "5706a010-2256-4a3f-d47e-54b53b0504e0"
   },
   "outputs": [
    {
     "data": {
      "text/plain": [
       "0.35572893180587095"
      ]
     },
     "execution_count": 29,
     "metadata": {
      "tags": []
     },
     "output_type": "execute_result"
    }
   ],
   "source": [
    "lead = scim_comp.community_leading_eigenvector()\n",
    "lead.modularity"
   ]
  },
  {
   "cell_type": "code",
   "execution_count": null,
   "metadata": {
    "colab": {
     "base_uri": "https://localhost:8080/"
    },
    "id": "ged6NLcMyBTo",
    "outputId": "9e67f8cd-1453-48ee-e9fe-8b4d7eb2f18d"
   },
   "outputs": [
    {
     "data": {
      "text/plain": [
       "[992, 506, 1670, 1120, 311]"
      ]
     },
     "execution_count": 12,
     "metadata": {
      "tags": []
     },
     "output_type": "execute_result"
    }
   ],
   "source": [
    "## The leading eigenvector results in 5 clusters. \n",
    "k=len(lead)\n",
    "lead.sizes()"
   ]
  },
  {
   "cell_type": "code",
   "execution_count": null,
   "metadata": {
    "colab": {
     "base_uri": "https://localhost:8080/",
     "height": 89
    },
    "id": "BoLYMWKOyNO3",
    "outputId": "2b5b00ce-e3ed-4d9c-ddb1-c7261d5a4994"
   },
   "outputs": [
    {
     "data": {
      "image/png": "[encoded data removed]",
      "text/plain": [
       "<Figure size 360x72 with 1 Axes>"
      ]
     },
     "metadata": {
      "needs_background": "light",
      "tags": []
     },
     "output_type": "display_data"
    }
   ],
   "source": [
    "import seaborn as sns\n",
    "\n",
    "colors =np.random.permutation(sns.color_palette(\"hls\", k)).tolist()\n",
    "#colors = sns.color_palette(\"hls\", k)\n",
    "sns.palplot(colors)\n",
    "scim_comp.vs['color'] = [None]\n",
    "for clid, cluster in enumerate(lead):\n",
    "    for member in cluster:\n",
    "        scim_comp.vs[member]['color'] = colors[clid]\n"
   ]
  },
  {
   "cell_type": "code",
   "execution_count": null,
   "metadata": {
    "id": "PmwVRBi4yyGU"
   },
   "outputs": [],
   "source": [
    "#Define style from network plotting\n",
    "visual_style = {}\n",
    "visual_style[\"vertex_size\"] = 5\n",
    "visual_style[\"vertex_label\"]=None\n",
    "visual_style[\"vertex_color\"] = scim_comp.vs['color']\n",
    "visual_style[\"layout\"] = layout_fr\n",
    "visual_style[\"edge_width\"] = 1\n",
    "\n",
    "\n",
    "plt = ig.plot(scim_comp, **visual_style)\n",
    "plt.save('leading_FR.png')"
   ]
  },
  {
   "cell_type": "markdown",
   "metadata": {
    "id": "LT4bER8_7W0g"
   },
   "source": [
    "## Multilevel Clustering: Louvain Method"
   ]
  },
  {
   "cell_type": "code",
   "execution_count": null,
   "metadata": {
    "colab": {
     "base_uri": "https://localhost:8080/"
    },
    "id": "5Ck6hwoO7dbT",
    "outputId": "97a5def9-cef1-4844-880f-833287b9ed76"
   },
   "outputs": [
    {
     "data": {
      "text/plain": [
       "0.3968516522109663"
      ]
     },
     "execution_count": 114,
     "metadata": {
      "tags": []
     },
     "output_type": "execute_result"
    }
   ],
   "source": [
    "lvn = scim_comp.community_multilevel(weights=None)\n",
    "lvn.modularity"
   ]
  },
  {
   "cell_type": "code",
   "execution_count": null,
   "metadata": {
    "colab": {
     "base_uri": "https://localhost:8080/"
    },
    "id": "eNzblLCm8FRa",
    "outputId": "e52480f4-8ec7-48be-b80d-8ca92926e515"
   },
   "outputs": [
    {
     "data": {
      "text/plain": [
       "[557, 1515, 757, 784, 476, 507, 3]"
      ]
     },
     "execution_count": 132,
     "metadata": {
      "tags": []
     },
     "output_type": "execute_result"
    }
   ],
   "source": [
    "## The Multilevel results in 7 clusters. \n",
    "k=len(lvn)\n",
    "lvn.sizes()"
   ]
  },
  {
   "cell_type": "code",
   "execution_count": null,
   "metadata": {
    "colab": {
     "base_uri": "https://localhost:8080/",
     "height": 89
    },
    "id": "HwOwEoDK8PtN",
    "outputId": "a5511ed6-dade-474d-dc07-edc47f61362b"
   },
   "outputs": [
    {
     "data": {
      "image/png": "[encoded data removed]",
      "text/plain": [
       "<Figure size 504x72 with 1 Axes>"
      ]
     },
     "metadata": {
      "needs_background": "light",
      "tags": []
     },
     "output_type": "display_data"
    }
   ],
   "source": [
    "colors =np.random.permutation(sns.color_palette(\"hls\", k)).tolist()\n",
    "#colors = sns.color_palette(\"hls\", k)\n",
    "sns.palplot(colors)\n",
    "scim_comp.vs['color'] = [None]\n",
    "for clid, cluster in enumerate(lvn):\n",
    "    for member in cluster:\n",
    "        scim_comp.vs[member]['color'] = colors[clid]"
   ]
  },
  {
   "cell_type": "code",
   "execution_count": null,
   "metadata": {
    "id": "1sWNyJH18UhL"
   },
   "outputs": [],
   "source": [
    "#Define style from network plotting\n",
    "visual_style = {}\n",
    "visual_style[\"vertex_size\"] = 5\n",
    "visual_style[\"vertex_label\"]=None\n",
    "visual_style[\"vertex_color\"] = scim_comp.vs['color']\n",
    "visual_style[\"layout\"] = layout_fr\n",
    "visual_style[\"edge_width\"] = 1\n",
    "\n",
    "\n",
    "plt = ig.plot(scim_comp, **visual_style)\n",
    "plt.save('Louvain_FR.png')"
   ]
  },
  {
   "cell_type": "markdown",
   "metadata": {
    "id": "MaW53tbm8b92"
   },
   "source": [
    "## Walk Trap Clustering"
   ]
  },
  {
   "cell_type": "code",
   "execution_count": null,
   "metadata": {
    "colab": {
     "base_uri": "https://localhost:8080/"
    },
    "id": "s_niD4MG3SkP",
    "outputId": "73b690f4-760c-4434-a366-78f732718f2e"
   },
   "outputs": [
    {
     "data": {
      "text/plain": [
       "0.35466842394394277"
      ]
     },
     "execution_count": 37,
     "metadata": {
      "tags": []
     },
     "output_type": "execute_result"
    }
   ],
   "source": [
    "walktrap = scim_comp.community_walktrap()\n",
    "walktrap_cl = walktrap.as_clustering()\n",
    "walktrap_cl.modularity"
   ]
  },
  {
   "cell_type": "code",
   "execution_count": null,
   "metadata": {
    "colab": {
     "base_uri": "https://localhost:8080/"
    },
    "id": "PdVY6AEg3SaV",
    "outputId": "1c5c918f-1f99-4bf2-c8e8-a63f8ff55940"
   },
   "outputs": [
    {
     "data": {
      "text/plain": [
       "158"
      ]
     },
     "execution_count": 39,
     "metadata": {
      "tags": []
     },
     "output_type": "execute_result"
    }
   ],
   "source": [
    "## The Walk trap results in 158 clusters. \n",
    "k=len(walktrap_cl)\n",
    "k"
   ]
  },
  {
   "cell_type": "markdown",
   "metadata": {
    "id": "jOHYuo7y8-qk"
   },
   "source": [
    "## Compare Clusterings"
   ]
  },
  {
   "cell_type": "code",
   "execution_count": null,
   "metadata": {
    "colab": {
     "base_uri": "https://localhost:8080/"
    },
    "id": "Qg9iyKNd9rzy",
    "outputId": "5dfe8d49-8f5a-4d01-c088-4a33eab7fc05"
   },
   "outputs": [
    {
     "data": {
      "text/plain": [
       "0.3760509033996571"
      ]
     },
     "execution_count": 43,
     "metadata": {
      "tags": []
     },
     "output_type": "execute_result"
    }
   ],
   "source": [
    "ig.compare_communities(lead, walktrap_cl, method='nmi')"
   ]
  },
  {
   "cell_type": "code",
   "execution_count": null,
   "metadata": {
    "colab": {
     "base_uri": "https://localhost:8080/"
    },
    "id": "JlhFRl4s8-E7",
    "outputId": "10150f18-307e-4812-bb14-59bd8f22535a"
   },
   "outputs": [
    {
     "data": {
      "text/plain": [
       "0.3981875735144677"
      ]
     },
     "execution_count": 41,
     "metadata": {
      "tags": []
     },
     "output_type": "execute_result"
    }
   ],
   "source": [
    "ig.compare_communities(lead, lvn, method='nmi')"
   ]
  },
  {
   "cell_type": "code",
   "execution_count": null,
   "metadata": {
    "colab": {
     "base_uri": "https://localhost:8080/"
    },
    "id": "aj5W3Muq9zTY",
    "outputId": "b5dcede7-a698-4c2b-c7b1-b0e5b4ec5026"
   },
   "outputs": [
    {
     "data": {
      "text/plain": [
       "0.5713632372125201"
      ]
     },
     "execution_count": 44,
     "metadata": {
      "tags": []
     },
     "output_type": "execute_result"
    }
   ],
   "source": [
    "ig.compare_communities(walktrap_cl, lvn, method='nmi')"
   ]
  },
  {
   "cell_type": "code",
   "execution_count": null,
   "metadata": {
    "colab": {
     "base_uri": "https://localhost:8080/"
    },
    "id": "EORkr1goBCa5",
    "outputId": "fe547f74-a750-4fae-8223-59247aeca600"
   },
   "outputs": [
    {
     "data": {
      "text/plain": [
       "0.27088462548000863"
      ]
     },
     "execution_count": 49,
     "metadata": {
      "tags": []
     },
     "output_type": "execute_result"
    }
   ],
   "source": [
    "ig.compare_communities(lead, lvn, method='adjusted_rand')"
   ]
  },
  {
   "cell_type": "markdown",
   "metadata": {
    "id": "FRB6uVHxV2Lx"
   },
   "source": [
    "## Extracting Most Central Nodes"
   ]
  },
  {
   "cell_type": "code",
   "execution_count": null,
   "metadata": {
    "id": "zs_uFzuXV1zJ"
   },
   "outputs": [],
   "source": [
    "communities = lvn.subgraphs()"
   ]
  },
  {
   "cell_type": "code",
   "execution_count": null,
   "metadata": {
    "id": "9SmkeOJQqUkD"
   },
   "outputs": [],
   "source": [
    "def getCentralPublications (subgraph):\n",
    "  wdeg = subgraph.strength()\n",
    "  betw = subgraph.betweenness()\n",
    "  ## Select nodes which belong to the top 5% most central nodes based on both weighted degree and betweenness\n",
    "  centralPubs = subgraph.vs[np.where((wdeg>=np.percentile(wdeg,95))& (betw>=np.percentile(betw, 95)))[0].tolist()]['name']\n",
    "\n",
    "  for ut in pubs.loc[centralPubs]['Title']:\n",
    "    print('Title = {}'.format(ut))"
   ]
  },
  {
   "cell_type": "code",
   "execution_count": null,
   "metadata": {
    "colab": {
     "base_uri": "https://localhost:8080/"
    },
    "id": "fJiq3KKIqzYj",
    "outputId": "1f49edaa-bf0e-43e6-d177-4233716f4834"
   },
   "outputs": [
    {
     "name": "stdout",
     "output_type": "stream",
     "text": [
      "Title = Lotka's law reconsidered: The evolution of publication and citation distributions in scientific fields\n",
      "Title = What makes a scientific article influential? The case of demographers\n",
      "Title = Reconsidering Price's model of scientific growth: An overview\n",
      "Title = The unified scientometric model. Fractality and transfractality\n",
      "Title = On the origins of bibliometrics\n",
      "Title = The pulsing structure of science: Ortega y Gasset, Saint Matthew, fractality and transfractality\n",
      "Title = Characterizing a scientific elite: the social characteristics of the most highly cited scientists in environmental science and ecology\n",
      "Title = Does cumulative advantage affect collective learning in science? An agent-based simulation\n",
      "Title = Patterns of authors' information scattering: towards a causal explanation of information scattering from a scholarly information-seeking behavior perspective\n",
      "Title = An empirical approach to compare the performance of heterogeneous academic fields\n",
      "Title = The inner quality of an article: Will time tell?\n",
      "Title = The law of limited excellence: publication productivity of Israel Prize laureates in the life and exact sciences\n",
      "Title = PUBLICATION PRODUCTIVITY AND PROFESSIONAL POSITION - CROSS-NATIONAL EVIDENCE ON THE ROLE OF ORGANIZATIONS\n",
      "Title = STATIONARY SCIENTOMETRIC DISTRIBUTIONS .2. NON-GAUSSIAN NATURE OF SCIENTIFIC ACTIVITIES\n",
      "Title = STATIONARY SCIENTOMETRIC DISTRIBUTIONS .3. THE ROLE OF THE ZIPF DISTRIBUTION\n",
      "Title = A DYNAMIC LOOK AT A CLASS OF SKEW DISTRIBUTIONS - A MODEL WITH SCIENTOMETRIC APPLICATIONS\n",
      "Title = BRIDGING THE GAPS - CONCEPTUAL DISCUSSIONS ON INFORMETRICS\n"
     ]
    }
   ],
   "source": [
    "getCentralPublications(communities[0])"
   ]
  },
  {
   "cell_type": "code",
   "execution_count": null,
   "metadata": {
    "colab": {
     "base_uri": "https://localhost:8080/"
    },
    "id": "CICZ_H3RWIBU",
    "outputId": "b1951d1a-5430-441a-94eb-a2253074e3ed"
   },
   "outputs": [
    {
     "name": "stdout",
     "output_type": "stream",
     "text": [
      "Title = Comparative investigation of frequency and strength of motives toward referencing, the reference threshold model - Comments on theories of citation?\n",
      "Title = Chemistry research in Eastern Central Europe (1992-1997) - Facts and figures on publication output and citation impact\n",
      "Title = Citation analysis of research performer quality\n",
      "Title = Journal impact measures in bibliometric research\n",
      "Title = An overview of cross-national, national, and institutional assessment as reflected in the international journal Scientometrics\n",
      "Title = The visibility of Italian journals\n",
      "Title = A comparative study of research performance in computer science\n",
      "Title = Fatal attraction: Conceptual and methodological problems in the ranking of universities by bibliometric methods\n",
      "Title = Competition for funding as an indicator of research competitiveness\n",
      "Title = Comparison and evaluation of domestic and international outputs in Information Science & Technology research of China\n",
      "Title = Bibliometric monitoring of research performance in the social sciences and the humanities: A review\n",
      "Title = A bibliometric study of China's semiconductor literature compared with other major asian countries\n",
      "Title = Relative Superiority Coefficient of papers: A new dimension for institutional research performance in different fields\n",
      "Title = Great expectations: The role of Open Access in improving countries' recognition\n",
      "Title = History of the journal impact factor: Contingencies and consequences\n",
      "Title = Countries positioning in open access journals system: An investigation of citation distribution patterns\n",
      "Title = The evaluation of scientific production: Towards a neutral impact factor\n",
      "Title = Should you believe in the Shanghai ranking?\n",
      "Title = A comparison of the scientific performance of the US and the European union at the turn of the 21st century\n",
      "Title = Behind citing-side normalization of citations: some properties of the journal impact factor\n",
      "Title = Characteristics of research in China assessed with Essential Science Indicators\n",
      "Title = A rejoinder on energy versus impact indicators\n",
      "Title = Impact factor: outdated artefact or stepping-stone to journal certification?\n",
      "Title = Alternatives to the journal impact factor: I3 and the top-10% (or top-25%?) of the most-highly cited papers\n",
      "Title = Journal impact evaluation: a webometric perspective\n",
      "Title = The journal impact factor: angel, devil, or scapegoat? A comment on J.K. Vanclay's article 2011\n",
      "Title = Revisiting country research profiles: learning about the scientific cultures\n",
      "Title = Citation time window choice for research impact evaluation\n",
      "Title = Retraction of global scientific publications from 2001 to 2010\n",
      "Title = How well developed are altmetrics? A cross-disciplinary analysis of the presence of 'alternative metrics' in scientific publications\n",
      "Title = Comparison of the effect of mean-based method and z-score for field normalization of citations at the level of Web of Science subject categories\n",
      "Title = Improving the normalization effect of mean-based method from the perspective of optimization: optimization-based linear methods and their performance\n",
      "Title = Identifying patterns and structural influences in the scientific communication of business knowledge\n",
      "Title = Measuring the influence and impact of competitiveness research: a Web of Science approach\n",
      "Title = Factors affecting number of citations: a comprehensive review of the literature\n",
      "Title = Research diversification and impact: the case of national nanoscience development\n",
      "Title = Characterisation of academic journals in the digital age\n",
      "Title = Generating clustered journal maps: an automated system for hierarchical classification\n",
      "Title = Quality assessment of scientific outputs using the BWM\n",
      "Title = Detecting latent referential articles based on their vitality performance in the latest 2 years\n",
      "Title = Measuring, analysis and visualization of research capacity of university at the level of departments and staff members\n",
      "Title = AN ATTEMPT OF SURVEYING AND CLASSIFYING BIBLIOMETRIC INDICATORS FOR SCIENTOMETRIC PURPOSES\n",
      "Title = ON THE RELATIONSHIP OF FUNDING AND RESEARCH PUBLICATIONS\n",
      "Title = CROSS-NATIONAL ASSESSMENT OF SPECIALIZATION PATTERNS IN CHEMISTRY\n",
      "Title = A BIBLIOMETRIC PROFILE OF TOP-SCIENTISTS - A CASE-STUDY IN CHEMICAL-ENGINEERING\n"
     ]
    }
   ],
   "source": [
    "getCentralPublications(communities[1])"
   ]
  },
  {
   "cell_type": "code",
   "execution_count": null,
   "metadata": {
    "colab": {
     "base_uri": "https://localhost:8080/"
    },
    "id": "ueLcEoBhlOcR",
    "outputId": "328372ed-3d24-4d0c-e5b8-0ceb5512c90f"
   },
   "outputs": [
    {
     "name": "stdout",
     "output_type": "stream",
     "text": [
      "Title = Intra-EU vs. extra-EU scientific co-publication patterns in EU\n",
      "Title = Collaboration and publication: How collaborative are scientists in South Africa?\n",
      "Title = International scientific collaboration of China with the G7 countries\n",
      "Title = Citation increments between collaborating countries\n",
      "Title = Predicting author h-index using characteristics of the co-author network\n",
      "Title = Prominent institutions in international collaboration network in astronomy and astrophysics\n",
      "Title = Mapping research collaborations in the business and management field in Malaysia, 1980-2010\n",
      "Title = The relationship between research performance and international collaboration in chemistry\n",
      "Title = Research collaboration networks of two OIC nations: comparative study between Turkey and Malaysia in the field of 'Energy Fuels', 2009-2011\n",
      "Title = Atapuerca: evolution of scientific collaboration in an emergent large-scale research infrastructure\n",
      "Title = Variation in research collaboration patterns across academic ranks\n",
      "Title = International research collaborations of ASEAN Nations in economics, 1979-2010\n",
      "Title = Cohesive subgroups in the international collaboration network in astronomy and astrophysics\n",
      "Title = Impact analysis of domestic and international research collaborations: a Malaysian case study\n",
      "Title = The influence of R&D intensity of countries on the impact of international collaborative research: evidence from Spain\n",
      "Title = Characteristics of international collaboration in sport sciences publications and its influence on citation impact\n",
      "Title = Is there a gender difference in scientific collaboration? A scientometric examination of co-authorships among industrial-organizational psychologists\n",
      "Title = Collaboration experiences across scientific disciplines and cohorts\n",
      "Title = Allometric models to measure and analyze the evolution of international research collaboration\n",
      "Title = Mapping the institutional collaboration network of strategic management research: 1980-2014\n",
      "Title = Evaluating a European knowledge hub on climate change in agriculture: Are we building a better connected community?\n",
      "Title = What is co-authorship?\n",
      "Title = Growth of international collaboration in science: revisiting six specialties\n",
      "Title = Network structure of scientific collaborations between China and the EU member states\n"
     ]
    }
   ],
   "source": [
    "getCentralPublications(communities[2])"
   ]
  },
  {
   "cell_type": "code",
   "execution_count": null,
   "metadata": {
    "colab": {
     "base_uri": "https://localhost:8080/"
    },
    "id": "Q58RX7b2tC4j",
    "outputId": "ac48dd98-f073-44d2-e974-8915e502836f"
   },
   "outputs": [
    {
     "name": "stdout",
     "output_type": "stream",
     "text": [
      "Title = Theories of citation?\n",
      "Title = Co-citation analysis and the search for invisible colleges: A methodological evaluation\n",
      "Title = A new technique for building maps of large scientific domains based on the cocitation of classes and categories\n",
      "Title = Diversity and network coherence as indicators of interdisciplinarity: case studies in bionanoscience\n",
      "Title = Climate change and interdisciplinarity: a co-citation analysis of IPCC Third Assessment Report\n",
      "Title = Agent-based computing from multi-agent systems to agent-based models: a visual survey\n",
      "Title = Doctoral dissertations of Library and Information Science in China: A co-word analysis\n",
      "Title = Journal clustering of library and information science for subfield delineation using the bibliometric analysis toolkit: CATAR\n",
      "Title = Mapping the intellectual structure of scientometrics: a co-word analysis of the journal Scientometrics (2005-2010)\n",
      "Title = Meso-level retrieval: IR-bibliometrics interplay and hybrid citation-words methods in scientific fields delineation\n",
      "Title = Visualizing the intellectual structure and evolution of innovation systems research: a bibliometric analysis\n",
      "Title = Organizational ambidexterity: exploring the knowledge base\n",
      "Title = Quantifying the changing role of past publications\n",
      "Title = Using co-authorship and citation analysis to identify research groups: a new way to assess performance\n",
      "Title = Mapping intellectual structures and dynamics of transport geography research: a scientometric overview from 1982 to 2014\n",
      "Title = Ruling out static latent homophily in citation networks\n",
      "Title = Exploration into the evolution and historical roots of citation analysis by referenced publication year spectroscopy\n",
      "Title = Same data-different results? Towards a comparative approach to the identification of thematic structures in science\n",
      "Title = How the analysis of transitionary references in knowledge networks and their centrality characteristics helps in understanding the genesis of growing technology areas\n",
      "Title = Co-word analysis and thematic landscapes in Spanish information science literature, 1985-2014\n",
      "Title = Online classified advertising: a review and bibliometric analysis\n",
      "Title = Reassessment of co-citation methods for science indicators: Effect of methods improving recall rates\n"
     ]
    }
   ],
   "source": [
    "getCentralPublications(communities[3])"
   ]
  },
  {
   "cell_type": "code",
   "execution_count": null,
   "metadata": {
    "colab": {
     "base_uri": "https://localhost:8080/"
    },
    "id": "IwdcxwjdtQHC",
    "outputId": "dfea4911-ea92-44f7-d297-a9c78564d253"
   },
   "outputs": [
    {
     "name": "stdout",
     "output_type": "stream",
     "text": [
      "Title = Assessing scientific research performance and impact with single indices\n",
      "Title = Journal Impact Factors for evaluating scientific performance: use of h-like indicators\n",
      "Title = Bibliometric positioning of scientific manufacturing journals: a comparative analysis\n",
      "Title = Central indexes to the citation distribution: a complement to the h-index\n",
      "Title = Relative measure index: a metric to measure the quality of journals\n",
      "Title = Analysis of bibliometric indicators for individual scholars in a large data set\n",
      "Title = How to evaluate individual researchers working in the natural and life sciences meaningfully? A proposal of methods based on percentiles of citations\n",
      "Title = A review of the characteristics of 108 author-level bibliometric indicators\n",
      "Title = The hw-rank: an h-index variant for ranking web pages\n",
      "Title = A comparison of 17 author-level bibliometric indicators for researchers in Astronomy, Environmental Science, Philosophy and Public Health in Web of Science and Google Scholar\n",
      "Title = Do Hirsch-type indices behave the same in assessing single publications? An empirical study of 29 bibliometric indicators\n"
     ]
    }
   ],
   "source": [
    "getCentralPublications(communities[4])"
   ]
  },
  {
   "cell_type": "code",
   "execution_count": null,
   "metadata": {
    "colab": {
     "base_uri": "https://localhost:8080/"
    },
    "id": "fLUuNuYbtWQn",
    "outputId": "796e8e69-8af7-4cd9-a0fb-0f6d855950e9"
   },
   "outputs": [
    {
     "name": "stdout",
     "output_type": "stream",
     "text": [
      "Title = Why Catalonia cannot be considered as a regional innovation system\n",
      "Title = Tracing knowledge flows in innovation systems\n",
      "Title = Bibliometric analysis of biotechnology\n",
      "Title = Do science-technology interactions pay off when developing technology? An exploratory investigation of 10 science-intensive technology domains\n",
      "Title = Science cited in patents: A geographic \"flow\" analysis of bibliographic citation patterns in patents\n",
      "Title = Traces of Prior Art: An analysis of non-patent references found in patent documents\n",
      "Title = Developing technology in the vicinity of science: An examination of the relationship between science intensity (of patents) and technological productivity within the field of biotechnology\n",
      "Title = Patent-bibliometric analysis on the Chinese science - technology linkages\n",
      "Title = Discovery of factors influencing patent value based on machine learning in patents in the field of nanotechnology\n",
      "Title = Network structure of innovation: can brokerage or closure predict patent quality?\n",
      "Title = Explicitly searching for useful inventions: dynamic relatedness and the costs of connecting versus synthesizing\n",
      "Title = Modeling the dynamic relation between science and technology in nanotechnology\n",
      "Title = Love dynamics between science and technology: some evidences in nanoscience and nanotechnology\n",
      "Title = Discovering and assessing fields of expertise in nanomedicine: a patent co-citation network perspective\n",
      "Title = Exploring patent performance and technology interactions of universities, industries, governments and individuals\n",
      "Title = Have Chinese universities embraced their third mission? New insight from a business perspective\n",
      "Title = Triple Helix indicators as an emergent area of enquiry: a bibliometric perspective\n",
      "Title = Analyzing the time delay between scientific research and technology patents based on the citation distribution model\n",
      "Title = What makes the first forward citation of a patent occur earlier?\n"
     ]
    }
   ],
   "source": [
    "getCentralPublications(communities[5])"
   ]
  },
  {
   "cell_type": "code",
   "execution_count": null,
   "metadata": {
    "colab": {
     "base_uri": "https://localhost:8080/"
    },
    "id": "DaslfIhdtbnB",
    "outputId": "7621f450-6eed-4fb3-a8a1-3d1ae09e891f"
   },
   "outputs": [
    {
     "name": "stdout",
     "output_type": "stream",
     "text": [
      "Title = Letter to the editor: comments on the paper of Aparna Basu et al.: designing a composite index for research performance evaluation at the national or regional level: ranking central universities in India\n",
      "Title = Response to the Letter to the Editor by Gangan Prathap on the article: Designing a composite index for research performance evaluation at the national or regional level: ranking Central Universities in India\n",
      "Title = Designing a Composite Index for research performance evaluation at the national or regional level: ranking Central Universities in India (vol 107, pg 1171, 2016)\n"
     ]
    }
   ],
   "source": [
    "getCentralPublications(communities[6])"
   ]
  },
  {
   "cell_type": "markdown",
   "metadata": {
    "id": "_YjwIjneBKv0"
   },
   "source": [
    "## Degeneracy Problem"
   ]
  },
  {
   "cell_type": "code",
   "execution_count": null,
   "metadata": {
    "id": "OVVx3yJSBPu2"
   },
   "outputs": [],
   "source": [
    "mod_list_lvn =[]\n",
    "comm_list_lvn = []\n",
    "memb_list_lvn = []\n",
    "perm_list=[]\n",
    "\n",
    "comm_list_lvn.append(lvn)\n",
    "memb_list_lvn.append(lvn.membership)\n",
    "mod_list_lvn.append(lvn.modularity)\n",
    "\n",
    "nodes = scim_comp.vcount()\n",
    "\n",
    "for i in range(1,6):\n",
    "  perm=np.random.permutation(nodes).tolist()\n",
    "  perm_scim = scim_comp.permute_vertices(perm)\n",
    "\n",
    "  com = perm_scim.community_multilevel(weights = perm_scim.es[\"weight\"])\n",
    "\n",
    "  a = pd.DataFrame(data={'ID':perm_scim.vs()['id'],'cluster':com.membership})\n",
    "  a = a.sort_values(by='ID')\n",
    "  memb_list_lvn.append(a.loc[:,'cluster'].values)\n",
    "\n",
    "  mod_list_lvn.append(com.modularity)\n",
    "  comm_list_lvn.append(com)\n",
    "  perm_list.append(perm)\n",
    "  "
   ]
  },
  {
   "cell_type": "code",
   "execution_count": null,
   "metadata": {
    "colab": {
     "base_uri": "https://localhost:8080/"
    },
    "id": "xtYuhJiJBfFX",
    "outputId": "1b54e7ba-5841-45a0-ffa4-2c87288ed30d"
   },
   "outputs": [
    {
     "data": {
      "text/plain": [
       "[0.3968516522109663,\n",
       " 0.4777612527343319,\n",
       " 0.4770968155891206,\n",
       " 0.4779575072805779,\n",
       " 0.47665841126776615,\n",
       " 0.4752740619984201]"
      ]
     },
     "execution_count": 116,
     "metadata": {
      "tags": []
     },
     "output_type": "execute_result"
    }
   ],
   "source": [
    "mod_list_lvn"
   ]
  },
  {
   "cell_type": "markdown",
   "metadata": {
    "id": "g-uXvSoyQ21q"
   },
   "source": [
    "The first modularity score is the first run with an unweighted version of the community detection"
   ]
  },
  {
   "cell_type": "code",
   "execution_count": null,
   "metadata": {
    "colab": {
     "base_uri": "https://localhost:8080/"
    },
    "id": "oftuOULKCYAe",
    "outputId": "a2b038a2-565f-4a8c-9a46-4deb796cfe81"
   },
   "outputs": [
    {
     "name": "stdout",
     "output_type": "stream",
     "text": [
      "Comparing permutations 0 and 1, nmi=0.6589845296817707, rand = 0.8813664978703976\n",
      "Comparing permutations 0 and 2, nmi=0.654071176366212, rand = 0.873581080895756\n",
      "Comparing permutations 0 and 3, nmi=0.6565539733627764, rand = 0.880657434370484\n",
      "Comparing permutations 0 and 4, nmi=0.6689976132929312, rand = 0.8847488546643032\n",
      "Comparing permutations 0 and 5, nmi=0.6676686770439348, rand = 0.8798902989766202\n",
      "Comparing permutations 1 and 2, nmi=0.776297927029095, rand = 0.9342174069840061\n",
      "Comparing permutations 1 and 3, nmi=0.8851552623438291, rand = 0.9750647421224861\n",
      "Comparing permutations 1 and 4, nmi=0.7764331549033974, rand = 0.9253110322127822\n",
      "Comparing permutations 1 and 5, nmi=0.8085770893450338, rand = 0.9467715289960819\n",
      "Comparing permutations 2 and 3, nmi=0.7661401499553697, rand = 0.9338238611359146\n",
      "Comparing permutations 2 and 4, nmi=0.7032603925050422, rand = 0.9108486715486781\n",
      "Comparing permutations 2 and 5, nmi=0.7402316969792883, rand = 0.9280882685221676\n",
      "Comparing permutations 3 and 4, nmi=0.7837892676875817, rand = 0.926449487241255\n",
      "Comparing permutations 3 and 5, nmi=0.7768016191123596, rand = 0.9408157549994085\n",
      "Comparing permutations 4 and 5, nmi=0.7267986037581364, rand = 0.9145181721048536\n"
     ]
    }
   ],
   "source": [
    "for i in range(0,5):\n",
    "  for j in range(i+1,6):\n",
    "    rand=ig.compare_communities(memb_list_lvn[i], memb_list_lvn[j], 'rand')\n",
    "    nmi = ig.compare_communities(memb_list_lvn[i], memb_list_lvn[j], 'nmi')\n",
    "    print('Comparing permutations {} and {}, nmi={}, rand = {}'.format(i,j,nmi,rand))"
   ]
  },
  {
   "cell_type": "code",
   "execution_count": null,
   "metadata": {
    "id": "EG-9Jj30Mbfl"
   },
   "outputs": [],
   "source": [
    "m = pd.DataFrame(data={'Unweighted':memb_list_lvn[0], \n",
    "                       'p1':memb_list_lvn[1],\n",
    "                       'p2':memb_list_lvn[2],\n",
    "                       'p3':memb_list_lvn[3],\n",
    "                       'p4':memb_list_lvn[4],\n",
    "                       'p5':memb_list_lvn[5]})"
   ]
  },
  {
   "cell_type": "code",
   "execution_count": null,
   "metadata": {
    "colab": {
     "base_uri": "https://localhost:8080/",
     "height": 514
    },
    "id": "xsuC_BPaSl25",
    "outputId": "6284e2c6-e5a1-44c7-86ae-a7fac3d0986d"
   },
   "outputs": [
    {
     "data": {
      "text/plain": [
       "<matplotlib.axes._subplots.AxesSubplot at 0x7fdac34efa90>"
      ]
     },
     "execution_count": 119,
     "metadata": {
      "tags": []
     },
     "output_type": "execute_result"
    },
    {
     "data": {
      "image/png": "[encoded data removed]",
      "text/plain": [
       "<Figure size 864x576 with 2 Axes>"
      ]
     },
     "metadata": {
      "needs_background": "light",
      "tags": []
     },
     "output_type": "display_data"
    }
   ],
   "source": [
    "contigency= pd.crosstab(m['Unweighted'], m['p2'])\n",
    "plt.figure(figsize=(12,8))\n",
    "sns.heatmap(contigency, annot=True, cmap=\"YlGnBu\")"
   ]
  },
  {
   "cell_type": "code",
   "execution_count": null,
   "metadata": {
    "colab": {
     "base_uri": "https://localhost:8080/",
     "height": 514
    },
    "id": "6sVXXylKMthv",
    "outputId": "605a4077-3771-4e66-d41b-63c4842b0fed"
   },
   "outputs": [
    {
     "data": {
      "text/plain": [
       "<matplotlib.axes._subplots.AxesSubplot at 0x7fdacbeb1250>"
      ]
     },
     "execution_count": 129,
     "metadata": {
      "tags": []
     },
     "output_type": "execute_result"
    },
    {
     "data": {
      "image/png": "[encoded data removed]",
      "text/plain": [
       "<Figure size 864x576 with 2 Axes>"
      ]
     },
     "metadata": {
      "needs_background": "light",
      "tags": []
     },
     "output_type": "display_data"
    }
   ],
   "source": [
    "contigency= pd.crosstab(m['p2'], m['p4'])\n",
    "plt.figure(figsize=(12,8))\n",
    "sns.heatmap(contigency, annot=True, cmap=\"YlGnBu\")"
   ]
  },
  {
   "cell_type": "code",
   "execution_count": null,
   "metadata": {
    "colab": {
     "base_uri": "https://localhost:8080/"
    },
    "id": "gQwQbYHcTCi7",
    "outputId": "c30b6790-20ef-4fd2-f027-2d06f7159175"
   },
   "outputs": [
    {
     "name": "stdout",
     "output_type": "stream",
     "text": [
      "Number of clusters 12 with sizes = [305, 460, 616, 655, 372, 721, 734, 500, 228, 2, 3, 3]\n"
     ]
    }
   ],
   "source": [
    "## The Multilevel results in 7 clusters. \n",
    "k=len(comm_list_lvn[2])\n",
    "print('Number of clusters {} with sizes = {}'.format(k, comm_list_lvn[2].sizes()))"
   ]
  },
  {
   "cell_type": "code",
   "execution_count": null,
   "metadata": {
    "colab": {
     "base_uri": "https://localhost:8080/",
     "height": 89
    },
    "id": "Cycj9-VbUUjI",
    "outputId": "2cf732e0-1d68-4849-edfe-49fad2e15a2e"
   },
   "outputs": [
    {
     "data": {
      "image/png": "[encoded data removed]",
      "text/plain": [
       "<Figure size 864x72 with 1 Axes>"
      ]
     },
     "metadata": {
      "needs_background": "light",
      "tags": []
     },
     "output_type": "display_data"
    }
   ],
   "source": [
    "colors =np.random.permutation(sns.color_palette(\"hls\", k)).tolist()\n",
    "#colors = sns.color_palette(\"hls\", k)\n",
    "sns.palplot(colors)\n",
    "scim_comp.vs['color'] = [None]\n",
    "for i in range(nodes):\n",
    "     scim_comp.vs[i]['color'] = colors[memb_list_lvn[2][i]]"
   ]
  },
  {
   "cell_type": "code",
   "execution_count": null,
   "metadata": {
    "id": "mamm4mSHVlk_"
   },
   "outputs": [],
   "source": [
    "#Define style from network plotting\n",
    "visual_style = {}\n",
    "visual_style[\"vertex_size\"] = 5\n",
    "visual_style[\"vertex_label\"]=None\n",
    "visual_style[\"vertex_color\"] = scim_comp.vs['color']\n",
    "visual_style[\"layout\"] = layout_fr\n",
    "visual_style[\"edge_width\"] = 1\n",
    "\n",
    "\n",
    "plt = ig.plot(scim_comp, **visual_style)\n",
    "plt.save('Louvain_Weighted_FR.png')"
   ]
  }
 ],
 "metadata": {
  "colab": {
   "name": "Exercise Session 3 _ Task 3.ipynb",
   "provenance": []
  },
  "kernelspec": {
   "display_name": "Python 3 (ipykernel)",
   "language": "python",
   "name": "python3"
  },
  "language_info": {
   "codemirror_mode": {
    "name": "ipython",
    "version": 3
   },
   "file_extension": ".py",
   "mimetype": "text/x-python",
   "name": "python",
   "nbconvert_exporter": "python",
   "pygments_lexer": "ipython3",
   "version": "3.9.7"
  }
 },
 "nbformat": 4,
 "nbformat_minor": 4
}

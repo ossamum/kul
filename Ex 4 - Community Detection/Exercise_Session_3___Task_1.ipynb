{
 "cells": [
  {
   "cell_type": "code",
   "execution_count": null,
   "metadata": {
    "id": "NxvgzFWUnT5s"
   },
   "outputs": [],
   "source": [
    "!pip install python-igraph\n",
    "!pip install matplotlib\n",
    "!pip install numpy\n",
    "!pip install scipy\n",
    "!pip install easygui\n",
    "!pip install cairocffi"
   ]
  },
  {
   "cell_type": "code",
   "execution_count": 3,
   "metadata": {
    "colab": {
     "base_uri": "https://localhost:8080/"
    },
    "id": "MQ1bZiG_oL6N",
    "outputId": "df9ec86d-e59f-43ac-ab24-0ab1b50e20f8"
   },
   "outputs": [
    {
     "name": "stdout",
     "output_type": "stream",
     "text": [
      "0.9.1\n"
     ]
    }
   ],
   "source": [
    "# Import of required libraries and packages\n",
    "import igraph as ig\n",
    "import easygui\n",
    "from matplotlib import pyplot as plt\n",
    "import numpy as np\n",
    "import scipy\n",
    "import statistics\n",
    "import pandas as pd\n",
    "print(ig.__version__)\n",
    "\n",
    "#Creating and empty Graph object\n",
    "graph = ig.Graph()"
   ]
  },
  {
   "cell_type": "code",
   "execution_count": 4,
   "metadata": {
    "colab": {
     "base_uri": "https://localhost:8080/",
     "height": 36
    },
    "id": "KSHkqIkDczor",
    "outputId": "e7a08b30-4a38-47a4-ac84-df6ac981e2e5"
   },
   "outputs": [
    {
     "data": {
      "application/vnd.google.colaboratory.intrinsic+json": {
       "type": "string"
      },
      "text/plain": [
       "'IGRAPH UNW- 5144 472520 -- \\n+ attr: id (v), name (v), weight (e)'"
      ]
     },
     "execution_count": 4,
     "metadata": {
      "tags": []
     },
     "output_type": "execute_result"
    }
   ],
   "source": [
    "# Load the data and create a network\n",
    "# Data is in Pajek-format\n",
    "scim = ig.read('hb_scim.net',format='pajek')\n",
    "scim.summary()"
   ]
  },
  {
   "cell_type": "code",
   "execution_count": 5,
   "metadata": {
    "colab": {
     "base_uri": "https://localhost:8080/",
     "height": 282
    },
    "id": "WHUvZNH3qs7y",
    "outputId": "0ab349ed-712f-4964-d583-5c2230042586"
   },
   "outputs": [
    {
     "data": {
      "text/plain": [
       "[<matplotlib.lines.Line2D at 0x7f173ca77810>]"
      ]
     },
     "execution_count": 5,
     "metadata": {
      "tags": []
     },
     "output_type": "execute_result"
    },
    {
     "data": {
      "image/png": "[encoded data removed]",
      "text/plain": [
       "<Figure size 432x288 with 1 Axes>"
      ]
     },
     "metadata": {
      "needs_background": "light",
      "tags": []
     },
     "output_type": "display_data"
    }
   ],
   "source": [
    "# More advanced plot of the degree distribtion by using the probability density\n",
    "from scipy.stats.kde import gaussian_kde\n",
    "from numpy import linspace\n",
    "\n",
    "degree = scim.degree() \n",
    "\n",
    "# Estimation of the probability denstity function using a kernel-density estimation using Gaussian kernel \n",
    "kde = gaussian_kde(degree)\n",
    "# these are the values over wich your kernel will be evaluated\n",
    "dist_space = linspace( min(degree), max(degree), 100 )\n",
    "# plot the results\n",
    "plt.plot( dist_space, kde(dist_space) )"
   ]
  },
  {
   "cell_type": "code",
   "execution_count": 11,
   "metadata": {
    "colab": {
     "base_uri": "https://localhost:8080/"
    },
    "id": "y_S9cqtsrGPP",
    "outputId": "ab81c5da-a6ad-4ee6-89f8-8c919adeded2"
   },
   "outputs": [
    {
     "name": "stdout",
     "output_type": "stream",
     "text": [
      "number of connected components 542\n",
      "largest component is 4599 nodes big\n",
      "second largest component is 2 nodes big\n"
     ]
    }
   ],
   "source": [
    "cc= scim.clusters(mode='WEAK')\n",
    "print(\"number of connected components \" + str(len(cc)))\n",
    "cc = np.array(sorted(cc, key=len, reverse=True), dtype=\"object\")\n",
    "print(\"largest component is \" + str(len(cc[0])) + \" nodes big\")\n",
    "print(\"second largest component is \" + str(len(cc[1])) + \" nodes big\")\n",
    "scim_comp = scim.subgraph(cc[0])"
   ]
  },
  {
   "cell_type": "code",
   "execution_count": 12,
   "metadata": {
    "colab": {
     "base_uri": "https://localhost:8080/",
     "height": 282
    },
    "id": "61rURAL7srBM",
    "outputId": "e315feec-9dd8-4ada-d622-0c92dbd014b6"
   },
   "outputs": [
    {
     "data": {
      "text/plain": [
       "[<matplotlib.lines.Line2D at 0x7f173ca030d0>]"
      ]
     },
     "execution_count": 12,
     "metadata": {
      "tags": []
     },
     "output_type": "execute_result"
    },
    {
     "data": {
      "image/png": "[encoded data removed]",
      "text/plain": [
       "<Figure size 432x288 with 1 Axes>"
      ]
     },
     "metadata": {
      "needs_background": "light",
      "tags": []
     },
     "output_type": "display_data"
    }
   ],
   "source": [
    "# More advanced plot of the degree distribtion by using the probability density\n",
    "from scipy.stats.kde import gaussian_kde\n",
    "from numpy import linspace\n",
    "\n",
    "degree = scim_comp.degree() \n",
    "\n",
    "# Estimation of the probability denstity function using a kernel-density estimation using Gaussian kernel \n",
    "kde = gaussian_kde(degree)\n",
    "# these are the values over wich your kernel will be evaluated\n",
    "dist_space = linspace( min(degree), max(degree), 100 )\n",
    "# plot the results\n",
    "plt.plot( dist_space, kde(dist_space) )"
   ]
  },
  {
   "cell_type": "code",
   "execution_count": 26,
   "metadata": {
    "id": "w4sXxp_Ls90c"
   },
   "outputs": [],
   "source": [
    "uts = scim_comp.vs.get_attribute_values(\"name\")\n",
    "colnames=['UT', 'Title', 'Journal', 'PubYear','Volume','Issue','DocType','TimesCited'] \n",
    "pubs = pd.read_csv(\"Publications_Wos.txt\",delimiter='\\t', index_col=False, names=colnames, header=None).set_index('UT')"
   ]
  },
  {
   "cell_type": "code",
   "execution_count": 27,
   "metadata": {
    "colab": {
     "base_uri": "https://localhost:8080/",
     "height": 455
    },
    "id": "CMZU8I52t-8w",
    "outputId": "c29559da-f260-499b-ae5d-7791e756e856"
   },
   "outputs": [
    {
     "data": {
      "text/html": [
       "<div>\n",
       "<style scoped>\n",
       "    .dataframe tbody tr th:only-of-type {\n",
       "        vertical-align: middle;\n",
       "    }\n",
       "\n",
       "    .dataframe tbody tr th {\n",
       "        vertical-align: top;\n",
       "    }\n",
       "\n",
       "    .dataframe thead th {\n",
       "        text-align: right;\n",
       "    }\n",
       "</style>\n",
       "<table border=\"1\" class=\"dataframe\">\n",
       "  <thead>\n",
       "    <tr style=\"text-align: right;\">\n",
       "      <th></th>\n",
       "      <th>Title</th>\n",
       "      <th>Journal</th>\n",
       "      <th>PubYear</th>\n",
       "      <th>Volume</th>\n",
       "      <th>Issue</th>\n",
       "      <th>DocType</th>\n",
       "      <th>TimesCited</th>\n",
       "    </tr>\n",
       "    <tr>\n",
       "      <th>UT</th>\n",
       "      <th></th>\n",
       "      <th></th>\n",
       "      <th></th>\n",
       "      <th></th>\n",
       "      <th></th>\n",
       "      <th></th>\n",
       "      <th></th>\n",
       "    </tr>\n",
       "  </thead>\n",
       "  <tbody>\n",
       "    <tr>\n",
       "      <th>000071723600001</th>\n",
       "      <td>Comments on Belver C. Griffith, recipient of t...</td>\n",
       "      <td>SCIENTOMETRICS</td>\n",
       "      <td>1997</td>\n",
       "      <td>40</td>\n",
       "      <td>3</td>\n",
       "      <td>359</td>\n",
       "      <td>Biographical-Item</td>\n",
       "    </tr>\n",
       "    <tr>\n",
       "      <th>000071723600002</th>\n",
       "      <td>Comments on John Irvine and Ben R. Martin, rec...</td>\n",
       "      <td>SCIENTOMETRICS</td>\n",
       "      <td>1997</td>\n",
       "      <td>40</td>\n",
       "      <td>3</td>\n",
       "      <td>363</td>\n",
       "      <td>Editorial Material</td>\n",
       "    </tr>\n",
       "    <tr>\n",
       "      <th>000071723600003</th>\n",
       "      <td>From the opening address of the conference</td>\n",
       "      <td>SCIENTOMETRICS</td>\n",
       "      <td>1997</td>\n",
       "      <td>40</td>\n",
       "      <td>3</td>\n",
       "      <td>367</td>\n",
       "      <td>Editorial Material</td>\n",
       "    </tr>\n",
       "    <tr>\n",
       "      <th>000071723600004</th>\n",
       "      <td>Ambiguity in measurement</td>\n",
       "      <td>SCIENTOMETRICS</td>\n",
       "      <td>1997</td>\n",
       "      <td>40</td>\n",
       "      <td>3</td>\n",
       "      <td>369</td>\n",
       "      <td>Article; Proceedings Paper</td>\n",
       "    </tr>\n",
       "    <tr>\n",
       "      <th>000071723600005</th>\n",
       "      <td>Cross-national comparison of Frontier areas of...</td>\n",
       "      <td>SCIENTOMETRICS</td>\n",
       "      <td>1997</td>\n",
       "      <td>40</td>\n",
       "      <td>3</td>\n",
       "      <td>385</td>\n",
       "      <td>Article; Proceedings Paper</td>\n",
       "    </tr>\n",
       "    <tr>\n",
       "      <th>...</th>\n",
       "      <td>...</td>\n",
       "      <td>...</td>\n",
       "      <td>...</td>\n",
       "      <td>...</td>\n",
       "      <td>...</td>\n",
       "      <td>...</td>\n",
       "      <td>...</td>\n",
       "    </tr>\n",
       "    <tr>\n",
       "      <th>A1997YH07800003</th>\n",
       "      <td>View from afar: 'visible' productivity of scie...</td>\n",
       "      <td>SCIENTOMETRICS</td>\n",
       "      <td>1997</td>\n",
       "      <td>40</td>\n",
       "      <td>2</td>\n",
       "      <td>215</td>\n",
       "      <td>Article</td>\n",
       "    </tr>\n",
       "    <tr>\n",
       "      <th>A1997YH07800004</th>\n",
       "      <td>Mapping the social and behavioral sciences wor...</td>\n",
       "      <td>SCIENTOMETRICS</td>\n",
       "      <td>1997</td>\n",
       "      <td>40</td>\n",
       "      <td>2</td>\n",
       "      <td>237</td>\n",
       "      <td>Article</td>\n",
       "    </tr>\n",
       "    <tr>\n",
       "      <th>A1997YH07800005</th>\n",
       "      <td>International publication patterns in social s...</td>\n",
       "      <td>SCIENTOMETRICS</td>\n",
       "      <td>1997</td>\n",
       "      <td>40</td>\n",
       "      <td>2</td>\n",
       "      <td>277</td>\n",
       "      <td>Article</td>\n",
       "    </tr>\n",
       "    <tr>\n",
       "      <th>A1997YH07800006</th>\n",
       "      <td>Cognitive determinants of risk perceptions ass...</td>\n",
       "      <td>SCIENTOMETRICS</td>\n",
       "      <td>1997</td>\n",
       "      <td>40</td>\n",
       "      <td>2</td>\n",
       "      <td>299</td>\n",
       "      <td>Article</td>\n",
       "    </tr>\n",
       "    <tr>\n",
       "      <th>A1997YH07800007</th>\n",
       "      <td>A scientometric approach to autism based on tr...</td>\n",
       "      <td>SCIENTOMETRICS</td>\n",
       "      <td>1997</td>\n",
       "      <td>40</td>\n",
       "      <td>2</td>\n",
       "      <td>333</td>\n",
       "      <td>Article</td>\n",
       "    </tr>\n",
       "  </tbody>\n",
       "</table>\n",
       "<p>5144 rows × 7 columns</p>\n",
       "</div>"
      ],
      "text/plain": [
       "                                                             Title  ...                  TimesCited\n",
       "UT                                                                  ...                            \n",
       "000071723600001  Comments on Belver C. Griffith, recipient of t...  ...           Biographical-Item\n",
       "000071723600002  Comments on John Irvine and Ben R. Martin, rec...  ...          Editorial Material\n",
       "000071723600003         From the opening address of the conference  ...          Editorial Material\n",
       "000071723600004                           Ambiguity in measurement  ...  Article; Proceedings Paper\n",
       "000071723600005  Cross-national comparison of Frontier areas of...  ...  Article; Proceedings Paper\n",
       "...                                                            ...  ...                         ...\n",
       "A1997YH07800003  View from afar: 'visible' productivity of scie...  ...                     Article\n",
       "A1997YH07800004  Mapping the social and behavioral sciences wor...  ...                     Article\n",
       "A1997YH07800005  International publication patterns in social s...  ...                     Article\n",
       "A1997YH07800006  Cognitive determinants of risk perceptions ass...  ...                     Article\n",
       "A1997YH07800007  A scientometric approach to autism based on tr...  ...                     Article\n",
       "\n",
       "[5144 rows x 7 columns]"
      ]
     },
     "execution_count": 27,
     "metadata": {
      "tags": []
     },
     "output_type": "execute_result"
    }
   ],
   "source": [
    "pubs"
   ]
  }
 ],
 "metadata": {
  "colab": {
   "name": "Exercise Session 3 _ Task 1.ipynb",
   "provenance": []
  },
  "kernelspec": {
   "display_name": "Python 3 (ipykernel)",
   "language": "python",
   "name": "python3"
  },
  "language_info": {
   "codemirror_mode": {
    "name": "ipython",
    "version": 3
   },
   "file_extension": ".py",
   "mimetype": "text/x-python",
   "name": "python",
   "nbconvert_exporter": "python",
   "pygments_lexer": "ipython3",
   "version": "3.9.7"
  }
 },
 "nbformat": 4,
 "nbformat_minor": 4
}

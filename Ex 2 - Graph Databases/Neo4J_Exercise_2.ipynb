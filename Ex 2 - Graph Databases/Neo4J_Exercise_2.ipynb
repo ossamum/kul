{
 "cells": [
  {
   "cell_type": "code",
   "execution_count": 4,
   "metadata": {
    "ExecuteTime": {
     "end_time": "2022-03-25T08:46:56.767510Z",
     "start_time": "2022-03-25T08:46:41.962731Z"
    },
    "id": "NOOrv3lAFlUe"
   },
   "outputs": [
    {
     "name": "stdout",
     "output_type": "stream",
     "text": [
      "Requirement already satisfied: neo4j in c:\\users\\bairesdev\\anaconda3\\lib\\site-packages (4.4.2)\n",
      "Requirement already satisfied: pytz in c:\\users\\bairesdev\\anaconda3\\lib\\site-packages (from neo4j) (2021.1)\n",
      "Requirement already satisfied: python-igraph in c:\\users\\bairesdev\\anaconda3\\lib\\site-packages (0.9.9)\n",
      "Requirement already satisfied: igraph==0.9.9 in c:\\users\\bairesdev\\anaconda3\\lib\\site-packages (from python-igraph) (0.9.9)\n",
      "Requirement already satisfied: texttable>=1.6.2 in c:\\users\\bairesdev\\anaconda3\\lib\\site-packages (from igraph==0.9.9->python-igraph) (1.6.4)\n",
      "Requirement already satisfied: easygui in c:\\users\\bairesdev\\anaconda3\\lib\\site-packages (0.98.2)\n",
      "Requirement already satisfied: cairocffi in c:\\users\\bairesdev\\anaconda3\\lib\\site-packages (1.3.0)\n",
      "Requirement already satisfied: cffi>=1.1.0 in c:\\users\\bairesdev\\anaconda3\\lib\\site-packages (from cairocffi) (1.14.5)\n",
      "Requirement already satisfied: pycparser in c:\\users\\bairesdev\\anaconda3\\lib\\site-packages (from cffi>=1.1.0->cairocffi) (2.20)\n"
     ]
    }
   ],
   "source": [
    "!pip install neo4j\n",
    "!pip install python-igraph\n",
    "!pip install easygui\n",
    "!pip install cairocffi"
   ]
  },
  {
   "cell_type": "code",
   "execution_count": 1,
   "metadata": {
    "ExecuteTime": {
     "end_time": "2022-03-25T08:57:34.028255Z",
     "start_time": "2022-03-25T08:57:33.745605Z"
    },
    "id": "5MVjllO5Fcip"
   },
   "outputs": [
    {
     "ename": "OSError",
     "evalue": "no library called \"cairo-2\" was found\nno library called \"cairo\" was found\nno library called \"libcairo-2\" was found\ncannot load library 'libcairo.so.2': error 0x7e\ncannot load library 'libcairo.2.dylib': error 0x7e\ncannot load library 'libcairo-2.dll': error 0x7e",
     "output_type": "error",
     "traceback": [
      "\u001b[1;31m---------------------------------------------------------------------------\u001b[0m",
      "\u001b[1;31mOSError\u001b[0m                                   Traceback (most recent call last)",
      "\u001b[1;32m<ipython-input-1-b7032a854ebe>\u001b[0m in \u001b[0;36m<module>\u001b[1;34m\u001b[0m\n\u001b[0;32m      1\u001b[0m \u001b[1;32mfrom\u001b[0m \u001b[0mneo4j\u001b[0m \u001b[1;32mimport\u001b[0m \u001b[0mGraphDatabase\u001b[0m\u001b[1;33m\u001b[0m\u001b[1;33m\u001b[0m\u001b[0m\n\u001b[1;32m----> 2\u001b[1;33m \u001b[1;32mimport\u001b[0m \u001b[0migraph\u001b[0m \u001b[1;32mas\u001b[0m \u001b[0mig\u001b[0m\u001b[1;33m\u001b[0m\u001b[1;33m\u001b[0m\u001b[0m\n\u001b[0m",
      "\u001b[1;32m~\\Anaconda3\\lib\\site-packages\\igraph\\__init__.py\u001b[0m in \u001b[0;36m<module>\u001b[1;34m\u001b[0m\n\u001b[0;32m     77\u001b[0m     \u001b[0m__igraph_version__\u001b[0m\u001b[1;33m\u001b[0m\u001b[1;33m\u001b[0m\u001b[0m\n\u001b[0;32m     78\u001b[0m )\n\u001b[1;32m---> 79\u001b[1;33m from igraph.clustering import (\n\u001b[0m\u001b[0;32m     80\u001b[0m     \u001b[0mClustering\u001b[0m\u001b[1;33m,\u001b[0m\u001b[1;33m\u001b[0m\u001b[1;33m\u001b[0m\u001b[0m\n\u001b[0;32m     81\u001b[0m     \u001b[0mVertexClustering\u001b[0m\u001b[1;33m,\u001b[0m\u001b[1;33m\u001b[0m\u001b[1;33m\u001b[0m\u001b[0m\n",
      "\u001b[1;32m~\\Anaconda3\\lib\\site-packages\\igraph\\clustering.py\u001b[0m in \u001b[0;36m<module>\u001b[1;34m\u001b[0m\n\u001b[0;32m     10\u001b[0m \u001b[1;32mfrom\u001b[0m \u001b[0migraph\u001b[0m\u001b[1;33m.\u001b[0m\u001b[0mconfiguration\u001b[0m \u001b[1;32mimport\u001b[0m \u001b[0mConfiguration\u001b[0m\u001b[1;33m\u001b[0m\u001b[1;33m\u001b[0m\u001b[0m\n\u001b[0;32m     11\u001b[0m \u001b[1;32mfrom\u001b[0m \u001b[0migraph\u001b[0m\u001b[1;33m.\u001b[0m\u001b[0mdatatypes\u001b[0m \u001b[1;32mimport\u001b[0m \u001b[0mUniqueIdGenerator\u001b[0m\u001b[1;33m\u001b[0m\u001b[1;33m\u001b[0m\u001b[0m\n\u001b[1;32m---> 12\u001b[1;33m \u001b[1;32mfrom\u001b[0m \u001b[0migraph\u001b[0m\u001b[1;33m.\u001b[0m\u001b[0mdrawing\u001b[0m\u001b[1;33m.\u001b[0m\u001b[0mcolors\u001b[0m \u001b[1;32mimport\u001b[0m \u001b[0mClusterColoringPalette\u001b[0m\u001b[1;33m\u001b[0m\u001b[1;33m\u001b[0m\u001b[0m\n\u001b[0m\u001b[0;32m     13\u001b[0m \u001b[1;32mfrom\u001b[0m \u001b[0migraph\u001b[0m\u001b[1;33m.\u001b[0m\u001b[0mstatistics\u001b[0m \u001b[1;32mimport\u001b[0m \u001b[0mHistogram\u001b[0m\u001b[1;33m\u001b[0m\u001b[1;33m\u001b[0m\u001b[0m\n\u001b[0;32m     14\u001b[0m \u001b[1;32mfrom\u001b[0m \u001b[0migraph\u001b[0m\u001b[1;33m.\u001b[0m\u001b[0msummary\u001b[0m \u001b[1;32mimport\u001b[0m \u001b[0m_get_wrapper_for_width\u001b[0m\u001b[1;33m\u001b[0m\u001b[1;33m\u001b[0m\u001b[0m\n",
      "\u001b[1;32m~\\Anaconda3\\lib\\site-packages\\igraph\\drawing\\__init__.py\u001b[0m in \u001b[0;36m<module>\u001b[1;34m\u001b[0m\n\u001b[0;32m     26\u001b[0m \u001b[1;32mfrom\u001b[0m \u001b[0migraph\u001b[0m\u001b[1;33m.\u001b[0m\u001b[0mconfiguration\u001b[0m \u001b[1;32mimport\u001b[0m \u001b[0mConfiguration\u001b[0m\u001b[1;33m\u001b[0m\u001b[1;33m\u001b[0m\u001b[0m\n\u001b[0;32m     27\u001b[0m \u001b[1;32mfrom\u001b[0m \u001b[0migraph\u001b[0m\u001b[1;33m.\u001b[0m\u001b[0mdrawing\u001b[0m\u001b[1;33m.\u001b[0m\u001b[0mcolors\u001b[0m \u001b[1;32mimport\u001b[0m \u001b[0mPalette\u001b[0m\u001b[1;33m,\u001b[0m \u001b[0mpalettes\u001b[0m\u001b[1;33m\u001b[0m\u001b[1;33m\u001b[0m\u001b[0m\n\u001b[1;32m---> 28\u001b[1;33m \u001b[1;32mfrom\u001b[0m \u001b[0migraph\u001b[0m\u001b[1;33m.\u001b[0m\u001b[0mdrawing\u001b[0m\u001b[1;33m.\u001b[0m\u001b[0mgraph\u001b[0m \u001b[1;32mimport\u001b[0m \u001b[0mDefaultGraphDrawer\u001b[0m\u001b[1;33m,\u001b[0m \u001b[0mMatplotlibGraphDrawer\u001b[0m\u001b[1;33m\u001b[0m\u001b[1;33m\u001b[0m\u001b[0m\n\u001b[0m\u001b[0;32m     29\u001b[0m from igraph.drawing.utils import (\n\u001b[0;32m     30\u001b[0m     \u001b[0mBoundingBox\u001b[0m\u001b[1;33m,\u001b[0m\u001b[1;33m\u001b[0m\u001b[1;33m\u001b[0m\u001b[0m\n",
      "\u001b[1;32m~\\Anaconda3\\lib\\site-packages\\igraph\\drawing\\graph.py\u001b[0m in \u001b[0;36m<module>\u001b[1;34m\u001b[0m\n\u001b[0;32m     25\u001b[0m )\n\u001b[0;32m     26\u001b[0m \u001b[1;32mfrom\u001b[0m \u001b[0migraph\u001b[0m\u001b[1;33m.\u001b[0m\u001b[0mdrawing\u001b[0m\u001b[1;33m.\u001b[0m\u001b[0mcolors\u001b[0m \u001b[1;32mimport\u001b[0m \u001b[0mcolor_to_html_format\u001b[0m\u001b[1;33m,\u001b[0m \u001b[0mcolor_name_to_rgb\u001b[0m\u001b[1;33m\u001b[0m\u001b[1;33m\u001b[0m\u001b[0m\n\u001b[1;32m---> 27\u001b[1;33m \u001b[1;32mfrom\u001b[0m \u001b[0migraph\u001b[0m\u001b[1;33m.\u001b[0m\u001b[0mdrawing\u001b[0m\u001b[1;33m.\u001b[0m\u001b[0medge\u001b[0m \u001b[1;32mimport\u001b[0m \u001b[0mArrowEdgeDrawer\u001b[0m\u001b[1;33m\u001b[0m\u001b[1;33m\u001b[0m\u001b[0m\n\u001b[0m\u001b[0;32m     28\u001b[0m \u001b[1;32mfrom\u001b[0m \u001b[0migraph\u001b[0m\u001b[1;33m.\u001b[0m\u001b[0mdrawing\u001b[0m\u001b[1;33m.\u001b[0m\u001b[0mtext\u001b[0m \u001b[1;32mimport\u001b[0m \u001b[0mTextAlignment\u001b[0m\u001b[1;33m,\u001b[0m \u001b[0mTextDrawer\u001b[0m\u001b[1;33m\u001b[0m\u001b[1;33m\u001b[0m\u001b[0m\n\u001b[0;32m     29\u001b[0m \u001b[1;32mfrom\u001b[0m \u001b[0migraph\u001b[0m\u001b[1;33m.\u001b[0m\u001b[0mdrawing\u001b[0m\u001b[1;33m.\u001b[0m\u001b[0mmetamagic\u001b[0m \u001b[1;32mimport\u001b[0m \u001b[0mAttributeCollectorBase\u001b[0m\u001b[1;33m\u001b[0m\u001b[1;33m\u001b[0m\u001b[0m\n",
      "\u001b[1;32m~\\Anaconda3\\lib\\site-packages\\igraph\\drawing\\edge.py\u001b[0m in \u001b[0;36m<module>\u001b[1;34m\u001b[0m\n\u001b[0;32m     18\u001b[0m \u001b[1;32mfrom\u001b[0m \u001b[0mmath\u001b[0m \u001b[1;32mimport\u001b[0m \u001b[0matan2\u001b[0m\u001b[1;33m,\u001b[0m \u001b[0mcos\u001b[0m\u001b[1;33m,\u001b[0m \u001b[0mpi\u001b[0m\u001b[1;33m,\u001b[0m \u001b[0msin\u001b[0m\u001b[1;33m,\u001b[0m \u001b[0msqrt\u001b[0m\u001b[1;33m\u001b[0m\u001b[1;33m\u001b[0m\u001b[0m\n\u001b[0;32m     19\u001b[0m \u001b[1;33m\u001b[0m\u001b[0m\n\u001b[1;32m---> 20\u001b[1;33m \u001b[0mcairo\u001b[0m \u001b[1;33m=\u001b[0m \u001b[0mfind_cairo\u001b[0m\u001b[1;33m(\u001b[0m\u001b[1;33m)\u001b[0m\u001b[1;33m\u001b[0m\u001b[1;33m\u001b[0m\u001b[0m\n\u001b[0m\u001b[0;32m     21\u001b[0m \u001b[1;33m\u001b[0m\u001b[0m\n\u001b[0;32m     22\u001b[0m \u001b[1;32mclass\u001b[0m \u001b[0mAbstractEdgeDrawer\u001b[0m\u001b[1;33m:\u001b[0m\u001b[1;33m\u001b[0m\u001b[1;33m\u001b[0m\u001b[0m\n",
      "\u001b[1;32m~\\Anaconda3\\lib\\site-packages\\igraph\\drawing\\utils.py\u001b[0m in \u001b[0;36mfind_cairo\u001b[1;34m()\u001b[0m\n\u001b[0;32m    436\u001b[0m     \u001b[1;32mfor\u001b[0m \u001b[0mmodule_name\u001b[0m \u001b[1;32min\u001b[0m \u001b[0mmodule_names\u001b[0m\u001b[1;33m:\u001b[0m\u001b[1;33m\u001b[0m\u001b[1;33m\u001b[0m\u001b[0m\n\u001b[0;32m    437\u001b[0m         \u001b[1;32mtry\u001b[0m\u001b[1;33m:\u001b[0m\u001b[1;33m\u001b[0m\u001b[1;33m\u001b[0m\u001b[0m\n\u001b[1;32m--> 438\u001b[1;33m             \u001b[0mmodule\u001b[0m \u001b[1;33m=\u001b[0m \u001b[0m__import__\u001b[0m\u001b[1;33m(\u001b[0m\u001b[0mmodule_name\u001b[0m\u001b[1;33m)\u001b[0m\u001b[1;33m\u001b[0m\u001b[1;33m\u001b[0m\u001b[0m\n\u001b[0m\u001b[0;32m    439\u001b[0m             \u001b[1;32mbreak\u001b[0m\u001b[1;33m\u001b[0m\u001b[1;33m\u001b[0m\u001b[0m\n\u001b[0;32m    440\u001b[0m         \u001b[1;32mexcept\u001b[0m \u001b[0mImportError\u001b[0m\u001b[1;33m:\u001b[0m\u001b[1;33m\u001b[0m\u001b[1;33m\u001b[0m\u001b[0m\n",
      "\u001b[1;32m~\\Anaconda3\\lib\\site-packages\\cairocffi\\__init__.py\u001b[0m in \u001b[0;36m<module>\u001b[1;34m\u001b[0m\n\u001b[0;32m     46\u001b[0m \u001b[1;33m\u001b[0m\u001b[0m\n\u001b[0;32m     47\u001b[0m \u001b[1;33m\u001b[0m\u001b[0m\n\u001b[1;32m---> 48\u001b[1;33m cairo = dlopen(\n\u001b[0m\u001b[0;32m     49\u001b[0m     \u001b[0mffi\u001b[0m\u001b[1;33m,\u001b[0m \u001b[1;33m(\u001b[0m\u001b[1;34m'cairo-2'\u001b[0m\u001b[1;33m,\u001b[0m \u001b[1;34m'cairo'\u001b[0m\u001b[1;33m,\u001b[0m \u001b[1;34m'libcairo-2'\u001b[0m\u001b[1;33m)\u001b[0m\u001b[1;33m,\u001b[0m\u001b[1;33m\u001b[0m\u001b[1;33m\u001b[0m\u001b[0m\n\u001b[0;32m     50\u001b[0m     ('libcairo.so.2', 'libcairo.2.dylib', 'libcairo-2.dll'))\n",
      "\u001b[1;32m~\\Anaconda3\\lib\\site-packages\\cairocffi\\__init__.py\u001b[0m in \u001b[0;36mdlopen\u001b[1;34m(ffi, library_names, filenames)\u001b[0m\n\u001b[0;32m     43\u001b[0m     error_message = '\\n'.join(  # pragma: no cover\n\u001b[0;32m     44\u001b[0m         str(exception) for exception in exceptions)\n\u001b[1;32m---> 45\u001b[1;33m     \u001b[1;32mraise\u001b[0m \u001b[0mOSError\u001b[0m\u001b[1;33m(\u001b[0m\u001b[0merror_message\u001b[0m\u001b[1;33m)\u001b[0m  \u001b[1;31m# pragma: no cover\u001b[0m\u001b[1;33m\u001b[0m\u001b[1;33m\u001b[0m\u001b[0m\n\u001b[0m\u001b[0;32m     46\u001b[0m \u001b[1;33m\u001b[0m\u001b[0m\n\u001b[0;32m     47\u001b[0m \u001b[1;33m\u001b[0m\u001b[0m\n",
      "\u001b[1;31mOSError\u001b[0m: no library called \"cairo-2\" was found\nno library called \"cairo\" was found\nno library called \"libcairo-2\" was found\ncannot load library 'libcairo.so.2': error 0x7e\ncannot load library 'libcairo.2.dylib': error 0x7e\ncannot load library 'libcairo-2.dll': error 0x7e"
     ]
    }
   ],
   "source": [
    "from neo4j import GraphDatabase\n",
    "import igraph as ig"
   ]
  },
  {
   "cell_type": "code",
   "execution_count": 2,
   "metadata": {
    "ExecuteTime": {
     "end_time": "2022-03-25T08:57:53.935373Z",
     "start_time": "2022-03-25T08:57:53.911343Z"
    }
   },
   "outputs": [
    {
     "ename": "OSError",
     "evalue": "no library called \"cairo-2\" was found\nno library called \"cairo\" was found\nno library called \"libcairo-2\" was found\ncannot load library 'libcairo.so.2': error 0x7e\ncannot load library 'libcairo.2.dylib': error 0x7e\ncannot load library 'libcairo-2.dll': error 0x7e",
     "output_type": "error",
     "traceback": [
      "\u001b[1;31m---------------------------------------------------------------------------\u001b[0m",
      "\u001b[1;31mOSError\u001b[0m                                   Traceback (most recent call last)",
      "\u001b[1;32m<ipython-input-2-96ebef1e386c>\u001b[0m in \u001b[0;36m<module>\u001b[1;34m\u001b[0m\n\u001b[1;32m----> 1\u001b[1;33m \u001b[1;32mimport\u001b[0m \u001b[0mcairocffi\u001b[0m\u001b[1;33m\u001b[0m\u001b[1;33m\u001b[0m\u001b[0m\n\u001b[0m",
      "\u001b[1;32m~\\Anaconda3\\lib\\site-packages\\cairocffi\\__init__.py\u001b[0m in \u001b[0;36m<module>\u001b[1;34m\u001b[0m\n\u001b[0;32m     46\u001b[0m \u001b[1;33m\u001b[0m\u001b[0m\n\u001b[0;32m     47\u001b[0m \u001b[1;33m\u001b[0m\u001b[0m\n\u001b[1;32m---> 48\u001b[1;33m cairo = dlopen(\n\u001b[0m\u001b[0;32m     49\u001b[0m     \u001b[0mffi\u001b[0m\u001b[1;33m,\u001b[0m \u001b[1;33m(\u001b[0m\u001b[1;34m'cairo-2'\u001b[0m\u001b[1;33m,\u001b[0m \u001b[1;34m'cairo'\u001b[0m\u001b[1;33m,\u001b[0m \u001b[1;34m'libcairo-2'\u001b[0m\u001b[1;33m)\u001b[0m\u001b[1;33m,\u001b[0m\u001b[1;33m\u001b[0m\u001b[1;33m\u001b[0m\u001b[0m\n\u001b[0;32m     50\u001b[0m     ('libcairo.so.2', 'libcairo.2.dylib', 'libcairo-2.dll'))\n",
      "\u001b[1;32m~\\Anaconda3\\lib\\site-packages\\cairocffi\\__init__.py\u001b[0m in \u001b[0;36mdlopen\u001b[1;34m(ffi, library_names, filenames)\u001b[0m\n\u001b[0;32m     43\u001b[0m     error_message = '\\n'.join(  # pragma: no cover\n\u001b[0;32m     44\u001b[0m         str(exception) for exception in exceptions)\n\u001b[1;32m---> 45\u001b[1;33m     \u001b[1;32mraise\u001b[0m \u001b[0mOSError\u001b[0m\u001b[1;33m(\u001b[0m\u001b[0merror_message\u001b[0m\u001b[1;33m)\u001b[0m  \u001b[1;31m# pragma: no cover\u001b[0m\u001b[1;33m\u001b[0m\u001b[1;33m\u001b[0m\u001b[0m\n\u001b[0m\u001b[0;32m     46\u001b[0m \u001b[1;33m\u001b[0m\u001b[0m\n\u001b[0;32m     47\u001b[0m \u001b[1;33m\u001b[0m\u001b[0m\n",
      "\u001b[1;31mOSError\u001b[0m: no library called \"cairo-2\" was found\nno library called \"cairo\" was found\nno library called \"libcairo-2\" was found\ncannot load library 'libcairo.so.2': error 0x7e\ncannot load library 'libcairo.2.dylib': error 0x7e\ncannot load library 'libcairo-2.dll': error 0x7e"
     ]
    }
   ],
   "source": [
    "import cairocffi"
   ]
  },
  {
   "cell_type": "code",
   "execution_count": null,
   "metadata": {},
   "outputs": [],
   "source": []
  },
  {
   "cell_type": "code",
   "execution_count": null,
   "metadata": {},
   "outputs": [],
   "source": []
  },
  {
   "cell_type": "code",
   "execution_count": null,
   "metadata": {
    "ExecuteTime": {
     "end_time": "2022-03-25T08:46:12.109345Z",
     "start_time": "2022-03-25T08:46:11.821Z"
    },
    "id": "GJ5v3-ezFci2"
   },
   "outputs": [],
   "source": [
    "driver=GraphDatabase.driver(\"bolt://3.72.36.113:7687\",\n",
    "                            auth=(\"neo4j\", \"ALSSNExercise2\"),\n",
    "                            encrypted = False)\n",
    "session = driver.session()"
   ]
  },
  {
   "cell_type": "code",
   "execution_count": null,
   "metadata": {
    "id": "wXeeTg68FcjB"
   },
   "outputs": [],
   "source": [
    "results = session.run(\"MATCH (n)-[r]-() RETURN count(distinct n) + count(distinct r) as cnt\")\n",
    "\n",
    "for result in results:\n",
    "    print(result[\"cnt\"])\n",
    "    print(result)"
   ]
  },
  {
   "cell_type": "code",
   "execution_count": 5,
   "metadata": {
    "id": "vI5Fkd5TFcjV"
   },
   "outputs": [],
   "source": [
    "edges = list()\n",
    "edge_w = list()\n",
    "vertices = set()\n",
    "\n",
    "results = session.run(\"match (n:Stop)<-[:PART_OF]-(:Stop)-[:LOCATED_AT]-(s:Stoptime)-[:PART_OF_TRIP]-(t:Trip {}) \"\\\n",
    "  \"-[:PART_OF_TRIP]-(:Stoptime)-[:LOCATED_AT]-(:Stop)-[:PART_OF]->(m:Stop) \"\\\n",
    "  \"where n.id<>m.id and t.id starts with 'IC'\"\\\n",
    "  \"return n,m, count(s) as cnt\")\n",
    "g = ig.Graph()\n",
    "\n",
    "for result in results:\n",
    "  vertices.add(str(result[\"n\"][\"name\"]))\n",
    "  vertices.add(str(result[\"m\"][\"name\"]))\n",
    "  edges.append([str(result[\"n\"][\"name\"]), str(result[\"m\"][\"name\"])])\n",
    "  edge_w.append(1/result[\"cnt\"])\n",
    "\n",
    "g.add_vertices(list(vertices))\n",
    "g.add_edges(edges)\n",
    "g.es[\"weight\"]=edge_w"
   ]
  },
  {
   "cell_type": "code",
   "execution_count": null,
   "metadata": {
    "id": "wp8hEuqoaNiR"
   },
   "outputs": [],
   "source": [
    "print(g.is_weighted())\n",
    "print(g.ecount())"
   ]
  },
  {
   "cell_type": "code",
   "execution_count": null,
   "metadata": {
    "id": "J2ADJeH6SWf2"
   },
   "outputs": [],
   "source": [
    "\n",
    "# Calculate layout\n",
    "layout_fr = g.layout(\"fr\")\n",
    "\n",
    "#Define style from network plotting\n",
    "visual_style = {}\n",
    "visual_style[\"vertex_size\"] = 1\n",
    "visual_style[\"vertex_label_size\"]=5\n",
    "visual_style[\"vertex_color\"] = \"red\"\n",
    "visual_style[\"vertex_label\"] = g.vs[\"name\"]\n",
    "visual_style[\"layout\"] = layout_fr\n",
    "visual_style[\"bbox\"] = (1200, 800)\n",
    "visual_style[\"margin\"] = 10\n",
    "\n",
    "ig.plot(g, **visual_style)"
   ]
  }
 ],
 "metadata": {
  "colab": {
   "name": "Neo4J.ipynb",
   "provenance": []
  },
  "hide_input": false,
  "kernelspec": {
   "display_name": "Python 3",
   "language": "python",
   "name": "python3"
  },
  "language_info": {
   "codemirror_mode": {
    "name": "ipython",
    "version": 3
   },
   "file_extension": ".py",
   "mimetype": "text/x-python",
   "name": "python",
   "nbconvert_exporter": "python",
   "pygments_lexer": "ipython3",
   "version": "3.8.8"
  },
  "toc": {
   "base_numbering": 1,
   "nav_menu": {},
   "number_sections": true,
   "sideBar": true,
   "skip_h1_title": false,
   "title_cell": "Table of Contents",
   "title_sidebar": "Contents",
   "toc_cell": false,
   "toc_position": {},
   "toc_section_display": true,
   "toc_window_display": false
  },
  "varInspector": {
   "cols": {
    "lenName": 16,
    "lenType": 16,
    "lenVar": 40
   },
   "kernels_config": {
    "python": {
     "delete_cmd_postfix": "",
     "delete_cmd_prefix": "del ",
     "library": "var_list.py",
     "varRefreshCmd": "print(var_dic_list())"
    },
    "r": {
     "delete_cmd_postfix": ") ",
     "delete_cmd_prefix": "rm(",
     "library": "var_list.r",
     "varRefreshCmd": "cat(var_dic_list()) "
    }
   },
   "types_to_exclude": [
    "module",
    "function",
    "builtin_function_or_method",
    "instance",
    "_Feature"
   ],
   "window_display": false
  }
 },
 "nbformat": 4,
 "nbformat_minor": 1
}

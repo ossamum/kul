{
 "cells": [
  {
   "cell_type": "markdown",
   "id": "2b51dadc-06bd-4dc2-b4e0-9f1be81979c5",
   "metadata": {
    "id": "2b51dadc-06bd-4dc2-b4e0-9f1be81979c5"
   },
   "source": [
    "## Considerations"
   ]
  },
  {
   "cell_type": "markdown",
   "id": "a9bf5d3e-8af8-42bc-9966-5951f7bb8f3d",
   "metadata": {
    "id": "a9bf5d3e-8af8-42bc-9966-5951f7bb8f3d"
   },
   "source": [
    "Dataset extracted from https://snap.stanford.edu/data/amazon0302.html\n",
    "- Amazon network https://snap.stanford.edu/data/amazon0302.html\n",
    "- Metadata https://snap.stanford.edu/data/amazon-meta.html"
   ]
  },
  {
   "cell_type": "code",
   "execution_count": null,
   "id": "BvkQyyB-DgXS",
   "metadata": {
    "colab": {
     "base_uri": "https://localhost:8080/"
    },
    "executionInfo": {
     "elapsed": 30620,
     "status": "ok",
     "timestamp": 1653654008371,
     "user": {
      "displayName": "Loris Gallo",
      "userId": "14447363834039898355"
     },
     "user_tz": -120
    },
    "id": "BvkQyyB-DgXS",
    "outputId": "391a083b-59e3-4c44-8dd1-e326c88ed6bb"
   },
   "outputs": [
    {
     "name": "stdout",
     "output_type": "stream",
     "text": [
      "Mounted at /content/drive\n"
     ]
    }
   ],
   "source": [
    "from google.colab import drive\n",
    "drive.mount('/content/drive')"
   ]
  },
  {
   "cell_type": "code",
   "execution_count": null,
   "id": "bOwYQ1dvqDXP",
   "metadata": {
    "colab": {
     "base_uri": "https://localhost:8080/"
    },
    "executionInfo": {
     "elapsed": 23041,
     "status": "ok",
     "timestamp": 1653654031410,
     "user": {
      "displayName": "Loris Gallo",
      "userId": "14447363834039898355"
     },
     "user_tz": -120
    },
    "id": "bOwYQ1dvqDXP",
    "outputId": "0ca2db2b-3acb-4159-a2f7-53f289a22764"
   },
   "outputs": [
    {
     "name": "stdout",
     "output_type": "stream",
     "text": [
      "Looking in indexes: https://pypi.org/simple, https://us-python.pkg.dev/colab-wheels/public/simple/\n",
      "Collecting python-igraph==0.9.6\n",
      "  Downloading python_igraph-0.9.6-cp37-cp37m-manylinux2010_x86_64.whl (3.2 MB)\n",
      "\u001b[K     |████████████████████████████████| 3.2 MB 7.1 MB/s \n",
      "\u001b[?25hCollecting texttable>=1.6.2\n",
      "  Downloading texttable-1.6.4-py2.py3-none-any.whl (10 kB)\n",
      "Installing collected packages: texttable, python-igraph\n",
      "Successfully installed python-igraph-0.9.6 texttable-1.6.4\n",
      "Looking in indexes: https://pypi.org/simple, https://us-python.pkg.dev/colab-wheels/public/simple/\n",
      "Collecting cairocffi\n",
      "  Downloading cairocffi-1.3.0.tar.gz (88 kB)\n",
      "\u001b[K     |████████████████████████████████| 88 kB 2.5 MB/s \n",
      "\u001b[?25hRequirement already satisfied: cffi>=1.1.0 in /usr/local/lib/python3.7/dist-packages (from cairocffi) (1.15.0)\n",
      "Requirement already satisfied: pycparser in /usr/local/lib/python3.7/dist-packages (from cffi>=1.1.0->cairocffi) (2.21)\n",
      "Building wheels for collected packages: cairocffi\n",
      "  Building wheel for cairocffi (setup.py) ... \u001b[?25l\u001b[?25hdone\n",
      "  Created wheel for cairocffi: filename=cairocffi-1.3.0-py3-none-any.whl size=89668 sha256=739d984fc8fc9105154d9b8e98e38bb15a30af503e0e4c08be6b27e1cbd7faa3\n",
      "  Stored in directory: /root/.cache/pip/wheels/4e/ca/e1/5c8a9692a27f639a07c949044bec943f26c81cd53d3805319f\n",
      "Successfully built cairocffi\n",
      "Installing collected packages: cairocffi\n",
      "Successfully installed cairocffi-1.3.0\n"
     ]
    }
   ],
   "source": [
    "!pip install python-igraph==0.9.6\n",
    "!pip install cairocffi"
   ]
  },
  {
   "cell_type": "markdown",
   "id": "6f5a7a29-3bd7-4a18-8591-ef3af934ebe3",
   "metadata": {
    "id": "6f5a7a29-3bd7-4a18-8591-ef3af934ebe3"
   },
   "source": [
    "## Importings"
   ]
  },
  {
   "cell_type": "code",
   "execution_count": null,
   "id": "8b541865",
   "metadata": {
    "id": "8b541865"
   },
   "outputs": [],
   "source": [
    "import pandas as pd\n",
    "import numpy as np\n",
    "import os\n",
    "from tqdm import tqdm\n",
    "import matplotlib.pyplot as plt\n",
    "import seaborn as sns\n",
    "import igraph as ig\n",
    "import time\n",
    "import itertools\n",
    "import warnings\n",
    "import pickle\n",
    "\n",
    "warnings.filterwarnings('ignore')"
   ]
  },
  {
   "cell_type": "markdown",
   "id": "657f646d-1bad-4ab8-a9ad-0b7d97c5f7a0",
   "metadata": {
    "id": "657f646d-1bad-4ab8-a9ad-0b7d97c5f7a0"
   },
   "source": [
    "## Dataset"
   ]
  },
  {
   "cell_type": "markdown",
   "id": "bf246da5-ca48-4f28-9813-39ba94bf0668",
   "metadata": {
    "id": "bf246da5-ca48-4f28-9813-39ba94bf0668"
   },
   "source": [
    "### Metadata"
   ]
  },
  {
   "cell_type": "markdown",
   "id": "42bbac43-3bbb-4956-8b00-16055dd982b1",
   "metadata": {
    "id": "42bbac43-3bbb-4956-8b00-16055dd982b1"
   },
   "source": [
    "Treating metadata and organizing into a pandas dataframe"
   ]
  },
  {
   "cell_type": "code",
   "execution_count": null,
   "id": "97bf4ebe-ca46-4851-961f-2eadefcf4499",
   "metadata": {
    "id": "97bf4ebe-ca46-4851-961f-2eadefcf4499"
   },
   "outputs": [],
   "source": [
    "# # read all lines of the meta data into content list\n",
    "# with open('amazon-meta.txt', encoding='utf8') as f:\n",
    "#     content = f.readlines()"
   ]
  },
  {
   "cell_type": "code",
   "execution_count": null,
   "id": "c3198b39-f5c4-472f-a82c-9708c459bdb5",
   "metadata": {
    "id": "c3198b39-f5c4-472f-a82c-9708c459bdb5"
   },
   "outputs": [],
   "source": [
    "# remove the beginning and trailing white spaces\n",
    "# content = [x.strip() for x in content]"
   ]
  },
  {
   "cell_type": "code",
   "execution_count": null,
   "id": "03edb96e-a933-4b7a-b55b-48371ec1825e",
   "metadata": {
    "id": "03edb96e-a933-4b7a-b55b-48371ec1825e"
   },
   "outputs": [],
   "source": [
    "# # Write extracted information to testfile.txt in a format of ',' demilited files.\n",
    "# # The columns are Id, title, group, categories, totalreviews, avgrating.\n",
    "# # The code stores all extracted information about a product into previoulines,\n",
    "# # and write the content into file only when all information are available. Hence,\n",
    "# # if review information for a product is not available, the product won't appear\n",
    "# # in the final file.\n",
    "# file = open(\"testfile.txt\",\"w\", encoding='utf8')\n",
    "# previouslines = ['Id', 'title', 'group', 'categories', 'totalreviews', 'avgrating']\n",
    "# for line in content:\n",
    "#     lines = line.split(':')\n",
    "#     if lines[0] == \"Id\":\n",
    "#         if (len(previouslines) == 6):\n",
    "#             for component in previouslines[0:5]:\n",
    "#                 file.write(component)\n",
    "#                 file.write(',')\n",
    "#             file.write(previouslines[5])\n",
    "#             file.write(\"\\n\")\n",
    "#         previouslines = []\n",
    "#         previouslines.append(lines[1].strip())\n",
    "        \n",
    "#     if lines[0] == \"title\":\n",
    "#         title = ':'.join(lines[1:]).strip().replace(',', ' ').replace('\\n', ' ').strip()\n",
    "#         previouslines.append(title)\n",
    "       \n",
    "#     if lines[0] == \"group\":\n",
    "#         previouslines.append(lines[1].strip())\n",
    "\n",
    "#     if lines[0] == \"categories\":\n",
    "#         previouslines.append(lines[1].strip())\n",
    "    \n",
    "#     if lines[0] == \"reviews\" and lines[1].strip() == \"total\":\n",
    "#         previouslines.append(lines[2].split(' ')[1])\n",
    "#         previouslines.append(lines[4].strip())\n",
    "# file.close()"
   ]
  },
  {
   "cell_type": "code",
   "execution_count": null,
   "id": "53860d35-eba4-4e21-822b-0ea0e5902d85",
   "metadata": {
    "id": "53860d35-eba4-4e21-822b-0ea0e5902d85"
   },
   "outputs": [],
   "source": [
    "# metadata\n",
    "desc = pd.read_csv('drive/MyDrive/testfile.txt')"
   ]
  },
  {
   "cell_type": "code",
   "execution_count": null,
   "id": "6d265e9f-49a4-456d-9641-1639b459b7b8",
   "metadata": {
    "colab": {
     "base_uri": "https://localhost:8080/",
     "height": 206
    },
    "executionInfo": {
     "elapsed": 8,
     "status": "ok",
     "timestamp": 1653654036840,
     "user": {
      "displayName": "Loris Gallo",
      "userId": "14447363834039898355"
     },
     "user_tz": -120
    },
    "id": "6d265e9f-49a4-456d-9641-1639b459b7b8",
    "outputId": "e7a6f380-d18c-48fb-c3cc-0e491254d11d"
   },
   "outputs": [
    {
     "data": {
      "text/html": [
       "\n",
       "  <div id=\"df-258caef0-be5a-4f77-943b-c7bebdd4135c\">\n",
       "    <div class=\"colab-df-container\">\n",
       "      <div>\n",
       "<style scoped>\n",
       "    .dataframe tbody tr th:only-of-type {\n",
       "        vertical-align: middle;\n",
       "    }\n",
       "\n",
       "    .dataframe tbody tr th {\n",
       "        vertical-align: top;\n",
       "    }\n",
       "\n",
       "    .dataframe thead th {\n",
       "        text-align: right;\n",
       "    }\n",
       "</style>\n",
       "<table border=\"1\" class=\"dataframe\">\n",
       "  <thead>\n",
       "    <tr style=\"text-align: right;\">\n",
       "      <th></th>\n",
       "      <th>Id</th>\n",
       "      <th>title</th>\n",
       "      <th>group</th>\n",
       "      <th>categories</th>\n",
       "      <th>totalreviews</th>\n",
       "      <th>avgrating</th>\n",
       "    </tr>\n",
       "  </thead>\n",
       "  <tbody>\n",
       "    <tr>\n",
       "      <th>0</th>\n",
       "      <td>1</td>\n",
       "      <td>Patterns of Preaching: A Sermon Sampler</td>\n",
       "      <td>Book</td>\n",
       "      <td>2</td>\n",
       "      <td>2</td>\n",
       "      <td>5.0</td>\n",
       "    </tr>\n",
       "    <tr>\n",
       "      <th>1</th>\n",
       "      <td>2</td>\n",
       "      <td>Candlemas: Feast of Flames</td>\n",
       "      <td>Book</td>\n",
       "      <td>2</td>\n",
       "      <td>12</td>\n",
       "      <td>4.5</td>\n",
       "    </tr>\n",
       "    <tr>\n",
       "      <th>2</th>\n",
       "      <td>3</td>\n",
       "      <td>World War II Allied Fighter Planes Trading Cards</td>\n",
       "      <td>Book</td>\n",
       "      <td>1</td>\n",
       "      <td>1</td>\n",
       "      <td>5.0</td>\n",
       "    </tr>\n",
       "    <tr>\n",
       "      <th>3</th>\n",
       "      <td>4</td>\n",
       "      <td>Life Application Bible Commentary: 1 and 2 Tim...</td>\n",
       "      <td>Book</td>\n",
       "      <td>5</td>\n",
       "      <td>1</td>\n",
       "      <td>4.0</td>\n",
       "    </tr>\n",
       "    <tr>\n",
       "      <th>4</th>\n",
       "      <td>5</td>\n",
       "      <td>Prayers That Avail Much for Business: Executive</td>\n",
       "      <td>Book</td>\n",
       "      <td>2</td>\n",
       "      <td>0</td>\n",
       "      <td>0.0</td>\n",
       "    </tr>\n",
       "  </tbody>\n",
       "</table>\n",
       "</div>\n",
       "      <button class=\"colab-df-convert\" onclick=\"convertToInteractive('df-258caef0-be5a-4f77-943b-c7bebdd4135c')\"\n",
       "              title=\"Convert this dataframe to an interactive table.\"\n",
       "              style=\"display:none;\">\n",
       "        \n",
       "  <svg xmlns=\"http://www.w3.org/2000/svg\" height=\"24px\"viewBox=\"0 0 24 24\"\n",
       "       width=\"24px\">\n",
       "    <path d=\"M0 0h24v24H0V0z\" fill=\"none\"/>\n",
       "    <path d=\"M18.56 5.44l.94 2.06.94-2.06 2.06-.94-2.06-.94-.94-2.06-.94 2.06-2.06.94zm-11 1L8.5 8.5l.94-2.06 2.06-.94-2.06-.94L8.5 2.5l-.94 2.06-2.06.94zm10 10l.94 2.06.94-2.06 2.06-.94-2.06-.94-.94-2.06-.94 2.06-2.06.94z\"/><path d=\"M17.41 7.96l-1.37-1.37c-.4-.4-.92-.59-1.43-.59-.52 0-1.04.2-1.43.59L10.3 9.45l-7.72 7.72c-.78.78-.78 2.05 0 2.83L4 21.41c.39.39.9.59 1.41.59.51 0 1.02-.2 1.41-.59l7.78-7.78 2.81-2.81c.8-.78.8-2.07 0-2.86zM5.41 20L4 18.59l7.72-7.72 1.47 1.35L5.41 20z\"/>\n",
       "  </svg>\n",
       "      </button>\n",
       "      \n",
       "  <style>\n",
       "    .colab-df-container {\n",
       "      display:flex;\n",
       "      flex-wrap:wrap;\n",
       "      gap: 12px;\n",
       "    }\n",
       "\n",
       "    .colab-df-convert {\n",
       "      background-color: #E8F0FE;\n",
       "      border: none;\n",
       "      border-radius: 50%;\n",
       "      cursor: pointer;\n",
       "      display: none;\n",
       "      fill: #1967D2;\n",
       "      height: 32px;\n",
       "      padding: 0 0 0 0;\n",
       "      width: 32px;\n",
       "    }\n",
       "\n",
       "    .colab-df-convert:hover {\n",
       "      background-color: #E2EBFA;\n",
       "      box-shadow: 0px 1px 2px rgba(60, 64, 67, 0.3), 0px 1px 3px 1px rgba(60, 64, 67, 0.15);\n",
       "      fill: #174EA6;\n",
       "    }\n",
       "\n",
       "    [theme=dark] .colab-df-convert {\n",
       "      background-color: #3B4455;\n",
       "      fill: #D2E3FC;\n",
       "    }\n",
       "\n",
       "    [theme=dark] .colab-df-convert:hover {\n",
       "      background-color: #434B5C;\n",
       "      box-shadow: 0px 1px 3px 1px rgba(0, 0, 0, 0.15);\n",
       "      filter: drop-shadow(0px 1px 2px rgba(0, 0, 0, 0.3));\n",
       "      fill: #FFFFFF;\n",
       "    }\n",
       "  </style>\n",
       "\n",
       "      <script>\n",
       "        const buttonEl =\n",
       "          document.querySelector('#df-258caef0-be5a-4f77-943b-c7bebdd4135c button.colab-df-convert');\n",
       "        buttonEl.style.display =\n",
       "          google.colab.kernel.accessAllowed ? 'block' : 'none';\n",
       "\n",
       "        async function convertToInteractive(key) {\n",
       "          const element = document.querySelector('#df-258caef0-be5a-4f77-943b-c7bebdd4135c');\n",
       "          const dataTable =\n",
       "            await google.colab.kernel.invokeFunction('convertToInteractive',\n",
       "                                                     [key], {});\n",
       "          if (!dataTable) return;\n",
       "\n",
       "          const docLinkHtml = 'Like what you see? Visit the ' +\n",
       "            '<a target=\"_blank\" href=https://colab.research.google.com/notebooks/data_table.ipynb>data table notebook</a>'\n",
       "            + ' to learn more about interactive tables.';\n",
       "          element.innerHTML = '';\n",
       "          dataTable['output_type'] = 'display_data';\n",
       "          await google.colab.output.renderOutput(dataTable, element);\n",
       "          const docLink = document.createElement('div');\n",
       "          docLink.innerHTML = docLinkHtml;\n",
       "          element.appendChild(docLink);\n",
       "        }\n",
       "      </script>\n",
       "    </div>\n",
       "  </div>\n",
       "  "
      ],
      "text/plain": [
       "   Id                                              title group  categories  \\\n",
       "0   1            Patterns of Preaching: A Sermon Sampler  Book           2   \n",
       "1   2                         Candlemas: Feast of Flames  Book           2   \n",
       "2   3   World War II Allied Fighter Planes Trading Cards  Book           1   \n",
       "3   4  Life Application Bible Commentary: 1 and 2 Tim...  Book           5   \n",
       "4   5    Prayers That Avail Much for Business: Executive  Book           2   \n",
       "\n",
       "   totalreviews  avgrating  \n",
       "0             2        5.0  \n",
       "1            12        4.5  \n",
       "2             1        5.0  \n",
       "3             1        4.0  \n",
       "4             0        0.0  "
      ]
     },
     "execution_count": 8,
     "metadata": {},
     "output_type": "execute_result"
    }
   ],
   "source": [
    "desc.head()"
   ]
  },
  {
   "cell_type": "markdown",
   "id": "33855a06-171e-4815-bc30-4c8d70413808",
   "metadata": {
    "id": "33855a06-171e-4815-bc30-4c8d70413808"
   },
   "source": [
    "#### EDA"
   ]
  },
  {
   "cell_type": "code",
   "execution_count": null,
   "id": "473d9c1d-067b-424b-8519-8a8d0d40b9a3",
   "metadata": {
    "colab": {
     "base_uri": "https://localhost:8080/"
    },
    "executionInfo": {
     "elapsed": 747,
     "status": "ok",
     "timestamp": 1653654037582,
     "user": {
      "displayName": "Loris Gallo",
      "userId": "14447363834039898355"
     },
     "user_tz": -120
    },
    "id": "473d9c1d-067b-424b-8519-8a8d0d40b9a3",
    "outputId": "a795cc5d-a4ec-49b9-ce22-c7583a9fe1e5"
   },
   "outputs": [
    {
     "data": {
      "text/plain": [
       "Id              542683\n",
       "title           499796\n",
       "group               10\n",
       "categories          90\n",
       "totalreviews       958\n",
       "avgrating           10\n",
       "dtype: int64"
      ]
     },
     "execution_count": 9,
     "metadata": {},
     "output_type": "execute_result"
    }
   ],
   "source": [
    "desc.nunique()"
   ]
  },
  {
   "cell_type": "code",
   "execution_count": null,
   "id": "775543cc-851f-4271-a3f3-52656bad45d5",
   "metadata": {
    "colab": {
     "base_uri": "https://localhost:8080/"
    },
    "executionInfo": {
     "elapsed": 5,
     "status": "ok",
     "timestamp": 1653654037583,
     "user": {
      "displayName": "Loris Gallo",
      "userId": "14447363834039898355"
     },
     "user_tz": -120
    },
    "id": "775543cc-851f-4271-a3f3-52656bad45d5",
    "outputId": "04101449-dd9a-4d60-f685-46d24522a63c"
   },
   "outputs": [
    {
     "data": {
      "text/plain": [
       "Book            393561\n",
       "Music           103143\n",
       "Video            26131\n",
       "DVD              19828\n",
       "Toy                  8\n",
       "Software             5\n",
       "CE                   4\n",
       "Video Games          1\n",
       "Baby Product         1\n",
       "Sports               1\n",
       "Name: group, dtype: int64"
      ]
     },
     "execution_count": 10,
     "metadata": {},
     "output_type": "execute_result"
    }
   ],
   "source": [
    "desc['group'].value_counts()"
   ]
  },
  {
   "cell_type": "code",
   "execution_count": null,
   "id": "8f77bc6c-5e0b-4296-a388-8b7d84477e7d",
   "metadata": {
    "id": "8f77bc6c-5e0b-4296-a388-8b7d84477e7d"
   },
   "outputs": [],
   "source": [
    "desc = desc[desc['group'].isin(['Book', 'Music', 'DVD', 'Video'])]"
   ]
  },
  {
   "cell_type": "code",
   "execution_count": null,
   "id": "79ec465a-6add-42be-9948-6e0c5c651a62",
   "metadata": {
    "colab": {
     "base_uri": "https://localhost:8080/",
     "height": 295
    },
    "executionInfo": {
     "elapsed": 1255,
     "status": "ok",
     "timestamp": 1653654041384,
     "user": {
      "displayName": "Loris Gallo",
      "userId": "14447363834039898355"
     },
     "user_tz": -120
    },
    "id": "79ec465a-6add-42be-9948-6e0c5c651a62",
    "outputId": "e6f1fa13-e740-45e1-f6a7-5d86faaee441"
   },
   "outputs": [
    {
     "data": {
      "image/png": "[encoded data removed]",
      "text/plain": [
       "<Figure size 432x288 with 1 Axes>"
      ]
     },
     "metadata": {
      "needs_background": "light"
     },
     "output_type": "display_data"
    }
   ],
   "source": [
    "sns.countplot(data=desc, y='group').set(title='# Products per Group');"
   ]
  },
  {
   "cell_type": "code",
   "execution_count": null,
   "id": "ccb0d2db-d199-4199-9bce-556efd46ee94",
   "metadata": {
    "colab": {
     "base_uri": "https://localhost:8080/",
     "height": 112
    },
    "executionInfo": {
     "elapsed": 14,
     "status": "ok",
     "timestamp": 1653654041384,
     "user": {
      "displayName": "Loris Gallo",
      "userId": "14447363834039898355"
     },
     "user_tz": -120
    },
    "id": "ccb0d2db-d199-4199-9bce-556efd46ee94",
    "outputId": "0deeaef4-8c64-4a99-f21e-face43649203"
   },
   "outputs": [
    {
     "data": {
      "text/html": [
       "\n",
       "  <div id=\"df-930ac9cd-2b6e-4402-b22c-845b1f9df36e\">\n",
       "    <div class=\"colab-df-container\">\n",
       "      <div>\n",
       "<style scoped>\n",
       "    .dataframe tbody tr th:only-of-type {\n",
       "        vertical-align: middle;\n",
       "    }\n",
       "\n",
       "    .dataframe tbody tr th {\n",
       "        vertical-align: top;\n",
       "    }\n",
       "\n",
       "    .dataframe thead th {\n",
       "        text-align: right;\n",
       "    }\n",
       "</style>\n",
       "<table border=\"1\" class=\"dataframe\">\n",
       "  <thead>\n",
       "    <tr style=\"text-align: right;\">\n",
       "      <th></th>\n",
       "      <th>Id</th>\n",
       "      <th>title</th>\n",
       "      <th>group</th>\n",
       "      <th>categories</th>\n",
       "      <th>totalreviews</th>\n",
       "      <th>avgrating</th>\n",
       "    </tr>\n",
       "  </thead>\n",
       "  <tbody>\n",
       "    <tr>\n",
       "      <th>0</th>\n",
       "      <td>1</td>\n",
       "      <td>Patterns of Preaching: A Sermon Sampler</td>\n",
       "      <td>Book</td>\n",
       "      <td>2</td>\n",
       "      <td>2</td>\n",
       "      <td>5.0</td>\n",
       "    </tr>\n",
       "    <tr>\n",
       "      <th>1</th>\n",
       "      <td>2</td>\n",
       "      <td>Candlemas: Feast of Flames</td>\n",
       "      <td>Book</td>\n",
       "      <td>2</td>\n",
       "      <td>12</td>\n",
       "      <td>4.5</td>\n",
       "    </tr>\n",
       "  </tbody>\n",
       "</table>\n",
       "</div>\n",
       "      <button class=\"colab-df-convert\" onclick=\"convertToInteractive('df-930ac9cd-2b6e-4402-b22c-845b1f9df36e')\"\n",
       "              title=\"Convert this dataframe to an interactive table.\"\n",
       "              style=\"display:none;\">\n",
       "        \n",
       "  <svg xmlns=\"http://www.w3.org/2000/svg\" height=\"24px\"viewBox=\"0 0 24 24\"\n",
       "       width=\"24px\">\n",
       "    <path d=\"M0 0h24v24H0V0z\" fill=\"none\"/>\n",
       "    <path d=\"M18.56 5.44l.94 2.06.94-2.06 2.06-.94-2.06-.94-.94-2.06-.94 2.06-2.06.94zm-11 1L8.5 8.5l.94-2.06 2.06-.94-2.06-.94L8.5 2.5l-.94 2.06-2.06.94zm10 10l.94 2.06.94-2.06 2.06-.94-2.06-.94-.94-2.06-.94 2.06-2.06.94z\"/><path d=\"M17.41 7.96l-1.37-1.37c-.4-.4-.92-.59-1.43-.59-.52 0-1.04.2-1.43.59L10.3 9.45l-7.72 7.72c-.78.78-.78 2.05 0 2.83L4 21.41c.39.39.9.59 1.41.59.51 0 1.02-.2 1.41-.59l7.78-7.78 2.81-2.81c.8-.78.8-2.07 0-2.86zM5.41 20L4 18.59l7.72-7.72 1.47 1.35L5.41 20z\"/>\n",
       "  </svg>\n",
       "      </button>\n",
       "      \n",
       "  <style>\n",
       "    .colab-df-container {\n",
       "      display:flex;\n",
       "      flex-wrap:wrap;\n",
       "      gap: 12px;\n",
       "    }\n",
       "\n",
       "    .colab-df-convert {\n",
       "      background-color: #E8F0FE;\n",
       "      border: none;\n",
       "      border-radius: 50%;\n",
       "      cursor: pointer;\n",
       "      display: none;\n",
       "      fill: #1967D2;\n",
       "      height: 32px;\n",
       "      padding: 0 0 0 0;\n",
       "      width: 32px;\n",
       "    }\n",
       "\n",
       "    .colab-df-convert:hover {\n",
       "      background-color: #E2EBFA;\n",
       "      box-shadow: 0px 1px 2px rgba(60, 64, 67, 0.3), 0px 1px 3px 1px rgba(60, 64, 67, 0.15);\n",
       "      fill: #174EA6;\n",
       "    }\n",
       "\n",
       "    [theme=dark] .colab-df-convert {\n",
       "      background-color: #3B4455;\n",
       "      fill: #D2E3FC;\n",
       "    }\n",
       "\n",
       "    [theme=dark] .colab-df-convert:hover {\n",
       "      background-color: #434B5C;\n",
       "      box-shadow: 0px 1px 3px 1px rgba(0, 0, 0, 0.15);\n",
       "      filter: drop-shadow(0px 1px 2px rgba(0, 0, 0, 0.3));\n",
       "      fill: #FFFFFF;\n",
       "    }\n",
       "  </style>\n",
       "\n",
       "      <script>\n",
       "        const buttonEl =\n",
       "          document.querySelector('#df-930ac9cd-2b6e-4402-b22c-845b1f9df36e button.colab-df-convert');\n",
       "        buttonEl.style.display =\n",
       "          google.colab.kernel.accessAllowed ? 'block' : 'none';\n",
       "\n",
       "        async function convertToInteractive(key) {\n",
       "          const element = document.querySelector('#df-930ac9cd-2b6e-4402-b22c-845b1f9df36e');\n",
       "          const dataTable =\n",
       "            await google.colab.kernel.invokeFunction('convertToInteractive',\n",
       "                                                     [key], {});\n",
       "          if (!dataTable) return;\n",
       "\n",
       "          const docLinkHtml = 'Like what you see? Visit the ' +\n",
       "            '<a target=\"_blank\" href=https://colab.research.google.com/notebooks/data_table.ipynb>data table notebook</a>'\n",
       "            + ' to learn more about interactive tables.';\n",
       "          element.innerHTML = '';\n",
       "          dataTable['output_type'] = 'display_data';\n",
       "          await google.colab.output.renderOutput(dataTable, element);\n",
       "          const docLink = document.createElement('div');\n",
       "          docLink.innerHTML = docLinkHtml;\n",
       "          element.appendChild(docLink);\n",
       "        }\n",
       "      </script>\n",
       "    </div>\n",
       "  </div>\n",
       "  "
      ],
      "text/plain": [
       "   Id                                    title group  categories  \\\n",
       "0   1  Patterns of Preaching: A Sermon Sampler  Book           2   \n",
       "1   2               Candlemas: Feast of Flames  Book           2   \n",
       "\n",
       "   totalreviews  avgrating  \n",
       "0             2        5.0  \n",
       "1            12        4.5  "
      ]
     },
     "execution_count": 13,
     "metadata": {},
     "output_type": "execute_result"
    }
   ],
   "source": [
    "desc.head(2)"
   ]
  },
  {
   "cell_type": "code",
   "execution_count": null,
   "id": "5a7d6f2c-0ccc-49b5-b72b-07a925e8ffb9",
   "metadata": {
    "colab": {
     "base_uri": "https://localhost:8080/",
     "height": 112
    },
    "executionInfo": {
     "elapsed": 12,
     "status": "ok",
     "timestamp": 1653654041385,
     "user": {
      "displayName": "Loris Gallo",
      "userId": "14447363834039898355"
     },
     "user_tz": -120
    },
    "id": "5a7d6f2c-0ccc-49b5-b72b-07a925e8ffb9",
    "outputId": "740aba80-0c66-4978-a290-0af52de4f3f0"
   },
   "outputs": [
    {
     "data": {
      "text/html": [
       "\n",
       "  <div id=\"df-c8b6536c-94e7-44ac-b999-1ef4e95d45fb\">\n",
       "    <div class=\"colab-df-container\">\n",
       "      <div>\n",
       "<style scoped>\n",
       "    .dataframe tbody tr th:only-of-type {\n",
       "        vertical-align: middle;\n",
       "    }\n",
       "\n",
       "    .dataframe tbody tr th {\n",
       "        vertical-align: top;\n",
       "    }\n",
       "\n",
       "    .dataframe thead th {\n",
       "        text-align: right;\n",
       "    }\n",
       "</style>\n",
       "<table border=\"1\" class=\"dataframe\">\n",
       "  <thead>\n",
       "    <tr style=\"text-align: right;\">\n",
       "      <th></th>\n",
       "      <th>totalreviews</th>\n",
       "      <th>avgrating</th>\n",
       "    </tr>\n",
       "  </thead>\n",
       "  <tbody>\n",
       "    <tr>\n",
       "      <th>totalreviews</th>\n",
       "      <td>1.000000</td>\n",
       "      <td>0.093652</td>\n",
       "    </tr>\n",
       "    <tr>\n",
       "      <th>avgrating</th>\n",
       "      <td>0.093652</td>\n",
       "      <td>1.000000</td>\n",
       "    </tr>\n",
       "  </tbody>\n",
       "</table>\n",
       "</div>\n",
       "      <button class=\"colab-df-convert\" onclick=\"convertToInteractive('df-c8b6536c-94e7-44ac-b999-1ef4e95d45fb')\"\n",
       "              title=\"Convert this dataframe to an interactive table.\"\n",
       "              style=\"display:none;\">\n",
       "        \n",
       "  <svg xmlns=\"http://www.w3.org/2000/svg\" height=\"24px\"viewBox=\"0 0 24 24\"\n",
       "       width=\"24px\">\n",
       "    <path d=\"M0 0h24v24H0V0z\" fill=\"none\"/>\n",
       "    <path d=\"M18.56 5.44l.94 2.06.94-2.06 2.06-.94-2.06-.94-.94-2.06-.94 2.06-2.06.94zm-11 1L8.5 8.5l.94-2.06 2.06-.94-2.06-.94L8.5 2.5l-.94 2.06-2.06.94zm10 10l.94 2.06.94-2.06 2.06-.94-2.06-.94-.94-2.06-.94 2.06-2.06.94z\"/><path d=\"M17.41 7.96l-1.37-1.37c-.4-.4-.92-.59-1.43-.59-.52 0-1.04.2-1.43.59L10.3 9.45l-7.72 7.72c-.78.78-.78 2.05 0 2.83L4 21.41c.39.39.9.59 1.41.59.51 0 1.02-.2 1.41-.59l7.78-7.78 2.81-2.81c.8-.78.8-2.07 0-2.86zM5.41 20L4 18.59l7.72-7.72 1.47 1.35L5.41 20z\"/>\n",
       "  </svg>\n",
       "      </button>\n",
       "      \n",
       "  <style>\n",
       "    .colab-df-container {\n",
       "      display:flex;\n",
       "      flex-wrap:wrap;\n",
       "      gap: 12px;\n",
       "    }\n",
       "\n",
       "    .colab-df-convert {\n",
       "      background-color: #E8F0FE;\n",
       "      border: none;\n",
       "      border-radius: 50%;\n",
       "      cursor: pointer;\n",
       "      display: none;\n",
       "      fill: #1967D2;\n",
       "      height: 32px;\n",
       "      padding: 0 0 0 0;\n",
       "      width: 32px;\n",
       "    }\n",
       "\n",
       "    .colab-df-convert:hover {\n",
       "      background-color: #E2EBFA;\n",
       "      box-shadow: 0px 1px 2px rgba(60, 64, 67, 0.3), 0px 1px 3px 1px rgba(60, 64, 67, 0.15);\n",
       "      fill: #174EA6;\n",
       "    }\n",
       "\n",
       "    [theme=dark] .colab-df-convert {\n",
       "      background-color: #3B4455;\n",
       "      fill: #D2E3FC;\n",
       "    }\n",
       "\n",
       "    [theme=dark] .colab-df-convert:hover {\n",
       "      background-color: #434B5C;\n",
       "      box-shadow: 0px 1px 3px 1px rgba(0, 0, 0, 0.15);\n",
       "      filter: drop-shadow(0px 1px 2px rgba(0, 0, 0, 0.3));\n",
       "      fill: #FFFFFF;\n",
       "    }\n",
       "  </style>\n",
       "\n",
       "      <script>\n",
       "        const buttonEl =\n",
       "          document.querySelector('#df-c8b6536c-94e7-44ac-b999-1ef4e95d45fb button.colab-df-convert');\n",
       "        buttonEl.style.display =\n",
       "          google.colab.kernel.accessAllowed ? 'block' : 'none';\n",
       "\n",
       "        async function convertToInteractive(key) {\n",
       "          const element = document.querySelector('#df-c8b6536c-94e7-44ac-b999-1ef4e95d45fb');\n",
       "          const dataTable =\n",
       "            await google.colab.kernel.invokeFunction('convertToInteractive',\n",
       "                                                     [key], {});\n",
       "          if (!dataTable) return;\n",
       "\n",
       "          const docLinkHtml = 'Like what you see? Visit the ' +\n",
       "            '<a target=\"_blank\" href=https://colab.research.google.com/notebooks/data_table.ipynb>data table notebook</a>'\n",
       "            + ' to learn more about interactive tables.';\n",
       "          element.innerHTML = '';\n",
       "          dataTable['output_type'] = 'display_data';\n",
       "          await google.colab.output.renderOutput(dataTable, element);\n",
       "          const docLink = document.createElement('div');\n",
       "          docLink.innerHTML = docLinkHtml;\n",
       "          element.appendChild(docLink);\n",
       "        }\n",
       "      </script>\n",
       "    </div>\n",
       "  </div>\n",
       "  "
      ],
      "text/plain": [
       "              totalreviews  avgrating\n",
       "totalreviews      1.000000   0.093652\n",
       "avgrating         0.093652   1.000000"
      ]
     },
     "execution_count": 14,
     "metadata": {},
     "output_type": "execute_result"
    }
   ],
   "source": [
    "desc[['totalreviews', 'avgrating']].corr()"
   ]
  },
  {
   "cell_type": "code",
   "execution_count": null,
   "id": "5e5pEWIXVd3v",
   "metadata": {
    "colab": {
     "base_uri": "https://localhost:8080/",
     "height": 347
    },
    "executionInfo": {
     "elapsed": 4502,
     "status": "ok",
     "timestamp": 1653654045877,
     "user": {
      "displayName": "Loris Gallo",
      "userId": "14447363834039898355"
     },
     "user_tz": -120
    },
    "id": "5e5pEWIXVd3v",
    "outputId": "ba8d32ba-10f6-48ff-bcad-53f7a706b2a3"
   },
   "outputs": [
    {
     "data": {
      "text/plain": [
       "[Text(0, 0.5, 'ratingvalue'),\n",
       " Text(0.5, 0, 'avgrating/productgroup'),\n",
       " Text(0.5, 1.0, 'Rating per Group')]"
      ]
     },
     "execution_count": 15,
     "metadata": {},
     "output_type": "execute_result"
    },
    {
     "data": {
      "image/png": "[encoded data removed]",
      "text/plain": [
       "<Figure size 432x288 with 1 Axes>"
      ]
     },
     "metadata": {
      "needs_background": "light"
     },
     "output_type": "display_data"
    }
   ],
   "source": [
    "ratingdesc = desc[desc.avgrating != 0]\n",
    "\n",
    "bookdesc = ratingdesc[ratingdesc.group.eq('Book')]\n",
    "musicdesc = ratingdesc[ratingdesc.group.eq('Music')]\n",
    "dvddesc = ratingdesc[ratingdesc.group.eq('DVD')]\n",
    "videodesc = ratingdesc[ratingdesc.group.eq('Video')]\n",
    "\n",
    "avgratings_group = {\n",
    "    'book': bookdesc['avgrating'].mean(),\n",
    "    'music': musicdesc['avgrating'].mean(),\n",
    "    'dvd': dvddesc['avgrating'].mean(),\n",
    "    'video': videodesc['avgrating'].mean()\n",
    "}\n",
    "\n",
    "keys = list(avgratings_group.keys())\n",
    "vals = [avgratings_group[k] for k in avgratings_group.keys()]\n",
    "\n",
    "ax = sns.barplot(x=keys, y=vals)\n",
    "ax.set(xlabel='avgrating/productgroup', ylabel='ratingvalue',title='Rating per Group')"
   ]
  },
  {
   "cell_type": "code",
   "execution_count": null,
   "id": "FLOG8se3aZqi",
   "metadata": {
    "colab": {
     "base_uri": "https://localhost:8080/",
     "height": 305
    },
    "executionInfo": {
     "elapsed": 4030,
     "status": "ok",
     "timestamp": 1653654049903,
     "user": {
      "displayName": "Loris Gallo",
      "userId": "14447363834039898355"
     },
     "user_tz": -120
    },
    "id": "FLOG8se3aZqi",
    "outputId": "d4843c8b-c5ae-4e33-9929-ff0681ab870d"
   },
   "outputs": [
    {
     "data": {
      "image/png": "[encoded data removed]",
      "text/plain": [
       "<Figure size 1872x288 with 1 Axes>"
      ]
     },
     "metadata": {
      "needs_background": "light"
     },
     "output_type": "display_data"
    }
   ],
   "source": [
    "categories = desc['categories'].unique()\n",
    "\n",
    "avgratings_cat = {}\n",
    "\n",
    "for i in categories: \n",
    "  key = i\n",
    "  value = ratingdesc[ratingdesc.categories.eq(i)]['avgrating'].mean()\n",
    "  avgratings_cat[key] = value \n",
    "\n",
    "keys = list(avgratings_cat.keys())\n",
    "vals = [avgratings_cat[k] for k in avgratings_cat.keys()]\n",
    "\n",
    "plt.figure(figsize=(26,4))\n",
    "ax = sns.barplot(x=keys, y=vals)\n",
    "ax.set_xticklabels(ax.get_xticklabels(), rotation=40, ha=\"right\")\n",
    "ax.set(title='Rating per Category', xlabel='avgrating/category', ylabel='ratingvalue')\n",
    "plt.show()"
   ]
  },
  {
   "cell_type": "code",
   "execution_count": null,
   "id": "f4675a1f-f227-4d1e-a4ef-d44d7514fe6d",
   "metadata": {
    "colab": {
     "base_uri": "https://localhost:8080/",
     "height": 279
    },
    "executionInfo": {
     "elapsed": 685,
     "status": "ok",
     "timestamp": 1653654050584,
     "user": {
      "displayName": "Loris Gallo",
      "userId": "14447363834039898355"
     },
     "user_tz": -120
    },
    "id": "f4675a1f-f227-4d1e-a4ef-d44d7514fe6d",
    "outputId": "9e26319f-adc2-418e-ed2b-c52cb4d4f668"
   },
   "outputs": [
    {
     "data": {
      "image/png": "[encoded data removed]",
      "text/plain": [
       "<Figure size 432x288 with 1 Axes>"
      ]
     },
     "metadata": {
      "needs_background": "light"
     },
     "output_type": "display_data"
    }
   ],
   "source": [
    "sns.histplot(data=desc, x='totalreviews', bins=10);"
   ]
  },
  {
   "cell_type": "code",
   "execution_count": null,
   "id": "5533b286-5c80-44c2-8d3a-4b4fe04f8110",
   "metadata": {
    "colab": {
     "base_uri": "https://localhost:8080/",
     "height": 295
    },
    "executionInfo": {
     "elapsed": 1379,
     "status": "ok",
     "timestamp": 1653654051959,
     "user": {
      "displayName": "Loris Gallo",
      "userId": "14447363834039898355"
     },
     "user_tz": -120
    },
    "id": "5533b286-5c80-44c2-8d3a-4b4fe04f8110",
    "outputId": "2660ae12-4627-43fd-a1c3-d08a286644d3"
   },
   "outputs": [
    {
     "data": {
      "image/png": "[encoded data removed]",
      "text/plain": [
       "<Figure size 432x288 with 1 Axes>"
      ]
     },
     "metadata": {
      "needs_background": "light"
     },
     "output_type": "display_data"
    }
   ],
   "source": [
    "sns.histplot(data=desc, x='avgrating').set(title='Count of Ratings');"
   ]
  },
  {
   "cell_type": "code",
   "execution_count": null,
   "id": "984cf8b3-d9df-4d15-857e-83b879b90d91",
   "metadata": {
    "colab": {
     "base_uri": "https://localhost:8080/",
     "height": 282
    },
    "executionInfo": {
     "elapsed": 290,
     "status": "ok",
     "timestamp": 1653654052243,
     "user": {
      "displayName": "Loris Gallo",
      "userId": "14447363834039898355"
     },
     "user_tz": -120
    },
    "id": "984cf8b3-d9df-4d15-857e-83b879b90d91",
    "outputId": "21e7e3f8-104b-413c-c662-d23cb2ee8650"
   },
   "outputs": [
    {
     "data": {
      "text/plain": [
       "<matplotlib.axes._subplots.AxesSubplot at 0x7f0815489e50>"
      ]
     },
     "execution_count": 19,
     "metadata": {},
     "output_type": "execute_result"
    },
    {
     "data": {
      "image/png": "[encoded data removed]",
      "text/plain": [
       "<Figure size 432x288 with 1 Axes>"
      ]
     },
     "metadata": {
      "needs_background": "light"
     },
     "output_type": "display_data"
    }
   ],
   "source": [
    "desc['avgrating'].hist()"
   ]
  },
  {
   "cell_type": "markdown",
   "id": "f93fce38-7152-43ef-a0c3-19dcf3f14661",
   "metadata": {
    "id": "f93fce38-7152-43ef-a0c3-19dcf3f14661"
   },
   "source": [
    "### Network"
   ]
  },
  {
   "cell_type": "markdown",
   "id": "1bf0d196-6075-4bbd-9df9-97a81b1c493f",
   "metadata": {
    "id": "1bf0d196-6075-4bbd-9df9-97a81b1c493f"
   },
   "source": [
    "Reading dataframe and merging with metadata information"
   ]
  },
  {
   "cell_type": "code",
   "execution_count": null,
   "id": "7a9b1de2-5594-46f8-81f1-212260a9f4e1",
   "metadata": {
    "id": "7a9b1de2-5594-46f8-81f1-212260a9f4e1"
   },
   "outputs": [],
   "source": [
    "df = pd.read_csv('drive/MyDrive/Amazon0302.txt', skiprows=4, header=None, sep='\\t', names=['from', 'to'])"
   ]
  },
  {
   "cell_type": "code",
   "execution_count": null,
   "id": "9e6f64cf",
   "metadata": {
    "id": "9e6f64cf"
   },
   "outputs": [],
   "source": [
    "# Join the link data with the meta data. The joined data contains the description for\n",
    "# from node product as well as to node product.\n",
    "df = (\n",
    "    df\n",
    "    .merge(desc, left_on=['from'], right_on=['Id'], suffixes=['.1', '.from'])\n",
    "    .merge(desc, left_on=['to'], right_on=['Id'], suffixes=['.from', '.to'])\n",
    ")"
   ]
  },
  {
   "cell_type": "code",
   "execution_count": null,
   "id": "61f2deb8-eedc-45fc-9a65-1c12cfbfc48b",
   "metadata": {
    "colab": {
     "base_uri": "https://localhost:8080/",
     "height": 143
    },
    "executionInfo": {
     "elapsed": 11,
     "status": "ok",
     "timestamp": 1653654058505,
     "user": {
      "displayName": "Loris Gallo",
      "userId": "14447363834039898355"
     },
     "user_tz": -120
    },
    "id": "61f2deb8-eedc-45fc-9a65-1c12cfbfc48b",
    "outputId": "971d51b3-cc42-46e7-c54d-58b40aa319b6"
   },
   "outputs": [
    {
     "data": {
      "text/html": [
       "\n",
       "  <div id=\"df-bced31c6-0083-4187-9a28-3d20857607d8\">\n",
       "    <div class=\"colab-df-container\">\n",
       "      <div>\n",
       "<style scoped>\n",
       "    .dataframe tbody tr th:only-of-type {\n",
       "        vertical-align: middle;\n",
       "    }\n",
       "\n",
       "    .dataframe tbody tr th {\n",
       "        vertical-align: top;\n",
       "    }\n",
       "\n",
       "    .dataframe thead th {\n",
       "        text-align: right;\n",
       "    }\n",
       "</style>\n",
       "<table border=\"1\" class=\"dataframe\">\n",
       "  <thead>\n",
       "    <tr style=\"text-align: right;\">\n",
       "      <th></th>\n",
       "      <th>from</th>\n",
       "      <th>to</th>\n",
       "      <th>Id.from</th>\n",
       "      <th>title.from</th>\n",
       "      <th>group.from</th>\n",
       "      <th>categories.from</th>\n",
       "      <th>totalreviews.from</th>\n",
       "      <th>avgrating.from</th>\n",
       "      <th>Id.to</th>\n",
       "      <th>title.to</th>\n",
       "      <th>group.to</th>\n",
       "      <th>categories.to</th>\n",
       "      <th>totalreviews.to</th>\n",
       "      <th>avgrating.to</th>\n",
       "    </tr>\n",
       "  </thead>\n",
       "  <tbody>\n",
       "    <tr>\n",
       "      <th>0</th>\n",
       "      <td>1</td>\n",
       "      <td>2</td>\n",
       "      <td>1</td>\n",
       "      <td>Patterns of Preaching: A Sermon Sampler</td>\n",
       "      <td>Book</td>\n",
       "      <td>2</td>\n",
       "      <td>2</td>\n",
       "      <td>5.0</td>\n",
       "      <td>2</td>\n",
       "      <td>Candlemas: Feast of Flames</td>\n",
       "      <td>Book</td>\n",
       "      <td>2</td>\n",
       "      <td>12</td>\n",
       "      <td>4.5</td>\n",
       "    </tr>\n",
       "    <tr>\n",
       "      <th>1</th>\n",
       "      <td>1</td>\n",
       "      <td>4</td>\n",
       "      <td>1</td>\n",
       "      <td>Patterns of Preaching: A Sermon Sampler</td>\n",
       "      <td>Book</td>\n",
       "      <td>2</td>\n",
       "      <td>2</td>\n",
       "      <td>5.0</td>\n",
       "      <td>4</td>\n",
       "      <td>Life Application Bible Commentary: 1 and 2 Tim...</td>\n",
       "      <td>Book</td>\n",
       "      <td>5</td>\n",
       "      <td>1</td>\n",
       "      <td>4.0</td>\n",
       "    </tr>\n",
       "    <tr>\n",
       "      <th>2</th>\n",
       "      <td>16</td>\n",
       "      <td>4</td>\n",
       "      <td>16</td>\n",
       "      <td>War at Sea: A Naval History of World War II</td>\n",
       "      <td>Book</td>\n",
       "      <td>3</td>\n",
       "      <td>10</td>\n",
       "      <td>4.5</td>\n",
       "      <td>4</td>\n",
       "      <td>Life Application Bible Commentary: 1 and 2 Tim...</td>\n",
       "      <td>Book</td>\n",
       "      <td>5</td>\n",
       "      <td>1</td>\n",
       "      <td>4.0</td>\n",
       "    </tr>\n",
       "  </tbody>\n",
       "</table>\n",
       "</div>\n",
       "      <button class=\"colab-df-convert\" onclick=\"convertToInteractive('df-bced31c6-0083-4187-9a28-3d20857607d8')\"\n",
       "              title=\"Convert this dataframe to an interactive table.\"\n",
       "              style=\"display:none;\">\n",
       "        \n",
       "  <svg xmlns=\"http://www.w3.org/2000/svg\" height=\"24px\"viewBox=\"0 0 24 24\"\n",
       "       width=\"24px\">\n",
       "    <path d=\"M0 0h24v24H0V0z\" fill=\"none\"/>\n",
       "    <path d=\"M18.56 5.44l.94 2.06.94-2.06 2.06-.94-2.06-.94-.94-2.06-.94 2.06-2.06.94zm-11 1L8.5 8.5l.94-2.06 2.06-.94-2.06-.94L8.5 2.5l-.94 2.06-2.06.94zm10 10l.94 2.06.94-2.06 2.06-.94-2.06-.94-.94-2.06-.94 2.06-2.06.94z\"/><path d=\"M17.41 7.96l-1.37-1.37c-.4-.4-.92-.59-1.43-.59-.52 0-1.04.2-1.43.59L10.3 9.45l-7.72 7.72c-.78.78-.78 2.05 0 2.83L4 21.41c.39.39.9.59 1.41.59.51 0 1.02-.2 1.41-.59l7.78-7.78 2.81-2.81c.8-.78.8-2.07 0-2.86zM5.41 20L4 18.59l7.72-7.72 1.47 1.35L5.41 20z\"/>\n",
       "  </svg>\n",
       "      </button>\n",
       "      \n",
       "  <style>\n",
       "    .colab-df-container {\n",
       "      display:flex;\n",
       "      flex-wrap:wrap;\n",
       "      gap: 12px;\n",
       "    }\n",
       "\n",
       "    .colab-df-convert {\n",
       "      background-color: #E8F0FE;\n",
       "      border: none;\n",
       "      border-radius: 50%;\n",
       "      cursor: pointer;\n",
       "      display: none;\n",
       "      fill: #1967D2;\n",
       "      height: 32px;\n",
       "      padding: 0 0 0 0;\n",
       "      width: 32px;\n",
       "    }\n",
       "\n",
       "    .colab-df-convert:hover {\n",
       "      background-color: #E2EBFA;\n",
       "      box-shadow: 0px 1px 2px rgba(60, 64, 67, 0.3), 0px 1px 3px 1px rgba(60, 64, 67, 0.15);\n",
       "      fill: #174EA6;\n",
       "    }\n",
       "\n",
       "    [theme=dark] .colab-df-convert {\n",
       "      background-color: #3B4455;\n",
       "      fill: #D2E3FC;\n",
       "    }\n",
       "\n",
       "    [theme=dark] .colab-df-convert:hover {\n",
       "      background-color: #434B5C;\n",
       "      box-shadow: 0px 1px 3px 1px rgba(0, 0, 0, 0.15);\n",
       "      filter: drop-shadow(0px 1px 2px rgba(0, 0, 0, 0.3));\n",
       "      fill: #FFFFFF;\n",
       "    }\n",
       "  </style>\n",
       "\n",
       "      <script>\n",
       "        const buttonEl =\n",
       "          document.querySelector('#df-bced31c6-0083-4187-9a28-3d20857607d8 button.colab-df-convert');\n",
       "        buttonEl.style.display =\n",
       "          google.colab.kernel.accessAllowed ? 'block' : 'none';\n",
       "\n",
       "        async function convertToInteractive(key) {\n",
       "          const element = document.querySelector('#df-bced31c6-0083-4187-9a28-3d20857607d8');\n",
       "          const dataTable =\n",
       "            await google.colab.kernel.invokeFunction('convertToInteractive',\n",
       "                                                     [key], {});\n",
       "          if (!dataTable) return;\n",
       "\n",
       "          const docLinkHtml = 'Like what you see? Visit the ' +\n",
       "            '<a target=\"_blank\" href=https://colab.research.google.com/notebooks/data_table.ipynb>data table notebook</a>'\n",
       "            + ' to learn more about interactive tables.';\n",
       "          element.innerHTML = '';\n",
       "          dataTable['output_type'] = 'display_data';\n",
       "          await google.colab.output.renderOutput(dataTable, element);\n",
       "          const docLink = document.createElement('div');\n",
       "          docLink.innerHTML = docLinkHtml;\n",
       "          element.appendChild(docLink);\n",
       "        }\n",
       "      </script>\n",
       "    </div>\n",
       "  </div>\n",
       "  "
      ],
      "text/plain": [
       "   from  to  Id.from                                   title.from group.from  \\\n",
       "0     1   2        1      Patterns of Preaching: A Sermon Sampler       Book   \n",
       "1     1   4        1      Patterns of Preaching: A Sermon Sampler       Book   \n",
       "2    16   4       16  War at Sea: A Naval History of World War II       Book   \n",
       "\n",
       "   categories.from  totalreviews.from  avgrating.from  Id.to  \\\n",
       "0                2                  2             5.0      2   \n",
       "1                2                  2             5.0      4   \n",
       "2                3                 10             4.5      4   \n",
       "\n",
       "                                            title.to group.to  categories.to  \\\n",
       "0                         Candlemas: Feast of Flames     Book              2   \n",
       "1  Life Application Bible Commentary: 1 and 2 Tim...     Book              5   \n",
       "2  Life Application Bible Commentary: 1 and 2 Tim...     Book              5   \n",
       "\n",
       "   totalreviews.to  avgrating.to  \n",
       "0               12           4.5  \n",
       "1                1           4.0  \n",
       "2                1           4.0  "
      ]
     },
     "execution_count": 22,
     "metadata": {},
     "output_type": "execute_result"
    }
   ],
   "source": [
    "df.head(3)"
   ]
  },
  {
   "cell_type": "markdown",
   "id": "9aa96457-6746-4237-beb2-2f5fbeff9e1c",
   "metadata": {
    "id": "9aa96457-6746-4237-beb2-2f5fbeff9e1c"
   },
   "source": [
    "## EDA"
   ]
  },
  {
   "cell_type": "markdown",
   "id": "40f85abb-93cb-4e92-8d98-e04255d24233",
   "metadata": {
    "id": "40f85abb-93cb-4e92-8d98-e04255d24233"
   },
   "source": [
    "Basic exploratory analysis"
   ]
  },
  {
   "cell_type": "code",
   "execution_count": null,
   "id": "0366fab3-227f-4c75-80a6-22ba0a02d366",
   "metadata": {
    "colab": {
     "base_uri": "https://localhost:8080/"
    },
    "executionInfo": {
     "elapsed": 449,
     "status": "ok",
     "timestamp": 1653654058951,
     "user": {
      "displayName": "Loris Gallo",
      "userId": "14447363834039898355"
     },
     "user_tz": -120
    },
    "id": "0366fab3-227f-4c75-80a6-22ba0a02d366",
    "outputId": "1c697d12-9d26-48f0-e3ab-3b03f33465bb"
   },
   "outputs": [
    {
     "name": "stdout",
     "output_type": "stream",
     "text": [
      "Unique titles: 499776\n",
      "Unique Categories: 90\n"
     ]
    }
   ],
   "source": [
    "print('Unique titles:', desc['title'].nunique())\n",
    "print('Unique Categories:', desc['categories'].nunique())"
   ]
  },
  {
   "cell_type": "code",
   "execution_count": null,
   "id": "0d322b8f-a9a5-4f91-afda-a5a25ef8a63c",
   "metadata": {
    "colab": {
     "base_uri": "https://localhost:8080/"
    },
    "executionInfo": {
     "elapsed": 13,
     "status": "ok",
     "timestamp": 1653654058952,
     "user": {
      "displayName": "Loris Gallo",
      "userId": "14447363834039898355"
     },
     "user_tz": -120
    },
    "id": "0d322b8f-a9a5-4f91-afda-a5a25ef8a63c",
    "outputId": "3617414c-3096-4d55-9103-6922bd301049"
   },
   "outputs": [
    {
     "data": {
      "text/plain": [
       "Book     393561\n",
       "Music    103143\n",
       "Video     26131\n",
       "DVD       19828\n",
       "Name: group, dtype: int64"
      ]
     },
     "execution_count": 24,
     "metadata": {},
     "output_type": "execute_result"
    }
   ],
   "source": [
    "desc['group'].value_counts()"
   ]
  },
  {
   "cell_type": "code",
   "execution_count": null,
   "id": "1f51ff73-9d93-4a89-a357-9abb0c4c1216",
   "metadata": {
    "colab": {
     "base_uri": "https://localhost:8080/"
    },
    "executionInfo": {
     "elapsed": 12,
     "status": "ok",
     "timestamp": 1653654058953,
     "user": {
      "displayName": "Loris Gallo",
      "userId": "14447363834039898355"
     },
     "user_tz": -120
    },
    "id": "1f51ff73-9d93-4a89-a357-9abb0c4c1216",
    "outputId": "10fc42c9-ef35-4d37-c979-27b2668bd66f"
   },
   "outputs": [
    {
     "data": {
      "text/plain": [
       "(1207262, 14)"
      ]
     },
     "execution_count": 25,
     "metadata": {},
     "output_type": "execute_result"
    }
   ],
   "source": [
    "df.shape"
   ]
  },
  {
   "cell_type": "code",
   "execution_count": null,
   "id": "01da4450-9a39-4c1b-ae0f-47a84f6e4b27",
   "metadata": {
    "colab": {
     "base_uri": "https://localhost:8080/",
     "height": 143
    },
    "executionInfo": {
     "elapsed": 10,
     "status": "ok",
     "timestamp": 1653654058954,
     "user": {
      "displayName": "Loris Gallo",
      "userId": "14447363834039898355"
     },
     "user_tz": -120
    },
    "id": "01da4450-9a39-4c1b-ae0f-47a84f6e4b27",
    "outputId": "d4ebfa1f-ae55-45dd-dea7-7593044cdfcd"
   },
   "outputs": [
    {
     "data": {
      "text/html": [
       "\n",
       "  <div id=\"df-83ea587d-baea-450e-b707-5e82c0e40da1\">\n",
       "    <div class=\"colab-df-container\">\n",
       "      <div>\n",
       "<style scoped>\n",
       "    .dataframe tbody tr th:only-of-type {\n",
       "        vertical-align: middle;\n",
       "    }\n",
       "\n",
       "    .dataframe tbody tr th {\n",
       "        vertical-align: top;\n",
       "    }\n",
       "\n",
       "    .dataframe thead th {\n",
       "        text-align: right;\n",
       "    }\n",
       "</style>\n",
       "<table border=\"1\" class=\"dataframe\">\n",
       "  <thead>\n",
       "    <tr style=\"text-align: right;\">\n",
       "      <th></th>\n",
       "      <th>from</th>\n",
       "      <th>to</th>\n",
       "      <th>Id.from</th>\n",
       "      <th>title.from</th>\n",
       "      <th>group.from</th>\n",
       "      <th>categories.from</th>\n",
       "      <th>totalreviews.from</th>\n",
       "      <th>avgrating.from</th>\n",
       "      <th>Id.to</th>\n",
       "      <th>title.to</th>\n",
       "      <th>group.to</th>\n",
       "      <th>categories.to</th>\n",
       "      <th>totalreviews.to</th>\n",
       "      <th>avgrating.to</th>\n",
       "    </tr>\n",
       "  </thead>\n",
       "  <tbody>\n",
       "    <tr>\n",
       "      <th>0</th>\n",
       "      <td>1</td>\n",
       "      <td>2</td>\n",
       "      <td>1</td>\n",
       "      <td>Patterns of Preaching: A Sermon Sampler</td>\n",
       "      <td>Book</td>\n",
       "      <td>2</td>\n",
       "      <td>2</td>\n",
       "      <td>5.0</td>\n",
       "      <td>2</td>\n",
       "      <td>Candlemas: Feast of Flames</td>\n",
       "      <td>Book</td>\n",
       "      <td>2</td>\n",
       "      <td>12</td>\n",
       "      <td>4.5</td>\n",
       "    </tr>\n",
       "    <tr>\n",
       "      <th>1</th>\n",
       "      <td>1</td>\n",
       "      <td>4</td>\n",
       "      <td>1</td>\n",
       "      <td>Patterns of Preaching: A Sermon Sampler</td>\n",
       "      <td>Book</td>\n",
       "      <td>2</td>\n",
       "      <td>2</td>\n",
       "      <td>5.0</td>\n",
       "      <td>4</td>\n",
       "      <td>Life Application Bible Commentary: 1 and 2 Tim...</td>\n",
       "      <td>Book</td>\n",
       "      <td>5</td>\n",
       "      <td>1</td>\n",
       "      <td>4.0</td>\n",
       "    </tr>\n",
       "    <tr>\n",
       "      <th>2</th>\n",
       "      <td>16</td>\n",
       "      <td>4</td>\n",
       "      <td>16</td>\n",
       "      <td>War at Sea: A Naval History of World War II</td>\n",
       "      <td>Book</td>\n",
       "      <td>3</td>\n",
       "      <td>10</td>\n",
       "      <td>4.5</td>\n",
       "      <td>4</td>\n",
       "      <td>Life Application Bible Commentary: 1 and 2 Tim...</td>\n",
       "      <td>Book</td>\n",
       "      <td>5</td>\n",
       "      <td>1</td>\n",
       "      <td>4.0</td>\n",
       "    </tr>\n",
       "  </tbody>\n",
       "</table>\n",
       "</div>\n",
       "      <button class=\"colab-df-convert\" onclick=\"convertToInteractive('df-83ea587d-baea-450e-b707-5e82c0e40da1')\"\n",
       "              title=\"Convert this dataframe to an interactive table.\"\n",
       "              style=\"display:none;\">\n",
       "        \n",
       "  <svg xmlns=\"http://www.w3.org/2000/svg\" height=\"24px\"viewBox=\"0 0 24 24\"\n",
       "       width=\"24px\">\n",
       "    <path d=\"M0 0h24v24H0V0z\" fill=\"none\"/>\n",
       "    <path d=\"M18.56 5.44l.94 2.06.94-2.06 2.06-.94-2.06-.94-.94-2.06-.94 2.06-2.06.94zm-11 1L8.5 8.5l.94-2.06 2.06-.94-2.06-.94L8.5 2.5l-.94 2.06-2.06.94zm10 10l.94 2.06.94-2.06 2.06-.94-2.06-.94-.94-2.06-.94 2.06-2.06.94z\"/><path d=\"M17.41 7.96l-1.37-1.37c-.4-.4-.92-.59-1.43-.59-.52 0-1.04.2-1.43.59L10.3 9.45l-7.72 7.72c-.78.78-.78 2.05 0 2.83L4 21.41c.39.39.9.59 1.41.59.51 0 1.02-.2 1.41-.59l7.78-7.78 2.81-2.81c.8-.78.8-2.07 0-2.86zM5.41 20L4 18.59l7.72-7.72 1.47 1.35L5.41 20z\"/>\n",
       "  </svg>\n",
       "      </button>\n",
       "      \n",
       "  <style>\n",
       "    .colab-df-container {\n",
       "      display:flex;\n",
       "      flex-wrap:wrap;\n",
       "      gap: 12px;\n",
       "    }\n",
       "\n",
       "    .colab-df-convert {\n",
       "      background-color: #E8F0FE;\n",
       "      border: none;\n",
       "      border-radius: 50%;\n",
       "      cursor: pointer;\n",
       "      display: none;\n",
       "      fill: #1967D2;\n",
       "      height: 32px;\n",
       "      padding: 0 0 0 0;\n",
       "      width: 32px;\n",
       "    }\n",
       "\n",
       "    .colab-df-convert:hover {\n",
       "      background-color: #E2EBFA;\n",
       "      box-shadow: 0px 1px 2px rgba(60, 64, 67, 0.3), 0px 1px 3px 1px rgba(60, 64, 67, 0.15);\n",
       "      fill: #174EA6;\n",
       "    }\n",
       "\n",
       "    [theme=dark] .colab-df-convert {\n",
       "      background-color: #3B4455;\n",
       "      fill: #D2E3FC;\n",
       "    }\n",
       "\n",
       "    [theme=dark] .colab-df-convert:hover {\n",
       "      background-color: #434B5C;\n",
       "      box-shadow: 0px 1px 3px 1px rgba(0, 0, 0, 0.15);\n",
       "      filter: drop-shadow(0px 1px 2px rgba(0, 0, 0, 0.3));\n",
       "      fill: #FFFFFF;\n",
       "    }\n",
       "  </style>\n",
       "\n",
       "      <script>\n",
       "        const buttonEl =\n",
       "          document.querySelector('#df-83ea587d-baea-450e-b707-5e82c0e40da1 button.colab-df-convert');\n",
       "        buttonEl.style.display =\n",
       "          google.colab.kernel.accessAllowed ? 'block' : 'none';\n",
       "\n",
       "        async function convertToInteractive(key) {\n",
       "          const element = document.querySelector('#df-83ea587d-baea-450e-b707-5e82c0e40da1');\n",
       "          const dataTable =\n",
       "            await google.colab.kernel.invokeFunction('convertToInteractive',\n",
       "                                                     [key], {});\n",
       "          if (!dataTable) return;\n",
       "\n",
       "          const docLinkHtml = 'Like what you see? Visit the ' +\n",
       "            '<a target=\"_blank\" href=https://colab.research.google.com/notebooks/data_table.ipynb>data table notebook</a>'\n",
       "            + ' to learn more about interactive tables.';\n",
       "          element.innerHTML = '';\n",
       "          dataTable['output_type'] = 'display_data';\n",
       "          await google.colab.output.renderOutput(dataTable, element);\n",
       "          const docLink = document.createElement('div');\n",
       "          docLink.innerHTML = docLinkHtml;\n",
       "          element.appendChild(docLink);\n",
       "        }\n",
       "      </script>\n",
       "    </div>\n",
       "  </div>\n",
       "  "
      ],
      "text/plain": [
       "   from  to  Id.from                                   title.from group.from  \\\n",
       "0     1   2        1      Patterns of Preaching: A Sermon Sampler       Book   \n",
       "1     1   4        1      Patterns of Preaching: A Sermon Sampler       Book   \n",
       "2    16   4       16  War at Sea: A Naval History of World War II       Book   \n",
       "\n",
       "   categories.from  totalreviews.from  avgrating.from  Id.to  \\\n",
       "0                2                  2             5.0      2   \n",
       "1                2                  2             5.0      4   \n",
       "2                3                 10             4.5      4   \n",
       "\n",
       "                                            title.to group.to  categories.to  \\\n",
       "0                         Candlemas: Feast of Flames     Book              2   \n",
       "1  Life Application Bible Commentary: 1 and 2 Tim...     Book              5   \n",
       "2  Life Application Bible Commentary: 1 and 2 Tim...     Book              5   \n",
       "\n",
       "   totalreviews.to  avgrating.to  \n",
       "0               12           4.5  \n",
       "1                1           4.0  \n",
       "2                1           4.0  "
      ]
     },
     "execution_count": 26,
     "metadata": {},
     "output_type": "execute_result"
    }
   ],
   "source": [
    "df.head(3)"
   ]
  },
  {
   "cell_type": "markdown",
   "id": "37d83f8c-7d15-4d5a-b687-b98896c2a87d",
   "metadata": {
    "id": "37d83f8c-7d15-4d5a-b687-b98896c2a87d"
   },
   "source": [
    "## Creating graph"
   ]
  },
  {
   "cell_type": "markdown",
   "id": "ddcde85a",
   "metadata": {
    "id": "ddcde85a"
   },
   "source": [
    "### Vertices"
   ]
  },
  {
   "cell_type": "code",
   "execution_count": null,
   "id": "02d5694f-63d0-469e-904b-ee8e7cb62d46",
   "metadata": {
    "colab": {
     "base_uri": "https://localhost:8080/",
     "height": 112
    },
    "executionInfo": {
     "elapsed": 9,
     "status": "ok",
     "timestamp": 1653654058954,
     "user": {
      "displayName": "Loris Gallo",
      "userId": "14447363834039898355"
     },
     "user_tz": -120
    },
    "id": "02d5694f-63d0-469e-904b-ee8e7cb62d46",
    "outputId": "f9ec818f-52d0-435a-bc65-b13439b9f7c4"
   },
   "outputs": [
    {
     "data": {
      "text/html": [
       "\n",
       "  <div id=\"df-3025fb63-c081-45fe-b0d9-fdf4a1959e38\">\n",
       "    <div class=\"colab-df-container\">\n",
       "      <div>\n",
       "<style scoped>\n",
       "    .dataframe tbody tr th:only-of-type {\n",
       "        vertical-align: middle;\n",
       "    }\n",
       "\n",
       "    .dataframe tbody tr th {\n",
       "        vertical-align: top;\n",
       "    }\n",
       "\n",
       "    .dataframe thead th {\n",
       "        text-align: right;\n",
       "    }\n",
       "</style>\n",
       "<table border=\"1\" class=\"dataframe\">\n",
       "  <thead>\n",
       "    <tr style=\"text-align: right;\">\n",
       "      <th></th>\n",
       "      <th>from</th>\n",
       "      <th>to</th>\n",
       "      <th>Id.from</th>\n",
       "      <th>title.from</th>\n",
       "      <th>group.from</th>\n",
       "      <th>categories.from</th>\n",
       "      <th>totalreviews.from</th>\n",
       "      <th>avgrating.from</th>\n",
       "      <th>Id.to</th>\n",
       "      <th>title.to</th>\n",
       "      <th>group.to</th>\n",
       "      <th>categories.to</th>\n",
       "      <th>totalreviews.to</th>\n",
       "      <th>avgrating.to</th>\n",
       "    </tr>\n",
       "  </thead>\n",
       "  <tbody>\n",
       "    <tr>\n",
       "      <th>0</th>\n",
       "      <td>1</td>\n",
       "      <td>2</td>\n",
       "      <td>1</td>\n",
       "      <td>Patterns of Preaching: A Sermon Sampler</td>\n",
       "      <td>Book</td>\n",
       "      <td>2</td>\n",
       "      <td>2</td>\n",
       "      <td>5.0</td>\n",
       "      <td>2</td>\n",
       "      <td>Candlemas: Feast of Flames</td>\n",
       "      <td>Book</td>\n",
       "      <td>2</td>\n",
       "      <td>12</td>\n",
       "      <td>4.5</td>\n",
       "    </tr>\n",
       "    <tr>\n",
       "      <th>1</th>\n",
       "      <td>1</td>\n",
       "      <td>4</td>\n",
       "      <td>1</td>\n",
       "      <td>Patterns of Preaching: A Sermon Sampler</td>\n",
       "      <td>Book</td>\n",
       "      <td>2</td>\n",
       "      <td>2</td>\n",
       "      <td>5.0</td>\n",
       "      <td>4</td>\n",
       "      <td>Life Application Bible Commentary: 1 and 2 Tim...</td>\n",
       "      <td>Book</td>\n",
       "      <td>5</td>\n",
       "      <td>1</td>\n",
       "      <td>4.0</td>\n",
       "    </tr>\n",
       "  </tbody>\n",
       "</table>\n",
       "</div>\n",
       "      <button class=\"colab-df-convert\" onclick=\"convertToInteractive('df-3025fb63-c081-45fe-b0d9-fdf4a1959e38')\"\n",
       "              title=\"Convert this dataframe to an interactive table.\"\n",
       "              style=\"display:none;\">\n",
       "        \n",
       "  <svg xmlns=\"http://www.w3.org/2000/svg\" height=\"24px\"viewBox=\"0 0 24 24\"\n",
       "       width=\"24px\">\n",
       "    <path d=\"M0 0h24v24H0V0z\" fill=\"none\"/>\n",
       "    <path d=\"M18.56 5.44l.94 2.06.94-2.06 2.06-.94-2.06-.94-.94-2.06-.94 2.06-2.06.94zm-11 1L8.5 8.5l.94-2.06 2.06-.94-2.06-.94L8.5 2.5l-.94 2.06-2.06.94zm10 10l.94 2.06.94-2.06 2.06-.94-2.06-.94-.94-2.06-.94 2.06-2.06.94z\"/><path d=\"M17.41 7.96l-1.37-1.37c-.4-.4-.92-.59-1.43-.59-.52 0-1.04.2-1.43.59L10.3 9.45l-7.72 7.72c-.78.78-.78 2.05 0 2.83L4 21.41c.39.39.9.59 1.41.59.51 0 1.02-.2 1.41-.59l7.78-7.78 2.81-2.81c.8-.78.8-2.07 0-2.86zM5.41 20L4 18.59l7.72-7.72 1.47 1.35L5.41 20z\"/>\n",
       "  </svg>\n",
       "      </button>\n",
       "      \n",
       "  <style>\n",
       "    .colab-df-container {\n",
       "      display:flex;\n",
       "      flex-wrap:wrap;\n",
       "      gap: 12px;\n",
       "    }\n",
       "\n",
       "    .colab-df-convert {\n",
       "      background-color: #E8F0FE;\n",
       "      border: none;\n",
       "      border-radius: 50%;\n",
       "      cursor: pointer;\n",
       "      display: none;\n",
       "      fill: #1967D2;\n",
       "      height: 32px;\n",
       "      padding: 0 0 0 0;\n",
       "      width: 32px;\n",
       "    }\n",
       "\n",
       "    .colab-df-convert:hover {\n",
       "      background-color: #E2EBFA;\n",
       "      box-shadow: 0px 1px 2px rgba(60, 64, 67, 0.3), 0px 1px 3px 1px rgba(60, 64, 67, 0.15);\n",
       "      fill: #174EA6;\n",
       "    }\n",
       "\n",
       "    [theme=dark] .colab-df-convert {\n",
       "      background-color: #3B4455;\n",
       "      fill: #D2E3FC;\n",
       "    }\n",
       "\n",
       "    [theme=dark] .colab-df-convert:hover {\n",
       "      background-color: #434B5C;\n",
       "      box-shadow: 0px 1px 3px 1px rgba(0, 0, 0, 0.15);\n",
       "      filter: drop-shadow(0px 1px 2px rgba(0, 0, 0, 0.3));\n",
       "      fill: #FFFFFF;\n",
       "    }\n",
       "  </style>\n",
       "\n",
       "      <script>\n",
       "        const buttonEl =\n",
       "          document.querySelector('#df-3025fb63-c081-45fe-b0d9-fdf4a1959e38 button.colab-df-convert');\n",
       "        buttonEl.style.display =\n",
       "          google.colab.kernel.accessAllowed ? 'block' : 'none';\n",
       "\n",
       "        async function convertToInteractive(key) {\n",
       "          const element = document.querySelector('#df-3025fb63-c081-45fe-b0d9-fdf4a1959e38');\n",
       "          const dataTable =\n",
       "            await google.colab.kernel.invokeFunction('convertToInteractive',\n",
       "                                                     [key], {});\n",
       "          if (!dataTable) return;\n",
       "\n",
       "          const docLinkHtml = 'Like what you see? Visit the ' +\n",
       "            '<a target=\"_blank\" href=https://colab.research.google.com/notebooks/data_table.ipynb>data table notebook</a>'\n",
       "            + ' to learn more about interactive tables.';\n",
       "          element.innerHTML = '';\n",
       "          dataTable['output_type'] = 'display_data';\n",
       "          await google.colab.output.renderOutput(dataTable, element);\n",
       "          const docLink = document.createElement('div');\n",
       "          docLink.innerHTML = docLinkHtml;\n",
       "          element.appendChild(docLink);\n",
       "        }\n",
       "      </script>\n",
       "    </div>\n",
       "  </div>\n",
       "  "
      ],
      "text/plain": [
       "   from  to  Id.from                               title.from group.from  \\\n",
       "0     1   2        1  Patterns of Preaching: A Sermon Sampler       Book   \n",
       "1     1   4        1  Patterns of Preaching: A Sermon Sampler       Book   \n",
       "\n",
       "   categories.from  totalreviews.from  avgrating.from  Id.to  \\\n",
       "0                2                  2             5.0      2   \n",
       "1                2                  2             5.0      4   \n",
       "\n",
       "                                            title.to group.to  categories.to  \\\n",
       "0                         Candlemas: Feast of Flames     Book              2   \n",
       "1  Life Application Bible Commentary: 1 and 2 Tim...     Book              5   \n",
       "\n",
       "   totalreviews.to  avgrating.to  \n",
       "0               12           4.5  \n",
       "1                1           4.0  "
      ]
     },
     "execution_count": 27,
     "metadata": {},
     "output_type": "execute_result"
    }
   ],
   "source": [
    "df.head(2)"
   ]
  },
  {
   "cell_type": "code",
   "execution_count": null,
   "id": "31faf834-ae80-40fb-ab84-12e7332324d5",
   "metadata": {
    "id": "31faf834-ae80-40fb-ab84-12e7332324d5"
   },
   "outputs": [],
   "source": [
    "# creating weight for edges\n",
    "# avgrating performed better and indicates the strenght of higher ratings\n",
    "\n",
    "df['same_category'] = np.where(df['categories.from']==df['categories.to'], 1, 0)\n",
    "df['avgrating'] = df['avgrating.from'] * df['avgrating.to']"
   ]
  },
  {
   "cell_type": "code",
   "execution_count": null,
   "id": "ae3fa273-940b-43e5-a877-be2ab975a7a2",
   "metadata": {
    "id": "ae3fa273-940b-43e5-a877-be2ab975a7a2"
   },
   "outputs": [],
   "source": [
    "g = ig.Graph.DataFrame(df[['from', 'to', 'same_category', 'avgrating']], directed=False)"
   ]
  },
  {
   "cell_type": "code",
   "execution_count": null,
   "id": "7de4af57-aa4c-4a54-967d-c09d44311cf5",
   "metadata": {
    "colab": {
     "base_uri": "https://localhost:8080/",
     "height": 35
    },
    "executionInfo": {
     "elapsed": 437,
     "status": "ok",
     "timestamp": 1653654124795,
     "user": {
      "displayName": "Loris Gallo",
      "userId": "14447363834039898355"
     },
     "user_tz": -120
    },
    "id": "7de4af57-aa4c-4a54-967d-c09d44311cf5",
    "outputId": "136a6dec-28ab-4c9b-af24-281f42a529a0"
   },
   "outputs": [
    {
     "data": {
      "application/vnd.google.colaboratory.intrinsic+json": {
       "type": "string"
      },
      "text/plain": [
       "'IGRAPH UN-- 259092 1207262 -- \\n+ attr: name (v), avgrating (e), same_category (e)'"
      ]
     },
     "execution_count": 30,
     "metadata": {},
     "output_type": "execute_result"
    }
   ],
   "source": [
    "g.summary()"
   ]
  },
  {
   "cell_type": "code",
   "execution_count": null,
   "id": "37b5b62d-afac-4247-947d-ef8cac273ef3",
   "metadata": {
    "colab": {
     "base_uri": "https://localhost:8080/"
    },
    "executionInfo": {
     "elapsed": 4,
     "status": "ok",
     "timestamp": 1653654124796,
     "user": {
      "displayName": "Loris Gallo",
      "userId": "14447363834039898355"
     },
     "user_tz": -120
    },
    "id": "37b5b62d-afac-4247-947d-ef8cac273ef3",
    "outputId": "20415dd0-fa74-4678-bac9-6fdd0b2adab2"
   },
   "outputs": [
    {
     "data": {
      "text/plain": [
       "['name']"
      ]
     },
     "execution_count": 31,
     "metadata": {},
     "output_type": "execute_result"
    }
   ],
   "source": [
    "g.vs.attribute_names()"
   ]
  },
  {
   "cell_type": "code",
   "execution_count": null,
   "id": "2e60a84f-f47f-415c-8d9e-3340bd6a0ec6",
   "metadata": {
    "colab": {
     "base_uri": "https://localhost:8080/"
    },
    "executionInfo": {
     "elapsed": 2,
     "status": "ok",
     "timestamp": 1653654125021,
     "user": {
      "displayName": "Loris Gallo",
      "userId": "14447363834039898355"
     },
     "user_tz": -120
    },
    "id": "2e60a84f-f47f-415c-8d9e-3340bd6a0ec6",
    "outputId": "2c099eb9-15bf-4602-c3cd-a6b610462526"
   },
   "outputs": [
    {
     "name": "stdout",
     "output_type": "stream",
     "text": [
      "9.319176199959859\n"
     ]
    }
   ],
   "source": [
    "degree = pd.DataFrame({\n",
    "    'degree': g.degree()\n",
    "}) \n",
    "\n",
    "avgdegree = degree.degree.mean()\n",
    "print(avgdegree)"
   ]
  },
  {
   "cell_type": "code",
   "execution_count": null,
   "id": "14d683c6-4a7f-4f80-ab5e-f24a19572961",
   "metadata": {
    "colab": {
     "base_uri": "https://localhost:8080/",
     "height": 297
    },
    "executionInfo": {
     "elapsed": 3974,
     "status": "ok",
     "timestamp": 1653654128994,
     "user": {
      "displayName": "Loris Gallo",
      "userId": "14447363834039898355"
     },
     "user_tz": -120
    },
    "id": "14d683c6-4a7f-4f80-ab5e-f24a19572961",
    "outputId": "effcc08a-3674-44f3-e096-671672f155ed"
   },
   "outputs": [
    {
     "data": {
      "image/png": "[encoded data removed]",
      "text/plain": [
       "<Figure size 720x288 with 2 Axes>"
      ]
     },
     "metadata": {
      "needs_background": "light"
     },
     "output_type": "display_data"
    }
   ],
   "source": [
    "_, ax = plt.subplots(1, 2, figsize=(10, 4))\n",
    "\n",
    "sns.histplot(data=degree, x='degree', bins=10, ax=ax[0]).set(title='# adjecent edges per node')\n",
    "sns.kdeplot(data=degree, x='degree', ax=ax[1]).set(title='Density of adjecent edges per node')\n",
    "plt.tight_layout();"
   ]
  },
  {
   "cell_type": "markdown",
   "id": "198594a9-3bdf-427c-be94-e93d9dedae1c",
   "metadata": {
    "id": "198594a9-3bdf-427c-be94-e93d9dedae1c"
   },
   "source": [
    "## Clustering"
   ]
  },
  {
   "cell_type": "markdown",
   "id": "3e8ec37b-ecc5-46e8-b62f-b11310af6d0b",
   "metadata": {
    "id": "3e8ec37b-ecc5-46e8-b62f-b11310af6d0b"
   },
   "source": [
    "Selecting only the highest connected network"
   ]
  },
  {
   "cell_type": "code",
   "execution_count": null,
   "id": "35d9f4a4-6abb-49f9-9b56-4e209fa20d65",
   "metadata": {
    "colab": {
     "base_uri": "https://localhost:8080/"
    },
    "executionInfo": {
     "elapsed": 8,
     "status": "ok",
     "timestamp": 1653654128995,
     "user": {
      "displayName": "Loris Gallo",
      "userId": "14447363834039898355"
     },
     "user_tz": -120
    },
    "id": "35d9f4a4-6abb-49f9-9b56-4e209fa20d65",
    "outputId": "4cb2644b-3aa3-455e-f070-b9ac8216072a"
   },
   "outputs": [
    {
     "name": "stdout",
     "output_type": "stream",
     "text": [
      "# connected components 22\n"
     ]
    }
   ],
   "source": [
    "cc = g.clusters(mode='weak')\n",
    "print('# connected components', len(cc))"
   ]
  },
  {
   "cell_type": "code",
   "execution_count": null,
   "id": "de51f5ff-fc31-4c9e-9e46-c10037d2ff7e",
   "metadata": {
    "id": "de51f5ff-fc31-4c9e-9e46-c10037d2ff7e"
   },
   "outputs": [],
   "source": [
    "cc = np.array(\n",
    "    sorted(cc, key=len, reverse=True), dtype='object'\n",
    ")"
   ]
  },
  {
   "cell_type": "code",
   "execution_count": null,
   "id": "61133cdb-50a7-4b08-8caa-a268da433c5f",
   "metadata": {
    "colab": {
     "base_uri": "https://localhost:8080/"
    },
    "executionInfo": {
     "elapsed": 6,
     "status": "ok",
     "timestamp": 1653654128995,
     "user": {
      "displayName": "Loris Gallo",
      "userId": "14447363834039898355"
     },
     "user_tz": -120
    },
    "id": "61133cdb-50a7-4b08-8caa-a268da433c5f",
    "outputId": "2c354e37-2932-4a64-8a59-d490337861bb"
   },
   "outputs": [
    {
     "name": "stdout",
     "output_type": "stream",
     "text": [
      "Top 5 connected networks\n"
     ]
    },
    {
     "data": {
      "text/plain": [
       "[258958, 22, 15, 13, 11]"
      ]
     },
     "execution_count": 36,
     "metadata": {},
     "output_type": "execute_result"
    }
   ],
   "source": [
    "print('Top 5 connected networks')\n",
    "[len(cc[i]) for i in range(5)]"
   ]
  },
  {
   "cell_type": "code",
   "execution_count": null,
   "id": "8fa4714b-add7-466f-85de-924a9cef5e4d",
   "metadata": {
    "id": "8fa4714b-add7-466f-85de-924a9cef5e4d"
   },
   "outputs": [],
   "source": [
    "g = g.subgraph(cc[0])"
   ]
  },
  {
   "cell_type": "markdown",
   "id": "1a17f838-3958-46cf-af67-2ff7eca14767",
   "metadata": {
    "id": "1a17f838-3958-46cf-af67-2ff7eca14767"
   },
   "source": [
    "Trying different community detection algorithms without and with the weights created"
   ]
  },
  {
   "cell_type": "markdown",
   "id": "NP7vLfLqeyQt",
   "metadata": {
    "id": "NP7vLfLqeyQt"
   },
   "source": [
    "### Fast-Greedy\n"
   ]
  },
  {
   "cell_type": "markdown",
   "id": "q-glS7Z_gC27",
   "metadata": {
    "id": "q-glS7Z_gC27"
   },
   "source": []
  },
  {
   "cell_type": "markdown",
   "id": "cb4cf7cd-e6c5-49c9-bab4-a04e92dc6431",
   "metadata": {
    "id": "cb4cf7cd-e6c5-49c9-bab4-a04e92dc6431"
   },
   "source": [
    "### Leiden"
   ]
  },
  {
   "cell_type": "code",
   "execution_count": null,
   "id": "872126cd-601a-4c9e-81c9-5258f9910a9a",
   "metadata": {
    "colab": {
     "base_uri": "https://localhost:8080/"
    },
    "executionInfo": {
     "elapsed": 263,
     "status": "ok",
     "timestamp": 1653655678146,
     "user": {
      "displayName": "Loris Gallo",
      "userId": "14447363834039898355"
     },
     "user_tz": -120
    },
    "id": "872126cd-601a-4c9e-81c9-5258f9910a9a",
    "outputId": "d5c819c7-b17f-45ca-df26-c7391b3cc1bb"
   },
   "outputs": [
    {
     "name": "stdout",
     "output_type": "stream",
     "text": [
      "Time elapsed: 0.00029754638671875\n",
      "Modularity: 0.45999999999999996\n"
     ]
    }
   ],
   "source": [
    "start = time.time()\n",
    "coms_leid_raw = g.community_leiden()\n",
    "print('Time elapsed:', time.time() - start)\n",
    "print('Modularity:', coms_leid_raw.modularity)"
   ]
  },
  {
   "cell_type": "code",
   "execution_count": null,
   "id": "7fc8b6db-12a1-4d01-a2c0-cfdb2aa919a9",
   "metadata": {
    "colab": {
     "base_uri": "https://localhost:8080/"
    },
    "executionInfo": {
     "elapsed": 233,
     "status": "ok",
     "timestamp": 1653655683023,
     "user": {
      "displayName": "Loris Gallo",
      "userId": "14447363834039898355"
     },
     "user_tz": -120
    },
    "id": "7fc8b6db-12a1-4d01-a2c0-cfdb2aa919a9",
    "outputId": "55a52681-be84-46df-e483-1a7341da8f75"
   },
   "outputs": [
    {
     "name": "stdout",
     "output_type": "stream",
     "text": [
      "Time elapsed: 0.0002987384796142578\n",
      "Modularity: 0.6494778981551469\n"
     ]
    }
   ],
   "source": [
    "start = time.time()\n",
    "coms_leid_w = g.community_leiden(weights=g.es['avgrating'])\n",
    "print('Time elapsed:', time.time() - start)\n",
    "print('Modularity:', coms_leid_w.modularity)"
   ]
  },
  {
   "cell_type": "markdown",
   "id": "ae7af7eb-50d2-42be-b50d-87d3573a53dd",
   "metadata": {
    "id": "ae7af7eb-50d2-42be-b50d-87d3573a53dd"
   },
   "source": [
    "### Louvain"
   ]
  },
  {
   "cell_type": "code",
   "execution_count": null,
   "id": "029f734a-fabd-4d1f-91e5-a5fc0da61819",
   "metadata": {
    "colab": {
     "base_uri": "https://localhost:8080/"
    },
    "executionInfo": {
     "elapsed": 9,
     "status": "ok",
     "timestamp": 1653654151786,
     "user": {
      "displayName": "Loris Gallo",
      "userId": "14447363834039898355"
     },
     "user_tz": -120
    },
    "id": "029f734a-fabd-4d1f-91e5-a5fc0da61819",
    "outputId": "0b0342c4-c795-4627-a049-fa8e0b1620a5"
   },
   "outputs": [
    {
     "name": "stdout",
     "output_type": "stream",
     "text": [
      "Time elapsed: 6.364372968673706\n",
      "Modularity: 0.9157831188600234\n"
     ]
    }
   ],
   "source": [
    "start = time.time()\n",
    "coms_louv_raw = g.community_multilevel()\n",
    "print('Time elapsed:', time.time() - start)\n",
    "print('Modularity:', coms_louv_raw.modularity)"
   ]
  },
  {
   "cell_type": "code",
   "execution_count": null,
   "id": "98ff0a6e-af34-4f5a-815b-773de158898c",
   "metadata": {
    "colab": {
     "base_uri": "https://localhost:8080/"
    },
    "executionInfo": {
     "elapsed": 11839,
     "status": "ok",
     "timestamp": 1653654163617,
     "user": {
      "displayName": "Loris Gallo",
      "userId": "14447363834039898355"
     },
     "user_tz": -120
    },
    "id": "98ff0a6e-af34-4f5a-815b-773de158898c",
    "outputId": "6de85052-e390-456d-bab4-a4c1cd753d44"
   },
   "outputs": [
    {
     "name": "stdout",
     "output_type": "stream",
     "text": [
      "Time elapsed: 8.057715892791748\n",
      "Modularity: 0.929795954620142\n"
     ]
    }
   ],
   "source": [
    "start = time.time()\n",
    "coms_louv_w = g.community_multilevel(weights=g.es['avgrating'])\n",
    "print('Time elapsed:', time.time() - start)\n",
    "print('Modularity:', coms_louv_w.modularity)"
   ]
  },
  {
   "cell_type": "markdown",
   "id": "2ba709a8-5a31-4cf5-abd6-246ed8e09fff",
   "metadata": {
    "id": "2ba709a8-5a31-4cf5-abd6-246ed8e09fff"
   },
   "source": [
    "### Infomap"
   ]
  },
  {
   "cell_type": "code",
   "execution_count": null,
   "id": "ff58a1ca-9990-4df5-8a63-9d9f95a83a1c",
   "metadata": {
    "id": "ff58a1ca-9990-4df5-8a63-9d9f95a83a1c"
   },
   "outputs": [],
   "source": [
    "# start = time.time()\n",
    "# coms_info_raw = g.community_infomap()\n",
    "# print('Time elapsed:', time.time() - start)\n",
    "# print('Modularity:', coms_info_raw.modularity)"
   ]
  },
  {
   "cell_type": "code",
   "execution_count": null,
   "id": "90c2d88a-b40f-4d67-a681-a15866a4dd5a",
   "metadata": {
    "id": "90c2d88a-b40f-4d67-a681-a15866a4dd5a"
   },
   "outputs": [],
   "source": [
    "# start = time.time()\n",
    "# coms_info_w = g.community_infomap(edge_weights=g.es['avgrating'])\n",
    "# print('Time elapsed:', time.time() - start)\n",
    "# print('Modularity:', coms_info_w.modularity)"
   ]
  },
  {
   "cell_type": "markdown",
   "id": "77bd4bf6-5496-43b1-8394-7e2f54d8b4a5",
   "metadata": {
    "id": "77bd4bf6-5496-43b1-8394-7e2f54d8b4a5"
   },
   "source": [
    "### Save community"
   ]
  },
  {
   "cell_type": "code",
   "execution_count": null,
   "id": "59fb06ff-a1cd-4a3b-b740-94e3e1c5681d",
   "metadata": {
    "id": "59fb06ff-a1cd-4a3b-b740-94e3e1c5681d"
   },
   "outputs": [],
   "source": [
    "# coms = {\n",
    "#     'leiden_raw': coms_leid_raw,\n",
    "#     'leiden_weighted': coms_leid_w,\n",
    "#     'louvain_raw': coms_louv_raw,\n",
    "#     'louvain_weighted': coms_louv_w,\n",
    "#     'infomap_raw': coms_info_raw,\n",
    "#     'infomap_weighted': coms_info_w\n",
    "# }"
   ]
  },
  {
   "cell_type": "code",
   "execution_count": null,
   "id": "cb3dc02d-5aad-4cf7-8c73-e108bcc974ec",
   "metadata": {
    "id": "cb3dc02d-5aad-4cf7-8c73-e108bcc974ec"
   },
   "outputs": [],
   "source": [
    "# with open('coms.pkl', 'wb') as f:\n",
    "#     pickle.dump(coms, f)\n",
    "\n",
    "with open('drive/MyDrive/coms.pkl', 'rb') as f:\n",
    "    coms = pickle.load(f)"
   ]
  },
  {
   "cell_type": "markdown",
   "id": "a4fdd187-b0f2-4ab5-9c39-7bff895a71e5",
   "metadata": {
    "id": "a4fdd187-b0f2-4ab5-9c39-7bff895a71e5"
   },
   "source": [
    "## Evaluating clusters"
   ]
  },
  {
   "cell_type": "code",
   "execution_count": null,
   "id": "db7729a3-b8ad-4c9a-836c-ade4d668dca3",
   "metadata": {
    "id": "db7729a3-b8ad-4c9a-836c-ade4d668dca3"
   },
   "outputs": [],
   "source": [
    "df_coms = pd.DataFrame({\n",
    "    'Id': g.vs()['name'],\n",
    "    'degree': g.degree(),\n",
    "    'transitivity': g.transitivity_local_undirected()\n",
    "})\n",
    "\n",
    "names = ['leiden_raw', 'leiden_weighted', 'louvain_raw', 'louvain_weighted', 'infomap_raw', 'infomap_weighted']"
   ]
  },
  {
   "cell_type": "code",
   "execution_count": null,
   "id": "242c2047-6559-4327-9ec8-08d446af27dc",
   "metadata": {
    "id": "242c2047-6559-4327-9ec8-08d446af27dc"
   },
   "outputs": [],
   "source": [
    "for i, j in coms.items():\n",
    "    df_coms[i] = j.membership\n",
    "\n",
    "hubdom = {}\n",
    "for i in names:\n",
    "  df = df_coms[['Id',f'{i}', 'degree', 'transitivity']]\n",
    "  df['count'] = df.groupby(f'{i}')[f'{i}'].transform('size')\n",
    "\n",
    "  df['degree_value'] = df['degree'] / df['count']\n",
    "\n",
    "  df = df.loc[df.groupby(f'{i}')['degree_value'].idxmax()]\n",
    "  df['hubdom_value'] = (df['degree_value']-df['degree_value'].min())/(df['degree_value'].max()-df['degree_value'].min())\n",
    "\n",
    "  hubdom.update({f'{i}-hub':df})"
   ]
  },
  {
   "cell_type": "markdown",
   "id": "s35CY6prOmz4",
   "metadata": {
    "id": "s35CY6prOmz4"
   },
   "source": [
    "#### Create scatterplot to show hub dominance with respect to transitivity"
   ]
  },
  {
   "cell_type": "code",
   "execution_count": null,
   "id": "YfD_P_-ZbbJE",
   "metadata": {
    "colab": {
     "base_uri": "https://localhost:8080/"
    },
    "executionInfo": {
     "elapsed": 13,
     "status": "ok",
     "timestamp": 1653654234272,
     "user": {
      "displayName": "Loris Gallo",
      "userId": "14447363834039898355"
     },
     "user_tz": -120
    },
    "id": "YfD_P_-ZbbJE",
    "outputId": "31602947-b8e7-424c-9202-1d93d0463324"
   },
   "outputs": [
    {
     "name": "stdout",
     "output_type": "stream",
     "text": [
      "              Id  leiden_raw  degree  transitivity  count  degree_value  \\\n",
      "0            1.0           0       4      0.000000      1           4.0   \n",
      "1            2.0           1       5      0.100000      1           5.0   \n",
      "2            3.0           2       5      0.600000      1           5.0   \n",
      "3            4.0           3      29      0.113960      5           5.8   \n",
      "4            5.0           4      58      0.052525      5          11.6   \n",
      "...          ...         ...     ...           ...    ...           ...   \n",
      "258952  262104.0      113839       5      0.666667      1           5.0   \n",
      "258953  262106.0      113840       7      0.800000      1           7.0   \n",
      "258954  262107.0      113841       8      0.733333      2           4.0   \n",
      "258955  262108.0      113842       6      0.900000      1           6.0   \n",
      "258956  262109.0      113843       6      0.866667      1           6.0   \n",
      "\n",
      "        hubdom_value  \n",
      "0           0.010949  \n",
      "1           0.014599  \n",
      "2           0.014599  \n",
      "3           0.017518  \n",
      "4           0.038686  \n",
      "...              ...  \n",
      "258952      0.014599  \n",
      "258953      0.021898  \n",
      "258954      0.010949  \n",
      "258955      0.018248  \n",
      "258956      0.018248  \n",
      "\n",
      "[113844 rows x 7 columns]\n"
     ]
    }
   ],
   "source": [
    "print(hubdom['leiden_raw-hub'])\n"
   ]
  },
  {
   "cell_type": "code",
   "execution_count": null,
   "id": "iz7RdZmqOlp5",
   "metadata": {
    "colab": {
     "base_uri": "https://localhost:8080/",
     "height": 1000
    },
    "executionInfo": {
     "elapsed": 6934,
     "status": "ok",
     "timestamp": 1653654637813,
     "user": {
      "displayName": "Loris Gallo",
      "userId": "14447363834039898355"
     },
     "user_tz": -120
    },
    "id": "iz7RdZmqOlp5",
    "outputId": "464e84cb-39df-4d0d-dc1c-e43f2fa005b5"
   },
   "outputs": [
    {
     "data": {
      "image/png": "[encoded data removed]",
      "text/plain": [
       "<Figure size 432x288 with 1 Axes>"
      ]
     },
     "metadata": {
      "needs_background": "light"
     },
     "output_type": "display_data"
    },
    {
     "data": {
      "image/png": "[encoded data removed]",
      "text/plain": [
       "<Figure size 432x288 with 1 Axes>"
      ]
     },
     "metadata": {
      "needs_background": "light"
     },
     "output_type": "display_data"
    },
    {
     "data": {
      "image/png": "[encoded data removed]",
      "text/plain": [
       "<Figure size 432x288 with 1 Axes>"
      ]
     },
     "metadata": {
      "needs_background": "light"
     },
     "output_type": "display_data"
    },
    {
     "data": {
      "image/png": "[encoded data removed]",
      "text/plain": [
       "<Figure size 432x288 with 1 Axes>"
      ]
     },
     "metadata": {
      "needs_background": "light"
     },
     "output_type": "display_data"
    },
    {
     "data": {
      "image/png": "[encoded data removed]",
      "text/plain": [
       "<Figure size 432x288 with 1 Axes>"
      ]
     },
     "metadata": {
      "needs_background": "light"
     },
     "output_type": "display_data"
    },
    {
     "data": {
      "image/png": "[encoded data removed]",
      "text/plain": [
       "<Figure size 432x288 with 1 Axes>"
      ]
     },
     "metadata": {
      "needs_background": "light"
     },
     "output_type": "display_data"
    }
   ],
   "source": [
    "for k,v in hubdom.items():\n",
    "  plt.figure(k)\n",
    "  sns.scatterplot(data=hubdom[f'{k}'], x=\"transitivity\", y=\"hubdom_value\", label=k)"
   ]
  },
  {
   "cell_type": "code",
   "execution_count": null,
   "id": "a9886383-5d72-472c-8d33-3b9119d665ac",
   "metadata": {
    "id": "a9886383-5d72-472c-8d33-3b9119d665ac"
   },
   "outputs": [],
   "source": [
    "# df_coms = pd.DataFrame({\n",
    "#     'Id': g.vs()['name'],\n",
    "#     names[0]: coms[0].membership,\n",
    "#     names[1]: coms[1].membership,\n",
    "#     names[2]: coms[2].membership,\n",
    "#     names[3]: coms[3].membership,\n",
    "#     names[4]: coms[4].membership,\n",
    "#     names[5]: coms[5].membership\n",
    "# })"
   ]
  },
  {
   "cell_type": "code",
   "execution_count": null,
   "id": "8f898c03-4f25-4d27-8e29-04b1d3ab574d",
   "metadata": {
    "id": "8f898c03-4f25-4d27-8e29-04b1d3ab574d"
   },
   "outputs": [],
   "source": [
    "df_coms_summary = pd.DataFrame({\n",
    "    'modularity': [i.modularity for i in coms.values()],\n",
    "    'communities': [len(set(i.membership)) for i in coms.values()]\n",
    "}, index=names).sort_values('modularity')"
   ]
  },
  {
   "cell_type": "code",
   "execution_count": null,
   "id": "2ad9f9bd-7a05-49b5-95d5-3e68a403fcc6",
   "metadata": {
    "colab": {
     "base_uri": "https://localhost:8080/",
     "height": 238
    },
    "executionInfo": {
     "elapsed": 356,
     "status": "ok",
     "timestamp": 1653654240952,
     "user": {
      "displayName": "Loris Gallo",
      "userId": "14447363834039898355"
     },
     "user_tz": -120
    },
    "id": "2ad9f9bd-7a05-49b5-95d5-3e68a403fcc6",
    "outputId": "a603a080-e9d6-4ed4-8c33-dd715f70d250"
   },
   "outputs": [
    {
     "data": {
      "text/html": [
       "\n",
       "  <div id=\"df-59bc1a45-5af1-46b1-b494-b74a5ca95de7\">\n",
       "    <div class=\"colab-df-container\">\n",
       "      <div>\n",
       "<style scoped>\n",
       "    .dataframe tbody tr th:only-of-type {\n",
       "        vertical-align: middle;\n",
       "    }\n",
       "\n",
       "    .dataframe tbody tr th {\n",
       "        vertical-align: top;\n",
       "    }\n",
       "\n",
       "    .dataframe thead th {\n",
       "        text-align: right;\n",
       "    }\n",
       "</style>\n",
       "<table border=\"1\" class=\"dataframe\">\n",
       "  <thead>\n",
       "    <tr style=\"text-align: right;\">\n",
       "      <th></th>\n",
       "      <th>modularity</th>\n",
       "      <th>communities</th>\n",
       "    </tr>\n",
       "  </thead>\n",
       "  <tbody>\n",
       "    <tr>\n",
       "      <th>infomap_raw</th>\n",
       "      <td>0.238708</td>\n",
       "      <td>82429</td>\n",
       "    </tr>\n",
       "    <tr>\n",
       "      <th>infomap_weighted</th>\n",
       "      <td>0.305514</td>\n",
       "      <td>119043</td>\n",
       "    </tr>\n",
       "    <tr>\n",
       "      <th>leiden_raw</th>\n",
       "      <td>0.412101</td>\n",
       "      <td>113844</td>\n",
       "    </tr>\n",
       "    <tr>\n",
       "      <th>leiden_weighted</th>\n",
       "      <td>0.801689</td>\n",
       "      <td>92377</td>\n",
       "    </tr>\n",
       "    <tr>\n",
       "      <th>louvain_raw</th>\n",
       "      <td>0.915548</td>\n",
       "      <td>198</td>\n",
       "    </tr>\n",
       "    <tr>\n",
       "      <th>louvain_weighted</th>\n",
       "      <td>0.930238</td>\n",
       "      <td>72698</td>\n",
       "    </tr>\n",
       "  </tbody>\n",
       "</table>\n",
       "</div>\n",
       "      <button class=\"colab-df-convert\" onclick=\"convertToInteractive('df-59bc1a45-5af1-46b1-b494-b74a5ca95de7')\"\n",
       "              title=\"Convert this dataframe to an interactive table.\"\n",
       "              style=\"display:none;\">\n",
       "        \n",
       "  <svg xmlns=\"http://www.w3.org/2000/svg\" height=\"24px\"viewBox=\"0 0 24 24\"\n",
       "       width=\"24px\">\n",
       "    <path d=\"M0 0h24v24H0V0z\" fill=\"none\"/>\n",
       "    <path d=\"M18.56 5.44l.94 2.06.94-2.06 2.06-.94-2.06-.94-.94-2.06-.94 2.06-2.06.94zm-11 1L8.5 8.5l.94-2.06 2.06-.94-2.06-.94L8.5 2.5l-.94 2.06-2.06.94zm10 10l.94 2.06.94-2.06 2.06-.94-2.06-.94-.94-2.06-.94 2.06-2.06.94z\"/><path d=\"M17.41 7.96l-1.37-1.37c-.4-.4-.92-.59-1.43-.59-.52 0-1.04.2-1.43.59L10.3 9.45l-7.72 7.72c-.78.78-.78 2.05 0 2.83L4 21.41c.39.39.9.59 1.41.59.51 0 1.02-.2 1.41-.59l7.78-7.78 2.81-2.81c.8-.78.8-2.07 0-2.86zM5.41 20L4 18.59l7.72-7.72 1.47 1.35L5.41 20z\"/>\n",
       "  </svg>\n",
       "      </button>\n",
       "      \n",
       "  <style>\n",
       "    .colab-df-container {\n",
       "      display:flex;\n",
       "      flex-wrap:wrap;\n",
       "      gap: 12px;\n",
       "    }\n",
       "\n",
       "    .colab-df-convert {\n",
       "      background-color: #E8F0FE;\n",
       "      border: none;\n",
       "      border-radius: 50%;\n",
       "      cursor: pointer;\n",
       "      display: none;\n",
       "      fill: #1967D2;\n",
       "      height: 32px;\n",
       "      padding: 0 0 0 0;\n",
       "      width: 32px;\n",
       "    }\n",
       "\n",
       "    .colab-df-convert:hover {\n",
       "      background-color: #E2EBFA;\n",
       "      box-shadow: 0px 1px 2px rgba(60, 64, 67, 0.3), 0px 1px 3px 1px rgba(60, 64, 67, 0.15);\n",
       "      fill: #174EA6;\n",
       "    }\n",
       "\n",
       "    [theme=dark] .colab-df-convert {\n",
       "      background-color: #3B4455;\n",
       "      fill: #D2E3FC;\n",
       "    }\n",
       "\n",
       "    [theme=dark] .colab-df-convert:hover {\n",
       "      background-color: #434B5C;\n",
       "      box-shadow: 0px 1px 3px 1px rgba(0, 0, 0, 0.15);\n",
       "      filter: drop-shadow(0px 1px 2px rgba(0, 0, 0, 0.3));\n",
       "      fill: #FFFFFF;\n",
       "    }\n",
       "  </style>\n",
       "\n",
       "      <script>\n",
       "        const buttonEl =\n",
       "          document.querySelector('#df-59bc1a45-5af1-46b1-b494-b74a5ca95de7 button.colab-df-convert');\n",
       "        buttonEl.style.display =\n",
       "          google.colab.kernel.accessAllowed ? 'block' : 'none';\n",
       "\n",
       "        async function convertToInteractive(key) {\n",
       "          const element = document.querySelector('#df-59bc1a45-5af1-46b1-b494-b74a5ca95de7');\n",
       "          const dataTable =\n",
       "            await google.colab.kernel.invokeFunction('convertToInteractive',\n",
       "                                                     [key], {});\n",
       "          if (!dataTable) return;\n",
       "\n",
       "          const docLinkHtml = 'Like what you see? Visit the ' +\n",
       "            '<a target=\"_blank\" href=https://colab.research.google.com/notebooks/data_table.ipynb>data table notebook</a>'\n",
       "            + ' to learn more about interactive tables.';\n",
       "          element.innerHTML = '';\n",
       "          dataTable['output_type'] = 'display_data';\n",
       "          await google.colab.output.renderOutput(dataTable, element);\n",
       "          const docLink = document.createElement('div');\n",
       "          docLink.innerHTML = docLinkHtml;\n",
       "          element.appendChild(docLink);\n",
       "        }\n",
       "      </script>\n",
       "    </div>\n",
       "  </div>\n",
       "  "
      ],
      "text/plain": [
       "                  modularity  communities\n",
       "infomap_raw         0.238708        82429\n",
       "infomap_weighted    0.305514       119043\n",
       "leiden_raw          0.412101       113844\n",
       "leiden_weighted     0.801689        92377\n",
       "louvain_raw         0.915548          198\n",
       "louvain_weighted    0.930238        72698"
      ]
     },
     "execution_count": 52,
     "metadata": {},
     "output_type": "execute_result"
    }
   ],
   "source": [
    "df_coms_summary"
   ]
  },
  {
   "cell_type": "markdown",
   "id": "37ba1e1d-0de4-4dbe-9872-c89ff9409b58",
   "metadata": {
    "id": "37ba1e1d-0de4-4dbe-9872-c89ff9409b58"
   },
   "source": [
    "**Louvain** weighted presented the highest modularity and showed 72698 communities (to be checked)"
   ]
  },
  {
   "cell_type": "code",
   "execution_count": null,
   "id": "a629fdad-76d8-4d67-b73b-81344ecfe5dc",
   "metadata": {
    "colab": {
     "base_uri": "https://localhost:8080/",
     "height": 281
    },
    "executionInfo": {
     "elapsed": 5732,
     "status": "ok",
     "timestamp": 1653654246683,
     "user": {
      "displayName": "Loris Gallo",
      "userId": "14447363834039898355"
     },
     "user_tz": -120
    },
    "id": "a629fdad-76d8-4d67-b73b-81344ecfe5dc",
    "outputId": "5f4e5bad-25d0-414a-df89-59917ce7c50d"
   },
   "outputs": [
    {
     "data": {
      "image/png": "[encoded data removed]",
      "text/plain": [
       "<Figure size 864x288 with 2 Axes>"
      ]
     },
     "metadata": {
      "needs_background": "light"
     },
     "output_type": "display_data"
    }
   ],
   "source": [
    "_, ax = plt.subplots(1, 2, sharey=True, figsize=(12, 4))\n",
    "\n",
    "df_coms_summary['modularity'].plot.barh(title='Modularity', ax=ax[0])\n",
    "df_coms_summary['communities'].plot.barh(title='# communities', ax=ax[1]);"
   ]
  },
  {
   "cell_type": "markdown",
   "id": "ad2752d0-477d-4341-980c-5fc4acdc3fc2",
   "metadata": {
    "id": "ad2752d0-477d-4341-980c-5fc4acdc3fc2"
   },
   "source": [
    "We can compare the nmi and adjusted rand between the communities created"
   ]
  },
  {
   "cell_type": "code",
   "execution_count": null,
   "id": "d41b035d-a8c2-4b18-b82f-68f0dbf57fe1",
   "metadata": {
    "colab": {
     "base_uri": "https://localhost:8080/",
     "height": 340
    },
    "executionInfo": {
     "elapsed": 94757,
     "status": "error",
     "timestamp": 1653654345560,
     "user": {
      "displayName": "Loris Gallo",
      "userId": "14447363834039898355"
     },
     "user_tz": -120
    },
    "id": "d41b035d-a8c2-4b18-b82f-68f0dbf57fe1",
    "outputId": "5dd2fb7d-09f5-4383-8670-a0685152d9e3"
   },
   "outputs": [
    {
     "ename": "KeyboardInterrupt",
     "evalue": "ignored",
     "output_type": "error",
     "traceback": [
      "\u001b[0;31m---------------------------------------------------------------------------\u001b[0m",
      "\u001b[0;31mKeyboardInterrupt\u001b[0m                         Traceback (most recent call last)",
      "\u001b[0;32m<ipython-input-54-02ab4976edf0>\u001b[0m in \u001b[0;36m<module>\u001b[0;34m()\u001b[0m\n\u001b[1;32m      7\u001b[0m     \u001b[0mcomb_names_1\u001b[0m\u001b[0;34m.\u001b[0m\u001b[0mappend\u001b[0m\u001b[0;34m(\u001b[0m\u001b[0;34mf'{n[0]}'\u001b[0m\u001b[0;34m)\u001b[0m\u001b[0;34m\u001b[0m\u001b[0;34m\u001b[0m\u001b[0m\n\u001b[1;32m      8\u001b[0m     \u001b[0mcomb_names_2\u001b[0m\u001b[0;34m.\u001b[0m\u001b[0mappend\u001b[0m\u001b[0;34m(\u001b[0m\u001b[0;34mf'{n[1]}'\u001b[0m\u001b[0;34m)\u001b[0m\u001b[0;34m\u001b[0m\u001b[0;34m\u001b[0m\u001b[0m\n\u001b[0;32m----> 9\u001b[0;31m     \u001b[0mcomb_nmi\u001b[0m\u001b[0;34m.\u001b[0m\u001b[0mappend\u001b[0m\u001b[0;34m(\u001b[0m\u001b[0mig\u001b[0m\u001b[0;34m.\u001b[0m\u001b[0mcompare_communities\u001b[0m\u001b[0;34m(\u001b[0m\u001b[0mc\u001b[0m\u001b[0;34m[\u001b[0m\u001b[0;36m0\u001b[0m\u001b[0;34m]\u001b[0m\u001b[0;34m,\u001b[0m \u001b[0mc\u001b[0m\u001b[0;34m[\u001b[0m\u001b[0;36m1\u001b[0m\u001b[0;34m]\u001b[0m\u001b[0;34m,\u001b[0m \u001b[0mmethod\u001b[0m\u001b[0;34m=\u001b[0m\u001b[0;34m'nmi'\u001b[0m\u001b[0;34m)\u001b[0m\u001b[0;34m)\u001b[0m\u001b[0;34m\u001b[0m\u001b[0;34m\u001b[0m\u001b[0m\n\u001b[0m\u001b[1;32m     10\u001b[0m     \u001b[0mcomb_rand\u001b[0m\u001b[0;34m.\u001b[0m\u001b[0mappend\u001b[0m\u001b[0;34m(\u001b[0m\u001b[0mig\u001b[0m\u001b[0;34m.\u001b[0m\u001b[0mcompare_communities\u001b[0m\u001b[0;34m(\u001b[0m\u001b[0mc\u001b[0m\u001b[0;34m[\u001b[0m\u001b[0;36m0\u001b[0m\u001b[0;34m]\u001b[0m\u001b[0;34m,\u001b[0m \u001b[0mc\u001b[0m\u001b[0;34m[\u001b[0m\u001b[0;36m1\u001b[0m\u001b[0;34m]\u001b[0m\u001b[0;34m,\u001b[0m \u001b[0mmethod\u001b[0m\u001b[0;34m=\u001b[0m\u001b[0;34m'adjusted_rand'\u001b[0m\u001b[0;34m)\u001b[0m\u001b[0;34m)\u001b[0m\u001b[0;34m\u001b[0m\u001b[0;34m\u001b[0m\u001b[0m\n",
      "\u001b[0;32m/usr/local/lib/python3.7/dist-packages/igraph/clustering.py\u001b[0m in \u001b[0;36mcompare_communities\u001b[0;34m(comm1, comm2, method, remove_none)\u001b[0m\n\u001b[1;32m   1616\u001b[0m \u001b[0;34m\u001b[0m\u001b[0m\n\u001b[1;32m   1617\u001b[0m     \u001b[0mvec1\u001b[0m\u001b[0;34m,\u001b[0m \u001b[0mvec2\u001b[0m \u001b[0;34m=\u001b[0m \u001b[0m_prepare_community_comparison\u001b[0m\u001b[0;34m(\u001b[0m\u001b[0mcomm1\u001b[0m\u001b[0;34m,\u001b[0m \u001b[0mcomm2\u001b[0m\u001b[0;34m,\u001b[0m \u001b[0mremove_none\u001b[0m\u001b[0;34m)\u001b[0m\u001b[0;34m\u001b[0m\u001b[0;34m\u001b[0m\u001b[0m\n\u001b[0;32m-> 1618\u001b[0;31m     \u001b[0;32mreturn\u001b[0m \u001b[0migraph\u001b[0m\u001b[0;34m.\u001b[0m\u001b[0m_igraph\u001b[0m\u001b[0;34m.\u001b[0m\u001b[0m_compare_communities\u001b[0m\u001b[0;34m(\u001b[0m\u001b[0mvec1\u001b[0m\u001b[0;34m,\u001b[0m \u001b[0mvec2\u001b[0m\u001b[0;34m,\u001b[0m \u001b[0mmethod\u001b[0m\u001b[0;34m)\u001b[0m\u001b[0;34m\u001b[0m\u001b[0;34m\u001b[0m\u001b[0m\n\u001b[0m\u001b[1;32m   1619\u001b[0m \u001b[0;34m\u001b[0m\u001b[0m\n\u001b[1;32m   1620\u001b[0m \u001b[0;34m\u001b[0m\u001b[0m\n",
      "\u001b[0;31mKeyboardInterrupt\u001b[0m: "
     ]
    }
   ],
   "source": [
    "comb_names_1 = []\n",
    "comb_names_2 = []\n",
    "comb_nmi = []\n",
    "comb_rand = []\n",
    "\n",
    "for n, c in zip(itertools.combinations(coms.keys(), 2), itertools.combinations(coms.values(), 2)):\n",
    "    comb_names_1.append(f'{n[0]}')\n",
    "    comb_names_2.append(f'{n[1]}')\n",
    "    comb_nmi.append(ig.compare_communities(c[0], c[1], method='nmi'))\n",
    "    comb_rand.append(ig.compare_communities(c[0], c[1], method='adjusted_rand'))"
   ]
  },
  {
   "cell_type": "code",
   "execution_count": null,
   "id": "ccca31e4-4250-4980-8a1d-3c998a9bf93a",
   "metadata": {
    "id": "ccca31e4-4250-4980-8a1d-3c998a9bf93a"
   },
   "outputs": [],
   "source": [
    "df_comb = pd.DataFrame({\n",
    "    'algorithm_1': comb_names_1,\n",
    "    'algorithm_2': comb_names_2,\n",
    "    'nmi': comb_nmi,\n",
    "    'adjusted_rand': comb_rand\n",
    "}, index=comb_names_1).sort_values('nmi')\n",
    "\n",
    "df_comb"
   ]
  },
  {
   "cell_type": "code",
   "execution_count": null,
   "id": "vsafTMklJM8H",
   "metadata": {
    "id": "vsafTMklJM8H"
   },
   "outputs": [],
   "source": [
    "resultnmi = df_comb.pivot(index='algorithm_1', columns='algorithm_2', values='nmi')\n",
    "\n",
    "print(resultnmi)\n",
    "\n",
    "resultnmi = resultnmi[['leiden_weighted', 'louvain_raw', 'louvain_weighted', 'infomap_raw', 'infomap_weighted']]\n",
    "resultnmi = resultnmi.reindex(['leiden_raw', 'leiden_weighted', 'louvain_raw', 'louvain_weighted', 'infomap_raw'])\n",
    "\n",
    "ax = sns.heatmap(resultnmi, annot=True, fmt=\"g\", cmap='Blues')\n",
    "ax.set(title='NMI Heatmap', xlabel='detection algorithms', ylabel='detection algorithms')"
   ]
  },
  {
   "cell_type": "code",
   "execution_count": null,
   "id": "s1SkQLcEZTQN",
   "metadata": {
    "id": "s1SkQLcEZTQN"
   },
   "outputs": [],
   "source": [
    "resultrand = df_comb.pivot(index='algorithm_1', columns='algorithm_2', values='adjusted_rand').round(decimals=2)\n",
    "\n",
    "print(resultrand)\n",
    "\n",
    "resultrand = resultrand[['leiden_weighted', 'louvain_raw', 'louvain_weighted', 'infomap_raw', 'infomap_weighted']]\n",
    "resultrand = resultrand.reindex(['leiden_raw', 'leiden_weighted', 'louvain_raw', 'louvain_weighted', 'infomap_raw'])\n",
    "\n",
    "ax = sns.heatmap(resultrand, annot=True, fmt=\"g\", cmap='Blues')\n",
    "ax.set(title='Adjusted Rand Heatmap', xlabel='detection algorithms', ylabel='detection algorithms')"
   ]
  },
  {
   "cell_type": "code",
   "execution_count": null,
   "id": "cbcdebfb-72a2-4ce5-aaf4-c4c3321bbf88",
   "metadata": {
    "id": "cbcdebfb-72a2-4ce5-aaf4-c4c3321bbf88"
   },
   "outputs": [],
   "source": [
    "_, ax = plt.subplots(1, 2, sharey=True, figsize=(12, 4))\n",
    "df_comb['nmi'].plot.barh(title='NMI', ax=ax[0])\n",
    "df_comb['adjusted_rand'].plot.barh(title='Adjusted rand', ax=ax[1]);"
   ]
  },
  {
   "cell_type": "markdown",
   "id": "4302bffc-a9c8-47a6-a6dd-146450cf7849",
   "metadata": {
    "id": "4302bffc-a9c8-47a6-a6dd-146450cf7849"
   },
   "source": [
    "## Louvaing weighted"
   ]
  },
  {
   "cell_type": "markdown",
   "id": "e7de724a-f748-4126-a914-9c88c0a689a3",
   "metadata": {
    "id": "e7de724a-f748-4126-a914-9c88c0a689a3"
   },
   "source": [
    "Selecting the highest community of louvain weighted"
   ]
  },
  {
   "cell_type": "code",
   "execution_count": null,
   "id": "4b8d78b4-16c3-4555-9b78-6a44f57b427c",
   "metadata": {
    "id": "4b8d78b4-16c3-4555-9b78-6a44f57b427c"
   },
   "outputs": [],
   "source": [
    "g_giant_louv_w = coms['louvain_weighted'].giant()"
   ]
  },
  {
   "cell_type": "code",
   "execution_count": null,
   "id": "16d640b8-b04b-425f-9ab4-31d3ee3ea229",
   "metadata": {
    "id": "16d640b8-b04b-425f-9ab4-31d3ee3ea229"
   },
   "outputs": [],
   "source": [
    "df_giant_louv_w = pd.DataFrame({\n",
    "    'Id': g_giant_louv_w.vs['name'],\n",
    "    'degree': g_giant_louv_w.degree(),\n",
    "    'betweenness': g_giant_louv_w.betweenness(),\n",
    "    'clustering_coefficient': g_giant_louv_w.transitivity_local_undirected()\n",
    "})"
   ]
  },
  {
   "cell_type": "code",
   "execution_count": null,
   "id": "76bace78-690a-4687-bd4d-f11a21219d67",
   "metadata": {
    "id": "76bace78-690a-4687-bd4d-f11a21219d67"
   },
   "outputs": [],
   "source": [
    "df_giant_louv_w['Id'] = df_giant_louv_w['Id'].astype(int)"
   ]
  },
  {
   "cell_type": "code",
   "execution_count": null,
   "id": "4b1fbfdc-2e78-4201-a7c9-8813498096ab",
   "metadata": {
    "id": "4b1fbfdc-2e78-4201-a7c9-8813498096ab"
   },
   "outputs": [],
   "source": [
    "df_giant_louv_w = df_giant_louv_w.merge(desc, on='Id')"
   ]
  },
  {
   "cell_type": "code",
   "execution_count": null,
   "id": "334d29d6-31cc-4458-aec4-00e2e5218a2f",
   "metadata": {
    "id": "334d29d6-31cc-4458-aec4-00e2e5218a2f"
   },
   "outputs": [],
   "source": [
    "df_giant_louv_w.shape"
   ]
  },
  {
   "cell_type": "markdown",
   "id": "5d14c23c-4117-496a-bba9-8a0586ac8105",
   "metadata": {
    "id": "5d14c23c-4117-496a-bba9-8a0586ac8105"
   },
   "source": [
    "We can check the products of the highest community "
   ]
  },
  {
   "cell_type": "code",
   "execution_count": null,
   "id": "a3e384be-856b-451d-8f7c-225fc686a89a",
   "metadata": {
    "id": "a3e384be-856b-451d-8f7c-225fc686a89a"
   },
   "outputs": [],
   "source": [
    "df_giant_louv_w[\n",
    "    (df_giant_louv_w['betweenness'] > np.quantile(df_giant_louv_w['betweenness'], 0.95)) &\n",
    "    (df_giant_louv_w['degree'] > np.quantile(df_giant_louv_w['degree'], 0.95))\n",
    "]"
   ]
  },
  {
   "cell_type": "code",
   "execution_count": null,
   "id": "9c0f3a50-8b9a-4284-ac92-66d6b86d0415",
   "metadata": {
    "id": "9c0f3a50-8b9a-4284-ac92-66d6b86d0415"
   },
   "outputs": [],
   "source": [
    "sns.pairplot(data=df_giant_louv_w[['degree', 'betweenness', 'clustering_coefficient', 'group']], hue='group')"
   ]
  },
  {
   "cell_type": "markdown",
   "id": "19b82e04-29e0-490d-9ded-a12f11f44b1f",
   "metadata": {
    "id": "19b82e04-29e0-490d-9ded-a12f11f44b1f"
   },
   "source": [
    "## Visualization"
   ]
  },
  {
   "cell_type": "code",
   "execution_count": null,
   "id": "bc1f3465-4f8d-4c9f-a521-c104404c40e7",
   "metadata": {
    "id": "bc1f3465-4f8d-4c9f-a521-c104404c40e7"
   },
   "outputs": [],
   "source": [
    "# considering the top 2nd most connected network\n",
    "g_sub = g.subgraph(cc[1])"
   ]
  },
  {
   "cell_type": "code",
   "execution_count": null,
   "id": "7118e897-df8c-46db-899b-f3eb609cba14",
   "metadata": {
    "id": "7118e897-df8c-46db-899b-f3eb609cba14"
   },
   "outputs": [],
   "source": [
    "layout_fr = g_sub.layout('fr')\n",
    "\n",
    "visual_style = {\n",
    "    #Define style from network plotting\n",
    "    \"vertex_size\": 5,\n",
    "    \"vertex_color\": 'orange',\n",
    "    \"edge_arrow_size\": 0.5,\n",
    "    \"edge_width\":0.5,\n",
    "    \"vertex_label\": None,\n",
    "    \"layout\": layout_fr,\n",
    "    \"bbox\": (600, 600),\n",
    "    \"edge_width\": 1\n",
    "}\n",
    "\n",
    "ig.plot(g_sub, **visual_style)"
   ]
  },
  {
   "cell_type": "markdown",
   "id": "PaNig_hCRs8b",
   "metadata": {
    "id": "PaNig_hCRs8b"
   },
   "source": [
    "#Node2vec"
   ]
  },
  {
   "cell_type": "code",
   "execution_count": null,
   "id": "Zn-PyAfyZLYn",
   "metadata": {
    "colab": {
     "base_uri": "https://localhost:8080/"
    },
    "executionInfo": {
     "elapsed": 4244,
     "status": "ok",
     "timestamp": 1653664649554,
     "user": {
      "displayName": "Hrishikesh Nambiar",
      "userId": "08977595704694154923"
     },
     "user_tz": -120
    },
    "id": "Zn-PyAfyZLYn",
    "outputId": "fcf9cde5-e7dd-475f-bfac-c2d03530b1f3"
   },
   "outputs": [
    {
     "name": "stdout",
     "output_type": "stream",
     "text": [
      "Looking in indexes: https://pypi.org/simple, https://us-python.pkg.dev/colab-wheels/public/simple/\n",
      "Requirement already satisfied: stellargraph in /usr/local/lib/python3.7/dist-packages (1.2.1)\n",
      "Requirement already satisfied: networkx>=2.2 in /usr/local/lib/python3.7/dist-packages (from stellargraph) (2.6.3)\n",
      "Requirement already satisfied: scikit-learn>=0.20 in /usr/local/lib/python3.7/dist-packages (from stellargraph) (1.0.2)\n",
      "Requirement already satisfied: numpy>=1.14 in /usr/local/lib/python3.7/dist-packages (from stellargraph) (1.21.6)\n",
      "Requirement already satisfied: matplotlib>=2.2 in /usr/local/lib/python3.7/dist-packages (from stellargraph) (3.2.2)\n",
      "Requirement already satisfied: tensorflow>=2.1.0 in /usr/local/lib/python3.7/dist-packages (from stellargraph) (2.8.0+zzzcolab20220506162203)\n",
      "Requirement already satisfied: pandas>=0.24 in /usr/local/lib/python3.7/dist-packages (from stellargraph) (1.3.5)\n",
      "Requirement already satisfied: gensim>=3.4.0 in /usr/local/lib/python3.7/dist-packages (from stellargraph) (3.6.0)\n",
      "Requirement already satisfied: scipy>=1.1.0 in /usr/local/lib/python3.7/dist-packages (from stellargraph) (1.4.1)\n",
      "Requirement already satisfied: smart-open>=1.2.1 in /usr/local/lib/python3.7/dist-packages (from gensim>=3.4.0->stellargraph) (6.0.0)\n",
      "Requirement already satisfied: six>=1.5.0 in /usr/local/lib/python3.7/dist-packages (from gensim>=3.4.0->stellargraph) (1.15.0)\n",
      "Requirement already satisfied: pyparsing!=2.0.4,!=2.1.2,!=2.1.6,>=2.0.1 in /usr/local/lib/python3.7/dist-packages (from matplotlib>=2.2->stellargraph) (3.0.9)\n",
      "Requirement already satisfied: kiwisolver>=1.0.1 in /usr/local/lib/python3.7/dist-packages (from matplotlib>=2.2->stellargraph) (1.4.2)\n",
      "Requirement already satisfied: python-dateutil>=2.1 in /usr/local/lib/python3.7/dist-packages (from matplotlib>=2.2->stellargraph) (2.8.2)\n",
      "Requirement already satisfied: cycler>=0.10 in /usr/local/lib/python3.7/dist-packages (from matplotlib>=2.2->stellargraph) (0.11.0)\n",
      "Requirement already satisfied: typing-extensions in /usr/local/lib/python3.7/dist-packages (from kiwisolver>=1.0.1->matplotlib>=2.2->stellargraph) (4.2.0)\n",
      "Requirement already satisfied: pytz>=2017.3 in /usr/local/lib/python3.7/dist-packages (from pandas>=0.24->stellargraph) (2022.1)\n",
      "Requirement already satisfied: threadpoolctl>=2.0.0 in /usr/local/lib/python3.7/dist-packages (from scikit-learn>=0.20->stellargraph) (3.1.0)\n",
      "Requirement already satisfied: joblib>=0.11 in /usr/local/lib/python3.7/dist-packages (from scikit-learn>=0.20->stellargraph) (1.1.0)\n",
      "Requirement already satisfied: h5py>=2.9.0 in /usr/local/lib/python3.7/dist-packages (from tensorflow>=2.1.0->stellargraph) (3.1.0)\n",
      "Requirement already satisfied: wrapt>=1.11.0 in /usr/local/lib/python3.7/dist-packages (from tensorflow>=2.1.0->stellargraph) (1.14.1)\n",
      "Requirement already satisfied: tensorboard<2.9,>=2.8 in /usr/local/lib/python3.7/dist-packages (from tensorflow>=2.1.0->stellargraph) (2.8.0)\n",
      "Requirement already satisfied: flatbuffers>=1.12 in /usr/local/lib/python3.7/dist-packages (from tensorflow>=2.1.0->stellargraph) (2.0)\n",
      "Requirement already satisfied: libclang>=9.0.1 in /usr/local/lib/python3.7/dist-packages (from tensorflow>=2.1.0->stellargraph) (14.0.1)\n",
      "Requirement already satisfied: termcolor>=1.1.0 in /usr/local/lib/python3.7/dist-packages (from tensorflow>=2.1.0->stellargraph) (1.1.0)\n",
      "Requirement already satisfied: tensorflow-io-gcs-filesystem>=0.23.1 in /usr/local/lib/python3.7/dist-packages (from tensorflow>=2.1.0->stellargraph) (0.26.0)\n",
      "Requirement already satisfied: astunparse>=1.6.0 in /usr/local/lib/python3.7/dist-packages (from tensorflow>=2.1.0->stellargraph) (1.6.3)\n",
      "Requirement already satisfied: tf-estimator-nightly==2.8.0.dev2021122109 in /usr/local/lib/python3.7/dist-packages (from tensorflow>=2.1.0->stellargraph) (2.8.0.dev2021122109)\n",
      "Requirement already satisfied: keras-preprocessing>=1.1.1 in /usr/local/lib/python3.7/dist-packages (from tensorflow>=2.1.0->stellargraph) (1.1.2)\n",
      "Requirement already satisfied: absl-py>=0.4.0 in /usr/local/lib/python3.7/dist-packages (from tensorflow>=2.1.0->stellargraph) (1.0.0)\n",
      "Requirement already satisfied: gast>=0.2.1 in /usr/local/lib/python3.7/dist-packages (from tensorflow>=2.1.0->stellargraph) (0.5.3)\n",
      "Requirement already satisfied: google-pasta>=0.1.1 in /usr/local/lib/python3.7/dist-packages (from tensorflow>=2.1.0->stellargraph) (0.2.0)\n",
      "Requirement already satisfied: grpcio<2.0,>=1.24.3 in /usr/local/lib/python3.7/dist-packages (from tensorflow>=2.1.0->stellargraph) (1.46.1)\n",
      "Requirement already satisfied: keras<2.9,>=2.8.0rc0 in /usr/local/lib/python3.7/dist-packages (from tensorflow>=2.1.0->stellargraph) (2.8.0)\n",
      "Requirement already satisfied: opt-einsum>=2.3.2 in /usr/local/lib/python3.7/dist-packages (from tensorflow>=2.1.0->stellargraph) (3.3.0)\n",
      "Requirement already satisfied: setuptools in /usr/local/lib/python3.7/dist-packages (from tensorflow>=2.1.0->stellargraph) (57.4.0)\n",
      "Requirement already satisfied: protobuf>=3.9.2 in /usr/local/lib/python3.7/dist-packages (from tensorflow>=2.1.0->stellargraph) (3.17.3)\n",
      "Requirement already satisfied: wheel<1.0,>=0.23.0 in /usr/local/lib/python3.7/dist-packages (from astunparse>=1.6.0->tensorflow>=2.1.0->stellargraph) (0.37.1)\n",
      "Requirement already satisfied: cached-property in /usr/local/lib/python3.7/dist-packages (from h5py>=2.9.0->tensorflow>=2.1.0->stellargraph) (1.5.2)\n",
      "Requirement already satisfied: requests<3,>=2.21.0 in /usr/local/lib/python3.7/dist-packages (from tensorboard<2.9,>=2.8->tensorflow>=2.1.0->stellargraph) (2.23.0)\n",
      "Requirement already satisfied: tensorboard-plugin-wit>=1.6.0 in /usr/local/lib/python3.7/dist-packages (from tensorboard<2.9,>=2.8->tensorflow>=2.1.0->stellargraph) (1.8.1)\n",
      "Requirement already satisfied: werkzeug>=0.11.15 in /usr/local/lib/python3.7/dist-packages (from tensorboard<2.9,>=2.8->tensorflow>=2.1.0->stellargraph) (1.0.1)\n",
      "Requirement already satisfied: google-auth<3,>=1.6.3 in /usr/local/lib/python3.7/dist-packages (from tensorboard<2.9,>=2.8->tensorflow>=2.1.0->stellargraph) (1.35.0)\n",
      "Requirement already satisfied: google-auth-oauthlib<0.5,>=0.4.1 in /usr/local/lib/python3.7/dist-packages (from tensorboard<2.9,>=2.8->tensorflow>=2.1.0->stellargraph) (0.4.6)\n",
      "Requirement already satisfied: tensorboard-data-server<0.7.0,>=0.6.0 in /usr/local/lib/python3.7/dist-packages (from tensorboard<2.9,>=2.8->tensorflow>=2.1.0->stellargraph) (0.6.1)\n",
      "Requirement already satisfied: markdown>=2.6.8 in /usr/local/lib/python3.7/dist-packages (from tensorboard<2.9,>=2.8->tensorflow>=2.1.0->stellargraph) (3.3.7)\n",
      "Requirement already satisfied: rsa<5,>=3.1.4 in /usr/local/lib/python3.7/dist-packages (from google-auth<3,>=1.6.3->tensorboard<2.9,>=2.8->tensorflow>=2.1.0->stellargraph) (4.8)\n",
      "Requirement already satisfied: pyasn1-modules>=0.2.1 in /usr/local/lib/python3.7/dist-packages (from google-auth<3,>=1.6.3->tensorboard<2.9,>=2.8->tensorflow>=2.1.0->stellargraph) (0.2.8)\n",
      "Requirement already satisfied: cachetools<5.0,>=2.0.0 in /usr/local/lib/python3.7/dist-packages (from google-auth<3,>=1.6.3->tensorboard<2.9,>=2.8->tensorflow>=2.1.0->stellargraph) (4.2.4)\n",
      "Requirement already satisfied: requests-oauthlib>=0.7.0 in /usr/local/lib/python3.7/dist-packages (from google-auth-oauthlib<0.5,>=0.4.1->tensorboard<2.9,>=2.8->tensorflow>=2.1.0->stellargraph) (1.3.1)\n",
      "Requirement already satisfied: importlib-metadata>=4.4 in /usr/local/lib/python3.7/dist-packages (from markdown>=2.6.8->tensorboard<2.9,>=2.8->tensorflow>=2.1.0->stellargraph) (4.11.3)\n",
      "Requirement already satisfied: zipp>=0.5 in /usr/local/lib/python3.7/dist-packages (from importlib-metadata>=4.4->markdown>=2.6.8->tensorboard<2.9,>=2.8->tensorflow>=2.1.0->stellargraph) (3.8.0)\n",
      "Requirement already satisfied: pyasn1<0.5.0,>=0.4.6 in /usr/local/lib/python3.7/dist-packages (from pyasn1-modules>=0.2.1->google-auth<3,>=1.6.3->tensorboard<2.9,>=2.8->tensorflow>=2.1.0->stellargraph) (0.4.8)\n",
      "Requirement already satisfied: certifi>=2017.4.17 in /usr/local/lib/python3.7/dist-packages (from requests<3,>=2.21.0->tensorboard<2.9,>=2.8->tensorflow>=2.1.0->stellargraph) (2022.5.18.1)\n",
      "Requirement already satisfied: chardet<4,>=3.0.2 in /usr/local/lib/python3.7/dist-packages (from requests<3,>=2.21.0->tensorboard<2.9,>=2.8->tensorflow>=2.1.0->stellargraph) (3.0.4)\n",
      "Requirement already satisfied: urllib3!=1.25.0,!=1.25.1,<1.26,>=1.21.1 in /usr/local/lib/python3.7/dist-packages (from requests<3,>=2.21.0->tensorboard<2.9,>=2.8->tensorflow>=2.1.0->stellargraph) (1.24.3)\n",
      "Requirement already satisfied: idna<3,>=2.5 in /usr/local/lib/python3.7/dist-packages (from requests<3,>=2.21.0->tensorboard<2.9,>=2.8->tensorflow>=2.1.0->stellargraph) (2.10)\n",
      "Requirement already satisfied: oauthlib>=3.0.0 in /usr/local/lib/python3.7/dist-packages (from requests-oauthlib>=0.7.0->google-auth-oauthlib<0.5,>=0.4.1->tensorboard<2.9,>=2.8->tensorflow>=2.1.0->stellargraph) (3.2.0)\n"
     ]
    }
   ],
   "source": [
    "!pip install stellargraph"
   ]
  },
  {
   "cell_type": "code",
   "execution_count": null,
   "id": "1lznHnbKRTlx",
   "metadata": {
    "id": "1lznHnbKRTlx"
   },
   "outputs": [],
   "source": [
    "import matplotlib.pyplot as plt\n",
    "from math import isclose\n",
    "from sklearn.decomposition import PCA\n",
    "import os\n",
    "import networkx as nx\n",
    "import numpy as np\n",
    "import pandas as pd\n",
    "from stellargraph import StellarGraph, datasets\n",
    "from stellargraph.data import EdgeSplitter\n",
    "from collections import Counter\n",
    "import multiprocessing\n",
    "from IPython.display import display, HTML\n",
    "from sklearn.model_selection import train_test_split"
   ]
  },
  {
   "cell_type": "code",
   "execution_count": null,
   "id": "MeNP1WYKR-WK",
   "metadata": {
    "id": "MeNP1WYKR-WK"
   },
   "outputs": [],
   "source": [
    "df = pd.read_csv('drive/MyDrive/Amazon0302.txt', skiprows=4, header=None, sep='\\t', names=['from', 'to'])"
   ]
  },
  {
   "cell_type": "code",
   "execution_count": null,
   "id": "LlwP_NObSLA9",
   "metadata": {
    "ExecuteTime": {
     "end_time": "2022-05-17T20:52:19.921018Z",
     "start_time": "2022-05-17T20:52:18.210852Z"
    },
    "id": "LlwP_NObSLA9"
   },
   "outputs": [],
   "source": [
    "# Join the link data with the meta data. The joined data contains the description for\n",
    "# from node product as well as to node product.\n",
    "df = (\n",
    "    df\n",
    "    .merge(desc, left_on=['from'], right_on=['Id'], suffixes=['.1', '.from'])\n",
    "    .merge(desc, left_on=['to'], right_on=['Id'], suffixes=['.from', '.to'])\n",
    ")"
   ]
  },
  {
   "cell_type": "code",
   "execution_count": null,
   "id": "AwJqlLP4SQPM",
   "metadata": {
    "ExecuteTime": {
     "end_time": "2022-05-17T20:53:05.448704Z",
     "start_time": "2022-05-17T20:53:05.406301Z"
    },
    "id": "AwJqlLP4SQPM"
   },
   "outputs": [],
   "source": [
    "# creating weight for edges\n",
    "# avgrating performed better and indicates the strenght of higher ratings\n",
    "\n",
    "df['same_category'] = np.where(df['categories.from']==df['categories.to'], 1, 0)\n",
    "df['avgrating'] = df['avgrating.from'] * df['avgrating.to']"
   ]
  },
  {
   "cell_type": "code",
   "execution_count": null,
   "id": "wHo1O0s4InSe",
   "metadata": {
    "id": "wHo1O0s4InSe"
   },
   "outputs": [],
   "source": [
    "df=df.sample(frac=1)"
   ]
  },
  {
   "cell_type": "code",
   "execution_count": null,
   "id": "nFsVSNW2I7fh",
   "metadata": {
    "id": "nFsVSNW2I7fh"
   },
   "outputs": [],
   "source": [
    "df=df.head(1000)"
   ]
  },
  {
   "cell_type": "code",
   "execution_count": null,
   "id": "8tVz9P6CrKVX",
   "metadata": {
    "id": "8tVz9P6CrKVX"
   },
   "outputs": [],
   "source": [
    "f=df[['from', 'to', 'same_category', 'avgrating']]"
   ]
  },
  {
   "cell_type": "code",
   "execution_count": null,
   "id": "VLPsDKyorT6w",
   "metadata": {
    "id": "VLPsDKyorT6w"
   },
   "outputs": [],
   "source": [
    "f = f.rename(\n",
    "    columns={\"avgrating\": \"weight\"}\n",
    ")"
   ]
  },
  {
   "cell_type": "code",
   "execution_count": null,
   "id": "Dg2nItQcc2O6",
   "metadata": {
    "colab": {
     "base_uri": "https://localhost:8080/"
    },
    "executionInfo": {
     "elapsed": 216,
     "status": "ok",
     "timestamp": 1653665721775,
     "user": {
      "displayName": "Hrishikesh Nambiar",
      "userId": "08977595704694154923"
     },
     "user_tz": -120
    },
    "id": "Dg2nItQcc2O6",
    "outputId": "f1542dc2-7d40-4eb8-905a-6cbbcae1fd81"
   },
   "outputs": [
    {
     "name": "stdout",
     "output_type": "stream",
     "text": [
      "StellarGraph: Undirected multigraph\n",
      " Nodes: 1986, Edges: 1000\n",
      "\n",
      " Node types:\n",
      "  default: [1986]\n",
      "    Features: none\n",
      "    Edge types: default-default->default\n",
      "\n",
      " Edge types:\n",
      "    default-default->default: [1000]\n",
      "        Weights: range=[0, 25], mean=10.29, std=9.99352\n",
      "        Features: float32 vector, length 1\n"
     ]
    }
   ],
   "source": [
    "gr = StellarGraph(\n",
    "    edges=f, source_column=\"from\", target_column=\"to\"\n",
    ")\n",
    "print(gr.info())"
   ]
  },
  {
   "cell_type": "code",
   "execution_count": null,
   "id": "cljnYWk9ZW40",
   "metadata": {
    "colab": {
     "base_uri": "https://localhost:8080/"
    },
    "executionInfo": {
     "elapsed": 3237,
     "status": "ok",
     "timestamp": 1653666205374,
     "user": {
      "displayName": "Hrishikesh Nambiar",
      "userId": "08977595704694154923"
     },
     "user_tz": -120
    },
    "id": "cljnYWk9ZW40",
    "outputId": "60348326-bd86-46d3-b06d-62b13480cc3e"
   },
   "outputs": [
    {
     "name": "stdout",
     "output_type": "stream",
     "text": [
      "** Sampled 100 positive and 100 negative edges. **\n",
      "StellarGraph: Undirected multigraph\n",
      " Nodes: 1986, Edges: 900\n",
      "\n",
      " Node types:\n",
      "  default: [1986]\n",
      "    Features: none\n",
      "    Edge types: default-default->default\n",
      "\n",
      " Edge types:\n",
      "    default-default->default: [900]\n",
      "        Weights: range=[0, 25], mean=10.3667, std=10.022\n",
      "        Features: none\n"
     ]
    }
   ],
   "source": [
    "# Define an edge splitter on the original graph:\n",
    "edge_splitter_test = EdgeSplitter(gr)\n",
    "\n",
    "# Randomly sample a fraction p=0.1 of all positive links, and same number of negative links, from graph, and obtain the\n",
    "# reduced graph graph_test with the sampled links removed:\n",
    "graph_test, examples_test, labels_test = edge_splitter_test.train_test_split(\n",
    "    p=0.1, method=\"global\"\n",
    ")\n",
    "\n",
    "print(graph_test.info())"
   ]
  },
  {
   "cell_type": "code",
   "execution_count": null,
   "id": "W5Ab4UaaFKfT",
   "metadata": {
    "colab": {
     "base_uri": "https://localhost:8080/"
    },
    "executionInfo": {
     "elapsed": 755,
     "status": "ok",
     "timestamp": 1653666217096,
     "user": {
      "displayName": "Hrishikesh Nambiar",
      "userId": "08977595704694154923"
     },
     "user_tz": -120
    },
    "id": "W5Ab4UaaFKfT",
    "outputId": "9bf16f40-4a0b-4f81-e48a-b12d0500b029"
   },
   "outputs": [
    {
     "name": "stdout",
     "output_type": "stream",
     "text": [
      "** Sampled 90 positive and 90 negative edges. **\n",
      "StellarGraph: Undirected multigraph\n",
      " Nodes: 1986, Edges: 810\n",
      "\n",
      " Node types:\n",
      "  default: [1986]\n",
      "    Features: none\n",
      "    Edge types: default-default->default\n",
      "\n",
      " Edge types:\n",
      "    default-default->default: [810]\n",
      "        Weights: range=[0, 25], mean=10.4188, std=10.0417\n",
      "        Features: none\n"
     ]
    }
   ],
   "source": [
    "# Do the same process to compute a training subset from within the test graph\n",
    "edge_splitter_train = EdgeSplitter(graph_test)\n",
    "graph_train, examples, labels = edge_splitter_train.train_test_split(\n",
    "    p=0.1, method=\"global\"\n",
    ")\n",
    "(\n",
    "    examples_train,\n",
    "    examples_model_selection,\n",
    "    labels_train,\n",
    "    labels_model_selection,\n",
    ") = train_test_split(examples, labels, train_size=0.75, test_size=0.25)\n",
    "\n",
    "print(graph_train.info())\n",
    "\n"
   ]
  },
  {
   "cell_type": "code",
   "execution_count": null,
   "id": "uWNjMhPEG2zR",
   "metadata": {
    "id": "uWNjMhPEG2zR"
   },
   "outputs": [],
   "source": [
    "from stellargraph.data import BiasedRandomWalk\n",
    "\n",
    "\n",
    "def create_biased_random_walker(graph, walk_num, walk_length):\n",
    "    # parameter settings for \"p\" and \"q\":\n",
    "    p = 1.0\n",
    "    q = 1.0\n",
    "    return BiasedRandomWalk(graph, n=walk_num, length=walk_length, p=p, q=q)\n",
    "\n"
   ]
  },
  {
   "cell_type": "code",
   "execution_count": null,
   "id": "E0X45Wx0G9dw",
   "metadata": {
    "id": "E0X45Wx0G9dw"
   },
   "outputs": [],
   "source": [
    "walk_length = 5\n",
    "epochs = 6\n",
    "batch_size = 50"
   ]
  },
  {
   "cell_type": "code",
   "execution_count": null,
   "id": "XkXkcVAfHGSm",
   "metadata": {
    "id": "XkXkcVAfHGSm"
   },
   "outputs": [],
   "source": [
    "from stellargraph.data import UnsupervisedSampler\n",
    "from stellargraph.mapper import Node2VecLinkGenerator, Node2VecNodeGenerator\n",
    "from stellargraph.layer import Node2Vec, link_classification\n",
    "from tensorflow import keras\n",
    "\n",
    "\n",
    "def node2vec_embedding(graph, name):\n",
    "\n",
    "    # Set the embedding dimension and walk number:\n",
    "    dimension = 128\n",
    "    walk_number = 20\n",
    "\n",
    "    print(f\"Training Node2Vec for '{name}':\")\n",
    "\n",
    "    graph_node_list = list(graph.nodes())\n",
    "\n",
    "    # Create the biased random walker to generate random walks\n",
    "    walker = create_biased_random_walker(graph, walk_number, walk_length)\n",
    "\n",
    "    # Create the unsupervised sampler to sample (target, context) pairs from random walks\n",
    "    unsupervised_samples = UnsupervisedSampler(\n",
    "        graph, nodes=graph_node_list, walker=walker\n",
    "    )\n",
    "\n",
    "    # Define a Node2Vec training generator, which generates batches of training pairs\n",
    "    generator = Node2VecLinkGenerator(graph, batch_size)\n",
    "\n",
    "    # Create the Node2Vec model\n",
    "    node2vec = Node2Vec(dimension, generator=generator)\n",
    "\n",
    "    # Build the model and expose input and output sockets of Node2Vec, for node pair inputs\n",
    "    x_inp, x_out = node2vec.in_out_tensors()\n",
    "\n",
    "    # Use the link_classification function to generate the output of the Node2Vec model\n",
    "    prediction = link_classification(\n",
    "        output_dim=1, output_act=\"sigmoid\", edge_embedding_method=\"dot\"\n",
    "    )(x_out)\n",
    "\n",
    "    # Stack the Node2Vec encoder and prediction layer into a Keras model, and specify the loss\n",
    "    model = keras.Model(inputs=x_inp, outputs=prediction)\n",
    "    model.compile(\n",
    "        optimizer=keras.optimizers.Adam(learning_rate=1e-3),\n",
    "        loss=keras.losses.binary_crossentropy,\n",
    "        metrics=[keras.metrics.binary_accuracy],\n",
    "    )\n",
    "\n",
    "    # Train the model\n",
    "    model.fit(\n",
    "        generator.flow(unsupervised_samples),\n",
    "        epochs=epochs,\n",
    "        verbose=2,\n",
    "        use_multiprocessing=False,\n",
    "        workers=4,\n",
    "        shuffle=True,\n",
    "    )\n",
    "\n",
    "    # Build the model to predict node representations from node ids with the learned Node2Vec model parameters\n",
    "    x_inp_src = x_inp[0]\n",
    "    x_out_src = x_out[0]\n",
    "    embedding_model = keras.Model(inputs=x_inp_src, outputs=x_out_src)\n",
    "\n",
    "    # Get representations for all nodes in ``graph``\n",
    "    node_gen = Node2VecNodeGenerator(graph, batch_size).flow(graph_node_list)\n",
    "    node_embeddings = embedding_model.predict(node_gen, workers=1, verbose=0)\n",
    "\n",
    "    def get_embedding(u):\n",
    "        u_index = graph_node_list.index(u)\n",
    "        return node_embeddings[u_index]\n",
    "\n",
    "    return get_embedding"
   ]
  },
  {
   "cell_type": "code",
   "execution_count": null,
   "id": "hZUcF96WHeLi",
   "metadata": {
    "id": "hZUcF96WHeLi"
   },
   "outputs": [],
   "source": [
    "from sklearn.pipeline import Pipeline\n",
    "from sklearn.linear_model import LogisticRegressionCV\n",
    "from sklearn.metrics import roc_auc_score\n",
    "from sklearn.preprocessing import StandardScaler\n",
    "\n",
    "\n",
    "# 1. link embeddings\n",
    "def link_examples_to_features(link_examples, transform_node, binary_operator):\n",
    "    return [\n",
    "        binary_operator(transform_node(src), transform_node(dst))\n",
    "        for src, dst in link_examples\n",
    "    ]\n",
    "\n",
    "\n",
    "# 2. training classifier\n",
    "def train_link_prediction_model(\n",
    "    link_examples, link_labels, get_embedding, binary_operator\n",
    "):\n",
    "    clf = link_prediction_classifier()\n",
    "    link_features = link_examples_to_features(\n",
    "        link_examples, get_embedding, binary_operator\n",
    "    )\n",
    "    clf.fit(link_features, link_labels)\n",
    "    return clf\n",
    "\n",
    "\n",
    "def link_prediction_classifier(max_iter=5000):\n",
    "    lr_clf = LogisticRegressionCV(Cs=10, cv=10, scoring=\"roc_auc\", max_iter=max_iter)\n",
    "    return Pipeline(steps=[(\"sc\", StandardScaler()), (\"clf\", lr_clf)])\n",
    "\n",
    "\n",
    "# 3. and 4. evaluate classifier\n",
    "def evaluate_link_prediction_model(\n",
    "    clf, link_examples_test, link_labels_test, get_embedding, binary_operator\n",
    "):\n",
    "    link_features_test = link_examples_to_features(\n",
    "        link_examples_test, get_embedding, binary_operator\n",
    "    )\n",
    "    score = evaluate_roc_auc(clf, link_features_test, link_labels_test)\n",
    "    return score\n",
    "\n",
    "\n",
    "def evaluate_roc_auc(clf, link_features, link_labels):\n",
    "    predicted = clf.predict_proba(link_features)\n",
    "\n",
    "    # check which class corresponds to positive links\n",
    "    positive_column = list(clf.classes_).index(1)\n",
    "    return roc_auc_score(link_labels, predicted[:, positive_column])\n"
   ]
  },
  {
   "cell_type": "code",
   "execution_count": null,
   "id": "0m0B8PK8Hh6a",
   "metadata": {
    "id": "0m0B8PK8Hh6a"
   },
   "outputs": [],
   "source": [
    "def operator_hadamard(u, v):\n",
    "    return u * v\n",
    "\n",
    "\n",
    "def operator_l1(u, v):\n",
    "    return np.abs(u - v)\n",
    "\n",
    "\n",
    "def operator_l2(u, v):\n",
    "    return (u - v) ** 2\n",
    "\n",
    "\n",
    "def operator_avg(u, v):\n",
    "    return (u + v) / 2.0\n",
    "\n",
    "\n",
    "def run_link_prediction(binary_operator, embedding_train):\n",
    "    clf = train_link_prediction_model(\n",
    "        examples_train, labels_train, embedding_train, binary_operator\n",
    "    )\n",
    "    score = evaluate_link_prediction_model(\n",
    "        clf,\n",
    "        examples_model_selection,\n",
    "        labels_model_selection,\n",
    "        embedding_train,\n",
    "        binary_operator,\n",
    "    )\n",
    "\n",
    "    return {\n",
    "        \"classifier\": clf,\n",
    "        \"binary_operator\": binary_operator,\n",
    "        \"score\": score,\n",
    "    }\n",
    "\n",
    "\n",
    "binary_operators = [operator_hadamard, operator_l1, operator_l2, operator_avg]"
   ]
  },
  {
   "cell_type": "code",
   "execution_count": null,
   "id": "Nx6GoWWCHle2",
   "metadata": {
    "id": "Nx6GoWWCHle2"
   },
   "outputs": [],
   "source": [
    "def train_and_evaluate(embedding, name):\n",
    "\n",
    "    embedding_train = embedding(graph_train, \"Train Graph\")\n",
    "\n",
    "    # Train the link classification model with the learned embedding\n",
    "    results = [run_link_prediction(op, embedding_train) for op in binary_operators]\n",
    "    best_result = max(results, key=lambda result: result[\"score\"])\n",
    "    print(\n",
    "        f\"\\nBest result with '{name}' embeddings from '{best_result['binary_operator'].__name__}'\"\n",
    "    )\n",
    "    display(\n",
    "        pd.DataFrame(\n",
    "            [(result[\"binary_operator\"].__name__, result[\"score\"]) for result in results],\n",
    "            columns=(\"name\", \"ROC AUC\"),\n",
    "        ).set_index(\"name\")\n",
    "    )\n",
    "\n",
    "    # Evaluate the best model using the test set\n",
    "    test_score = evaluate_link_prediction_model(\n",
    "        best_result[\"classifier\"],\n",
    "        examples_test,\n",
    "        labels_test,\n",
    "        embedding_train,\n",
    "        best_result[\"binary_operator\"],\n",
    "    )\n",
    "\n",
    "    # Calculate edge features for test data\n",
    "    link_features = link_examples_to_features(\n",
    "        examples_test, embedding_train, best_result[\"binary_operator\"] \n",
    "    )\n",
    "\n",
    "    # Learn a projection from 128 dimensions to 2\n",
    "    pca = PCA(n_components=2)\n",
    "    X_transformed = pca.fit_transform(link_features)\n",
    "\n",
    "    # plot the 2-dimensional points\n",
    "    plt.figure(figsize=(16, 12))\n",
    "    plt.scatter(\n",
    "      X_transformed[:, 0],\n",
    "      X_transformed[:, 1],\n",
    "      c=np.where(labels_test == 1, \"b\", \"r\"),\n",
    "      alpha=0.5,\n",
    "    )\n",
    "\n",
    "    return test_score\n",
    "\n"
   ]
  },
  {
   "cell_type": "code",
   "execution_count": null,
   "id": "r-8FqoEHHos9",
   "metadata": {
    "colab": {
     "base_uri": "https://localhost:8080/",
     "height": 1000
    },
    "executionInfo": {
     "elapsed": 462381,
     "status": "ok",
     "timestamp": 1653667085179,
     "user": {
      "displayName": "Hrishikesh Nambiar",
      "userId": "08977595704694154923"
     },
     "user_tz": -120
    },
    "id": "r-8FqoEHHos9",
    "outputId": "2c70e26d-d0e4-423f-9288-7ec6a6c9f987"
   },
   "outputs": [
    {
     "name": "stdout",
     "output_type": "stream",
     "text": [
      "Training Node2Vec for 'Train Graph':\n",
      "link_classification: using 'dot' method to combine node embeddings into edge embeddings\n",
      "Epoch 1/6\n",
      "5159/5159 - 52s - loss: 0.4205 - binary_accuracy: 0.7486 - 52s/epoch - 10ms/step\n",
      "Epoch 2/6\n",
      "5159/5159 - 50s - loss: 0.2522 - binary_accuracy: 0.8876 - 50s/epoch - 10ms/step\n",
      "Epoch 3/6\n",
      "5159/5159 - 50s - loss: 0.0451 - binary_accuracy: 0.9977 - 50s/epoch - 10ms/step\n",
      "Epoch 4/6\n",
      "5159/5159 - 50s - loss: 0.0087 - binary_accuracy: 0.9994 - 50s/epoch - 10ms/step\n",
      "Epoch 5/6\n",
      "5159/5159 - 53s - loss: 0.0063 - binary_accuracy: 0.9993 - 53s/epoch - 10ms/step\n",
      "Epoch 6/6\n",
      "5159/5159 - 51s - loss: 0.0066 - binary_accuracy: 0.9993 - 51s/epoch - 10ms/step\n",
      "\n",
      "Best result with 'Node2Vec' embeddings from 'operator_avg'\n"
     ]
    },
    {
     "data": {
      "text/html": [
       "\n",
       "  <div id=\"df-48e98638-1460-4cdb-8f4a-2d7ea1ed9768\">\n",
       "    <div class=\"colab-df-container\">\n",
       "      <div>\n",
       "<style scoped>\n",
       "    .dataframe tbody tr th:only-of-type {\n",
       "        vertical-align: middle;\n",
       "    }\n",
       "\n",
       "    .dataframe tbody tr th {\n",
       "        vertical-align: top;\n",
       "    }\n",
       "\n",
       "    .dataframe thead th {\n",
       "        text-align: right;\n",
       "    }\n",
       "</style>\n",
       "<table border=\"1\" class=\"dataframe\">\n",
       "  <thead>\n",
       "    <tr style=\"text-align: right;\">\n",
       "      <th></th>\n",
       "      <th>ROC AUC</th>\n",
       "    </tr>\n",
       "    <tr>\n",
       "      <th>name</th>\n",
       "      <th></th>\n",
       "    </tr>\n",
       "  </thead>\n",
       "  <tbody>\n",
       "    <tr>\n",
       "      <th>operator_hadamard</th>\n",
       "      <td>0.860</td>\n",
       "    </tr>\n",
       "    <tr>\n",
       "      <th>operator_l1</th>\n",
       "      <td>0.898</td>\n",
       "    </tr>\n",
       "    <tr>\n",
       "      <th>operator_l2</th>\n",
       "      <td>0.946</td>\n",
       "    </tr>\n",
       "    <tr>\n",
       "      <th>operator_avg</th>\n",
       "      <td>0.956</td>\n",
       "    </tr>\n",
       "  </tbody>\n",
       "</table>\n",
       "</div>\n",
       "      <button class=\"colab-df-convert\" onclick=\"convertToInteractive('df-48e98638-1460-4cdb-8f4a-2d7ea1ed9768')\"\n",
       "              title=\"Convert this dataframe to an interactive table.\"\n",
       "              style=\"display:none;\">\n",
       "        \n",
       "  <svg xmlns=\"http://www.w3.org/2000/svg\" height=\"24px\"viewBox=\"0 0 24 24\"\n",
       "       width=\"24px\">\n",
       "    <path d=\"M0 0h24v24H0V0z\" fill=\"none\"/>\n",
       "    <path d=\"M18.56 5.44l.94 2.06.94-2.06 2.06-.94-2.06-.94-.94-2.06-.94 2.06-2.06.94zm-11 1L8.5 8.5l.94-2.06 2.06-.94-2.06-.94L8.5 2.5l-.94 2.06-2.06.94zm10 10l.94 2.06.94-2.06 2.06-.94-2.06-.94-.94-2.06-.94 2.06-2.06.94z\"/><path d=\"M17.41 7.96l-1.37-1.37c-.4-.4-.92-.59-1.43-.59-.52 0-1.04.2-1.43.59L10.3 9.45l-7.72 7.72c-.78.78-.78 2.05 0 2.83L4 21.41c.39.39.9.59 1.41.59.51 0 1.02-.2 1.41-.59l7.78-7.78 2.81-2.81c.8-.78.8-2.07 0-2.86zM5.41 20L4 18.59l7.72-7.72 1.47 1.35L5.41 20z\"/>\n",
       "  </svg>\n",
       "      </button>\n",
       "      \n",
       "  <style>\n",
       "    .colab-df-container {\n",
       "      display:flex;\n",
       "      flex-wrap:wrap;\n",
       "      gap: 12px;\n",
       "    }\n",
       "\n",
       "    .colab-df-convert {\n",
       "      background-color: #E8F0FE;\n",
       "      border: none;\n",
       "      border-radius: 50%;\n",
       "      cursor: pointer;\n",
       "      display: none;\n",
       "      fill: #1967D2;\n",
       "      height: 32px;\n",
       "      padding: 0 0 0 0;\n",
       "      width: 32px;\n",
       "    }\n",
       "\n",
       "    .colab-df-convert:hover {\n",
       "      background-color: #E2EBFA;\n",
       "      box-shadow: 0px 1px 2px rgba(60, 64, 67, 0.3), 0px 1px 3px 1px rgba(60, 64, 67, 0.15);\n",
       "      fill: #174EA6;\n",
       "    }\n",
       "\n",
       "    [theme=dark] .colab-df-convert {\n",
       "      background-color: #3B4455;\n",
       "      fill: #D2E3FC;\n",
       "    }\n",
       "\n",
       "    [theme=dark] .colab-df-convert:hover {\n",
       "      background-color: #434B5C;\n",
       "      box-shadow: 0px 1px 3px 1px rgba(0, 0, 0, 0.15);\n",
       "      filter: drop-shadow(0px 1px 2px rgba(0, 0, 0, 0.3));\n",
       "      fill: #FFFFFF;\n",
       "    }\n",
       "  </style>\n",
       "\n",
       "      <script>\n",
       "        const buttonEl =\n",
       "          document.querySelector('#df-48e98638-1460-4cdb-8f4a-2d7ea1ed9768 button.colab-df-convert');\n",
       "        buttonEl.style.display =\n",
       "          google.colab.kernel.accessAllowed ? 'block' : 'none';\n",
       "\n",
       "        async function convertToInteractive(key) {\n",
       "          const element = document.querySelector('#df-48e98638-1460-4cdb-8f4a-2d7ea1ed9768');\n",
       "          const dataTable =\n",
       "            await google.colab.kernel.invokeFunction('convertToInteractive',\n",
       "                                                     [key], {});\n",
       "          if (!dataTable) return;\n",
       "\n",
       "          const docLinkHtml = 'Like what you see? Visit the ' +\n",
       "            '<a target=\"_blank\" href=https://colab.research.google.com/notebooks/data_table.ipynb>data table notebook</a>'\n",
       "            + ' to learn more about interactive tables.';\n",
       "          element.innerHTML = '';\n",
       "          dataTable['output_type'] = 'display_data';\n",
       "          await google.colab.output.renderOutput(dataTable, element);\n",
       "          const docLink = document.createElement('div');\n",
       "          docLink.innerHTML = docLinkHtml;\n",
       "          element.appendChild(docLink);\n",
       "        }\n",
       "      </script>\n",
       "    </div>\n",
       "  </div>\n",
       "  "
      ],
      "text/plain": [
       "                   ROC AUC\n",
       "name                      \n",
       "operator_hadamard    0.860\n",
       "operator_l1          0.898\n",
       "operator_l2          0.946\n",
       "operator_avg         0.956"
      ]
     },
     "metadata": {},
     "output_type": "display_data"
    },
    {
     "data": {
      "image/png": "[encoded data removed]",
      "text/plain": [
       "<Figure size 1152x864 with 1 Axes>"
      ]
     },
     "metadata": {
      "needs_background": "light"
     },
     "output_type": "display_data"
    }
   ],
   "source": [
    "node2vec_result = train_and_evaluate(node2vec_embedding, \"Node2Vec\")"
   ]
  }
 ],
 "metadata": {
  "colab": {
   "collapsed_sections": [
    "cb4cf7cd-e6c5-49c9-bab4-a04e92dc6431",
    "ae7af7eb-50d2-42be-b50d-87d3573a53dd",
    "2ba709a8-5a31-4cf5-abd6-246ed8e09fff"
   ],
   "name": "01_dataprep.ipynb",
   "provenance": []
  },
  "hide_input": false,
  "kernelspec": {
   "display_name": "Python 3 (ipykernel)",
   "language": "python",
   "name": "python3"
  },
  "language_info": {
   "codemirror_mode": {
    "name": "ipython",
    "version": 3
   },
   "file_extension": ".py",
   "mimetype": "text/x-python",
   "name": "python",
   "nbconvert_exporter": "python",
   "pygments_lexer": "ipython3",
   "version": "3.9.7"
  },
  "toc": {
   "base_numbering": 1,
   "nav_menu": {},
   "number_sections": true,
   "sideBar": true,
   "skip_h1_title": false,
   "title_cell": "Table of Contents",
   "title_sidebar": "Contents",
   "toc_cell": false,
   "toc_position": {},
   "toc_section_display": true,
   "toc_window_display": true
  },
  "varInspector": {
   "cols": {
    "lenName": 16,
    "lenType": 16,
    "lenVar": 40
   },
   "kernels_config": {
    "python": {
     "delete_cmd_postfix": "",
     "delete_cmd_prefix": "del ",
     "library": "var_list.py",
     "varRefreshCmd": "print(var_dic_list())"
    },
    "r": {
     "delete_cmd_postfix": ") ",
     "delete_cmd_prefix": "rm(",
     "library": "var_list.r",
     "varRefreshCmd": "cat(var_dic_list()) "
    }
   },
   "types_to_exclude": [
    "module",
    "function",
    "builtin_function_or_method",
    "instance",
    "_Feature"
   ],
   "window_display": false
  }
 },
 "nbformat": 4,
 "nbformat_minor": 5
}

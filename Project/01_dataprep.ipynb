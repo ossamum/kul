{
 "cells": [
  {
   "cell_type": "markdown",
   "id": "2b51dadc-06bd-4dc2-b4e0-9f1be81979c5",
   "metadata": {},
   "source": [
    "## Considerations"
   ]
  },
  {
   "cell_type": "markdown",
   "id": "a9bf5d3e-8af8-42bc-9966-5951f7bb8f3d",
   "metadata": {},
   "source": [
    "Dataset extracted from https://snap.stanford.edu/data/amazon0302.html\n",
    "- Amazon network https://snap.stanford.edu/data/amazon0302.html\n",
    "- Metadata https://snap.stanford.edu/data/amazon-meta.html"
   ]
  },
  {
   "cell_type": "markdown",
   "id": "6f5a7a29-3bd7-4a18-8591-ef3af934ebe3",
   "metadata": {},
   "source": [
    "## Importings"
   ]
  },
  {
   "cell_type": "code",
   "execution_count": 1,
   "id": "8b541865",
   "metadata": {
    "ExecuteTime": {
     "end_time": "2022-05-17T20:51:37.137722Z",
     "start_time": "2022-05-17T20:51:33.576840Z"
    }
   },
   "outputs": [],
   "source": [
    "import pandas as pd\n",
    "import numpy as np\n",
    "import os\n",
    "from tqdm import tqdm\n",
    "import matplotlib.pyplot as plt\n",
    "import seaborn as sns\n",
    "import igraph as ig\n",
    "import time\n",
    "import itertools\n",
    "import warnings\n",
    "import pickle\n",
    "\n",
    "warnings.filterwarnings('ignore')"
   ]
  },
  {
   "cell_type": "markdown",
   "id": "657f646d-1bad-4ab8-a9ad-0b7d97c5f7a0",
   "metadata": {},
   "source": [
    "## Dataset"
   ]
  },
  {
   "cell_type": "markdown",
   "id": "bf246da5-ca48-4f28-9813-39ba94bf0668",
   "metadata": {},
   "source": [
    "### Metadata"
   ]
  },
  {
   "cell_type": "markdown",
   "id": "42bbac43-3bbb-4956-8b00-16055dd982b1",
   "metadata": {},
   "source": [
    "Treating metadata and organizing into a pandas dataframe"
   ]
  },
  {
   "cell_type": "code",
   "execution_count": 7,
   "id": "97bf4ebe-ca46-4851-961f-2eadefcf4499",
   "metadata": {},
   "outputs": [],
   "source": [
    "# # read all lines of the meta data into content list\n",
    "# with open('amazon-meta.txt', encoding='utf8') as f:\n",
    "#     content = f.readlines()"
   ]
  },
  {
   "cell_type": "code",
   "execution_count": 9,
   "id": "c3198b39-f5c4-472f-a82c-9708c459bdb5",
   "metadata": {},
   "outputs": [],
   "source": [
    "# # remove the beginning and trailing white spaces\n",
    "# content = [x.strip() for x in content]"
   ]
  },
  {
   "cell_type": "code",
   "execution_count": 4,
   "id": "03edb96e-a933-4b7a-b55b-48371ec1825e",
   "metadata": {},
   "outputs": [],
   "source": [
    "# # Write extracted information to testfile.txt in a format of ',' demilited files.\n",
    "# # The columns are Id, title, group, categories, totalreviews, avgrating.\n",
    "# # The code stores all extracted information about a product into previoulines,\n",
    "# # and write the content into file only when all information are available. Hence,\n",
    "# # if review information for a product is not available, the product won't appear\n",
    "# # in the final file.\n",
    "# file = open(\"testfile.txt\",\"w\", encoding='utf8')\n",
    "# previouslines = ['Id', 'title', 'group', 'categories', 'totalreviews', 'avgrating']\n",
    "# for line in content:\n",
    "#     lines = line.split(':')\n",
    "#     if lines[0] == \"Id\":\n",
    "#         if (len(previouslines) == 6):\n",
    "#             for component in previouslines[0:5]:\n",
    "#                 file.write(component)\n",
    "#                 file.write(',')\n",
    "#             file.write(previouslines[5])\n",
    "#             file.write(\"\\n\")\n",
    "#         previouslines = []\n",
    "#         previouslines.append(lines[1].strip())\n",
    "        \n",
    "#     if lines[0] == \"title\":\n",
    "#         title = ':'.join(lines[1:]).strip().replace(',', ' ').replace('\\n', ' ').strip()\n",
    "#         previouslines.append(title)\n",
    "       \n",
    "#     if lines[0] == \"group\":\n",
    "#         previouslines.append(lines[1].strip())\n",
    "\n",
    "#     if lines[0] == \"categories\":\n",
    "#         previouslines.append(lines[1].strip())\n",
    "    \n",
    "#     if lines[0] == \"reviews\" and lines[1].strip() == \"total\":\n",
    "#         previouslines.append(lines[2].split(' ')[1])\n",
    "#         previouslines.append(lines[4].strip())\n",
    "# file.close()"
   ]
  },
  {
   "cell_type": "code",
   "execution_count": 2,
   "id": "53860d35-eba4-4e21-822b-0ea0e5902d85",
   "metadata": {
    "ExecuteTime": {
     "end_time": "2022-05-17T20:51:46.773885Z",
     "start_time": "2022-05-17T20:51:44.821008Z"
    }
   },
   "outputs": [],
   "source": [
    "# metadata\n",
    "desc = pd.read_csv('testfile.txt')"
   ]
  },
  {
   "cell_type": "code",
   "execution_count": 3,
   "id": "6d265e9f-49a4-456d-9641-1639b459b7b8",
   "metadata": {
    "ExecuteTime": {
     "end_time": "2022-05-17T20:51:51.980015Z",
     "start_time": "2022-05-17T20:51:51.937255Z"
    }
   },
   "outputs": [
    {
     "data": {
      "text/html": [
       "<div>\n",
       "<style scoped>\n",
       "    .dataframe tbody tr th:only-of-type {\n",
       "        vertical-align: middle;\n",
       "    }\n",
       "\n",
       "    .dataframe tbody tr th {\n",
       "        vertical-align: top;\n",
       "    }\n",
       "\n",
       "    .dataframe thead th {\n",
       "        text-align: right;\n",
       "    }\n",
       "</style>\n",
       "<table border=\"1\" class=\"dataframe\">\n",
       "  <thead>\n",
       "    <tr style=\"text-align: right;\">\n",
       "      <th></th>\n",
       "      <th>Id</th>\n",
       "      <th>title</th>\n",
       "      <th>group</th>\n",
       "      <th>categories</th>\n",
       "      <th>totalreviews</th>\n",
       "      <th>avgrating</th>\n",
       "    </tr>\n",
       "  </thead>\n",
       "  <tbody>\n",
       "    <tr>\n",
       "      <th>0</th>\n",
       "      <td>1</td>\n",
       "      <td>Patterns of Preaching: A Sermon Sampler</td>\n",
       "      <td>Book</td>\n",
       "      <td>2</td>\n",
       "      <td>2</td>\n",
       "      <td>5.0</td>\n",
       "    </tr>\n",
       "    <tr>\n",
       "      <th>1</th>\n",
       "      <td>2</td>\n",
       "      <td>Candlemas: Feast of Flames</td>\n",
       "      <td>Book</td>\n",
       "      <td>2</td>\n",
       "      <td>12</td>\n",
       "      <td>4.5</td>\n",
       "    </tr>\n",
       "    <tr>\n",
       "      <th>2</th>\n",
       "      <td>3</td>\n",
       "      <td>World War II Allied Fighter Planes Trading Cards</td>\n",
       "      <td>Book</td>\n",
       "      <td>1</td>\n",
       "      <td>1</td>\n",
       "      <td>5.0</td>\n",
       "    </tr>\n",
       "    <tr>\n",
       "      <th>3</th>\n",
       "      <td>4</td>\n",
       "      <td>Life Application Bible Commentary: 1 and 2 Tim...</td>\n",
       "      <td>Book</td>\n",
       "      <td>5</td>\n",
       "      <td>1</td>\n",
       "      <td>4.0</td>\n",
       "    </tr>\n",
       "    <tr>\n",
       "      <th>4</th>\n",
       "      <td>5</td>\n",
       "      <td>Prayers That Avail Much for Business: Executive</td>\n",
       "      <td>Book</td>\n",
       "      <td>2</td>\n",
       "      <td>0</td>\n",
       "      <td>0.0</td>\n",
       "    </tr>\n",
       "  </tbody>\n",
       "</table>\n",
       "</div>"
      ],
      "text/plain": [
       "   Id                                              title group  categories  \\\n",
       "0   1            Patterns of Preaching: A Sermon Sampler  Book           2   \n",
       "1   2                         Candlemas: Feast of Flames  Book           2   \n",
       "2   3   World War II Allied Fighter Planes Trading Cards  Book           1   \n",
       "3   4  Life Application Bible Commentary: 1 and 2 Tim...  Book           5   \n",
       "4   5    Prayers That Avail Much for Business: Executive  Book           2   \n",
       "\n",
       "   totalreviews  avgrating  \n",
       "0             2        5.0  \n",
       "1            12        4.5  \n",
       "2             1        5.0  \n",
       "3             1        4.0  \n",
       "4             0        0.0  "
      ]
     },
     "execution_count": 3,
     "metadata": {},
     "output_type": "execute_result"
    }
   ],
   "source": [
    "desc.head()"
   ]
  },
  {
   "cell_type": "markdown",
   "id": "33855a06-171e-4815-bc30-4c8d70413808",
   "metadata": {},
   "source": [
    "#### EDA"
   ]
  },
  {
   "cell_type": "code",
   "execution_count": 4,
   "id": "473d9c1d-067b-424b-8519-8a8d0d40b9a3",
   "metadata": {
    "ExecuteTime": {
     "end_time": "2022-05-17T20:51:55.888155Z",
     "start_time": "2022-05-17T20:51:55.229813Z"
    }
   },
   "outputs": [
    {
     "data": {
      "text/plain": [
       "Id              542683\n",
       "title           499796\n",
       "group               10\n",
       "categories          90\n",
       "totalreviews       958\n",
       "avgrating           10\n",
       "dtype: int64"
      ]
     },
     "execution_count": 4,
     "metadata": {},
     "output_type": "execute_result"
    }
   ],
   "source": [
    "desc.nunique()"
   ]
  },
  {
   "cell_type": "code",
   "execution_count": 5,
   "id": "775543cc-851f-4271-a3f3-52656bad45d5",
   "metadata": {
    "ExecuteTime": {
     "end_time": "2022-05-17T20:51:57.672210Z",
     "start_time": "2022-05-17T20:51:57.570813Z"
    }
   },
   "outputs": [
    {
     "data": {
      "text/plain": [
       "Book            393561\n",
       "Music           103143\n",
       "Video            26131\n",
       "DVD              19828\n",
       "Toy                  8\n",
       "Software             5\n",
       "CE                   4\n",
       "Video Games          1\n",
       "Baby Product         1\n",
       "Sports               1\n",
       "Name: group, dtype: int64"
      ]
     },
     "execution_count": 5,
     "metadata": {},
     "output_type": "execute_result"
    }
   ],
   "source": [
    "desc['group'].value_counts()"
   ]
  },
  {
   "cell_type": "code",
   "execution_count": 3,
   "id": "8f77bc6c-5e0b-4296-a388-8b7d84477e7d",
   "metadata": {
    "ExecuteTime": {
     "end_time": "2022-05-17T20:52:01.969708Z",
     "start_time": "2022-05-17T20:52:01.824754Z"
    }
   },
   "outputs": [],
   "source": [
    "desc = desc[desc['group'].isin(['Book', 'Music', 'DVD', 'Video'])]"
   ]
  },
  {
   "cell_type": "code",
   "execution_count": 7,
   "id": "79ec465a-6add-42be-9948-6e0c5c651a62",
   "metadata": {},
   "outputs": [
    {
     "data": {
      "image/png": "[encoded data removed]",
      "text/plain": [
       "<Figure size 432x288 with 1 Axes>"
      ]
     },
     "metadata": {
      "needs_background": "light"
     },
     "output_type": "display_data"
    }
   ],
   "source": [
    "sns.countplot(data=desc, y='group');"
   ]
  },
  {
   "cell_type": "code",
   "execution_count": 8,
   "id": "ccb0d2db-d199-4199-9bce-556efd46ee94",
   "metadata": {},
   "outputs": [
    {
     "data": {
      "text/html": [
       "<div>\n",
       "<style scoped>\n",
       "    .dataframe tbody tr th:only-of-type {\n",
       "        vertical-align: middle;\n",
       "    }\n",
       "\n",
       "    .dataframe tbody tr th {\n",
       "        vertical-align: top;\n",
       "    }\n",
       "\n",
       "    .dataframe thead th {\n",
       "        text-align: right;\n",
       "    }\n",
       "</style>\n",
       "<table border=\"1\" class=\"dataframe\">\n",
       "  <thead>\n",
       "    <tr style=\"text-align: right;\">\n",
       "      <th></th>\n",
       "      <th>Id</th>\n",
       "      <th>title</th>\n",
       "      <th>group</th>\n",
       "      <th>categories</th>\n",
       "      <th>totalreviews</th>\n",
       "      <th>avgrating</th>\n",
       "    </tr>\n",
       "  </thead>\n",
       "  <tbody>\n",
       "    <tr>\n",
       "      <th>0</th>\n",
       "      <td>1</td>\n",
       "      <td>Patterns of Preaching: A Sermon Sampler</td>\n",
       "      <td>Book</td>\n",
       "      <td>2</td>\n",
       "      <td>2</td>\n",
       "      <td>5.0</td>\n",
       "    </tr>\n",
       "    <tr>\n",
       "      <th>1</th>\n",
       "      <td>2</td>\n",
       "      <td>Candlemas: Feast of Flames</td>\n",
       "      <td>Book</td>\n",
       "      <td>2</td>\n",
       "      <td>12</td>\n",
       "      <td>4.5</td>\n",
       "    </tr>\n",
       "  </tbody>\n",
       "</table>\n",
       "</div>"
      ],
      "text/plain": [
       "   Id                                    title group  categories  \\\n",
       "0   1  Patterns of Preaching: A Sermon Sampler  Book           2   \n",
       "1   2               Candlemas: Feast of Flames  Book           2   \n",
       "\n",
       "   totalreviews  avgrating  \n",
       "0             2        5.0  \n",
       "1            12        4.5  "
      ]
     },
     "execution_count": 8,
     "metadata": {},
     "output_type": "execute_result"
    }
   ],
   "source": [
    "desc.head(2)"
   ]
  },
  {
   "cell_type": "code",
   "execution_count": 9,
   "id": "5a7d6f2c-0ccc-49b5-b72b-07a925e8ffb9",
   "metadata": {},
   "outputs": [
    {
     "data": {
      "text/html": [
       "<div>\n",
       "<style scoped>\n",
       "    .dataframe tbody tr th:only-of-type {\n",
       "        vertical-align: middle;\n",
       "    }\n",
       "\n",
       "    .dataframe tbody tr th {\n",
       "        vertical-align: top;\n",
       "    }\n",
       "\n",
       "    .dataframe thead th {\n",
       "        text-align: right;\n",
       "    }\n",
       "</style>\n",
       "<table border=\"1\" class=\"dataframe\">\n",
       "  <thead>\n",
       "    <tr style=\"text-align: right;\">\n",
       "      <th></th>\n",
       "      <th>totalreviews</th>\n",
       "      <th>avgrating</th>\n",
       "    </tr>\n",
       "  </thead>\n",
       "  <tbody>\n",
       "    <tr>\n",
       "      <th>totalreviews</th>\n",
       "      <td>1.000000</td>\n",
       "      <td>0.093652</td>\n",
       "    </tr>\n",
       "    <tr>\n",
       "      <th>avgrating</th>\n",
       "      <td>0.093652</td>\n",
       "      <td>1.000000</td>\n",
       "    </tr>\n",
       "  </tbody>\n",
       "</table>\n",
       "</div>"
      ],
      "text/plain": [
       "              totalreviews  avgrating\n",
       "totalreviews      1.000000   0.093652\n",
       "avgrating         0.093652   1.000000"
      ]
     },
     "execution_count": 9,
     "metadata": {},
     "output_type": "execute_result"
    }
   ],
   "source": [
    "desc[['totalreviews', 'avgrating']].corr()"
   ]
  },
  {
   "cell_type": "code",
   "execution_count": 10,
   "id": "f4675a1f-f227-4d1e-a4ef-d44d7514fe6d",
   "metadata": {},
   "outputs": [
    {
     "data": {
      "image/png": "[encoded data removed]",
      "text/plain": [
       "<Figure size 432x288 with 1 Axes>"
      ]
     },
     "metadata": {
      "needs_background": "light"
     },
     "output_type": "display_data"
    }
   ],
   "source": [
    "sns.histplot(data=desc, x='totalreviews', bins=10);"
   ]
  },
  {
   "cell_type": "code",
   "execution_count": 22,
   "id": "5533b286-5c80-44c2-8d3a-4b4fe04f8110",
   "metadata": {},
   "outputs": [
    {
     "data": {
      "image/png": "[encoded data removed]",
      "text/plain": [
       "<Figure size 432x288 with 1 Axes>"
      ]
     },
     "metadata": {
      "needs_background": "light"
     },
     "output_type": "display_data"
    }
   ],
   "source": [
    "sns.histplot(data=desc, x='avgrating');"
   ]
  },
  {
   "cell_type": "code",
   "execution_count": null,
   "id": "984cf8b3-d9df-4d15-857e-83b879b90d91",
   "metadata": {},
   "outputs": [
    {
     "data": {
      "text/plain": [
       "<AxesSubplot:>"
      ]
     },
     "execution_count": 21,
     "metadata": {},
     "output_type": "execute_result"
    },
    {
     "data": {
      "image/png": "[encoded data removed]",
      "text/plain": [
       "<Figure size 432x288 with 1 Axes>"
      ]
     },
     "metadata": {
      "needs_background": "light"
     },
     "output_type": "display_data"
    }
   ],
   "source": [
    "desc['avgrating'].hist()"
   ]
  },
  {
   "cell_type": "markdown",
   "id": "f93fce38-7152-43ef-a0c3-19dcf3f14661",
   "metadata": {},
   "source": [
    "### Network"
   ]
  },
  {
   "cell_type": "markdown",
   "id": "1bf0d196-6075-4bbd-9df9-97a81b1c493f",
   "metadata": {},
   "source": [
    "Reading dataframe and merging with metadata information"
   ]
  },
  {
   "cell_type": "code",
   "execution_count": 4,
   "id": "7a9b1de2-5594-46f8-81f1-212260a9f4e1",
   "metadata": {
    "ExecuteTime": {
     "end_time": "2022-05-17T20:52:13.926465Z",
     "start_time": "2022-05-17T20:52:13.238531Z"
    }
   },
   "outputs": [],
   "source": [
    "df = pd.read_csv('Amazon0302.txt', skiprows=4, header=None, sep='\\t', names=['from', 'to'])"
   ]
  },
  {
   "cell_type": "code",
   "execution_count": 5,
   "id": "9e6f64cf",
   "metadata": {
    "ExecuteTime": {
     "end_time": "2022-05-17T20:52:19.921018Z",
     "start_time": "2022-05-17T20:52:18.210852Z"
    }
   },
   "outputs": [],
   "source": [
    "# Join the link data with the meta data. The joined data contains the description for\n",
    "# from node product as well as to node product.\n",
    "df = (\n",
    "    df\n",
    "    .merge(desc, left_on=['from'], right_on=['Id'], suffixes=['.1', '.from'])\n",
    "    .merge(desc, left_on=['to'], right_on=['Id'], suffixes=['.from', '.to'])\n",
    ")"
   ]
  },
  {
   "cell_type": "code",
   "execution_count": 6,
   "id": "61f2deb8-eedc-45fc-9a65-1c12cfbfc48b",
   "metadata": {},
   "outputs": [
    {
     "data": {
      "text/html": [
       "<div>\n",
       "<style scoped>\n",
       "    .dataframe tbody tr th:only-of-type {\n",
       "        vertical-align: middle;\n",
       "    }\n",
       "\n",
       "    .dataframe tbody tr th {\n",
       "        vertical-align: top;\n",
       "    }\n",
       "\n",
       "    .dataframe thead th {\n",
       "        text-align: right;\n",
       "    }\n",
       "</style>\n",
       "<table border=\"1\" class=\"dataframe\">\n",
       "  <thead>\n",
       "    <tr style=\"text-align: right;\">\n",
       "      <th></th>\n",
       "      <th>from</th>\n",
       "      <th>to</th>\n",
       "      <th>Id.from</th>\n",
       "      <th>title.from</th>\n",
       "      <th>group.from</th>\n",
       "      <th>categories.from</th>\n",
       "      <th>totalreviews.from</th>\n",
       "      <th>avgrating.from</th>\n",
       "      <th>Id.to</th>\n",
       "      <th>title.to</th>\n",
       "      <th>group.to</th>\n",
       "      <th>categories.to</th>\n",
       "      <th>totalreviews.to</th>\n",
       "      <th>avgrating.to</th>\n",
       "    </tr>\n",
       "  </thead>\n",
       "  <tbody>\n",
       "    <tr>\n",
       "      <th>0</th>\n",
       "      <td>1</td>\n",
       "      <td>2</td>\n",
       "      <td>1</td>\n",
       "      <td>Patterns of Preaching: A Sermon Sampler</td>\n",
       "      <td>Book</td>\n",
       "      <td>2</td>\n",
       "      <td>2</td>\n",
       "      <td>5.0</td>\n",
       "      <td>2</td>\n",
       "      <td>Candlemas: Feast of Flames</td>\n",
       "      <td>Book</td>\n",
       "      <td>2</td>\n",
       "      <td>12</td>\n",
       "      <td>4.5</td>\n",
       "    </tr>\n",
       "    <tr>\n",
       "      <th>1</th>\n",
       "      <td>1</td>\n",
       "      <td>4</td>\n",
       "      <td>1</td>\n",
       "      <td>Patterns of Preaching: A Sermon Sampler</td>\n",
       "      <td>Book</td>\n",
       "      <td>2</td>\n",
       "      <td>2</td>\n",
       "      <td>5.0</td>\n",
       "      <td>4</td>\n",
       "      <td>Life Application Bible Commentary: 1 and 2 Tim...</td>\n",
       "      <td>Book</td>\n",
       "      <td>5</td>\n",
       "      <td>1</td>\n",
       "      <td>4.0</td>\n",
       "    </tr>\n",
       "    <tr>\n",
       "      <th>2</th>\n",
       "      <td>16</td>\n",
       "      <td>4</td>\n",
       "      <td>16</td>\n",
       "      <td>War at Sea: A Naval History of World War II</td>\n",
       "      <td>Book</td>\n",
       "      <td>3</td>\n",
       "      <td>10</td>\n",
       "      <td>4.5</td>\n",
       "      <td>4</td>\n",
       "      <td>Life Application Bible Commentary: 1 and 2 Tim...</td>\n",
       "      <td>Book</td>\n",
       "      <td>5</td>\n",
       "      <td>1</td>\n",
       "      <td>4.0</td>\n",
       "    </tr>\n",
       "  </tbody>\n",
       "</table>\n",
       "</div>"
      ],
      "text/plain": [
       "   from  to  Id.from                                   title.from group.from  \\\n",
       "0     1   2        1      Patterns of Preaching: A Sermon Sampler       Book   \n",
       "1     1   4        1      Patterns of Preaching: A Sermon Sampler       Book   \n",
       "2    16   4       16  War at Sea: A Naval History of World War II       Book   \n",
       "\n",
       "   categories.from  totalreviews.from  avgrating.from  Id.to  \\\n",
       "0                2                  2             5.0      2   \n",
       "1                2                  2             5.0      4   \n",
       "2                3                 10             4.5      4   \n",
       "\n",
       "                                            title.to group.to  categories.to  \\\n",
       "0                         Candlemas: Feast of Flames     Book              2   \n",
       "1  Life Application Bible Commentary: 1 and 2 Tim...     Book              5   \n",
       "2  Life Application Bible Commentary: 1 and 2 Tim...     Book              5   \n",
       "\n",
       "   totalreviews.to  avgrating.to  \n",
       "0               12           4.5  \n",
       "1                1           4.0  \n",
       "2                1           4.0  "
      ]
     },
     "execution_count": 6,
     "metadata": {},
     "output_type": "execute_result"
    }
   ],
   "source": [
    "df.head(3)"
   ]
  },
  {
   "cell_type": "markdown",
   "id": "9aa96457-6746-4237-beb2-2f5fbeff9e1c",
   "metadata": {},
   "source": [
    "## EDA"
   ]
  },
  {
   "cell_type": "markdown",
   "id": "40f85abb-93cb-4e92-8d98-e04255d24233",
   "metadata": {},
   "source": [
    "Basic exploratory analysis"
   ]
  },
  {
   "cell_type": "code",
   "execution_count": 7,
   "id": "0366fab3-227f-4c75-80a6-22ba0a02d366",
   "metadata": {
    "ExecuteTime": {
     "end_time": "2022-05-17T20:52:20.965957Z",
     "start_time": "2022-05-17T20:52:20.481849Z"
    }
   },
   "outputs": [
    {
     "name": "stdout",
     "output_type": "stream",
     "text": [
      "Unique titles: 499776\n",
      "Unique Categories: 90\n"
     ]
    }
   ],
   "source": [
    "print('Unique titles:', desc['title'].nunique())\n",
    "print('Unique Categories:', desc['categories'].nunique())"
   ]
  },
  {
   "cell_type": "code",
   "execution_count": 8,
   "id": "0d322b8f-a9a5-4f91-afda-a5a25ef8a63c",
   "metadata": {
    "ExecuteTime": {
     "end_time": "2022-05-17T20:52:21.230061Z",
     "start_time": "2022-05-17T20:52:21.122132Z"
    }
   },
   "outputs": [
    {
     "data": {
      "text/plain": [
       "Book     393561\n",
       "Music    103143\n",
       "Video     26131\n",
       "DVD       19828\n",
       "Name: group, dtype: int64"
      ]
     },
     "execution_count": 8,
     "metadata": {},
     "output_type": "execute_result"
    }
   ],
   "source": [
    "desc['group'].value_counts()"
   ]
  },
  {
   "cell_type": "code",
   "execution_count": 9,
   "id": "1f51ff73-9d93-4a89-a357-9abb0c4c1216",
   "metadata": {},
   "outputs": [
    {
     "data": {
      "text/plain": [
       "(1207262, 14)"
      ]
     },
     "execution_count": 9,
     "metadata": {},
     "output_type": "execute_result"
    }
   ],
   "source": [
    "df.shape"
   ]
  },
  {
   "cell_type": "code",
   "execution_count": 10,
   "id": "01da4450-9a39-4c1b-ae0f-47a84f6e4b27",
   "metadata": {
    "ExecuteTime": {
     "end_time": "2022-05-17T20:52:23.788171Z",
     "start_time": "2022-05-17T20:52:23.741158Z"
    }
   },
   "outputs": [
    {
     "data": {
      "text/html": [
       "<div>\n",
       "<style scoped>\n",
       "    .dataframe tbody tr th:only-of-type {\n",
       "        vertical-align: middle;\n",
       "    }\n",
       "\n",
       "    .dataframe tbody tr th {\n",
       "        vertical-align: top;\n",
       "    }\n",
       "\n",
       "    .dataframe thead th {\n",
       "        text-align: right;\n",
       "    }\n",
       "</style>\n",
       "<table border=\"1\" class=\"dataframe\">\n",
       "  <thead>\n",
       "    <tr style=\"text-align: right;\">\n",
       "      <th></th>\n",
       "      <th>from</th>\n",
       "      <th>to</th>\n",
       "      <th>Id.from</th>\n",
       "      <th>title.from</th>\n",
       "      <th>group.from</th>\n",
       "      <th>categories.from</th>\n",
       "      <th>totalreviews.from</th>\n",
       "      <th>avgrating.from</th>\n",
       "      <th>Id.to</th>\n",
       "      <th>title.to</th>\n",
       "      <th>group.to</th>\n",
       "      <th>categories.to</th>\n",
       "      <th>totalreviews.to</th>\n",
       "      <th>avgrating.to</th>\n",
       "    </tr>\n",
       "  </thead>\n",
       "  <tbody>\n",
       "    <tr>\n",
       "      <th>0</th>\n",
       "      <td>1</td>\n",
       "      <td>2</td>\n",
       "      <td>1</td>\n",
       "      <td>Patterns of Preaching: A Sermon Sampler</td>\n",
       "      <td>Book</td>\n",
       "      <td>2</td>\n",
       "      <td>2</td>\n",
       "      <td>5.0</td>\n",
       "      <td>2</td>\n",
       "      <td>Candlemas: Feast of Flames</td>\n",
       "      <td>Book</td>\n",
       "      <td>2</td>\n",
       "      <td>12</td>\n",
       "      <td>4.5</td>\n",
       "    </tr>\n",
       "    <tr>\n",
       "      <th>1</th>\n",
       "      <td>1</td>\n",
       "      <td>4</td>\n",
       "      <td>1</td>\n",
       "      <td>Patterns of Preaching: A Sermon Sampler</td>\n",
       "      <td>Book</td>\n",
       "      <td>2</td>\n",
       "      <td>2</td>\n",
       "      <td>5.0</td>\n",
       "      <td>4</td>\n",
       "      <td>Life Application Bible Commentary: 1 and 2 Tim...</td>\n",
       "      <td>Book</td>\n",
       "      <td>5</td>\n",
       "      <td>1</td>\n",
       "      <td>4.0</td>\n",
       "    </tr>\n",
       "    <tr>\n",
       "      <th>2</th>\n",
       "      <td>16</td>\n",
       "      <td>4</td>\n",
       "      <td>16</td>\n",
       "      <td>War at Sea: A Naval History of World War II</td>\n",
       "      <td>Book</td>\n",
       "      <td>3</td>\n",
       "      <td>10</td>\n",
       "      <td>4.5</td>\n",
       "      <td>4</td>\n",
       "      <td>Life Application Bible Commentary: 1 and 2 Tim...</td>\n",
       "      <td>Book</td>\n",
       "      <td>5</td>\n",
       "      <td>1</td>\n",
       "      <td>4.0</td>\n",
       "    </tr>\n",
       "  </tbody>\n",
       "</table>\n",
       "</div>"
      ],
      "text/plain": [
       "   from  to  Id.from                                   title.from group.from  \\\n",
       "0     1   2        1      Patterns of Preaching: A Sermon Sampler       Book   \n",
       "1     1   4        1      Patterns of Preaching: A Sermon Sampler       Book   \n",
       "2    16   4       16  War at Sea: A Naval History of World War II       Book   \n",
       "\n",
       "   categories.from  totalreviews.from  avgrating.from  Id.to  \\\n",
       "0                2                  2             5.0      2   \n",
       "1                2                  2             5.0      4   \n",
       "2                3                 10             4.5      4   \n",
       "\n",
       "                                            title.to group.to  categories.to  \\\n",
       "0                         Candlemas: Feast of Flames     Book              2   \n",
       "1  Life Application Bible Commentary: 1 and 2 Tim...     Book              5   \n",
       "2  Life Application Bible Commentary: 1 and 2 Tim...     Book              5   \n",
       "\n",
       "   totalreviews.to  avgrating.to  \n",
       "0               12           4.5  \n",
       "1                1           4.0  \n",
       "2                1           4.0  "
      ]
     },
     "execution_count": 10,
     "metadata": {},
     "output_type": "execute_result"
    }
   ],
   "source": [
    "df.head(3)"
   ]
  },
  {
   "cell_type": "markdown",
   "id": "37d83f8c-7d15-4d5a-b687-b98896c2a87d",
   "metadata": {},
   "source": [
    "## Creating graph"
   ]
  },
  {
   "cell_type": "markdown",
   "id": "ddcde85a",
   "metadata": {},
   "source": [
    "### Vertices"
   ]
  },
  {
   "cell_type": "code",
   "execution_count": 10,
   "id": "02d5694f-63d0-469e-904b-ee8e7cb62d46",
   "metadata": {},
   "outputs": [
    {
     "data": {
      "text/html": [
       "<div>\n",
       "<style scoped>\n",
       "    .dataframe tbody tr th:only-of-type {\n",
       "        vertical-align: middle;\n",
       "    }\n",
       "\n",
       "    .dataframe tbody tr th {\n",
       "        vertical-align: top;\n",
       "    }\n",
       "\n",
       "    .dataframe thead th {\n",
       "        text-align: right;\n",
       "    }\n",
       "</style>\n",
       "<table border=\"1\" class=\"dataframe\">\n",
       "  <thead>\n",
       "    <tr style=\"text-align: right;\">\n",
       "      <th></th>\n",
       "      <th>from</th>\n",
       "      <th>to</th>\n",
       "      <th>Id.from</th>\n",
       "      <th>title.from</th>\n",
       "      <th>group.from</th>\n",
       "      <th>categories.from</th>\n",
       "      <th>totalreviews.from</th>\n",
       "      <th>avgrating.from</th>\n",
       "      <th>Id.to</th>\n",
       "      <th>title.to</th>\n",
       "      <th>group.to</th>\n",
       "      <th>categories.to</th>\n",
       "      <th>totalreviews.to</th>\n",
       "      <th>avgrating.to</th>\n",
       "    </tr>\n",
       "  </thead>\n",
       "  <tbody>\n",
       "    <tr>\n",
       "      <th>0</th>\n",
       "      <td>1</td>\n",
       "      <td>2</td>\n",
       "      <td>1</td>\n",
       "      <td>Patterns of Preaching: A Sermon Sampler</td>\n",
       "      <td>Book</td>\n",
       "      <td>2</td>\n",
       "      <td>2</td>\n",
       "      <td>5.0</td>\n",
       "      <td>2</td>\n",
       "      <td>Candlemas: Feast of Flames</td>\n",
       "      <td>Book</td>\n",
       "      <td>2</td>\n",
       "      <td>12</td>\n",
       "      <td>4.5</td>\n",
       "    </tr>\n",
       "    <tr>\n",
       "      <th>1</th>\n",
       "      <td>1</td>\n",
       "      <td>4</td>\n",
       "      <td>1</td>\n",
       "      <td>Patterns of Preaching: A Sermon Sampler</td>\n",
       "      <td>Book</td>\n",
       "      <td>2</td>\n",
       "      <td>2</td>\n",
       "      <td>5.0</td>\n",
       "      <td>4</td>\n",
       "      <td>Life Application Bible Commentary: 1 and 2 Tim...</td>\n",
       "      <td>Book</td>\n",
       "      <td>5</td>\n",
       "      <td>1</td>\n",
       "      <td>4.0</td>\n",
       "    </tr>\n",
       "  </tbody>\n",
       "</table>\n",
       "</div>"
      ],
      "text/plain": [
       "   from  to  Id.from                               title.from group.from  \\\n",
       "0     1   2        1  Patterns of Preaching: A Sermon Sampler       Book   \n",
       "1     1   4        1  Patterns of Preaching: A Sermon Sampler       Book   \n",
       "\n",
       "   categories.from  totalreviews.from  avgrating.from  Id.to  \\\n",
       "0                2                  2             5.0      2   \n",
       "1                2                  2             5.0      4   \n",
       "\n",
       "                                            title.to group.to  categories.to  \\\n",
       "0                         Candlemas: Feast of Flames     Book              2   \n",
       "1  Life Application Bible Commentary: 1 and 2 Tim...     Book              5   \n",
       "\n",
       "   totalreviews.to  avgrating.to  \n",
       "0               12           4.5  \n",
       "1                1           4.0  "
      ]
     },
     "execution_count": 10,
     "metadata": {},
     "output_type": "execute_result"
    }
   ],
   "source": [
    "df.head(2)"
   ]
  },
  {
   "cell_type": "code",
   "execution_count": 11,
   "id": "31faf834-ae80-40fb-ab84-12e7332324d5",
   "metadata": {
    "ExecuteTime": {
     "end_time": "2022-05-17T20:53:05.448704Z",
     "start_time": "2022-05-17T20:53:05.406301Z"
    }
   },
   "outputs": [],
   "source": [
    "# creating weight for edges\n",
    "# avgrating performed better and indicates the strenght of higher ratings\n",
    "\n",
    "# df['same_category'] = np.where(df['categories.from']==df['categories.to'], 1, 0)\n",
    "df['avgrating'] = df['avgrating.from'] * df['avgrating.to']"
   ]
  },
  {
   "cell_type": "code",
   "execution_count": 23,
   "id": "ae3fa273-940b-43e5-a877-be2ab975a7a2",
   "metadata": {
    "ExecuteTime": {
     "end_time": "2022-05-17T20:53:15.847532Z",
     "start_time": "2022-05-17T20:53:09.280975Z"
    }
   },
   "outputs": [],
   "source": [
    "g = ig.Graph.DataFrame(df[['from', 'to', 'avgrating']], directed=False)"
   ]
  },
  {
   "cell_type": "code",
   "execution_count": 13,
   "id": "7de4af57-aa4c-4a54-967d-c09d44311cf5",
   "metadata": {
    "ExecuteTime": {
     "end_time": "2022-05-17T20:54:14.696571Z",
     "start_time": "2022-05-17T20:54:14.687981Z"
    }
   },
   "outputs": [
    {
     "data": {
      "text/plain": [
       "'IGRAPH UN-- 259092 1207262 -- \\n+ attr: name (v), avgrating (e)'"
      ]
     },
     "execution_count": 13,
     "metadata": {},
     "output_type": "execute_result"
    }
   ],
   "source": [
    "g.summary()"
   ]
  },
  {
   "cell_type": "code",
   "execution_count": 14,
   "id": "37b5b62d-afac-4247-947d-ef8cac273ef3",
   "metadata": {
    "ExecuteTime": {
     "end_time": "2022-05-17T21:10:59.897897Z",
     "start_time": "2022-05-17T21:10:59.883695Z"
    }
   },
   "outputs": [
    {
     "data": {
      "text/plain": [
       "['name']"
      ]
     },
     "execution_count": 14,
     "metadata": {},
     "output_type": "execute_result"
    }
   ],
   "source": [
    "g.vs.attribute_names()"
   ]
  },
  {
   "cell_type": "code",
   "execution_count": 21,
   "id": "2e60a84f-f47f-415c-8d9e-3340bd6a0ec6",
   "metadata": {
    "ExecuteTime": {
     "start_time": "2022-05-17T21:11:08.147Z"
    }
   },
   "outputs": [],
   "source": [
    "degree = pd.DataFrame({\n",
    "    'degree': g.degree()\n",
    "}) "
   ]
  },
  {
   "cell_type": "code",
   "execution_count": 22,
   "id": "14d683c6-4a7f-4f80-ab5e-f24a19572961",
   "metadata": {
    "ExecuteTime": {
     "start_time": "2022-05-17T21:11:11.860Z"
    }
   },
   "outputs": [
    {
     "data": {
      "image/png": "[encoded data removed]",
      "text/plain": [
       "<Figure size 720x288 with 2 Axes>"
      ]
     },
     "metadata": {
      "needs_background": "light"
     },
     "output_type": "display_data"
    }
   ],
   "source": [
    "_, ax = plt.subplots(1, 2, figsize=(10, 4))\n",
    "\n",
    "sns.histplot(data=degree, x='degree', bins=10, ax=ax[0])\n",
    "sns.kdeplot(data=degree, x='degree', ax=ax[1])\n",
    "plt.tight_layout();"
   ]
  },
  {
   "cell_type": "markdown",
   "id": "198594a9-3bdf-427c-be94-e93d9dedae1c",
   "metadata": {},
   "source": [
    "## Clustering"
   ]
  },
  {
   "cell_type": "markdown",
   "id": "3e8ec37b-ecc5-46e8-b62f-b11310af6d0b",
   "metadata": {},
   "source": [
    "Selecting only the highest connected network"
   ]
  },
  {
   "cell_type": "code",
   "execution_count": 24,
   "id": "35d9f4a4-6abb-49f9-9b56-4e209fa20d65",
   "metadata": {},
   "outputs": [
    {
     "name": "stdout",
     "output_type": "stream",
     "text": [
      "# connected components 22\n"
     ]
    }
   ],
   "source": [
    "cc = g.clusters(mode='weak')\n",
    "print('# connected components', len(cc))"
   ]
  },
  {
   "cell_type": "code",
   "execution_count": 25,
   "id": "de51f5ff-fc31-4c9e-9e46-c10037d2ff7e",
   "metadata": {},
   "outputs": [],
   "source": [
    "cc = np.array(\n",
    "    sorted(cc, key=len, reverse=True), dtype='object'\n",
    ")"
   ]
  },
  {
   "cell_type": "code",
   "execution_count": 26,
   "id": "8fa4714b-add7-466f-85de-924a9cef5e4d",
   "metadata": {},
   "outputs": [],
   "source": [
    "g = g.subgraph(cc[0])"
   ]
  },
  {
   "cell_type": "markdown",
   "id": "1a17f838-3958-46cf-af67-2ff7eca14767",
   "metadata": {},
   "source": [
    "Trying different community detection algorithms without and with the weights created"
   ]
  },
  {
   "cell_type": "code",
   "execution_count": 27,
   "id": "ef86f74a-b875-41b0-b43c-aebe707b64ab",
   "metadata": {},
   "outputs": [
    {
     "data": {
      "text/plain": [
       "'IGRAPH UN-- 258958 1206732 -- \\n+ attr: name (v), avgrating (e)'"
      ]
     },
     "execution_count": 27,
     "metadata": {},
     "output_type": "execute_result"
    }
   ],
   "source": [
    "g.summary()"
   ]
  },
  {
   "cell_type": "markdown",
   "id": "cb4cf7cd-e6c5-49c9-bab4-a04e92dc6431",
   "metadata": {},
   "source": [
    "### Leiden"
   ]
  },
  {
   "cell_type": "code",
   "execution_count": 28,
   "id": "7fc8b6db-12a1-4d01-a2c0-cfdb2aa919a9",
   "metadata": {},
   "outputs": [
    {
     "name": "stdout",
     "output_type": "stream",
     "text": [
      "Time elapsed: 10.479373931884766\n",
      "Modularity: 0.8016318808178481\n"
     ]
    }
   ],
   "source": [
    "start = time.time()\n",
    "coms_leid = g.community_leiden(weights=g.es['avgrating'])\n",
    "print('Time elapsed:', time.time() - start)\n",
    "print('Modularity:', coms_leid.modularity)"
   ]
  },
  {
   "cell_type": "markdown",
   "id": "ae7af7eb-50d2-42be-b50d-87d3573a53dd",
   "metadata": {},
   "source": [
    "### Louvain"
   ]
  },
  {
   "cell_type": "code",
   "execution_count": null,
   "id": "98ff0a6e-af34-4f5a-815b-773de158898c",
   "metadata": {},
   "outputs": [
    {
     "name": "stdout",
     "output_type": "stream",
     "text": [
      "Time elapsed: 20.428160429000854\n",
      "Modularity: 0.9299888560473315\n"
     ]
    }
   ],
   "source": [
    "start = time.time()\n",
    "coms_louv = g.community_multilevel(weights=g.es['avgrating'])\n",
    "print('Time elapsed:', time.time() - start)\n",
    "print('Modularity:', coms_louv.modularity)"
   ]
  },
  {
   "cell_type": "markdown",
   "id": "2ba709a8-5a31-4cf5-abd6-246ed8e09fff",
   "metadata": {},
   "source": [
    "### Walktrap"
   ]
  },
  {
   "cell_type": "code",
   "execution_count": null,
   "id": "ff58a1ca-9990-4df5-8a63-9d9f95a83a1c",
   "metadata": {},
   "outputs": [],
   "source": [
    "start = time.time()\n",
    "coms_walk = g.community_walktrap(weights=g.es['avgrating'])\n",
    "print('Time elapsed:', time.time() - start)"
   ]
  },
  {
   "cell_type": "code",
   "execution_count": null,
   "id": "e3f4825e-f0c5-4790-98fa-b5d310076912",
   "metadata": {},
   "outputs": [],
   "source": [
    "coms_walk = coms_walk.as_clustering()\n",
    "print('Modularity:', coms_walk.modularity)"
   ]
  },
  {
   "cell_type": "code",
   "execution_count": null,
   "id": "024ad51a-90d6-44ea-a28a-aa011939f240",
   "metadata": {},
   "outputs": [],
   "source": []
  },
  {
   "cell_type": "code",
   "execution_count": null,
   "id": "dd3faed0-5ce8-4228-825f-479439040263",
   "metadata": {},
   "outputs": [],
   "source": [
    "with open('coms_walk.pkl', 'wb') as f:\n",
    "    pickle.dump(coms_walk, f)"
   ]
  },
  {
   "cell_type": "code",
   "execution_count": null,
   "id": "1cdde438-e25b-4ab7-af2a-42221b20170f",
   "metadata": {},
   "outputs": [],
   "source": []
  },
  {
   "cell_type": "markdown",
   "id": "ec710871-161f-49b1-87b1-e4a2742f8c4b",
   "metadata": {},
   "source": [
    "### Label propagation"
   ]
  },
  {
   "cell_type": "code",
   "execution_count": null,
   "id": "5fca00a3-de79-4ac0-9524-91b3177c8250",
   "metadata": {},
   "outputs": [],
   "source": [
    "start = time.time()\n",
    "coms_label = g.community_label_propagation(weights=g.es['avgrating'])\n",
    "print('Time elapsed:', time.time() - start)\n",
    "print('Modularity:', coms_label.modularity)"
   ]
  },
  {
   "cell_type": "code",
   "execution_count": null,
   "id": "67cf0f2e-4b63-439f-9ca1-8d6f36f05155",
   "metadata": {},
   "outputs": [],
   "source": [
    "with open('coms_label.pkl', 'wb') as f:\n",
    "    pickle.dump(coms_label, f)"
   ]
  },
  {
   "cell_type": "code",
   "execution_count": null,
   "id": "8f6a86ec-3736-4c82-89f6-f38aa86149ca",
   "metadata": {},
   "outputs": [],
   "source": []
  },
  {
   "cell_type": "markdown",
   "id": "a68f5af7-501e-4c25-b57e-2c7df773dc49",
   "metadata": {},
   "source": [
    "### Infomap"
   ]
  },
  {
   "cell_type": "code",
   "execution_count": null,
   "id": "91d2b352-df67-4344-8845-9d73e7d1f9e5",
   "metadata": {},
   "outputs": [],
   "source": [
    "start = time.time()\n",
    "coms_info = g.community_label_propagation(weights=g.es['avgrating'])\n",
    "print('Time elapsed:', time.time() - start)\n",
    "print('Modularity:', coms_info.modularity)"
   ]
  },
  {
   "cell_type": "code",
   "execution_count": null,
   "id": "20e0a4e5-a27d-4cdd-8eeb-f8af035631f3",
   "metadata": {},
   "outputs": [],
   "source": [
    "with open('coms_info.pkl', 'wb') as f:\n",
    "    pickle.dump(coms_info, f)"
   ]
  },
  {
   "cell_type": "code",
   "execution_count": null,
   "id": "de94e9c5-b188-4682-8d9f-4bd53c447092",
   "metadata": {},
   "outputs": [],
   "source": []
  },
  {
   "cell_type": "code",
   "execution_count": null,
   "id": "c4a51c48-7504-442d-b49c-4194a3e24028",
   "metadata": {},
   "outputs": [],
   "source": []
  },
  {
   "cell_type": "code",
   "execution_count": null,
   "id": "f4541945-fef9-4fb7-8e31-14c4da14cc53",
   "metadata": {},
   "outputs": [],
   "source": []
  },
  {
   "cell_type": "markdown",
   "id": "77bd4bf6-5496-43b1-8394-7e2f54d8b4a5",
   "metadata": {},
   "source": [
    "### Save community"
   ]
  },
  {
   "cell_type": "code",
   "execution_count": 139,
   "id": "59fb06ff-a1cd-4a3b-b740-94e3e1c5681d",
   "metadata": {},
   "outputs": [],
   "source": [
    "coms = {\n",
    "    'leiden_raw': coms_leid_raw,\n",
    "    'leiden_weighted': coms_leid_w,\n",
    "    'louvain_raw': coms_louv_raw,\n",
    "    'louvain_weighted': coms_louv_w,\n",
    "    'infomap_raw': coms_info_raw,\n",
    "    'infomap_weighted': coms_info_w\n",
    "}"
   ]
  },
  {
   "cell_type": "code",
   "execution_count": 140,
   "id": "cb3dc02d-5aad-4cf7-8c73-e108bcc974ec",
   "metadata": {},
   "outputs": [],
   "source": [
    "# with open('coms.pkl', 'wb') as f:\n",
    "#     pickle.dump(coms, f)\n",
    "\n",
    "# with open('coms.pkl', 'rb') as f:\n",
    "#     coms = pickle.load(f)"
   ]
  },
  {
   "cell_type": "markdown",
   "id": "a4fdd187-b0f2-4ab5-9c39-7bff895a71e5",
   "metadata": {},
   "source": [
    "## Evaluating clusters"
   ]
  },
  {
   "cell_type": "code",
   "execution_count": 145,
   "id": "db7729a3-b8ad-4c9a-836c-ade4d668dca3",
   "metadata": {},
   "outputs": [],
   "source": [
    "df_coms = pd.DataFrame({\n",
    "    'Id': g.vs()['name']\n",
    "})"
   ]
  },
  {
   "cell_type": "code",
   "execution_count": 147,
   "id": "242c2047-6559-4327-9ec8-08d446af27dc",
   "metadata": {},
   "outputs": [],
   "source": [
    "for i, j in coms.items():\n",
    "    df_coms[i] = j.membership"
   ]
  },
  {
   "cell_type": "code",
   "execution_count": 62,
   "id": "a9886383-5d72-472c-8d33-3b9119d665ac",
   "metadata": {},
   "outputs": [],
   "source": [
    "df_coms = pd.DataFrame({\n",
    "    'Id': g.vs()['name'],\n",
    "    names[0]: coms[0].membership,\n",
    "    names[1]: coms[1].membership,\n",
    "    names[2]: coms[2].membership,\n",
    "    names[3]: coms[3].membership,\n",
    "    names[4]: coms[4].membership,\n",
    "    names[5]: coms[5].membership\n",
    "})"
   ]
  },
  {
   "cell_type": "code",
   "execution_count": 149,
   "id": "8f898c03-4f25-4d27-8e29-04b1d3ab574d",
   "metadata": {},
   "outputs": [],
   "source": [
    "df_coms_summary = pd.DataFrame({\n",
    "    'modularity': [i.modularity for i in coms.values()],\n",
    "    'communities': [len(set(i.membership)) for i in coms.values()]\n",
    "}, index=names).sort_values('modularity')"
   ]
  },
  {
   "cell_type": "code",
   "execution_count": 266,
   "id": "2ad9f9bd-7a05-49b5-95d5-3e68a403fcc6",
   "metadata": {},
   "outputs": [
    {
     "data": {
      "text/html": [
       "<div>\n",
       "<style scoped>\n",
       "    .dataframe tbody tr th:only-of-type {\n",
       "        vertical-align: middle;\n",
       "    }\n",
       "\n",
       "    .dataframe tbody tr th {\n",
       "        vertical-align: top;\n",
       "    }\n",
       "\n",
       "    .dataframe thead th {\n",
       "        text-align: right;\n",
       "    }\n",
       "</style>\n",
       "<table border=\"1\" class=\"dataframe\">\n",
       "  <thead>\n",
       "    <tr style=\"text-align: right;\">\n",
       "      <th></th>\n",
       "      <th>modularity</th>\n",
       "      <th>communities</th>\n",
       "    </tr>\n",
       "  </thead>\n",
       "  <tbody>\n",
       "    <tr>\n",
       "      <th>infomap_raw</th>\n",
       "      <td>0.238708</td>\n",
       "      <td>82429</td>\n",
       "    </tr>\n",
       "    <tr>\n",
       "      <th>infomap_weighted</th>\n",
       "      <td>0.305514</td>\n",
       "      <td>119043</td>\n",
       "    </tr>\n",
       "    <tr>\n",
       "      <th>leiden_raw</th>\n",
       "      <td>0.412101</td>\n",
       "      <td>113844</td>\n",
       "    </tr>\n",
       "    <tr>\n",
       "      <th>leiden_weighted</th>\n",
       "      <td>0.801689</td>\n",
       "      <td>92377</td>\n",
       "    </tr>\n",
       "    <tr>\n",
       "      <th>louvain_raw</th>\n",
       "      <td>0.915548</td>\n",
       "      <td>198</td>\n",
       "    </tr>\n",
       "    <tr>\n",
       "      <th>louvain_weighted</th>\n",
       "      <td>0.930238</td>\n",
       "      <td>72698</td>\n",
       "    </tr>\n",
       "  </tbody>\n",
       "</table>\n",
       "</div>"
      ],
      "text/plain": [
       "                  modularity  communities\n",
       "infomap_raw         0.238708        82429\n",
       "infomap_weighted    0.305514       119043\n",
       "leiden_raw          0.412101       113844\n",
       "leiden_weighted     0.801689        92377\n",
       "louvain_raw         0.915548          198\n",
       "louvain_weighted    0.930238        72698"
      ]
     },
     "execution_count": 266,
     "metadata": {},
     "output_type": "execute_result"
    }
   ],
   "source": [
    "df_coms_summary"
   ]
  },
  {
   "cell_type": "markdown",
   "id": "37ba1e1d-0de4-4dbe-9872-c89ff9409b58",
   "metadata": {},
   "source": [
    "Louvain weighted presented the highest modularity and showed 72698 communities"
   ]
  },
  {
   "cell_type": "code",
   "execution_count": 151,
   "id": "a629fdad-76d8-4d67-b73b-81344ecfe5dc",
   "metadata": {},
   "outputs": [
    {
     "data": {
      "image/png": "[encoded data removed]",
      "text/plain": [
       "<Figure size 864x288 with 2 Axes>"
      ]
     },
     "metadata": {
      "needs_background": "light"
     },
     "output_type": "display_data"
    }
   ],
   "source": [
    "_, ax = plt.subplots(1, 2, sharey=True, figsize=(12, 4))\n",
    "\n",
    "df_coms_summary['modularity'].plot.barh(title='Modularity', ax=ax[0])\n",
    "df_coms_summary['communities'].plot.barh(title='# communities', ax=ax[1]);"
   ]
  },
  {
   "cell_type": "markdown",
   "id": "ad2752d0-477d-4341-980c-5fc4acdc3fc2",
   "metadata": {},
   "source": [
    "We can compare the nmi and adjusted rand between the communities created"
   ]
  },
  {
   "cell_type": "code",
   "execution_count": 155,
   "id": "d41b035d-a8c2-4b18-b82f-68f0dbf57fe1",
   "metadata": {},
   "outputs": [],
   "source": [
    "comb_names = []\n",
    "comb_nmi = []\n",
    "comb_rand = []\n",
    "\n",
    "for n, c in zip(itertools.combinations(coms.keys(), 2), itertools.combinations(coms.values(), 2)):\n",
    "    comb_names.append(f'{n[0]} & {n[1]}')\n",
    "    comb_nmi.append(ig.compare_communities(c[0], c[1], method='nmi'))\n",
    "    comb_rand.append(ig.compare_communities(c[0], c[1], method='adjusted_rand'))"
   ]
  },
  {
   "cell_type": "code",
   "execution_count": 156,
   "id": "ccca31e4-4250-4980-8a1d-3c998a9bf93a",
   "metadata": {},
   "outputs": [
    {
     "data": {
      "text/html": [
       "<div>\n",
       "<style scoped>\n",
       "    .dataframe tbody tr th:only-of-type {\n",
       "        vertical-align: middle;\n",
       "    }\n",
       "\n",
       "    .dataframe tbody tr th {\n",
       "        vertical-align: top;\n",
       "    }\n",
       "\n",
       "    .dataframe thead th {\n",
       "        text-align: right;\n",
       "    }\n",
       "</style>\n",
       "<table border=\"1\" class=\"dataframe\">\n",
       "  <thead>\n",
       "    <tr style=\"text-align: right;\">\n",
       "      <th></th>\n",
       "      <th>nmi</th>\n",
       "      <th>adjusted_rand</th>\n",
       "    </tr>\n",
       "  </thead>\n",
       "  <tbody>\n",
       "    <tr>\n",
       "      <th>louvain_raw &amp; infomap_weighted</th>\n",
       "      <td>0.543463</td>\n",
       "      <td>0.001682</td>\n",
       "    </tr>\n",
       "    <tr>\n",
       "      <th>louvain_raw &amp; infomap_raw</th>\n",
       "      <td>0.552436</td>\n",
       "      <td>0.001810</td>\n",
       "    </tr>\n",
       "    <tr>\n",
       "      <th>leiden_raw &amp; louvain_raw</th>\n",
       "      <td>0.558492</td>\n",
       "      <td>0.000931</td>\n",
       "    </tr>\n",
       "    <tr>\n",
       "      <th>leiden_weighted &amp; louvain_raw</th>\n",
       "      <td>0.575382</td>\n",
       "      <td>0.003226</td>\n",
       "    </tr>\n",
       "    <tr>\n",
       "      <th>louvain_raw &amp; louvain_weighted</th>\n",
       "      <td>0.586484</td>\n",
       "      <td>0.297765</td>\n",
       "    </tr>\n",
       "    <tr>\n",
       "      <th>louvain_weighted &amp; infomap_raw</th>\n",
       "      <td>0.710586</td>\n",
       "      <td>0.002263</td>\n",
       "    </tr>\n",
       "    <tr>\n",
       "      <th>leiden_raw &amp; louvain_weighted</th>\n",
       "      <td>0.723267</td>\n",
       "      <td>0.001205</td>\n",
       "    </tr>\n",
       "    <tr>\n",
       "      <th>louvain_weighted &amp; infomap_weighted</th>\n",
       "      <td>0.758176</td>\n",
       "      <td>0.004159</td>\n",
       "    </tr>\n",
       "    <tr>\n",
       "      <th>leiden_weighted &amp; louvain_weighted</th>\n",
       "      <td>0.794863</td>\n",
       "      <td>0.008179</td>\n",
       "    </tr>\n",
       "    <tr>\n",
       "      <th>leiden_weighted &amp; infomap_raw</th>\n",
       "      <td>0.903192</td>\n",
       "      <td>0.151666</td>\n",
       "    </tr>\n",
       "    <tr>\n",
       "      <th>infomap_raw &amp; infomap_weighted</th>\n",
       "      <td>0.911587</td>\n",
       "      <td>0.156474</td>\n",
       "    </tr>\n",
       "    <tr>\n",
       "      <th>leiden_raw &amp; infomap_weighted</th>\n",
       "      <td>0.915724</td>\n",
       "      <td>0.068400</td>\n",
       "    </tr>\n",
       "    <tr>\n",
       "      <th>leiden_raw &amp; infomap_raw</th>\n",
       "      <td>0.922277</td>\n",
       "      <td>0.131208</td>\n",
       "    </tr>\n",
       "    <tr>\n",
       "      <th>leiden_weighted &amp; infomap_weighted</th>\n",
       "      <td>0.925663</td>\n",
       "      <td>0.222361</td>\n",
       "    </tr>\n",
       "    <tr>\n",
       "      <th>leiden_raw &amp; leiden_weighted</th>\n",
       "      <td>0.929254</td>\n",
       "      <td>0.222426</td>\n",
       "    </tr>\n",
       "  </tbody>\n",
       "</table>\n",
       "</div>"
      ],
      "text/plain": [
       "                                          nmi  adjusted_rand\n",
       "louvain_raw & infomap_weighted       0.543463       0.001682\n",
       "louvain_raw & infomap_raw            0.552436       0.001810\n",
       "leiden_raw & louvain_raw             0.558492       0.000931\n",
       "leiden_weighted & louvain_raw        0.575382       0.003226\n",
       "louvain_raw & louvain_weighted       0.586484       0.297765\n",
       "louvain_weighted & infomap_raw       0.710586       0.002263\n",
       "leiden_raw & louvain_weighted        0.723267       0.001205\n",
       "louvain_weighted & infomap_weighted  0.758176       0.004159\n",
       "leiden_weighted & louvain_weighted   0.794863       0.008179\n",
       "leiden_weighted & infomap_raw        0.903192       0.151666\n",
       "infomap_raw & infomap_weighted       0.911587       0.156474\n",
       "leiden_raw & infomap_weighted        0.915724       0.068400\n",
       "leiden_raw & infomap_raw             0.922277       0.131208\n",
       "leiden_weighted & infomap_weighted   0.925663       0.222361\n",
       "leiden_raw & leiden_weighted         0.929254       0.222426"
      ]
     },
     "execution_count": 156,
     "metadata": {},
     "output_type": "execute_result"
    }
   ],
   "source": [
    "df_comb = pd.DataFrame({\n",
    "    'nmi': comb_nmi,\n",
    "    'adjusted_rand': comb_rand\n",
    "}, index=comb_names).sort_values('nmi')\n",
    "\n",
    "df_comb"
   ]
  },
  {
   "cell_type": "code",
   "execution_count": 157,
   "id": "cbcdebfb-72a2-4ce5-aaf4-c4c3321bbf88",
   "metadata": {},
   "outputs": [
    {
     "data": {
      "image/png": "[encoded data removed]",
      "text/plain": [
       "<Figure size 864x288 with 2 Axes>"
      ]
     },
     "metadata": {
      "needs_background": "light"
     },
     "output_type": "display_data"
    }
   ],
   "source": [
    "_, ax = plt.subplots(1, 2, sharey=True, figsize=(12, 4))\n",
    "df_comb['nmi'].plot.barh(title='NMI', ax=ax[0])\n",
    "df_comb['adjusted_rand'].plot.barh(title='Adjusted rand', ax=ax[1]);"
   ]
  },
  {
   "cell_type": "markdown",
   "id": "4302bffc-a9c8-47a6-a6dd-146450cf7849",
   "metadata": {},
   "source": [
    "## Louvaing weighted"
   ]
  },
  {
   "cell_type": "markdown",
   "id": "e7de724a-f748-4126-a914-9c88c0a689a3",
   "metadata": {},
   "source": [
    "Selecting the highest community of louvain weighted"
   ]
  },
  {
   "cell_type": "code",
   "execution_count": 234,
   "id": "4b8d78b4-16c3-4555-9b78-6a44f57b427c",
   "metadata": {},
   "outputs": [],
   "source": [
    "g_giant_louv_w = coms['louvain_weighted'].giant()"
   ]
  },
  {
   "cell_type": "code",
   "execution_count": 243,
   "id": "16d640b8-b04b-425f-9ab4-31d3ee3ea229",
   "metadata": {},
   "outputs": [],
   "source": [
    "df_giant_louv_w = pd.DataFrame({\n",
    "    'Id': g_giant_louv_w.vs['name'],\n",
    "    'degree': g_giant_louv_w.degree(),\n",
    "    'betweenness': g_giant_louv_w.betweenness(),\n",
    "    'clustering_coefficient': g_giant_louv_w.transitivity_local_undirected()\n",
    "})"
   ]
  },
  {
   "cell_type": "code",
   "execution_count": 246,
   "id": "76bace78-690a-4687-bd4d-f11a21219d67",
   "metadata": {},
   "outputs": [],
   "source": [
    "df_giant_louv_w['Id'] = df_giant_louv_w['Id'].astype(int)"
   ]
  },
  {
   "cell_type": "code",
   "execution_count": 248,
   "id": "4b1fbfdc-2e78-4201-a7c9-8813498096ab",
   "metadata": {},
   "outputs": [],
   "source": [
    "df_giant_louv_w = df_giant_louv_w.merge(desc, on='Id')"
   ]
  },
  {
   "cell_type": "code",
   "execution_count": 250,
   "id": "334d29d6-31cc-4458-aec4-00e2e5218a2f",
   "metadata": {},
   "outputs": [
    {
     "data": {
      "text/plain": [
       "(9443, 9)"
      ]
     },
     "execution_count": 250,
     "metadata": {},
     "output_type": "execute_result"
    }
   ],
   "source": [
    "df_giant_louv_w.shape"
   ]
  },
  {
   "cell_type": "markdown",
   "id": "5d14c23c-4117-496a-bba9-8a0586ac8105",
   "metadata": {},
   "source": [
    "We can check the products of the highest community "
   ]
  },
  {
   "cell_type": "code",
   "execution_count": 264,
   "id": "a3e384be-856b-451d-8f7c-225fc686a89a",
   "metadata": {},
   "outputs": [
    {
     "data": {
      "text/html": [
       "<div>\n",
       "<style scoped>\n",
       "    .dataframe tbody tr th:only-of-type {\n",
       "        vertical-align: middle;\n",
       "    }\n",
       "\n",
       "    .dataframe tbody tr th {\n",
       "        vertical-align: top;\n",
       "    }\n",
       "\n",
       "    .dataframe thead th {\n",
       "        text-align: right;\n",
       "    }\n",
       "</style>\n",
       "<table border=\"1\" class=\"dataframe\">\n",
       "  <thead>\n",
       "    <tr style=\"text-align: right;\">\n",
       "      <th></th>\n",
       "      <th>Id</th>\n",
       "      <th>degree</th>\n",
       "      <th>betweenness</th>\n",
       "      <th>clustering_coefficient</th>\n",
       "      <th>title</th>\n",
       "      <th>group</th>\n",
       "      <th>categories</th>\n",
       "      <th>totalreviews</th>\n",
       "      <th>avgrating</th>\n",
       "    </tr>\n",
       "  </thead>\n",
       "  <tbody>\n",
       "    <tr>\n",
       "      <th>0</th>\n",
       "      <td>33</td>\n",
       "      <td>109</td>\n",
       "      <td>4.624166e+06</td>\n",
       "      <td>0.012232</td>\n",
       "      <td>Double Jeopardy (T*Witches  6)</td>\n",
       "      <td>Book</td>\n",
       "      <td>6</td>\n",
       "      <td>4</td>\n",
       "      <td>5.0</td>\n",
       "    </tr>\n",
       "    <tr>\n",
       "      <th>1</th>\n",
       "      <td>94</td>\n",
       "      <td>41</td>\n",
       "      <td>5.495148e+05</td>\n",
       "      <td>0.068293</td>\n",
       "      <td>The American Heritage Dictionary of Idioms</td>\n",
       "      <td>Book</td>\n",
       "      <td>4</td>\n",
       "      <td>15</td>\n",
       "      <td>4.0</td>\n",
       "    </tr>\n",
       "    <tr>\n",
       "      <th>2</th>\n",
       "      <td>96</td>\n",
       "      <td>24</td>\n",
       "      <td>3.224198e+05</td>\n",
       "      <td>0.110672</td>\n",
       "      <td>Becoming a Contagious Christian</td>\n",
       "      <td>Book</td>\n",
       "      <td>3</td>\n",
       "      <td>21</td>\n",
       "      <td>4.0</td>\n",
       "    </tr>\n",
       "    <tr>\n",
       "      <th>3</th>\n",
       "      <td>132</td>\n",
       "      <td>17</td>\n",
       "      <td>2.586935e+05</td>\n",
       "      <td>0.044118</td>\n",
       "      <td>Iyanla Live! : Back to Basics (Iyanla Live!)</td>\n",
       "      <td>Book</td>\n",
       "      <td>10</td>\n",
       "      <td>1</td>\n",
       "      <td>5.0</td>\n",
       "    </tr>\n",
       "    <tr>\n",
       "      <th>5</th>\n",
       "      <td>151</td>\n",
       "      <td>65</td>\n",
       "      <td>2.833857e+06</td>\n",
       "      <td>0.055812</td>\n",
       "      <td>Laurel &amp; Hardy - Flying Deuces/Utopia</td>\n",
       "      <td>DVD</td>\n",
       "      <td>16</td>\n",
       "      <td>13</td>\n",
       "      <td>3.0</td>\n",
       "    </tr>\n",
       "    <tr>\n",
       "      <th>...</th>\n",
       "      <td>...</td>\n",
       "      <td>...</td>\n",
       "      <td>...</td>\n",
       "      <td>...</td>\n",
       "      <td>...</td>\n",
       "      <td>...</td>\n",
       "      <td>...</td>\n",
       "      <td>...</td>\n",
       "      <td>...</td>\n",
       "    </tr>\n",
       "    <tr>\n",
       "      <th>4010</th>\n",
       "      <td>32307</td>\n",
       "      <td>19</td>\n",
       "      <td>1.187560e+05</td>\n",
       "      <td>0.175000</td>\n",
       "      <td>The Source of My Strength (EZ Lesson Plan (Boo...</td>\n",
       "      <td>Book</td>\n",
       "      <td>1</td>\n",
       "      <td>10</td>\n",
       "      <td>5.0</td>\n",
       "    </tr>\n",
       "    <tr>\n",
       "      <th>4096</th>\n",
       "      <td>33220</td>\n",
       "      <td>23</td>\n",
       "      <td>1.027311e+05</td>\n",
       "      <td>0.180952</td>\n",
       "      <td>Joven Para Morir</td>\n",
       "      <td>Music</td>\n",
       "      <td>14</td>\n",
       "      <td>1</td>\n",
       "      <td>3.0</td>\n",
       "    </tr>\n",
       "    <tr>\n",
       "      <th>4206</th>\n",
       "      <td>34536</td>\n",
       "      <td>17</td>\n",
       "      <td>1.209194e+05</td>\n",
       "      <td>0.180952</td>\n",
       "      <td>Big N Round</td>\n",
       "      <td>Music</td>\n",
       "      <td>2</td>\n",
       "      <td>2</td>\n",
       "      <td>4.0</td>\n",
       "    </tr>\n",
       "    <tr>\n",
       "      <th>4634</th>\n",
       "      <td>40706</td>\n",
       "      <td>16</td>\n",
       "      <td>2.539695e+05</td>\n",
       "      <td>0.054945</td>\n",
       "      <td>The Story of Art</td>\n",
       "      <td>Book</td>\n",
       "      <td>2</td>\n",
       "      <td>18</td>\n",
       "      <td>5.0</td>\n",
       "    </tr>\n",
       "    <tr>\n",
       "      <th>4819</th>\n",
       "      <td>43572</td>\n",
       "      <td>15</td>\n",
       "      <td>2.071379e+05</td>\n",
       "      <td>0.131868</td>\n",
       "      <td>Oh  My Goodness: More Surprises from Fairacres</td>\n",
       "      <td>Book</td>\n",
       "      <td>2</td>\n",
       "      <td>2</td>\n",
       "      <td>5.0</td>\n",
       "    </tr>\n",
       "  </tbody>\n",
       "</table>\n",
       "<p>219 rows × 9 columns</p>\n",
       "</div>"
      ],
      "text/plain": [
       "         Id  degree   betweenness  clustering_coefficient  \\\n",
       "0        33     109  4.624166e+06                0.012232   \n",
       "1        94      41  5.495148e+05                0.068293   \n",
       "2        96      24  3.224198e+05                0.110672   \n",
       "3       132      17  2.586935e+05                0.044118   \n",
       "5       151      65  2.833857e+06                0.055812   \n",
       "...     ...     ...           ...                     ...   \n",
       "4010  32307      19  1.187560e+05                0.175000   \n",
       "4096  33220      23  1.027311e+05                0.180952   \n",
       "4206  34536      17  1.209194e+05                0.180952   \n",
       "4634  40706      16  2.539695e+05                0.054945   \n",
       "4819  43572      15  2.071379e+05                0.131868   \n",
       "\n",
       "                                                  title  group  categories  \\\n",
       "0                        Double Jeopardy (T*Witches  6)   Book           6   \n",
       "1            The American Heritage Dictionary of Idioms   Book           4   \n",
       "2                       Becoming a Contagious Christian   Book           3   \n",
       "3          Iyanla Live! : Back to Basics (Iyanla Live!)   Book          10   \n",
       "5                 Laurel & Hardy - Flying Deuces/Utopia    DVD          16   \n",
       "...                                                 ...    ...         ...   \n",
       "4010  The Source of My Strength (EZ Lesson Plan (Boo...   Book           1   \n",
       "4096                                   Joven Para Morir  Music          14   \n",
       "4206                                        Big N Round  Music           2   \n",
       "4634                                   The Story of Art   Book           2   \n",
       "4819     Oh  My Goodness: More Surprises from Fairacres   Book           2   \n",
       "\n",
       "      totalreviews  avgrating  \n",
       "0                4        5.0  \n",
       "1               15        4.0  \n",
       "2               21        4.0  \n",
       "3                1        5.0  \n",
       "5               13        3.0  \n",
       "...            ...        ...  \n",
       "4010            10        5.0  \n",
       "4096             1        3.0  \n",
       "4206             2        4.0  \n",
       "4634            18        5.0  \n",
       "4819             2        5.0  \n",
       "\n",
       "[219 rows x 9 columns]"
      ]
     },
     "execution_count": 264,
     "metadata": {},
     "output_type": "execute_result"
    }
   ],
   "source": [
    "df_giant_louv_w[\n",
    "    (df_giant_louv_w['betweenness'] > np.quantile(df_giant_louv_w['betweenness'], 0.95)) &\n",
    "    (df_giant_louv_w['degree'] > np.quantile(df_giant_louv_w['degree'], 0.95))\n",
    "]"
   ]
  },
  {
   "cell_type": "code",
   "execution_count": null,
   "id": "9c0f3a50-8b9a-4284-ac92-66d6b86d0415",
   "metadata": {},
   "outputs": [
    {
     "data": {
      "text/plain": [
       "<seaborn.axisgrid.PairGrid at 0x18410b552e0>"
      ]
     },
     "execution_count": 255,
     "metadata": {},
     "output_type": "execute_result"
    },
    {
     "data": {
      "image/png": "[encoded data removed]",
      "text/plain": [
       "<Figure size 604.625x540 with 12 Axes>"
      ]
     },
     "metadata": {
      "needs_background": "light"
     },
     "output_type": "display_data"
    }
   ],
   "source": [
    "sns.pairplot(data=df_giant_louv_w[['degree', 'betweenness', 'clustering_coefficient', 'group']], hue='group')"
   ]
  },
  {
   "cell_type": "markdown",
   "id": "19b82e04-29e0-490d-9ded-a12f11f44b1f",
   "metadata": {},
   "source": [
    "## Visualization"
   ]
  },
  {
   "cell_type": "code",
   "execution_count": 30,
   "id": "bc1f3465-4f8d-4c9f-a521-c104404c40e7",
   "metadata": {},
   "outputs": [],
   "source": [
    "# considering the top 2nd most connected network\n",
    "g_sub = g.subgraph(cc[1])"
   ]
  },
  {
   "cell_type": "code",
   "execution_count": 48,
   "id": "7118e897-df8c-46db-899b-f3eb609cba14",
   "metadata": {},
   "outputs": [],
   "source": [
    "layout_fr = g_sub.layout('fr')\n",
    "\n",
    "visual_style = {\n",
    "    #Define style from network plotting\n",
    "    \"vertex_size\": 5,\n",
    "    \"vertex_color\": 'orange',\n",
    "    \"edge_arrow_size\": 0.5,\n",
    "    \"edge_width\":0.5,\n",
    "    \"vertex_label\": None,\n",
    "    \"layout\": layout_fr,\n",
    "    \"bbox\": (600, 600),\n",
    "    \"edge_width\": 1\n",
    "}\n",
    "\n",
    "ig.plot(g_sub, **visual_style)"
   ]
  }
 ],
 "metadata": {
  "hide_input": false,
  "kernelspec": {
   "display_name": "Python 3 (ipykernel)",
   "language": "python",
   "name": "python3"
  },
  "language_info": {
   "codemirror_mode": {
    "name": "ipython",
    "version": 3
   },
   "file_extension": ".py",
   "mimetype": "text/x-python",
   "name": "python",
   "nbconvert_exporter": "python",
   "pygments_lexer": "ipython3",
   "version": "3.9.7"
  },
  "toc": {
   "base_numbering": 1,
   "nav_menu": {},
   "number_sections": true,
   "sideBar": true,
   "skip_h1_title": false,
   "title_cell": "Table of Contents",
   "title_sidebar": "Contents",
   "toc_cell": false,
   "toc_position": {},
   "toc_section_display": true,
   "toc_window_display": true
  },
  "varInspector": {
   "cols": {
    "lenName": 16,
    "lenType": 16,
    "lenVar": 40
   },
   "kernels_config": {
    "python": {
     "delete_cmd_postfix": "",
     "delete_cmd_prefix": "del ",
     "library": "var_list.py",
     "varRefreshCmd": "print(var_dic_list())"
    },
    "r": {
     "delete_cmd_postfix": ") ",
     "delete_cmd_prefix": "rm(",
     "library": "var_list.r",
     "varRefreshCmd": "cat(var_dic_list()) "
    }
   },
   "types_to_exclude": [
    "module",
    "function",
    "builtin_function_or_method",
    "instance",
    "_Feature"
   ],
   "window_display": false
  }
 },
 "nbformat": 4,
 "nbformat_minor": 5
}

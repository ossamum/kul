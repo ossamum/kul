{
 "cells": [
  {
   "cell_type": "markdown",
   "id": "3d8b986a",
   "metadata": {},
   "source": [
    "# Analysis of Large Scale Social Networks"
   ]
  },
  {
   "cell_type": "markdown",
   "id": "2c0b71e4",
   "metadata": {},
   "source": [
    "- **Kin Ho Chan:** r0772534\n",
    "- **Loris Gallo:** r0906521\n",
    "- **Hrishikesh Nambiar:** r0909789\n",
    "- **Milton Ossamu Tanizaka Filho:** r0822517"
   ]
  },
  {
   "cell_type": "markdown",
   "id": "2b51dadc-06bd-4dc2-b4e0-9f1be81979c5",
   "metadata": {},
   "source": [
    "## Considerations"
   ]
  },
  {
   "cell_type": "markdown",
   "id": "a9bf5d3e-8af8-42bc-9966-5951f7bb8f3d",
   "metadata": {},
   "source": [
    "Dataset extracted from https://snap.stanford.edu/data/amazon0302.html\n",
    "- Amazon network https://snap.stanford.edu/data/amazon0302.html\n",
    "- Metadata https://snap.stanford.edu/data/amazon-meta.html"
   ]
  },
  {
   "cell_type": "markdown",
   "id": "6f5a7a29-3bd7-4a18-8591-ef3af934ebe3",
   "metadata": {},
   "source": [
    "## Importings"
   ]
  },
  {
   "cell_type": "code",
   "execution_count": 1,
   "id": "8b541865",
   "metadata": {
    "ExecuteTime": {
     "end_time": "2022-05-27T20:40:40.722592Z",
     "start_time": "2022-05-27T20:40:38.980254Z"
    }
   },
   "outputs": [],
   "source": [
    "import pandas as pd\n",
    "import numpy as np\n",
    "import os\n",
    "from tqdm import tqdm\n",
    "import matplotlib.pyplot as plt\n",
    "import seaborn as sns\n",
    "import igraph as ig\n",
    "import time\n",
    "import itertools\n",
    "import warnings\n",
    "import pickle\n",
    "\n",
    "warnings.filterwarnings('ignore')"
   ]
  },
  {
   "cell_type": "code",
   "execution_count": 123,
   "id": "9eea9fb6",
   "metadata": {
    "ExecuteTime": {
     "end_time": "2022-05-27T19:23:35.208734Z",
     "start_time": "2022-05-27T19:23:35.195504Z"
    }
   },
   "outputs": [
    {
     "name": "stdout",
     "output_type": "stream",
     "text": [
      "Version of pandas: 1.3.4\n",
      "Version of numpy: 1.20.3\n",
      "Version of seaborn: 0.11.2\n",
      "Version of igraph: 0.9.10\n"
     ]
    }
   ],
   "source": [
    "print('Version of pandas:', pd.__version__)\n",
    "print('Version of numpy:', np.__version__)\n",
    "print('Version of seaborn:', sns.__version__)\n",
    "print('Version of igraph:', ig.__version__)"
   ]
  },
  {
   "cell_type": "markdown",
   "id": "657f646d-1bad-4ab8-a9ad-0b7d97c5f7a0",
   "metadata": {},
   "source": [
    "## Dataset"
   ]
  },
  {
   "cell_type": "markdown",
   "id": "bf246da5-ca48-4f28-9813-39ba94bf0668",
   "metadata": {},
   "source": [
    "### Metadata"
   ]
  },
  {
   "cell_type": "markdown",
   "id": "42bbac43-3bbb-4956-8b00-16055dd982b1",
   "metadata": {},
   "source": [
    "Treating metadata and organizing into a pandas dataframe"
   ]
  },
  {
   "cell_type": "code",
   "execution_count": 3,
   "id": "97bf4ebe-ca46-4851-961f-2eadefcf4499",
   "metadata": {
    "ExecuteTime": {
     "end_time": "2022-05-27T14:04:41.571244Z",
     "start_time": "2022-05-27T14:04:41.551848Z"
    }
   },
   "outputs": [],
   "source": [
    "# # read all lines of the meta data into content list\n",
    "# with open('amazon-meta.txt', encoding='utf8') as f:\n",
    "#     content = f.readlines()"
   ]
  },
  {
   "cell_type": "code",
   "execution_count": 4,
   "id": "c3198b39-f5c4-472f-a82c-9708c459bdb5",
   "metadata": {
    "ExecuteTime": {
     "end_time": "2022-05-27T14:04:41.823644Z",
     "start_time": "2022-05-27T14:04:41.800511Z"
    }
   },
   "outputs": [],
   "source": [
    "# # remove the beginning and trailing white spaces\n",
    "# content = [x.strip() for x in content]"
   ]
  },
  {
   "cell_type": "code",
   "execution_count": 5,
   "id": "03edb96e-a933-4b7a-b55b-48371ec1825e",
   "metadata": {
    "ExecuteTime": {
     "end_time": "2022-05-27T14:04:42.109279Z",
     "start_time": "2022-05-27T14:04:42.098924Z"
    }
   },
   "outputs": [],
   "source": [
    "# # Write extracted information to testfile.txt in a format of ',' demilited files.\n",
    "# # The columns are Id, title, group, categories, totalreviews, avgrating.\n",
    "# # The code stores all extracted information about a product into previoulines,\n",
    "# # and write the content into file only when all information are available. Hence,\n",
    "# # if review information for a product is not available, the product won't appear\n",
    "# # in the final file.\n",
    "# file = open(\"testfile.txt\",\"w\", encoding='utf8')\n",
    "# previouslines = ['Id', 'title', 'group', 'categories', 'totalreviews', 'avgrating']\n",
    "# for line in content:\n",
    "#     lines = line.split(':')\n",
    "#     if lines[0] == \"Id\":\n",
    "#         if (len(previouslines) == 6):\n",
    "#             for component in previouslines[0:5]:\n",
    "#                 file.write(component)\n",
    "#                 file.write(',')\n",
    "#             file.write(previouslines[5])\n",
    "#             file.write(\"\\n\")\n",
    "#         previouslines = []\n",
    "#         previouslines.append(lines[1].strip())\n",
    "        \n",
    "#     if lines[0] == \"title\":\n",
    "#         title = ':'.join(lines[1:]).strip().replace(',', ' ').replace('\\n', ' ').strip()\n",
    "#         previouslines.append(title)\n",
    "       \n",
    "#     if lines[0] == \"group\":\n",
    "#         previouslines.append(lines[1].strip())\n",
    "\n",
    "#     if lines[0] == \"categories\":\n",
    "#         previouslines.append(lines[1].strip())\n",
    "    \n",
    "#     if lines[0] == \"reviews\" and lines[1].strip() == \"total\":\n",
    "#         previouslines.append(lines[2].split(' ')[1])\n",
    "#         previouslines.append(lines[4].strip())\n",
    "# file.close()"
   ]
  },
  {
   "cell_type": "code",
   "execution_count": 2,
   "id": "53860d35-eba4-4e21-822b-0ea0e5902d85",
   "metadata": {
    "ExecuteTime": {
     "end_time": "2022-05-27T20:40:43.292774Z",
     "start_time": "2022-05-27T20:40:42.839288Z"
    }
   },
   "outputs": [],
   "source": [
    "# metadata\n",
    "desc = pd.read_csv('testfile.txt')"
   ]
  },
  {
   "cell_type": "code",
   "execution_count": 7,
   "id": "6d265e9f-49a4-456d-9641-1639b459b7b8",
   "metadata": {
    "ExecuteTime": {
     "end_time": "2022-05-27T14:04:44.779241Z",
     "start_time": "2022-05-27T14:04:44.741513Z"
    }
   },
   "outputs": [
    {
     "data": {
      "text/html": [
       "<div>\n",
       "<style scoped>\n",
       "    .dataframe tbody tr th:only-of-type {\n",
       "        vertical-align: middle;\n",
       "    }\n",
       "\n",
       "    .dataframe tbody tr th {\n",
       "        vertical-align: top;\n",
       "    }\n",
       "\n",
       "    .dataframe thead th {\n",
       "        text-align: right;\n",
       "    }\n",
       "</style>\n",
       "<table border=\"1\" class=\"dataframe\">\n",
       "  <thead>\n",
       "    <tr style=\"text-align: right;\">\n",
       "      <th></th>\n",
       "      <th>Id</th>\n",
       "      <th>title</th>\n",
       "      <th>group</th>\n",
       "      <th>categories</th>\n",
       "      <th>totalreviews</th>\n",
       "      <th>avgrating</th>\n",
       "    </tr>\n",
       "  </thead>\n",
       "  <tbody>\n",
       "    <tr>\n",
       "      <th>0</th>\n",
       "      <td>1</td>\n",
       "      <td>Patterns of Preaching: A Sermon Sampler</td>\n",
       "      <td>Book</td>\n",
       "      <td>2</td>\n",
       "      <td>2</td>\n",
       "      <td>5.0</td>\n",
       "    </tr>\n",
       "    <tr>\n",
       "      <th>1</th>\n",
       "      <td>2</td>\n",
       "      <td>Candlemas: Feast of Flames</td>\n",
       "      <td>Book</td>\n",
       "      <td>2</td>\n",
       "      <td>12</td>\n",
       "      <td>4.5</td>\n",
       "    </tr>\n",
       "    <tr>\n",
       "      <th>2</th>\n",
       "      <td>3</td>\n",
       "      <td>World War II Allied Fighter Planes Trading Cards</td>\n",
       "      <td>Book</td>\n",
       "      <td>1</td>\n",
       "      <td>1</td>\n",
       "      <td>5.0</td>\n",
       "    </tr>\n",
       "    <tr>\n",
       "      <th>3</th>\n",
       "      <td>4</td>\n",
       "      <td>Life Application Bible Commentary: 1 and 2 Tim...</td>\n",
       "      <td>Book</td>\n",
       "      <td>5</td>\n",
       "      <td>1</td>\n",
       "      <td>4.0</td>\n",
       "    </tr>\n",
       "    <tr>\n",
       "      <th>4</th>\n",
       "      <td>5</td>\n",
       "      <td>Prayers That Avail Much for Business: Executive</td>\n",
       "      <td>Book</td>\n",
       "      <td>2</td>\n",
       "      <td>0</td>\n",
       "      <td>0.0</td>\n",
       "    </tr>\n",
       "  </tbody>\n",
       "</table>\n",
       "</div>"
      ],
      "text/plain": [
       "   Id                                              title group  categories  \\\n",
       "0   1            Patterns of Preaching: A Sermon Sampler  Book           2   \n",
       "1   2                         Candlemas: Feast of Flames  Book           2   \n",
       "2   3   World War II Allied Fighter Planes Trading Cards  Book           1   \n",
       "3   4  Life Application Bible Commentary: 1 and 2 Tim...  Book           5   \n",
       "4   5    Prayers That Avail Much for Business: Executive  Book           2   \n",
       "\n",
       "   totalreviews  avgrating  \n",
       "0             2        5.0  \n",
       "1            12        4.5  \n",
       "2             1        5.0  \n",
       "3             1        4.0  \n",
       "4             0        0.0  "
      ]
     },
     "execution_count": 7,
     "metadata": {},
     "output_type": "execute_result"
    }
   ],
   "source": [
    "desc.head()"
   ]
  },
  {
   "cell_type": "markdown",
   "id": "33855a06-171e-4815-bc30-4c8d70413808",
   "metadata": {},
   "source": [
    "#### EDA"
   ]
  },
  {
   "cell_type": "code",
   "execution_count": 7,
   "id": "473d9c1d-067b-424b-8519-8a8d0d40b9a3",
   "metadata": {
    "ExecuteTime": {
     "end_time": "2022-05-17T20:51:55.888155Z",
     "start_time": "2022-05-17T20:51:55.229813Z"
    }
   },
   "outputs": [
    {
     "data": {
      "text/plain": [
       "Id              542683\n",
       "title           499796\n",
       "group               10\n",
       "categories          90\n",
       "totalreviews       958\n",
       "avgrating           10\n",
       "dtype: int64"
      ]
     },
     "execution_count": 7,
     "metadata": {},
     "output_type": "execute_result"
    }
   ],
   "source": [
    "# unique values of each column\n",
    "desc.nunique()"
   ]
  },
  {
   "cell_type": "code",
   "execution_count": 8,
   "id": "775543cc-851f-4271-a3f3-52656bad45d5",
   "metadata": {
    "ExecuteTime": {
     "end_time": "2022-05-17T20:51:57.672210Z",
     "start_time": "2022-05-17T20:51:57.570813Z"
    }
   },
   "outputs": [
    {
     "data": {
      "text/plain": [
       "Book            393561\n",
       "Music           103143\n",
       "Video            26131\n",
       "DVD              19828\n",
       "Toy                  8\n",
       "Software             5\n",
       "CE                   4\n",
       "Video Games          1\n",
       "Baby Product         1\n",
       "Sports               1\n",
       "Name: group, dtype: int64"
      ]
     },
     "execution_count": 8,
     "metadata": {},
     "output_type": "execute_result"
    }
   ],
   "source": [
    "# number of items by group\n",
    "desc['group'].value_counts()"
   ]
  },
  {
   "cell_type": "code",
   "execution_count": 3,
   "id": "8f77bc6c-5e0b-4296-a388-8b7d84477e7d",
   "metadata": {
    "ExecuteTime": {
     "end_time": "2022-05-27T20:40:46.378667Z",
     "start_time": "2022-05-27T20:40:46.318602Z"
    }
   },
   "outputs": [],
   "source": [
    "# considering only book, music, dvd, and video\n",
    "desc = desc[desc['group'].isin(['Book', 'Music', 'DVD', 'Video'])]"
   ]
  },
  {
   "cell_type": "code",
   "execution_count": 25,
   "id": "79ec465a-6add-42be-9948-6e0c5c651a62",
   "metadata": {},
   "outputs": [
    {
     "data": {
      "image/png": "[encoded data removed]",
      "text/plain": [
       "<Figure size 432x288 with 1 Axes>"
      ]
     },
     "metadata": {
      "needs_background": "light"
     },
     "output_type": "display_data"
    }
   ],
   "source": [
    "plt.title('# Products per group')\n",
    "sns.countplot(data=desc, y='group');"
   ]
  },
  {
   "cell_type": "code",
   "execution_count": 26,
   "id": "5533b286-5c80-44c2-8d3a-4b4fe04f8110",
   "metadata": {},
   "outputs": [
    {
     "data": {
      "image/png": "[encoded data removed]",
      "text/plain": [
       "<Figure size 432x288 with 1 Axes>"
      ]
     },
     "metadata": {
      "needs_background": "light"
     },
     "output_type": "display_data"
    }
   ],
   "source": [
    "plt.title('Count of Ratings')\n",
    "sns.histplot(data=desc, x='avgrating');"
   ]
  },
  {
   "cell_type": "code",
   "execution_count": 5,
   "id": "3596bb26-5dff-4bf0-8bb5-67336f4e2f31",
   "metadata": {
    "ExecuteTime": {
     "end_time": "2022-05-27T02:42:20.718736Z",
     "start_time": "2022-05-27T02:42:16.031407Z"
    }
   },
   "outputs": [
    {
     "data": {
      "text/plain": [
       "<AxesSubplot:title={'center':'Average rating per group'}, xlabel='group', ylabel='avgrating'>"
      ]
     },
     "execution_count": 5,
     "metadata": {},
     "output_type": "execute_result"
    },
    {
     "data": {
      "image/png": "[encoded data removed]",
      "text/plain": [
       "<Figure size 432x288 with 1 Axes>"
      ]
     },
     "metadata": {
      "needs_background": "light"
     },
     "output_type": "display_data"
    }
   ],
   "source": [
    "plt.title('Average rating per group')\n",
    "sns.barplot(data=desc, x='group', y='avgrating')"
   ]
  },
  {
   "cell_type": "code",
   "execution_count": 15,
   "id": "b899da32",
   "metadata": {
    "ExecuteTime": {
     "end_time": "2022-05-27T02:47:15.612564Z",
     "start_time": "2022-05-27T02:47:15.593972Z"
    }
   },
   "outputs": [
    {
     "data": {
      "text/plain": [
       "90"
      ]
     },
     "execution_count": 15,
     "metadata": {},
     "output_type": "execute_result"
    }
   ],
   "source": [
    "desc['categories'].nunique()"
   ]
  },
  {
   "cell_type": "code",
   "execution_count": 27,
   "id": "b81e8921",
   "metadata": {
    "ExecuteTime": {
     "end_time": "2022-05-27T02:51:43.299256Z",
     "start_time": "2022-05-27T02:51:42.831057Z"
    }
   },
   "outputs": [
    {
     "data": {
      "image/png": "[encoded data removed]",
      "text/plain": [
       "<Figure size 1008x576 with 2 Axes>"
      ]
     },
     "metadata": {
      "needs_background": "light"
     },
     "output_type": "display_data"
    }
   ],
   "source": [
    "_, ax = plt.subplots(2, 1, figsize=(14, 8), sharex=True)\n",
    "\n",
    "sns.barplot(data=desc, x='categories', y='avgrating', ci=None, ax=ax[0])\n",
    "sns.countplot(data=desc, x='categories', ax=ax[1])\n",
    "\n",
    "ax[1].set_xticks([])\n",
    "\n",
    "ax[0].set_title('Average rating')\n",
    "ax[1].set_title('# Items')\n",
    "plt.show()"
   ]
  },
  {
   "cell_type": "code",
   "execution_count": 10,
   "id": "5a7d6f2c-0ccc-49b5-b72b-07a925e8ffb9",
   "metadata": {
    "ExecuteTime": {
     "end_time": "2022-05-27T14:04:57.264907Z",
     "start_time": "2022-05-27T14:04:57.190620Z"
    }
   },
   "outputs": [
    {
     "data": {
      "text/html": [
       "<div>\n",
       "<style scoped>\n",
       "    .dataframe tbody tr th:only-of-type {\n",
       "        vertical-align: middle;\n",
       "    }\n",
       "\n",
       "    .dataframe tbody tr th {\n",
       "        vertical-align: top;\n",
       "    }\n",
       "\n",
       "    .dataframe thead th {\n",
       "        text-align: right;\n",
       "    }\n",
       "</style>\n",
       "<table border=\"1\" class=\"dataframe\">\n",
       "  <thead>\n",
       "    <tr style=\"text-align: right;\">\n",
       "      <th></th>\n",
       "      <th>totalreviews</th>\n",
       "      <th>avgrating</th>\n",
       "    </tr>\n",
       "  </thead>\n",
       "  <tbody>\n",
       "    <tr>\n",
       "      <th>totalreviews</th>\n",
       "      <td>1.000000</td>\n",
       "      <td>0.093652</td>\n",
       "    </tr>\n",
       "    <tr>\n",
       "      <th>avgrating</th>\n",
       "      <td>0.093652</td>\n",
       "      <td>1.000000</td>\n",
       "    </tr>\n",
       "  </tbody>\n",
       "</table>\n",
       "</div>"
      ],
      "text/plain": [
       "              totalreviews  avgrating\n",
       "totalreviews      1.000000   0.093652\n",
       "avgrating         0.093652   1.000000"
      ]
     },
     "execution_count": 10,
     "metadata": {},
     "output_type": "execute_result"
    }
   ],
   "source": [
    "desc[['totalreviews', 'avgrating']].corr()"
   ]
  },
  {
   "cell_type": "code",
   "execution_count": 10,
   "id": "f4675a1f-f227-4d1e-a4ef-d44d7514fe6d",
   "metadata": {},
   "outputs": [
    {
     "data": {
      "image/png": "[encoded data removed]",
      "text/plain": [
       "<Figure size 432x288 with 1 Axes>"
      ]
     },
     "metadata": {
      "needs_background": "light"
     },
     "output_type": "display_data"
    }
   ],
   "source": [
    "sns.histplot(data=desc, x='totalreviews', bins=10);"
   ]
  },
  {
   "cell_type": "code",
   "execution_count": null,
   "id": "984cf8b3-d9df-4d15-857e-83b879b90d91",
   "metadata": {},
   "outputs": [
    {
     "data": {
      "text/plain": [
       "<AxesSubplot:>"
      ]
     },
     "execution_count": 21,
     "metadata": {},
     "output_type": "execute_result"
    },
    {
     "data": {
      "image/png": "[encoded data removed]",
      "text/plain": [
       "<Figure size 432x288 with 1 Axes>"
      ]
     },
     "metadata": {
      "needs_background": "light"
     },
     "output_type": "display_data"
    }
   ],
   "source": [
    "desc['avgrating'].hist()"
   ]
  },
  {
   "cell_type": "markdown",
   "id": "f93fce38-7152-43ef-a0c3-19dcf3f14661",
   "metadata": {},
   "source": [
    "### Network"
   ]
  },
  {
   "cell_type": "markdown",
   "id": "1bf0d196-6075-4bbd-9df9-97a81b1c493f",
   "metadata": {},
   "source": [
    "Reading dataframe and merging with metadata information"
   ]
  },
  {
   "cell_type": "code",
   "execution_count": 4,
   "id": "7a9b1de2-5594-46f8-81f1-212260a9f4e1",
   "metadata": {
    "ExecuteTime": {
     "end_time": "2022-05-27T20:40:51.157068Z",
     "start_time": "2022-05-27T20:40:50.973318Z"
    }
   },
   "outputs": [],
   "source": [
    "df = pd.read_csv('Amazon0302.txt', skiprows=4, header=None, sep='\\t', names=['from', 'to'])"
   ]
  },
  {
   "cell_type": "code",
   "execution_count": 5,
   "id": "9e6f64cf",
   "metadata": {
    "ExecuteTime": {
     "end_time": "2022-05-27T20:40:52.012851Z",
     "start_time": "2022-05-27T20:40:51.564688Z"
    }
   },
   "outputs": [],
   "source": [
    "# Join the link data with the meta data. The joined data contains the description for\n",
    "# from node product as well as to node product.\n",
    "df = (\n",
    "    df\n",
    "    .merge(desc, left_on=['from'], right_on=['Id'], suffixes=['.1', '.from'])\n",
    "    .merge(desc, left_on=['to'], right_on=['Id'], suffixes=['.from', '.to'])\n",
    ")"
   ]
  },
  {
   "cell_type": "code",
   "execution_count": 13,
   "id": "61f2deb8-eedc-45fc-9a65-1c12cfbfc48b",
   "metadata": {
    "ExecuteTime": {
     "end_time": "2022-05-27T14:05:04.555707Z",
     "start_time": "2022-05-27T14:05:04.504465Z"
    }
   },
   "outputs": [
    {
     "data": {
      "text/html": [
       "<div>\n",
       "<style scoped>\n",
       "    .dataframe tbody tr th:only-of-type {\n",
       "        vertical-align: middle;\n",
       "    }\n",
       "\n",
       "    .dataframe tbody tr th {\n",
       "        vertical-align: top;\n",
       "    }\n",
       "\n",
       "    .dataframe thead th {\n",
       "        text-align: right;\n",
       "    }\n",
       "</style>\n",
       "<table border=\"1\" class=\"dataframe\">\n",
       "  <thead>\n",
       "    <tr style=\"text-align: right;\">\n",
       "      <th></th>\n",
       "      <th>from</th>\n",
       "      <th>to</th>\n",
       "      <th>Id.from</th>\n",
       "      <th>title.from</th>\n",
       "      <th>group.from</th>\n",
       "      <th>categories.from</th>\n",
       "      <th>totalreviews.from</th>\n",
       "      <th>avgrating.from</th>\n",
       "      <th>Id.to</th>\n",
       "      <th>title.to</th>\n",
       "      <th>group.to</th>\n",
       "      <th>categories.to</th>\n",
       "      <th>totalreviews.to</th>\n",
       "      <th>avgrating.to</th>\n",
       "    </tr>\n",
       "  </thead>\n",
       "  <tbody>\n",
       "    <tr>\n",
       "      <th>0</th>\n",
       "      <td>1</td>\n",
       "      <td>2</td>\n",
       "      <td>1</td>\n",
       "      <td>Patterns of Preaching: A Sermon Sampler</td>\n",
       "      <td>Book</td>\n",
       "      <td>2</td>\n",
       "      <td>2</td>\n",
       "      <td>5.0</td>\n",
       "      <td>2</td>\n",
       "      <td>Candlemas: Feast of Flames</td>\n",
       "      <td>Book</td>\n",
       "      <td>2</td>\n",
       "      <td>12</td>\n",
       "      <td>4.5</td>\n",
       "    </tr>\n",
       "    <tr>\n",
       "      <th>1</th>\n",
       "      <td>1</td>\n",
       "      <td>4</td>\n",
       "      <td>1</td>\n",
       "      <td>Patterns of Preaching: A Sermon Sampler</td>\n",
       "      <td>Book</td>\n",
       "      <td>2</td>\n",
       "      <td>2</td>\n",
       "      <td>5.0</td>\n",
       "      <td>4</td>\n",
       "      <td>Life Application Bible Commentary: 1 and 2 Tim...</td>\n",
       "      <td>Book</td>\n",
       "      <td>5</td>\n",
       "      <td>1</td>\n",
       "      <td>4.0</td>\n",
       "    </tr>\n",
       "    <tr>\n",
       "      <th>2</th>\n",
       "      <td>16</td>\n",
       "      <td>4</td>\n",
       "      <td>16</td>\n",
       "      <td>War at Sea: A Naval History of World War II</td>\n",
       "      <td>Book</td>\n",
       "      <td>3</td>\n",
       "      <td>10</td>\n",
       "      <td>4.5</td>\n",
       "      <td>4</td>\n",
       "      <td>Life Application Bible Commentary: 1 and 2 Tim...</td>\n",
       "      <td>Book</td>\n",
       "      <td>5</td>\n",
       "      <td>1</td>\n",
       "      <td>4.0</td>\n",
       "    </tr>\n",
       "  </tbody>\n",
       "</table>\n",
       "</div>"
      ],
      "text/plain": [
       "   from  to  Id.from                                   title.from group.from  \\\n",
       "0     1   2        1      Patterns of Preaching: A Sermon Sampler       Book   \n",
       "1     1   4        1      Patterns of Preaching: A Sermon Sampler       Book   \n",
       "2    16   4       16  War at Sea: A Naval History of World War II       Book   \n",
       "\n",
       "   categories.from  totalreviews.from  avgrating.from  Id.to  \\\n",
       "0                2                  2             5.0      2   \n",
       "1                2                  2             5.0      4   \n",
       "2                3                 10             4.5      4   \n",
       "\n",
       "                                            title.to group.to  categories.to  \\\n",
       "0                         Candlemas: Feast of Flames     Book              2   \n",
       "1  Life Application Bible Commentary: 1 and 2 Tim...     Book              5   \n",
       "2  Life Application Bible Commentary: 1 and 2 Tim...     Book              5   \n",
       "\n",
       "   totalreviews.to  avgrating.to  \n",
       "0               12           4.5  \n",
       "1                1           4.0  \n",
       "2                1           4.0  "
      ]
     },
     "execution_count": 13,
     "metadata": {},
     "output_type": "execute_result"
    }
   ],
   "source": [
    "df.head(3)"
   ]
  },
  {
   "cell_type": "markdown",
   "id": "9aa96457-6746-4237-beb2-2f5fbeff9e1c",
   "metadata": {},
   "source": [
    "## EDA"
   ]
  },
  {
   "cell_type": "markdown",
   "id": "40f85abb-93cb-4e92-8d98-e04255d24233",
   "metadata": {},
   "source": [
    "Basic exploratory analysis"
   ]
  },
  {
   "cell_type": "code",
   "execution_count": 6,
   "id": "0366fab3-227f-4c75-80a6-22ba0a02d366",
   "metadata": {
    "ExecuteTime": {
     "end_time": "2022-05-27T13:16:37.161672Z",
     "start_time": "2022-05-27T13:16:36.688478Z"
    }
   },
   "outputs": [
    {
     "name": "stdout",
     "output_type": "stream",
     "text": [
      "Unique titles: 499776\n",
      "Unique Categories: 90\n"
     ]
    }
   ],
   "source": [
    "print('Unique titles:', desc['title'].nunique())\n",
    "print('Unique Categories:', desc['categories'].nunique())"
   ]
  },
  {
   "cell_type": "code",
   "execution_count": 6,
   "id": "5e81c418",
   "metadata": {
    "ExecuteTime": {
     "end_time": "2022-05-27T17:34:30.875274Z",
     "start_time": "2022-05-27T17:34:30.760746Z"
    }
   },
   "outputs": [
    {
     "data": {
      "text/plain": [
       "Book     393561\n",
       "Music    103143\n",
       "Video     26131\n",
       "DVD       19828\n",
       "Name: group, dtype: int64"
      ]
     },
     "execution_count": 6,
     "metadata": {},
     "output_type": "execute_result"
    }
   ],
   "source": [
    "desc['group'].value_counts()"
   ]
  },
  {
   "cell_type": "code",
   "execution_count": 15,
   "id": "1f51ff73-9d93-4a89-a357-9abb0c4c1216",
   "metadata": {},
   "outputs": [
    {
     "data": {
      "text/plain": [
       "(1207262, 14)"
      ]
     },
     "execution_count": 15,
     "metadata": {},
     "output_type": "execute_result"
    }
   ],
   "source": [
    "df.shape"
   ]
  },
  {
   "cell_type": "code",
   "execution_count": 12,
   "id": "01da4450-9a39-4c1b-ae0f-47a84f6e4b27",
   "metadata": {
    "ExecuteTime": {
     "end_time": "2022-05-17T20:52:23.788171Z",
     "start_time": "2022-05-17T20:52:23.741158Z"
    }
   },
   "outputs": [
    {
     "data": {
      "text/html": [
       "<div>\n",
       "<style scoped>\n",
       "    .dataframe tbody tr th:only-of-type {\n",
       "        vertical-align: middle;\n",
       "    }\n",
       "\n",
       "    .dataframe tbody tr th {\n",
       "        vertical-align: top;\n",
       "    }\n",
       "\n",
       "    .dataframe thead th {\n",
       "        text-align: right;\n",
       "    }\n",
       "</style>\n",
       "<table border=\"1\" class=\"dataframe\">\n",
       "  <thead>\n",
       "    <tr style=\"text-align: right;\">\n",
       "      <th></th>\n",
       "      <th>from</th>\n",
       "      <th>to</th>\n",
       "      <th>Id.from</th>\n",
       "      <th>title.from</th>\n",
       "      <th>group.from</th>\n",
       "      <th>categories.from</th>\n",
       "      <th>totalreviews.from</th>\n",
       "      <th>avgrating.from</th>\n",
       "      <th>Id.to</th>\n",
       "      <th>title.to</th>\n",
       "      <th>group.to</th>\n",
       "      <th>categories.to</th>\n",
       "      <th>totalreviews.to</th>\n",
       "      <th>avgrating.to</th>\n",
       "    </tr>\n",
       "  </thead>\n",
       "  <tbody>\n",
       "    <tr>\n",
       "      <th>0</th>\n",
       "      <td>1</td>\n",
       "      <td>2</td>\n",
       "      <td>1</td>\n",
       "      <td>Patterns of Preaching: A Sermon Sampler</td>\n",
       "      <td>Book</td>\n",
       "      <td>2</td>\n",
       "      <td>2</td>\n",
       "      <td>5.0</td>\n",
       "      <td>2</td>\n",
       "      <td>Candlemas: Feast of Flames</td>\n",
       "      <td>Book</td>\n",
       "      <td>2</td>\n",
       "      <td>12</td>\n",
       "      <td>4.5</td>\n",
       "    </tr>\n",
       "    <tr>\n",
       "      <th>1</th>\n",
       "      <td>1</td>\n",
       "      <td>4</td>\n",
       "      <td>1</td>\n",
       "      <td>Patterns of Preaching: A Sermon Sampler</td>\n",
       "      <td>Book</td>\n",
       "      <td>2</td>\n",
       "      <td>2</td>\n",
       "      <td>5.0</td>\n",
       "      <td>4</td>\n",
       "      <td>Life Application Bible Commentary: 1 and 2 Tim...</td>\n",
       "      <td>Book</td>\n",
       "      <td>5</td>\n",
       "      <td>1</td>\n",
       "      <td>4.0</td>\n",
       "    </tr>\n",
       "    <tr>\n",
       "      <th>2</th>\n",
       "      <td>16</td>\n",
       "      <td>4</td>\n",
       "      <td>16</td>\n",
       "      <td>War at Sea: A Naval History of World War II</td>\n",
       "      <td>Book</td>\n",
       "      <td>3</td>\n",
       "      <td>10</td>\n",
       "      <td>4.5</td>\n",
       "      <td>4</td>\n",
       "      <td>Life Application Bible Commentary: 1 and 2 Tim...</td>\n",
       "      <td>Book</td>\n",
       "      <td>5</td>\n",
       "      <td>1</td>\n",
       "      <td>4.0</td>\n",
       "    </tr>\n",
       "  </tbody>\n",
       "</table>\n",
       "</div>"
      ],
      "text/plain": [
       "   from  to  Id.from                                   title.from group.from  \\\n",
       "0     1   2        1      Patterns of Preaching: A Sermon Sampler       Book   \n",
       "1     1   4        1      Patterns of Preaching: A Sermon Sampler       Book   \n",
       "2    16   4       16  War at Sea: A Naval History of World War II       Book   \n",
       "\n",
       "   categories.from  totalreviews.from  avgrating.from  Id.to  \\\n",
       "0                2                  2             5.0      2   \n",
       "1                2                  2             5.0      4   \n",
       "2                3                 10             4.5      4   \n",
       "\n",
       "                                            title.to group.to  categories.to  \\\n",
       "0                         Candlemas: Feast of Flames     Book              2   \n",
       "1  Life Application Bible Commentary: 1 and 2 Tim...     Book              5   \n",
       "2  Life Application Bible Commentary: 1 and 2 Tim...     Book              5   \n",
       "\n",
       "   totalreviews.to  avgrating.to  \n",
       "0               12           4.5  \n",
       "1                1           4.0  \n",
       "2                1           4.0  "
      ]
     },
     "execution_count": 12,
     "metadata": {},
     "output_type": "execute_result"
    }
   ],
   "source": [
    "df.head(3)"
   ]
  },
  {
   "cell_type": "markdown",
   "id": "37d83f8c-7d15-4d5a-b687-b98896c2a87d",
   "metadata": {},
   "source": [
    "## Creating graph"
   ]
  },
  {
   "cell_type": "markdown",
   "id": "ddcde85a",
   "metadata": {},
   "source": [
    "### Vertices"
   ]
  },
  {
   "cell_type": "code",
   "execution_count": 6,
   "id": "31faf834-ae80-40fb-ab84-12e7332324d5",
   "metadata": {
    "ExecuteTime": {
     "end_time": "2022-05-27T20:40:56.204422Z",
     "start_time": "2022-05-27T20:40:56.190683Z"
    }
   },
   "outputs": [],
   "source": [
    "# creating weight for edges\n",
    "# avgrating performed better and indicates the strenght of higher ratings\n",
    "\n",
    "df['avgrating'] = df['avgrating.from'] * df['avgrating.to']"
   ]
  },
  {
   "cell_type": "code",
   "execution_count": 7,
   "id": "ae3fa273-940b-43e5-a877-be2ab975a7a2",
   "metadata": {
    "ExecuteTime": {
     "end_time": "2022-05-27T20:40:57.256085Z",
     "start_time": "2022-05-27T20:40:56.365413Z"
    }
   },
   "outputs": [],
   "source": [
    "g = ig.Graph.DataFrame(df[['from', 'to', 'avgrating']], directed=False)"
   ]
  },
  {
   "cell_type": "code",
   "execution_count": 17,
   "id": "7de4af57-aa4c-4a54-967d-c09d44311cf5",
   "metadata": {
    "ExecuteTime": {
     "end_time": "2022-05-17T20:54:14.696571Z",
     "start_time": "2022-05-17T20:54:14.687981Z"
    }
   },
   "outputs": [
    {
     "data": {
      "text/plain": [
       "'IGRAPH UN-- 259092 1207262 -- \\n+ attr: name (v), avgrating (e)'"
      ]
     },
     "execution_count": 17,
     "metadata": {},
     "output_type": "execute_result"
    }
   ],
   "source": [
    "# number os nodes and vertices for the raw network\n",
    "g.summary()"
   ]
  },
  {
   "cell_type": "code",
   "execution_count": 17,
   "id": "f34494a0",
   "metadata": {
    "ExecuteTime": {
     "end_time": "2022-05-27T13:24:25.133447Z",
     "start_time": "2022-05-27T13:24:25.105426Z"
    }
   },
   "outputs": [
    {
     "name": "stdout",
     "output_type": "stream",
     "text": [
      "3.596873762484941e-05\n"
     ]
    }
   ],
   "source": [
    "print(g.density())"
   ]
  },
  {
   "cell_type": "code",
   "execution_count": 18,
   "id": "bb6d7dfb",
   "metadata": {
    "ExecuteTime": {
     "end_time": "2022-05-27T13:27:45.279507Z",
     "start_time": "2022-05-27T13:27:44.755828Z"
    }
   },
   "outputs": [
    {
     "data": {
      "text/plain": [
       "0.4294793268176593"
      ]
     },
     "execution_count": 18,
     "metadata": {},
     "output_type": "execute_result"
    }
   ],
   "source": [
    "g.transitivity_avglocal_undirected()"
   ]
  },
  {
   "cell_type": "code",
   "execution_count": null,
   "id": "2e60a84f-f47f-415c-8d9e-3340bd6a0ec6",
   "metadata": {
    "ExecuteTime": {
     "start_time": "2022-05-27T13:32:43.822Z"
    }
   },
   "outputs": [],
   "source": [
    "g_summary = pd.DataFrame({\n",
    "    'degree': g.degree(),\n",
    "    'transitivity': g.transitivity_local_undirected()\n",
    "}) "
   ]
  },
  {
   "cell_type": "code",
   "execution_count": 18,
   "id": "14d683c6-4a7f-4f80-ab5e-f24a19572961",
   "metadata": {
    "ExecuteTime": {
     "end_time": "2022-05-27T03:20:47.111198Z",
     "start_time": "2022-05-27T03:20:45.396548Z"
    }
   },
   "outputs": [
    {
     "data": {
      "image/png": "[encoded data removed]",
      "text/plain": [
       "<Figure size 720x288 with 2 Axes>"
      ]
     },
     "metadata": {
      "needs_background": "light"
     },
     "output_type": "display_data"
    }
   ],
   "source": [
    "_, ax = plt.subplots(1, 2, figsize=(10, 4))\n",
    "\n",
    "ax[0].set_title('# Adjacent edges per node')\n",
    "ax[1].set_title('Density of Adjacent edges per node')\n",
    "\n",
    "sns.histplot(data=g_summary, x='degree', bins=50, ax=ax[0])\n",
    "sns.kdeplot(data=g_summary, x='degree', ax=ax[1])\n",
    "plt.tight_layout();"
   ]
  },
  {
   "cell_type": "code",
   "execution_count": 26,
   "id": "f18dc4da",
   "metadata": {
    "ExecuteTime": {
     "end_time": "2022-05-27T03:22:36.361544Z",
     "start_time": "2022-05-27T03:22:36.346373Z"
    }
   },
   "outputs": [
    {
     "data": {
      "text/plain": [
       "1     0.010182\n",
       "2     0.026689\n",
       "3     0.042468\n",
       "4     0.064004\n",
       "5     0.092168\n",
       "6     0.231636\n",
       "7     0.387025\n",
       "8     0.525555\n",
       "9     0.641780\n",
       "10    0.734349\n",
       "Name: degree, dtype: float64"
      ]
     },
     "execution_count": 26,
     "metadata": {},
     "output_type": "execute_result"
    }
   ],
   "source": [
    "# cumulated normalized frequency for the top 10 degrees\n",
    "(\n",
    "    g_summary['degree'].\n",
    "    value_counts(1).\n",
    "    sort_index().\n",
    "    cumsum().\n",
    "    head(10)\n",
    ")"
   ]
  },
  {
   "cell_type": "code",
   "execution_count": 15,
   "id": "90981941",
   "metadata": {
    "ExecuteTime": {
     "end_time": "2022-05-27T03:18:17.248788Z",
     "start_time": "2022-05-27T03:18:16.535593Z"
    }
   },
   "outputs": [
    {
     "data": {
      "image/png": "[encoded data removed]",
      "text/plain": [
       "<Figure size 720x288 with 2 Axes>"
      ]
     },
     "metadata": {
      "needs_background": "light"
     },
     "output_type": "display_data"
    }
   ],
   "source": [
    "_, ax = plt.subplots(1, 2, figsize=(10, 4))\n",
    "\n",
    "ax[0].set_title('Transitivity distribution')\n",
    "ax[1].set_title('Density of transitivity')\n",
    "\n",
    "sns.histplot(data=g_summary, x='transitivity', bins=10, ax=ax[0])\n",
    "sns.kdeplot(data=g_summary, x='transitivity', ax=ax[1])\n",
    "plt.tight_layout();"
   ]
  },
  {
   "cell_type": "markdown",
   "id": "198594a9-3bdf-427c-be94-e93d9dedae1c",
   "metadata": {},
   "source": [
    "## Clustering"
   ]
  },
  {
   "cell_type": "markdown",
   "id": "3e8ec37b-ecc5-46e8-b62f-b11310af6d0b",
   "metadata": {},
   "source": [
    "Selecting only the highest connected network"
   ]
  },
  {
   "cell_type": "code",
   "execution_count": 8,
   "id": "35d9f4a4-6abb-49f9-9b56-4e209fa20d65",
   "metadata": {
    "ExecuteTime": {
     "end_time": "2022-05-27T20:41:05.169852Z",
     "start_time": "2022-05-27T20:41:05.044776Z"
    }
   },
   "outputs": [
    {
     "name": "stdout",
     "output_type": "stream",
     "text": [
      "# connected components 22\n"
     ]
    }
   ],
   "source": [
    "cc = g.clusters(mode='weak')\n",
    "print('# connected components', len(cc))"
   ]
  },
  {
   "cell_type": "code",
   "execution_count": 9,
   "id": "de51f5ff-fc31-4c9e-9e46-c10037d2ff7e",
   "metadata": {
    "ExecuteTime": {
     "end_time": "2022-05-27T20:41:13.892297Z",
     "start_time": "2022-05-27T20:41:13.845968Z"
    }
   },
   "outputs": [],
   "source": [
    "cc = np.array(\n",
    "    sorted(cc, key=len, reverse=True), dtype='object'\n",
    ")"
   ]
  },
  {
   "cell_type": "code",
   "execution_count": 10,
   "id": "61133cdb-50a7-4b08-8caa-a268da433c5f",
   "metadata": {
    "ExecuteTime": {
     "end_time": "2022-05-27T20:41:22.044179Z",
     "start_time": "2022-05-27T20:41:22.029235Z"
    }
   },
   "outputs": [
    {
     "name": "stdout",
     "output_type": "stream",
     "text": [
      "Top 5 connected networks\n"
     ]
    },
    {
     "data": {
      "text/plain": [
       "[258958, 22, 15, 13, 11]"
      ]
     },
     "execution_count": 10,
     "metadata": {},
     "output_type": "execute_result"
    }
   ],
   "source": [
    "print('Top 5 connected networks')\n",
    "[len(cc[i]) for i in range(5)]"
   ]
  },
  {
   "cell_type": "code",
   "execution_count": 11,
   "id": "8fa4714b-add7-466f-85de-924a9cef5e4d",
   "metadata": {
    "ExecuteTime": {
     "end_time": "2022-05-27T20:41:30.298088Z",
     "start_time": "2022-05-27T20:41:30.112155Z"
    }
   },
   "outputs": [],
   "source": [
    "g = g.subgraph(cc[0])"
   ]
  },
  {
   "cell_type": "code",
   "execution_count": 12,
   "id": "56f9251e-ae5e-45ac-a7c1-98f234551ada",
   "metadata": {
    "ExecuteTime": {
     "end_time": "2022-05-27T20:41:38.558088Z",
     "start_time": "2022-05-27T20:41:38.544026Z"
    }
   },
   "outputs": [
    {
     "data": {
      "text/plain": [
       "'IGRAPH UN-- 258958 1206732 -- \\n+ attr: name (v), avgrating (e)'"
      ]
     },
     "execution_count": 12,
     "metadata": {},
     "output_type": "execute_result"
    }
   ],
   "source": [
    "# number of nodes and vertices for the most connected network\n",
    "g.summary()"
   ]
  },
  {
   "cell_type": "markdown",
   "id": "544fe3ae",
   "metadata": {},
   "source": [
    "For each algorithm, we fitted the models on the network considering the weights created and without considering them for means of comparison"
   ]
  },
  {
   "cell_type": "markdown",
   "id": "cb4cf7cd-e6c5-49c9-bab4-a04e92dc6431",
   "metadata": {},
   "source": [
    "### Leiden"
   ]
  },
  {
   "cell_type": "code",
   "execution_count": 47,
   "id": "872126cd-601a-4c9e-81c9-5258f9910a9a",
   "metadata": {},
   "outputs": [
    {
     "name": "stdout",
     "output_type": "stream",
     "text": [
      "Time elapsed: 4.323301076889038\n",
      "Modularity: 0.41210093782920315\n"
     ]
    }
   ],
   "source": [
    "start = time.time()\n",
    "coms_leid_raw = g.community_leiden()\n",
    "print('Time elapsed:', time.time() - start)\n",
    "print('Modularity:', coms_leid_raw.modularity)"
   ]
  },
  {
   "cell_type": "code",
   "execution_count": 48,
   "id": "7fc8b6db-12a1-4d01-a2c0-cfdb2aa919a9",
   "metadata": {},
   "outputs": [
    {
     "name": "stdout",
     "output_type": "stream",
     "text": [
      "Time elapsed: 3.2285406589508057\n",
      "Modularity: 0.8016888158036107\n"
     ]
    }
   ],
   "source": [
    "start = time.time()\n",
    "coms_leid_w = g.community_leiden(weights=g.es['avgrating'])\n",
    "print('Time elapsed:', time.time() - start)\n",
    "print('Modularity:', coms_leid_w.modularity)"
   ]
  },
  {
   "cell_type": "markdown",
   "id": "ae7af7eb-50d2-42be-b50d-87d3573a53dd",
   "metadata": {},
   "source": [
    "### Louvain"
   ]
  },
  {
   "cell_type": "code",
   "execution_count": 49,
   "id": "029f734a-fabd-4d1f-91e5-a5fc0da61819",
   "metadata": {},
   "outputs": [
    {
     "name": "stdout",
     "output_type": "stream",
     "text": [
      "Time elapsed: 6.170644044876099\n",
      "Modularity: 0.9155484245803982\n"
     ]
    }
   ],
   "source": [
    "start = time.time()\n",
    "coms_louv_raw = g.community_multilevel()\n",
    "print('Time elapsed:', time.time() - start)\n",
    "print('Modularity:', coms_louv_raw.modularity)"
   ]
  },
  {
   "cell_type": "code",
   "execution_count": 50,
   "id": "98ff0a6e-af34-4f5a-815b-773de158898c",
   "metadata": {},
   "outputs": [
    {
     "name": "stdout",
     "output_type": "stream",
     "text": [
      "Time elapsed: 6.315048933029175\n",
      "Modularity: 0.9302381990619313\n"
     ]
    }
   ],
   "source": [
    "start = time.time()\n",
    "coms_louv_w = g.community_multilevel(weights=g.es['avgrating'])\n",
    "print('Time elapsed:', time.time() - start)\n",
    "print('Modularity:', coms_louv_w.modularity)"
   ]
  },
  {
   "cell_type": "markdown",
   "id": "2ba709a8-5a31-4cf5-abd6-246ed8e09fff",
   "metadata": {},
   "source": [
    "### Infomap"
   ]
  },
  {
   "cell_type": "code",
   "execution_count": 51,
   "id": "ff58a1ca-9990-4df5-8a63-9d9f95a83a1c",
   "metadata": {},
   "outputs": [
    {
     "name": "stdout",
     "output_type": "stream",
     "text": [
      "Time elapsed: 926.2333419322968\n",
      "Modularity: 0.2387077116264778\n"
     ]
    }
   ],
   "source": [
    "start = time.time()\n",
    "coms_info_raw = g.community_infomap()\n",
    "print('Time elapsed:', time.time() - start)\n",
    "print('Modularity:', coms_info_raw.modularity)"
   ]
  },
  {
   "cell_type": "code",
   "execution_count": 58,
   "id": "90c2d88a-b40f-4d67-a681-a15866a4dd5a",
   "metadata": {},
   "outputs": [
    {
     "name": "stdout",
     "output_type": "stream",
     "text": [
      "Time elapsed: 556.3165123462677\n",
      "Modularity: 0.305513656724806\n"
     ]
    }
   ],
   "source": [
    "start = time.time()\n",
    "coms_info_w = g.community_infomap(edge_weights=g.es['avgrating'])\n",
    "print('Time elapsed:', time.time() - start)\n",
    "print('Modularity:', coms_info_w.modularity)"
   ]
  },
  {
   "cell_type": "markdown",
   "id": "77bd4bf6-5496-43b1-8394-7e2f54d8b4a5",
   "metadata": {},
   "source": [
    "### Save community"
   ]
  },
  {
   "cell_type": "code",
   "execution_count": 139,
   "id": "59fb06ff-a1cd-4a3b-b740-94e3e1c5681d",
   "metadata": {},
   "outputs": [],
   "source": [
    "coms = {\n",
    "    'leiden_raw': coms_leid_raw,\n",
    "    'leiden_weighted': coms_leid_w,\n",
    "    'louvain_raw': coms_louv_raw,\n",
    "    'louvain_weighted': coms_louv_w,\n",
    "    'infomap_raw': coms_info_raw,\n",
    "    'infomap_weighted': coms_info_w\n",
    "}"
   ]
  },
  {
   "cell_type": "markdown",
   "id": "7d916af5",
   "metadata": {},
   "source": [
    "We saved the trained algorithms into a pickle file"
   ]
  },
  {
   "cell_type": "code",
   "execution_count": 13,
   "id": "cb3dc02d-5aad-4cf7-8c73-e108bcc974ec",
   "metadata": {
    "ExecuteTime": {
     "end_time": "2022-05-27T20:41:47.192134Z",
     "start_time": "2022-05-27T20:41:46.498458Z"
    }
   },
   "outputs": [],
   "source": [
    "# with open('coms.pkl', 'wb') as f:\n",
    "#     pickle.dump(coms, f)\n",
    "\n",
    "with open('coms.pkl', 'rb') as f:\n",
    "    coms = pickle.load(f)"
   ]
  },
  {
   "cell_type": "markdown",
   "id": "448c06d2",
   "metadata": {},
   "source": [
    "## Analysis"
   ]
  },
  {
   "cell_type": "markdown",
   "id": "75d265b9",
   "metadata": {},
   "source": [
    "### Hub domain"
   ]
  },
  {
   "cell_type": "code",
   "execution_count": 132,
   "id": "ea0d50a1",
   "metadata": {
    "ExecuteTime": {
     "end_time": "2022-05-27T19:39:57.023729Z",
     "start_time": "2022-05-27T19:39:56.773488Z"
    }
   },
   "outputs": [],
   "source": [
    "df_coms = pd.DataFrame({\n",
    "    'Id': g.vs()['name'],\n",
    "    'degree': g.degree(),\n",
    "    'transitivity': g.transitivity_local_undirected()\n",
    "})\n",
    "\n",
    "names = ['leiden_raw', 'leiden_weighted', 'louvain_raw', 'louvain_weighted', 'infomap_raw', 'infomap_weighted']"
   ]
  },
  {
   "cell_type": "code",
   "execution_count": 133,
   "id": "859f1738",
   "metadata": {
    "ExecuteTime": {
     "end_time": "2022-05-27T19:40:37.327558Z",
     "start_time": "2022-05-27T19:40:14.071344Z"
    }
   },
   "outputs": [],
   "source": [
    "for i, j in coms.items():\n",
    "    df_coms[i] = j.membership\n",
    "\n",
    "hubdom = {}\n",
    "for i in names:\n",
    "    df = df_coms[['Id',f'{i}', 'degree', 'transitivity']]\n",
    "    df['count'] = df.groupby(f'{i}')[f'{i}'].transform('size')\n",
    "\n",
    "    df['degree_value'] = df['degree'] / df['count']\n",
    "\n",
    "    df = df.loc[df.groupby(f'{i}')['degree_value'].idxmax()]\n",
    "    df['hubdom_value'] = (df['degree_value']-df['degree_value'].min())/(df['degree_value'].max()-df['degree_value'].min())\n",
    "\n",
    "    hubdom.update({f'{i}-hub':df})"
   ]
  },
  {
   "cell_type": "markdown",
   "id": "065cbfa9",
   "metadata": {
    "ExecuteTime": {
     "end_time": "2022-05-27T19:40:50.118437Z",
     "start_time": "2022-05-27T19:40:50.104918Z"
    }
   },
   "source": [
    "Create scatterplot to show hub dominance with respect to transitivity"
   ]
  },
  {
   "cell_type": "code",
   "execution_count": 135,
   "id": "ce1fc3c1",
   "metadata": {
    "ExecuteTime": {
     "end_time": "2022-05-27T19:40:56.571874Z",
     "start_time": "2022-05-27T19:40:53.505189Z"
    }
   },
   "outputs": [
    {
     "data": {
      "image/png": "[encoded data removed]",
      "text/plain": [
       "<Figure size 432x288 with 1 Axes>"
      ]
     },
     "metadata": {
      "needs_background": "light"
     },
     "output_type": "display_data"
    },
    {
     "data": {
      "image/png": "[encoded data removed]",
      "text/plain": [
       "<Figure size 432x288 with 1 Axes>"
      ]
     },
     "metadata": {
      "needs_background": "light"
     },
     "output_type": "display_data"
    },
    {
     "data": {
      "image/png": "[encoded data removed]",
      "text/plain": [
       "<Figure size 432x288 with 1 Axes>"
      ]
     },
     "metadata": {
      "needs_background": "light"
     },
     "output_type": "display_data"
    },
    {
     "data": {
      "image/png": "[encoded data removed]",
      "text/plain": [
       "<Figure size 432x288 with 1 Axes>"
      ]
     },
     "metadata": {
      "needs_background": "light"
     },
     "output_type": "display_data"
    },
    {
     "data": {
      "image/png": "[encoded data removed]",
      "text/plain": [
       "<Figure size 432x288 with 1 Axes>"
      ]
     },
     "metadata": {
      "needs_background": "light"
     },
     "output_type": "display_data"
    },
    {
     "data": {
      "image/png": "[encoded data removed]",
      "text/plain": [
       "<Figure size 432x288 with 1 Axes>"
      ]
     },
     "metadata": {
      "needs_background": "light"
     },
     "output_type": "display_data"
    }
   ],
   "source": [
    "for k,v in hubdom.items():\n",
    "    plt.figure(k)\n",
    "    sns.scatterplot(data=hubdom[f'{k}'], x=\"transitivity\", y=\"hubdom_value\", label=k)"
   ]
  },
  {
   "cell_type": "markdown",
   "id": "42004ec1",
   "metadata": {},
   "source": [
    "### NMI and Adjusted rand comparison"
   ]
  },
  {
   "cell_type": "code",
   "execution_count": 136,
   "id": "0c3c4dd2",
   "metadata": {
    "ExecuteTime": {
     "end_time": "2022-05-27T19:44:07.455015Z",
     "start_time": "2022-05-27T19:41:36.147065Z"
    }
   },
   "outputs": [],
   "source": [
    "comb_names_1 = []\n",
    "comb_names_2 = []\n",
    "comb_nmi = []\n",
    "comb_rand = []\n",
    "\n",
    "for n, c in zip(itertools.combinations(coms.keys(), 2), itertools.combinations(coms.values(), 2)):\n",
    "    comb_names_1.append(f'{n[0]}')\n",
    "    comb_names_2.append(f'{n[1]}')\n",
    "    comb_nmi.append(ig.compare_communities(c[0], c[1], method='nmi'))\n",
    "    comb_rand.append(ig.compare_communities(c[0], c[1], method='adjusted_rand'))"
   ]
  },
  {
   "cell_type": "code",
   "execution_count": 137,
   "id": "e227240d",
   "metadata": {
    "ExecuteTime": {
     "end_time": "2022-05-27T19:46:01.934132Z",
     "start_time": "2022-05-27T19:46:01.910950Z"
    }
   },
   "outputs": [
    {
     "data": {
      "text/html": [
       "<div>\n",
       "<style scoped>\n",
       "    .dataframe tbody tr th:only-of-type {\n",
       "        vertical-align: middle;\n",
       "    }\n",
       "\n",
       "    .dataframe tbody tr th {\n",
       "        vertical-align: top;\n",
       "    }\n",
       "\n",
       "    .dataframe thead th {\n",
       "        text-align: right;\n",
       "    }\n",
       "</style>\n",
       "<table border=\"1\" class=\"dataframe\">\n",
       "  <thead>\n",
       "    <tr style=\"text-align: right;\">\n",
       "      <th></th>\n",
       "      <th>algorithm_1</th>\n",
       "      <th>algorithm_2</th>\n",
       "      <th>nmi</th>\n",
       "      <th>adjusted_rand</th>\n",
       "    </tr>\n",
       "  </thead>\n",
       "  <tbody>\n",
       "    <tr>\n",
       "      <th>louvain_raw</th>\n",
       "      <td>louvain_raw</td>\n",
       "      <td>infomap_weighted</td>\n",
       "      <td>0.543463</td>\n",
       "      <td>0.001682</td>\n",
       "    </tr>\n",
       "    <tr>\n",
       "      <th>louvain_raw</th>\n",
       "      <td>louvain_raw</td>\n",
       "      <td>infomap_raw</td>\n",
       "      <td>0.552436</td>\n",
       "      <td>0.001810</td>\n",
       "    </tr>\n",
       "    <tr>\n",
       "      <th>leiden_raw</th>\n",
       "      <td>leiden_raw</td>\n",
       "      <td>louvain_raw</td>\n",
       "      <td>0.558492</td>\n",
       "      <td>0.000931</td>\n",
       "    </tr>\n",
       "    <tr>\n",
       "      <th>leiden_weighted</th>\n",
       "      <td>leiden_weighted</td>\n",
       "      <td>louvain_raw</td>\n",
       "      <td>0.575382</td>\n",
       "      <td>0.003226</td>\n",
       "    </tr>\n",
       "    <tr>\n",
       "      <th>louvain_raw</th>\n",
       "      <td>louvain_raw</td>\n",
       "      <td>louvain_weighted</td>\n",
       "      <td>0.586484</td>\n",
       "      <td>0.297765</td>\n",
       "    </tr>\n",
       "    <tr>\n",
       "      <th>louvain_weighted</th>\n",
       "      <td>louvain_weighted</td>\n",
       "      <td>infomap_raw</td>\n",
       "      <td>0.710586</td>\n",
       "      <td>0.002263</td>\n",
       "    </tr>\n",
       "    <tr>\n",
       "      <th>leiden_raw</th>\n",
       "      <td>leiden_raw</td>\n",
       "      <td>louvain_weighted</td>\n",
       "      <td>0.723267</td>\n",
       "      <td>0.001205</td>\n",
       "    </tr>\n",
       "    <tr>\n",
       "      <th>louvain_weighted</th>\n",
       "      <td>louvain_weighted</td>\n",
       "      <td>infomap_weighted</td>\n",
       "      <td>0.758176</td>\n",
       "      <td>0.004159</td>\n",
       "    </tr>\n",
       "    <tr>\n",
       "      <th>leiden_weighted</th>\n",
       "      <td>leiden_weighted</td>\n",
       "      <td>louvain_weighted</td>\n",
       "      <td>0.794863</td>\n",
       "      <td>0.008179</td>\n",
       "    </tr>\n",
       "    <tr>\n",
       "      <th>leiden_weighted</th>\n",
       "      <td>leiden_weighted</td>\n",
       "      <td>infomap_raw</td>\n",
       "      <td>0.903192</td>\n",
       "      <td>0.151666</td>\n",
       "    </tr>\n",
       "    <tr>\n",
       "      <th>infomap_raw</th>\n",
       "      <td>infomap_raw</td>\n",
       "      <td>infomap_weighted</td>\n",
       "      <td>0.911587</td>\n",
       "      <td>0.156474</td>\n",
       "    </tr>\n",
       "    <tr>\n",
       "      <th>leiden_raw</th>\n",
       "      <td>leiden_raw</td>\n",
       "      <td>infomap_weighted</td>\n",
       "      <td>0.915724</td>\n",
       "      <td>0.068400</td>\n",
       "    </tr>\n",
       "    <tr>\n",
       "      <th>leiden_raw</th>\n",
       "      <td>leiden_raw</td>\n",
       "      <td>infomap_raw</td>\n",
       "      <td>0.922277</td>\n",
       "      <td>0.131208</td>\n",
       "    </tr>\n",
       "    <tr>\n",
       "      <th>leiden_weighted</th>\n",
       "      <td>leiden_weighted</td>\n",
       "      <td>infomap_weighted</td>\n",
       "      <td>0.925663</td>\n",
       "      <td>0.222361</td>\n",
       "    </tr>\n",
       "    <tr>\n",
       "      <th>leiden_raw</th>\n",
       "      <td>leiden_raw</td>\n",
       "      <td>leiden_weighted</td>\n",
       "      <td>0.929254</td>\n",
       "      <td>0.222426</td>\n",
       "    </tr>\n",
       "  </tbody>\n",
       "</table>\n",
       "</div>"
      ],
      "text/plain": [
       "                       algorithm_1       algorithm_2       nmi  adjusted_rand\n",
       "louvain_raw            louvain_raw  infomap_weighted  0.543463       0.001682\n",
       "louvain_raw            louvain_raw       infomap_raw  0.552436       0.001810\n",
       "leiden_raw              leiden_raw       louvain_raw  0.558492       0.000931\n",
       "leiden_weighted    leiden_weighted       louvain_raw  0.575382       0.003226\n",
       "louvain_raw            louvain_raw  louvain_weighted  0.586484       0.297765\n",
       "louvain_weighted  louvain_weighted       infomap_raw  0.710586       0.002263\n",
       "leiden_raw              leiden_raw  louvain_weighted  0.723267       0.001205\n",
       "louvain_weighted  louvain_weighted  infomap_weighted  0.758176       0.004159\n",
       "leiden_weighted    leiden_weighted  louvain_weighted  0.794863       0.008179\n",
       "leiden_weighted    leiden_weighted       infomap_raw  0.903192       0.151666\n",
       "infomap_raw            infomap_raw  infomap_weighted  0.911587       0.156474\n",
       "leiden_raw              leiden_raw  infomap_weighted  0.915724       0.068400\n",
       "leiden_raw              leiden_raw       infomap_raw  0.922277       0.131208\n",
       "leiden_weighted    leiden_weighted  infomap_weighted  0.925663       0.222361\n",
       "leiden_raw              leiden_raw   leiden_weighted  0.929254       0.222426"
      ]
     },
     "execution_count": 137,
     "metadata": {},
     "output_type": "execute_result"
    }
   ],
   "source": [
    "df_comb = pd.DataFrame({\n",
    "    'algorithm_1': comb_names_1,\n",
    "    'algorithm_2': comb_names_2,\n",
    "    'nmi': comb_nmi,\n",
    "    'adjusted_rand': comb_rand\n",
    "}, index=comb_names_1).sort_values('nmi')\n",
    "\n",
    "df_comb"
   ]
  },
  {
   "cell_type": "code",
   "execution_count": 138,
   "id": "789454d6",
   "metadata": {
    "ExecuteTime": {
     "end_time": "2022-05-27T19:46:11.662734Z",
     "start_time": "2022-05-27T19:46:11.450485Z"
    }
   },
   "outputs": [
    {
     "name": "stdout",
     "output_type": "stream",
     "text": [
      "algorithm_2       infomap_raw  infomap_weighted  leiden_weighted  louvain_raw  \\\n",
      "algorithm_1                                                                     \n",
      "infomap_raw               NaN          0.911587              NaN          NaN   \n",
      "leiden_raw           0.922277          0.915724         0.929254     0.558492   \n",
      "leiden_weighted      0.903192          0.925663              NaN     0.575382   \n",
      "louvain_raw          0.552436          0.543463              NaN          NaN   \n",
      "louvain_weighted     0.710586          0.758176              NaN          NaN   \n",
      "\n",
      "algorithm_2       louvain_weighted  \n",
      "algorithm_1                         \n",
      "infomap_raw                    NaN  \n",
      "leiden_raw                0.723267  \n",
      "leiden_weighted           0.794863  \n",
      "louvain_raw               0.586484  \n",
      "louvain_weighted               NaN  \n"
     ]
    },
    {
     "data": {
      "text/plain": [
       "[Text(0.5, 1.0, 'NMI Heatmap'),\n",
       " Text(0.5, 14.09375, 'detection algorithms'),\n",
       " Text(32.09374999999999, 0.5, 'detection algorithms')]"
      ]
     },
     "execution_count": 138,
     "metadata": {},
     "output_type": "execute_result"
    },
    {
     "data": {
      "image/png": "[encoded data removed]",
      "text/plain": [
       "<Figure size 432x288 with 2 Axes>"
      ]
     },
     "metadata": {
      "needs_background": "light"
     },
     "output_type": "display_data"
    }
   ],
   "source": [
    "resultnmi = df_comb.pivot(index='algorithm_1', columns='algorithm_2', values='nmi')\n",
    "\n",
    "print(resultnmi)\n",
    "\n",
    "resultnmi = resultnmi[['leiden_weighted', 'louvain_raw', 'louvain_weighted', 'infomap_raw', 'infomap_weighted']]\n",
    "resultnmi = resultnmi.reindex(['leiden_raw', 'leiden_weighted', 'louvain_raw', 'louvain_weighted', 'infomap_raw'])\n",
    "\n",
    "ax = sns.heatmap(resultnmi, annot=True, fmt=\"g\", cmap='Blues')\n",
    "ax.set(title='NMI Heatmap', xlabel='detection algorithms', ylabel='detection algorithms')"
   ]
  },
  {
   "cell_type": "code",
   "execution_count": 141,
   "id": "cea79a02",
   "metadata": {
    "ExecuteTime": {
     "end_time": "2022-05-27T19:46:37.757283Z",
     "start_time": "2022-05-27T19:46:37.567567Z"
    }
   },
   "outputs": [
    {
     "name": "stdout",
     "output_type": "stream",
     "text": [
      "algorithm_2       infomap_raw  infomap_weighted  leiden_weighted  louvain_raw  \\\n",
      "algorithm_1                                                                     \n",
      "infomap_raw               NaN              0.16              NaN          NaN   \n",
      "leiden_raw               0.13              0.07             0.22          0.0   \n",
      "leiden_weighted          0.15              0.22              NaN          0.0   \n",
      "louvain_raw              0.00              0.00              NaN          NaN   \n",
      "louvain_weighted         0.00              0.00              NaN          NaN   \n",
      "\n",
      "algorithm_2       louvain_weighted  \n",
      "algorithm_1                         \n",
      "infomap_raw                    NaN  \n",
      "leiden_raw                    0.00  \n",
      "leiden_weighted               0.01  \n",
      "louvain_raw                   0.30  \n",
      "louvain_weighted               NaN  \n"
     ]
    },
    {
     "data": {
      "image/png": "[encoded data removed]",
      "text/plain": [
       "<Figure size 432x288 with 2 Axes>"
      ]
     },
     "metadata": {
      "needs_background": "light"
     },
     "output_type": "display_data"
    }
   ],
   "source": [
    "resultrand = df_comb.pivot(index='algorithm_1', columns='algorithm_2', values='adjusted_rand').round(decimals=2)\n",
    "\n",
    "print(resultrand)\n",
    "\n",
    "resultrand = resultrand[['leiden_weighted', 'louvain_raw', 'louvain_weighted', 'infomap_raw', 'infomap_weighted']]\n",
    "resultrand = resultrand.reindex(['leiden_raw', 'leiden_weighted', 'louvain_raw', 'louvain_weighted', 'infomap_raw'])\n",
    "\n",
    "ax = sns.heatmap(resultrand, annot=True, fmt=\"g\", cmap='Blues')\n",
    "ax.set(title='Adjusted Rand Heatmap', xlabel='detection algorithms', ylabel='detection algorithms');"
   ]
  },
  {
   "cell_type": "code",
   "execution_count": 140,
   "id": "1625c51b",
   "metadata": {
    "ExecuteTime": {
     "end_time": "2022-05-27T19:46:29.158076Z",
     "start_time": "2022-05-27T19:46:28.911575Z"
    }
   },
   "outputs": [
    {
     "data": {
      "image/png": "[encoded data removed]",
      "text/plain": [
       "<Figure size 864x288 with 2 Axes>"
      ]
     },
     "metadata": {
      "needs_background": "light"
     },
     "output_type": "display_data"
    }
   ],
   "source": [
    "_, ax = plt.subplots(1, 2, sharey=True, figsize=(12, 4))\n",
    "df_comb['nmi'].plot.barh(title='NMI', ax=ax[0])\n",
    "df_comb['adjusted_rand'].plot.barh(title='Adjusted rand', ax=ax[1]);"
   ]
  },
  {
   "cell_type": "markdown",
   "id": "a4fdd187-b0f2-4ab5-9c39-7bff895a71e5",
   "metadata": {},
   "source": [
    "### Evaluating communities"
   ]
  },
  {
   "cell_type": "code",
   "execution_count": 14,
   "id": "db7729a3-b8ad-4c9a-836c-ade4d668dca3",
   "metadata": {
    "ExecuteTime": {
     "end_time": "2022-05-27T20:41:55.186201Z",
     "start_time": "2022-05-27T20:41:55.154703Z"
    }
   },
   "outputs": [],
   "source": [
    "df_coms = pd.DataFrame({\n",
    "    'Id': g.vs()['name']\n",
    "})"
   ]
  },
  {
   "cell_type": "code",
   "execution_count": 15,
   "id": "242c2047-6559-4327-9ec8-08d446af27dc",
   "metadata": {
    "ExecuteTime": {
     "end_time": "2022-05-27T20:42:03.255896Z",
     "start_time": "2022-05-27T20:42:03.014329Z"
    }
   },
   "outputs": [],
   "source": [
    "for i, j in coms.items():\n",
    "    df_coms[i] = j.membership"
   ]
  },
  {
   "cell_type": "code",
   "execution_count": 14,
   "id": "d8d4e834",
   "metadata": {
    "ExecuteTime": {
     "end_time": "2022-05-27T18:11:50.869019Z",
     "start_time": "2022-05-27T18:11:50.683892Z"
    }
   },
   "outputs": [
    {
     "data": {
      "text/plain": [
       "Id                  258958\n",
       "leiden_raw          113844\n",
       "leiden_weighted      92377\n",
       "louvain_raw            198\n",
       "louvain_weighted     72698\n",
       "infomap_raw          82429\n",
       "infomap_weighted    119043\n",
       "dtype: int64"
      ]
     },
     "execution_count": 14,
     "metadata": {},
     "output_type": "execute_result"
    }
   ],
   "source": [
    "# number of unique communities per algorithm\n",
    "df_coms.nunique()"
   ]
  },
  {
   "cell_type": "markdown",
   "id": "7f02da35",
   "metadata": {},
   "source": [
    "Community sizes"
   ]
  },
  {
   "cell_type": "code",
   "execution_count": 17,
   "id": "3beaf233",
   "metadata": {
    "ExecuteTime": {
     "end_time": "2022-05-27T20:42:24.145025Z",
     "start_time": "2022-05-27T20:42:23.595265Z"
    }
   },
   "outputs": [
    {
     "data": {
      "image/png": "[encoded data removed]",
      "text/plain": [
       "<Figure size 864x432 with 6 Axes>"
      ]
     },
     "metadata": {
      "needs_background": "light"
     },
     "output_type": "display_data"
    }
   ],
   "source": [
    "_, ax = plt.subplots(2, 3, figsize=(12, 6))\n",
    "\n",
    "sns.histplot(data=df_coms, x='leiden_raw', ax=ax[0, 0], bins=10)\n",
    "sns.histplot(data=df_coms, x='louvain_raw', ax=ax[0, 1], bins=10)\n",
    "sns.histplot(data=df_coms, x='infomap_raw', ax=ax[0, 2], bins=10)\n",
    "\n",
    "sns.histplot(data=df_coms, x='leiden_weighted', ax=ax[1, 0], bins=10)\n",
    "sns.histplot(data=df_coms, x='louvain_weighted', ax=ax[1, 1], bins=10)\n",
    "sns.histplot(data=df_coms, x='infomap_weighted', ax=ax[1, 2], bins=10)\n",
    "\n",
    "plt.tight_layout();"
   ]
  },
  {
   "cell_type": "code",
   "execution_count": 17,
   "id": "8f898c03-4f25-4d27-8e29-04b1d3ab574d",
   "metadata": {
    "ExecuteTime": {
     "end_time": "2022-05-27T18:13:12.555233Z",
     "start_time": "2022-05-27T18:13:12.418111Z"
    }
   },
   "outputs": [],
   "source": [
    "df_coms_summary = pd.DataFrame({\n",
    "    'modularity': [i.modularity for i in coms.values()],\n",
    "    'communities': [len(set(i.membership)) for i in coms.values()]\n",
    "}, index=coms.keys()).sort_values('modularity')"
   ]
  },
  {
   "cell_type": "code",
   "execution_count": 18,
   "id": "2ad9f9bd-7a05-49b5-95d5-3e68a403fcc6",
   "metadata": {
    "ExecuteTime": {
     "end_time": "2022-05-27T18:13:29.187152Z",
     "start_time": "2022-05-27T18:13:29.160034Z"
    }
   },
   "outputs": [
    {
     "data": {
      "text/html": [
       "<div>\n",
       "<style scoped>\n",
       "    .dataframe tbody tr th:only-of-type {\n",
       "        vertical-align: middle;\n",
       "    }\n",
       "\n",
       "    .dataframe tbody tr th {\n",
       "        vertical-align: top;\n",
       "    }\n",
       "\n",
       "    .dataframe thead th {\n",
       "        text-align: right;\n",
       "    }\n",
       "</style>\n",
       "<table border=\"1\" class=\"dataframe\">\n",
       "  <thead>\n",
       "    <tr style=\"text-align: right;\">\n",
       "      <th></th>\n",
       "      <th>modularity</th>\n",
       "      <th>communities</th>\n",
       "    </tr>\n",
       "  </thead>\n",
       "  <tbody>\n",
       "    <tr>\n",
       "      <th>infomap_raw</th>\n",
       "      <td>0.238708</td>\n",
       "      <td>82429</td>\n",
       "    </tr>\n",
       "    <tr>\n",
       "      <th>infomap_weighted</th>\n",
       "      <td>0.305514</td>\n",
       "      <td>119043</td>\n",
       "    </tr>\n",
       "    <tr>\n",
       "      <th>leiden_raw</th>\n",
       "      <td>0.412101</td>\n",
       "      <td>113844</td>\n",
       "    </tr>\n",
       "    <tr>\n",
       "      <th>leiden_weighted</th>\n",
       "      <td>0.801689</td>\n",
       "      <td>92377</td>\n",
       "    </tr>\n",
       "    <tr>\n",
       "      <th>louvain_raw</th>\n",
       "      <td>0.915548</td>\n",
       "      <td>198</td>\n",
       "    </tr>\n",
       "    <tr>\n",
       "      <th>louvain_weighted</th>\n",
       "      <td>0.930238</td>\n",
       "      <td>72698</td>\n",
       "    </tr>\n",
       "  </tbody>\n",
       "</table>\n",
       "</div>"
      ],
      "text/plain": [
       "                  modularity  communities\n",
       "infomap_raw         0.238708        82429\n",
       "infomap_weighted    0.305514       119043\n",
       "leiden_raw          0.412101       113844\n",
       "leiden_weighted     0.801689        92377\n",
       "louvain_raw         0.915548          198\n",
       "louvain_weighted    0.930238        72698"
      ]
     },
     "execution_count": 18,
     "metadata": {},
     "output_type": "execute_result"
    }
   ],
   "source": [
    "# number of unique communities\n",
    "df_coms_summary"
   ]
  },
  {
   "cell_type": "markdown",
   "id": "37ba1e1d-0de4-4dbe-9872-c89ff9409b58",
   "metadata": {},
   "source": [
    "Louvain weighted presented the highest modularity and showed 72698 communities"
   ]
  },
  {
   "cell_type": "code",
   "execution_count": 151,
   "id": "a629fdad-76d8-4d67-b73b-81344ecfe5dc",
   "metadata": {},
   "outputs": [
    {
     "data": {
      "image/png": "[encoded data removed]",
      "text/plain": [
       "<Figure size 864x288 with 2 Axes>"
      ]
     },
     "metadata": {
      "needs_background": "light"
     },
     "output_type": "display_data"
    }
   ],
   "source": [
    "_, ax = plt.subplots(1, 2, sharey=True, figsize=(12, 4))\n",
    "\n",
    "df_coms_summary['modularity'].plot.barh(title='Modularity', ax=ax[0])\n",
    "df_coms_summary['communities'].plot.barh(title='# communities', ax=ax[1]);"
   ]
  },
  {
   "cell_type": "markdown",
   "id": "19b82e04-29e0-490d-9ded-a12f11f44b1f",
   "metadata": {},
   "source": [
    "## Visualization"
   ]
  },
  {
   "cell_type": "code",
   "execution_count": 142,
   "id": "80f5841c",
   "metadata": {
    "ExecuteTime": {
     "end_time": "2022-05-27T19:49:41.725653Z",
     "start_time": "2022-05-27T19:49:41.715622Z"
    }
   },
   "outputs": [],
   "source": [
    "coms_louv_raw = coms['louvain_raw']"
   ]
  },
  {
   "cell_type": "code",
   "execution_count": 144,
   "id": "80dc2a50",
   "metadata": {
    "ExecuteTime": {
     "end_time": "2022-05-27T19:49:59.170020Z",
     "start_time": "2022-05-27T19:49:59.138689Z"
    }
   },
   "outputs": [
    {
     "name": "stdout",
     "output_type": "stream",
     "text": [
      "number of unique communities: 198\n"
     ]
    }
   ],
   "source": [
    "k = len(coms_louv_raw.sizes())\n",
    "print('number of unique communities:', k)"
   ]
  },
  {
   "cell_type": "code",
   "execution_count": 145,
   "id": "372771b4",
   "metadata": {
    "ExecuteTime": {
     "end_time": "2022-05-27T19:50:07.698597Z",
     "start_time": "2022-05-27T19:50:07.683061Z"
    }
   },
   "outputs": [],
   "source": [
    "colors = np.random.permutation(sns.color_palette('hls', k)).tolist()"
   ]
  },
  {
   "cell_type": "code",
   "execution_count": 146,
   "id": "e3be8425",
   "metadata": {
    "ExecuteTime": {
     "end_time": "2022-05-27T19:50:16.632677Z",
     "start_time": "2022-05-27T19:50:16.618329Z"
    }
   },
   "outputs": [],
   "source": [
    "g.vs['color'] = ['None']"
   ]
  },
  {
   "cell_type": "code",
   "execution_count": 147,
   "id": "c154ea66",
   "metadata": {
    "ExecuteTime": {
     "end_time": "2022-05-27T19:50:25.482578Z",
     "start_time": "2022-05-27T19:50:25.348971Z"
    }
   },
   "outputs": [],
   "source": [
    "for clid, cluster in enumerate(coms_louv_raw):\n",
    "    for i in cluster:\n",
    "        g.vs[i]['color'] = colors[clid]"
   ]
  },
  {
   "cell_type": "code",
   "execution_count": 148,
   "id": "f656a494",
   "metadata": {
    "ExecuteTime": {
     "end_time": "2022-05-27T19:51:08.692964Z",
     "start_time": "2022-05-27T19:50:33.681105Z"
    }
   },
   "outputs": [],
   "source": [
    "layout_fr = g.layout('fr')"
   ]
  },
  {
   "cell_type": "code",
   "execution_count": 149,
   "id": "d8c687f6",
   "metadata": {
    "ExecuteTime": {
     "end_time": "2022-05-27T19:51:19.195452Z",
     "start_time": "2022-05-27T19:51:19.164181Z"
    }
   },
   "outputs": [],
   "source": [
    "visual_style = {\n",
    "    #Define style from network plotting\n",
    "    \"vertex_size\": 5,\n",
    "    \"vertex_label\": None,\n",
    "    \"vertex_color\": g.vs['color'],\n",
    "    \"layout\": layout_fr,\n",
    "    \"edge_width\": 1\n",
    "}\n",
    "\n",
    "fig = ig.plot(g, **visual_style)"
   ]
  },
  {
   "cell_type": "code",
   "execution_count": 150,
   "id": "24a2522a",
   "metadata": {
    "ExecuteTime": {
     "end_time": "2022-05-27T19:51:45.796254Z",
     "start_time": "2022-05-27T19:51:30.010307Z"
    }
   },
   "outputs": [],
   "source": [
    "fig.save('louv_raw_communities.png')"
   ]
  }
 ],
 "metadata": {
  "hide_input": false,
  "kernelspec": {
   "display_name": "Python 3 (ipykernel)",
   "language": "python",
   "name": "python3"
  },
  "language_info": {
   "codemirror_mode": {
    "name": "ipython",
    "version": 3
   },
   "file_extension": ".py",
   "mimetype": "text/x-python",
   "name": "python",
   "nbconvert_exporter": "python",
   "pygments_lexer": "ipython3",
   "version": "3.9.7"
  },
  "toc": {
   "base_numbering": 1,
   "nav_menu": {},
   "number_sections": true,
   "sideBar": true,
   "skip_h1_title": false,
   "title_cell": "Table of Contents",
   "title_sidebar": "Contents",
   "toc_cell": false,
   "toc_position": {},
   "toc_section_display": true,
   "toc_window_display": true
  },
  "varInspector": {
   "cols": {
    "lenName": 16,
    "lenType": 16,
    "lenVar": 40
   },
   "kernels_config": {
    "python": {
     "delete_cmd_postfix": "",
     "delete_cmd_prefix": "del ",
     "library": "var_list.py",
     "varRefreshCmd": "print(var_dic_list())"
    },
    "r": {
     "delete_cmd_postfix": ") ",
     "delete_cmd_prefix": "rm(",
     "library": "var_list.r",
     "varRefreshCmd": "cat(var_dic_list()) "
    }
   },
   "types_to_exclude": [
    "module",
    "function",
    "builtin_function_or_method",
    "instance",
    "_Feature"
   ],
   "window_display": false
  }
 },
 "nbformat": 4,
 "nbformat_minor": 5
}

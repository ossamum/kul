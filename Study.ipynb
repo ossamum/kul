{
 "cells": [
  {
   "cell_type": "markdown",
   "id": "39386bc8-be47-47ba-b2a7-035bd4c2ba3e",
   "metadata": {},
   "source": [
    "- Calculation of centrality measures and their distribution\n",
    "- Relation between these measures\n",
    "- Creation of subgraphs based on filters like degree or largest component.\n",
    "- Running different cluster algorithms\n",
    "- Comparing solutions of distinct community detections\n",
    "- Rank possible edges based on parameters like preferential attachment\n",
    "- Setup a pipeline for graph embeddings with training, test and validation set"
   ]
  },
  {
   "cell_type": "code",
   "execution_count": 3,
   "id": "fa1b12dd-314f-420e-8c38-c43d0b067f4b",
   "metadata": {
    "ExecuteTime": {
     "end_time": "2022-06-10T16:54:32.308643Z",
     "start_time": "2022-06-10T16:54:29.794582Z"
    }
   },
   "outputs": [
    {
     "name": "stdout",
     "output_type": "stream",
     "text": [
      "0.9.11\n"
     ]
    }
   ],
   "source": [
    "# Import of required libraries and packages\n",
    "import igraph as ig\n",
    "import easygui\n",
    "from matplotlib import pyplot as plt\n",
    "import numpy as np\n",
    "from datetime import datetime\n",
    "import scipy\n",
    "import seaborn as sns\n",
    "import statistics\n",
    "import pandas as pd\n",
    "print(ig.__version__)"
   ]
  },
  {
   "cell_type": "code",
   "execution_count": null,
   "id": "11d10ac0-82b6-4c43-8a51-99529f05b458",
   "metadata": {},
   "outputs": [],
   "source": []
  },
  {
   "cell_type": "code",
   "execution_count": 2,
   "id": "0d32d55a-8ec1-4fbb-a1ad-665ddf65a04e",
   "metadata": {
    "ExecuteTime": {
     "end_time": "2022-06-10T16:53:37.646370Z",
     "start_time": "2022-06-10T16:53:21.935921Z"
    }
   },
   "outputs": [],
   "source": [
    "from stellargraph import __version__"
   ]
  },
  {
   "cell_type": "code",
   "execution_count": 2,
   "id": "9760bf93-88de-46d7-910c-fe8a176586f0",
   "metadata": {},
   "outputs": [
    {
     "data": {
      "text/plain": [
       "'1.3.0b'"
      ]
     },
     "execution_count": 2,
     "metadata": {},
     "output_type": "execute_result"
    }
   ],
   "source": [
    "__version__"
   ]
  },
  {
   "cell_type": "code",
   "execution_count": null,
   "id": "f09c78ce-9784-4534-8ab6-0c41efe61674",
   "metadata": {},
   "outputs": [],
   "source": []
  },
  {
   "cell_type": "code",
   "execution_count": null,
   "id": "b6a66a0d",
   "metadata": {},
   "outputs": [],
   "source": []
  },
  {
   "cell_type": "markdown",
   "id": "292346aa-d301-463e-9b2d-6042bcf7de48",
   "metadata": {},
   "source": [
    "## 5"
   ]
  },
  {
   "cell_type": "code",
   "execution_count": 1,
   "id": "4022b246",
   "metadata": {},
   "outputs": [],
   "source": [
    "import matplotlib.pyplot as plt\n",
    "from math import isclose\n",
    "from sklearn.decomposition import PCA\n",
    "import os\n",
    "import networkx as nx\n",
    "import numpy as np\n",
    "import pandas as pd\n",
    "from stellargraph import StellarGraph, datasets\n",
    "from stellargraph.data import EdgeSplitter\n",
    "from collections import Counter\n",
    "import multiprocessing\n",
    "from IPython.display import display, HTML\n",
    "from sklearn.model_selection import train_test_split\n",
    "\n",
    "%matplotlib inline"
   ]
  },
  {
   "cell_type": "code",
   "execution_count": 2,
   "id": "174bad62-5578-43b3-8f24-cbe90731fc70",
   "metadata": {},
   "outputs": [
    {
     "name": "stdout",
     "output_type": "stream",
     "text": [
      "StellarGraph: Undirected multigraph\n",
      " Nodes: 2485, Edges: 5209\n",
      "\n",
      " Node types:\n",
      "  paper: [2485]\n",
      "    Features: float32 vector, length 1433\n",
      "    Edge types: paper-cites->paper\n",
      "\n",
      " Edge types:\n",
      "    paper-cites->paper: [5209]\n",
      "        Weights: all 1 (default)\n",
      "        Features: none\n"
     ]
    }
   ],
   "source": [
    "dataset = datasets.Cora()\n",
    "graph, _ = dataset.load(largest_connected_component_only=True, str_node_ids=True)\n",
    "\n",
    "print(graph.info())"
   ]
  },
  {
   "cell_type": "code",
   "execution_count": 4,
   "id": "239ab94e-d0d9-4c81-9de5-b72224103ea3",
   "metadata": {},
   "outputs": [],
   "source": [
    "def edge_splitter_train_test(graph):\n",
    "    edge_splitter = EdgeSplitter(graph)\n",
    "    return edge_splitter.train_test_split(\n",
    "        p=0.1, method='global'\n",
    "    )"
   ]
  },
  {
   "cell_type": "code",
   "execution_count": 5,
   "id": "9dd0ee9e-edb8-4dff-a2f5-f3dc0ce2d934",
   "metadata": {},
   "outputs": [
    {
     "name": "stdout",
     "output_type": "stream",
     "text": [
      "** Sampled 520 positive and 520 negative edges. **\n"
     ]
    }
   ],
   "source": [
    "graph_test, examples_test, labels_test = edge_splitter_train_test(\n",
    "    graph\n",
    ")"
   ]
  },
  {
   "cell_type": "code",
   "execution_count": 6,
   "id": "d27e7efe-5682-4078-886e-53d728c0cdeb",
   "metadata": {},
   "outputs": [
    {
     "name": "stdout",
     "output_type": "stream",
     "text": [
      "** Sampled 468 positive and 468 negative edges. **\n"
     ]
    }
   ],
   "source": [
    "graph_train, examples, labels = edge_splitter_train_test(\n",
    "    graph_test\n",
    ")"
   ]
  },
  {
   "cell_type": "code",
   "execution_count": 7,
   "id": "480a856e-b53a-412b-a909-d4a83f6197c3",
   "metadata": {},
   "outputs": [],
   "source": [
    "(\n",
    "    examples_train,\n",
    "    examples_model_selection,\n",
    "    labels_train,\n",
    "    labels_model_selection,\n",
    ") = train_test_split(examples, labels, test_size=0.25)"
   ]
  },
  {
   "cell_type": "code",
   "execution_count": 8,
   "id": "9ec472c6-197a-4388-a10d-9284639e4776",
   "metadata": {},
   "outputs": [],
   "source": [
    "from stellargraph.data import BiasedRandomWalk\n",
    "\n",
    "def create_biased_random_walker(graph, walk_num, walk_length):\n",
    "    # parameter settings for \"p\" and \"q\":\n",
    "    p = 1.0\n",
    "    q = 1.0\n",
    "    return BiasedRandomWalk(graph, n=walk_num, length=walk_length, p=p, q=q)"
   ]
  },
  {
   "cell_type": "code",
   "execution_count": 9,
   "id": "75c0d8b5-9017-4a2d-99dc-4f1448b00709",
   "metadata": {},
   "outputs": [],
   "source": [
    "walk_length = 5\n",
    "epochs = 6\n",
    "batch_size = 50"
   ]
  },
  {
   "cell_type": "markdown",
   "id": "58c0fbb4-c0ad-4441-b41e-80cc7cd140b7",
   "metadata": {},
   "source": [
    "learning"
   ]
  },
  {
   "cell_type": "code",
   "execution_count": 12,
   "id": "b1ff3255-57d5-4373-a4c9-ac4be080ee00",
   "metadata": {},
   "outputs": [],
   "source": [
    "graph_node_list = list(graph_train.nodes())"
   ]
  },
  {
   "cell_type": "code",
   "execution_count": 15,
   "id": "68a43921-dfdd-4188-8ff8-766aeba3e649",
   "metadata": {},
   "outputs": [],
   "source": [
    "walker = create_biased_random_walker(graph_train, 20, walk_length)"
   ]
  },
  {
   "cell_type": "code",
   "execution_count": 17,
   "id": "e2561579-52cf-48e5-b09a-ea363f467987",
   "metadata": {},
   "outputs": [],
   "source": [
    "unsupervised_samples = UnsupervisedSampler(\n",
    "    graph_train, graph_node_list, walker=walker\n",
    ")"
   ]
  },
  {
   "cell_type": "code",
   "execution_count": 19,
   "id": "055af2ad-0e22-459f-b9fe-97f9030e62d2",
   "metadata": {},
   "outputs": [],
   "source": [
    "generator = Node2VecLinkGenerator(graph_train, batch_size)"
   ]
  },
  {
   "cell_type": "code",
   "execution_count": 20,
   "id": "2bca4f91-3eec-498a-8b98-c4bd2577c519",
   "metadata": {},
   "outputs": [],
   "source": [
    "node2vec = Node2Vec(128, generator)"
   ]
  },
  {
   "cell_type": "code",
   "execution_count": 21,
   "id": "c1e20d06-0c28-4f75-941c-e573014f47b7",
   "metadata": {},
   "outputs": [],
   "source": [
    "x_inp, x_out = node2vec.in_out_tensors()"
   ]
  },
  {
   "cell_type": "code",
   "execution_count": null,
   "id": "114e634b-2a5d-4e71-9744-b1de02f549b4",
   "metadata": {},
   "outputs": [],
   "source": []
  },
  {
   "cell_type": "code",
   "execution_count": null,
   "id": "d975f4da-d3a6-4919-8473-127cf27d34f7",
   "metadata": {},
   "outputs": [],
   "source": []
  },
  {
   "cell_type": "code",
   "execution_count": null,
   "id": "579d5a72-d62a-489c-b73a-18ab019da2f2",
   "metadata": {},
   "outputs": [],
   "source": []
  },
  {
   "cell_type": "code",
   "execution_count": 10,
   "id": "689dc0cd-120c-427e-856d-b9350faf490f",
   "metadata": {},
   "outputs": [],
   "source": [
    "def node2vec_embedding(graph, name):\n",
    "\n",
    "    # Set the embedding dimension and walk number:\n",
    "    dimension = 128\n",
    "    walk_number = 20\n",
    "\n",
    "    print(f\"Training Node2Vec for '{name}':\")\n",
    "\n",
    "    graph_node_list = list(graph.nodes())\n",
    "\n",
    "    # Create the biased random walker to generate random walks\n",
    "    walker = create_biased_random_walker(graph, walk_number, walk_length)\n",
    "\n",
    "    # Create the unsupervised sampler to sample (target, context) pairs from random walks\n",
    "    unsupervised_samples = UnsupervisedSampler(\n",
    "        graph, nodes=graph_node_list, walker=walker\n",
    "    )\n",
    "\n",
    "    # Define a Node2Vec training generator, which generates batches of training pairs\n",
    "    generator = Node2VecLinkGenerator(graph, batch_size)\n",
    "\n",
    "    # Create the Node2Vec model\n",
    "    node2vec = Node2Vec(dimension, generator=generator)\n",
    "\n",
    "    # Build the model and expose input and output sockets of Node2Vec, for node pair inputs\n",
    "    x_inp, x_out = node2vec.in_out_tensors()\n",
    "\n",
    "    # Use the link_classification function to generate the output of the Node2Vec model\n",
    "    prediction = link_classification(\n",
    "        output_dim=1, output_act=\"sigmoid\", edge_embedding_method=\"dot\"\n",
    "    )(x_out)\n",
    "\n",
    "    # Stack the Node2Vec encoder and prediction layer into a Keras model, and specify the loss\n",
    "    model = keras.Model(inputs=x_inp, outputs=prediction)\n",
    "    model.compile(\n",
    "        optimizer=keras.optimizers.Adam(learning_rate=1e-3),\n",
    "        loss=keras.losses.binary_crossentropy,\n",
    "        metrics=[keras.metrics.binary_accuracy],\n",
    "    )\n",
    "\n",
    "    # Train the model\n",
    "    model.fit(\n",
    "        generator.flow(unsupervised_samples),\n",
    "        epochs=epochs,\n",
    "        verbose=2,\n",
    "        use_multiprocessing=False,\n",
    "        workers=4,\n",
    "        shuffle=True,\n",
    "    )\n",
    "\n",
    "    # Build the model to predict node representations from node ids with the learned Node2Vec model parameters\n",
    "    x_inp_src = x_inp[0]\n",
    "    x_out_src = x_out[0]\n",
    "    embedding_model = keras.Model(inputs=x_inp_src, outputs=x_out_src)\n",
    "\n",
    "    # Get representations for all nodes in ``graph``\n",
    "    node_gen = Node2VecNodeGenerator(graph, batch_size).flow(graph_node_list)\n",
    "    node_embeddings = embedding_model.predict(node_gen, workers=1, verbose=0)\n",
    "\n",
    "    def get_embedding(u):\n",
    "        u_index = graph_node_list.index(u)\n",
    "        return node_embeddings[u_index]\n",
    "\n",
    "    return get_embedding"
   ]
  },
  {
   "cell_type": "code",
   "execution_count": null,
   "id": "8ff02906-bcd4-46b7-a78c-34d60c4792b1",
   "metadata": {},
   "outputs": [],
   "source": []
  },
  {
   "cell_type": "code",
   "execution_count": null,
   "id": "7fc1fdee-43a2-432d-949f-ef9ee0bf0dbd",
   "metadata": {},
   "outputs": [],
   "source": []
  },
  {
   "cell_type": "code",
   "execution_count": null,
   "id": "f53e9346",
   "metadata": {},
   "outputs": [],
   "source": [
    "def run_link_prediction(binary_operator, embedding_train):\n",
    "    clf = train_link_prediction_model(\n",
    "        examples_train, labels_train,\n",
    "        embedding_train, binary_operator\n",
    "    )\n",
    "    score = evaluate_link_prediction_model(\n",
    "        clf,\n",
    "        examples_model_selection,\n",
    "        labels_model_selection,\n",
    "        embedding_train,\n",
    "        binary_operator,\n",
    "    )"
   ]
  },
  {
   "cell_type": "code",
   "execution_count": null,
   "id": "85396e45-beb1-4319-804d-eeab969fb86a",
   "metadata": {},
   "outputs": [],
   "source": []
  }
 ],
 "metadata": {
  "kernelspec": {
   "display_name": "kul",
   "language": "python",
   "name": "kul"
  },
  "language_info": {
   "codemirror_mode": {
    "name": "ipython",
    "version": 3
   },
   "file_extension": ".py",
   "mimetype": "text/x-python",
   "name": "python",
   "nbconvert_exporter": "python",
   "pygments_lexer": "ipython3",
   "version": "3.8.13"
  },
  "toc": {
   "base_numbering": 1,
   "nav_menu": {},
   "number_sections": true,
   "sideBar": true,
   "skip_h1_title": false,
   "title_cell": "Table of Contents",
   "title_sidebar": "Contents",
   "toc_cell": false,
   "toc_position": {},
   "toc_section_display": true,
   "toc_window_display": true
  },
  "varInspector": {
   "cols": {
    "lenName": 16,
    "lenType": 16,
    "lenVar": 40
   },
   "kernels_config": {
    "python": {
     "delete_cmd_postfix": "",
     "delete_cmd_prefix": "del ",
     "library": "var_list.py",
     "varRefreshCmd": "print(var_dic_list())"
    },
    "r": {
     "delete_cmd_postfix": ") ",
     "delete_cmd_prefix": "rm(",
     "library": "var_list.r",
     "varRefreshCmd": "cat(var_dic_list()) "
    }
   },
   "types_to_exclude": [
    "module",
    "function",
    "builtin_function_or_method",
    "instance",
    "_Feature"
   ],
   "window_display": false
  }
 },
 "nbformat": 4,
 "nbformat_minor": 5
}
